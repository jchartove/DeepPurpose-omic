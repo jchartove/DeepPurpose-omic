{
 "cells": [
  {
   "cell_type": "markdown",
   "metadata": {},
   "source": [
    "This notebook demonstrates how to predict IC50 from BindingDB data using the digital-cell model, as well as giving suggestions for how to enhance the performance of the model beyond that shown here (in the form of TODO statements).\n",
    "\n",
    "Note: Don't run the first cell more than once at a time - there's a directory called \"DeepPurpose\" inside the \"DeepPurpose\" directory, so if the first cell runs twice, all of the paths will be wrong."
   ]
  },
  {
   "cell_type": "code",
   "execution_count": 1,
   "metadata": {
    "ExecuteTime": {
     "end_time": "2020-10-15T18:18:06.919137Z",
     "start_time": "2020-10-15T18:18:02.793488Z"
    },
    "scrolled": true
   },
   "outputs": [],
   "source": [
    "import os\n",
    "os.chdir('./DeepPurpose/')\n",
    "from datetime import date\n",
    "import pickle\n",
    "import torch\n",
    "from torch.utils import data\n",
    "\n",
    "from DeepPurpose import utils, dataset, CompoundPred\n",
    "from DeepPurpose import DTI as models\n",
    "import digitalcell\n",
    "import warnings\n",
    "warnings.filterwarnings(\"ignore\")"
   ]
  },
  {
   "cell_type": "markdown",
   "metadata": {},
   "source": [
    "# First pass: DeepPurpose model\n",
    "\n",
    "Only run this first cell if you haven't downloaded BindingDB yet! It's several gigabytes."
   ]
  },
  {
   "cell_type": "code",
   "execution_count": null,
   "metadata": {
    "ExecuteTime": {
     "end_time": "2020-10-13T01:11:36.761241Z",
     "start_time": "2020-10-13T01:11:30.520943Z"
    }
   },
   "outputs": [],
   "source": [
    "data_path = dataset.download_BindingDB('../data/')"
   ]
  },
  {
   "cell_type": "markdown",
   "metadata": {},
   "source": [
    "\n",
    "## Data Importing\n",
    "\n",
    "The entirety of BindingDB is saved as a .tsv file. The function `digitalcell.process_BindingDB_omic` loads it into a Pandas dataframe as well as pulling out drugs, targets, and IC50 values. If the temp_ph setting is True, it only pulls out data that has associated temperature and pH values."
   ]
  },
  {
   "cell_type": "code",
   "execution_count": 2,
   "metadata": {
    "ExecuteTime": {
     "end_time": "2020-10-15T18:20:39.609007Z",
     "start_time": "2020-10-15T18:18:11.807735Z"
    },
    "scrolled": true
   },
   "outputs": [
    {
     "name": "stdout",
     "output_type": "stream",
     "text": [
      "Loading Dataset from path...\n"
     ]
    },
    {
     "name": "stderr",
     "output_type": "stream",
     "text": [
      "b'Skipping line 772572: expected 193 fields, saw 205\\nSkipping line 772598: expected 193 fields, saw 205\\n'\n",
      "b'Skipping line 805291: expected 193 fields, saw 205\\n'\n",
      "b'Skipping line 827961: expected 193 fields, saw 265\\n'\n",
      "b'Skipping line 1231688: expected 193 fields, saw 241\\n'\n",
      "b'Skipping line 1345591: expected 193 fields, saw 241\\nSkipping line 1345592: expected 193 fields, saw 241\\nSkipping line 1345593: expected 193 fields, saw 241\\nSkipping line 1345594: expected 193 fields, saw 241\\nSkipping line 1345595: expected 193 fields, saw 241\\nSkipping line 1345596: expected 193 fields, saw 241\\nSkipping line 1345597: expected 193 fields, saw 241\\nSkipping line 1345598: expected 193 fields, saw 241\\nSkipping line 1345599: expected 193 fields, saw 241\\n'\n",
      "b'Skipping line 1358864: expected 193 fields, saw 205\\n'\n",
      "b'Skipping line 1378087: expected 193 fields, saw 241\\nSkipping line 1378088: expected 193 fields, saw 241\\nSkipping line 1378089: expected 193 fields, saw 241\\nSkipping line 1378090: expected 193 fields, saw 241\\nSkipping line 1378091: expected 193 fields, saw 241\\nSkipping line 1378092: expected 193 fields, saw 241\\nSkipping line 1378093: expected 193 fields, saw 241\\nSkipping line 1378094: expected 193 fields, saw 241\\nSkipping line 1378095: expected 193 fields, saw 241\\n'\n",
      "b'Skipping line 1417264: expected 193 fields, saw 205\\n'\n"
     ]
    },
    {
     "name": "stdout",
     "output_type": "stream",
     "text": [
      "Beginning Processing...\n",
      "There are 93336 drug target pairs.\n"
     ]
    }
   ],
   "source": [
    "data_path = '../data//BindingDB_All.tsv'\n",
    "df, X_drugs, X_targets, y = digitalcell.process_BindingDB_omic(path = data_path, temp_ph = True)"
   ]
  },
  {
   "cell_type": "markdown",
   "metadata": {},
   "source": [
    "The cell below just shows what the data looks like."
   ]
  },
  {
   "cell_type": "code",
   "execution_count": 3,
   "metadata": {
    "ExecuteTime": {
     "end_time": "2020-10-12T04:39:45.169315Z",
     "start_time": "2020-10-12T04:39:45.133304Z"
    }
   },
   "outputs": [
    {
     "data": {
      "text/html": [
       "<div>\n",
       "<style scoped>\n",
       "    .dataframe tbody tr th:only-of-type {\n",
       "        vertical-align: middle;\n",
       "    }\n",
       "\n",
       "    .dataframe tbody tr th {\n",
       "        vertical-align: top;\n",
       "    }\n",
       "\n",
       "    .dataframe thead th {\n",
       "        text-align: right;\n",
       "    }\n",
       "</style>\n",
       "<table border=\"1\" class=\"dataframe\">\n",
       "  <thead>\n",
       "    <tr style=\"text-align: right;\">\n",
       "      <th></th>\n",
       "      <th>ID</th>\n",
       "      <th>InChI</th>\n",
       "      <th>SMILES</th>\n",
       "      <th>PubChem_ID</th>\n",
       "      <th>UniProt_ID</th>\n",
       "      <th>Organism</th>\n",
       "      <th>Target Sequence</th>\n",
       "      <th>Kd</th>\n",
       "      <th>IC50</th>\n",
       "      <th>Ki</th>\n",
       "      <th>EC50</th>\n",
       "      <th>kon</th>\n",
       "      <th>koff</th>\n",
       "      <th>pH</th>\n",
       "      <th>Temp</th>\n",
       "      <th>pIC50</th>\n",
       "    </tr>\n",
       "  </thead>\n",
       "  <tbody>\n",
       "    <tr>\n",
       "      <th>180</th>\n",
       "      <td>181</td>\n",
       "      <td>InChI=1/C31H51N5O5/c1-20(2)28(32-22(5)37)30(40...</td>\n",
       "      <td>CC(C)[C@H](NC(C)=O)C(=O)N[C@@H](Cc1ccccc1)[C@@...</td>\n",
       "      <td>65023.0</td>\n",
       "      <td>NaN</td>\n",
       "      <td>Human immunodeficiency virus 1</td>\n",
       "      <td>PQITLWQRPLVTIKIGGQLKEALLDTGADDTVLEEMNLPGRWKPKM...</td>\n",
       "      <td>NaN</td>\n",
       "      <td>8.5</td>\n",
       "      <td>NaN</td>\n",
       "      <td>NaN</td>\n",
       "      <td>NaN</td>\n",
       "      <td>NaN</td>\n",
       "      <td>6.0</td>\n",
       "      <td>37.0</td>\n",
       "      <td>8.065502</td>\n",
       "    </tr>\n",
       "    <tr>\n",
       "      <th>181</th>\n",
       "      <td>182</td>\n",
       "      <td>InChI=1/C33H55N5O7/c1-7-44-32(42)35-28(22(3)4)...</td>\n",
       "      <td>CCOC(=O)N[C@@H](C(C)C)C(=O)N[C@@H](Cc1ccccc1)[...</td>\n",
       "      <td>461984.0</td>\n",
       "      <td>NaN</td>\n",
       "      <td>Human immunodeficiency virus 1</td>\n",
       "      <td>PQITLWQRPLVTIKIGGQLKEALLDTGADDTVLEEMNLPGRWKPKM...</td>\n",
       "      <td>NaN</td>\n",
       "      <td>177.0</td>\n",
       "      <td>NaN</td>\n",
       "      <td>NaN</td>\n",
       "      <td>NaN</td>\n",
       "      <td>NaN</td>\n",
       "      <td>6.0</td>\n",
       "      <td>37.0</td>\n",
       "      <td>6.751781</td>\n",
       "    </tr>\n",
       "    <tr>\n",
       "      <th>183</th>\n",
       "      <td>184</td>\n",
       "      <td>InChI=1/C35H59N5O9/c1-24(2)30(37-34(44)48-19-1...</td>\n",
       "      <td>COCCOC(=O)N[C@@H](C(C)C)C(=O)N[C@@H](Cc1ccccc1...</td>\n",
       "      <td>461988.0</td>\n",
       "      <td>NaN</td>\n",
       "      <td>Human immunodeficiency virus 1</td>\n",
       "      <td>PQITLWQRPLVTIKIGGQLKEALLDTGADDTVLEEMNLPGRWKPKM...</td>\n",
       "      <td>NaN</td>\n",
       "      <td>164.0</td>\n",
       "      <td>NaN</td>\n",
       "      <td>NaN</td>\n",
       "      <td>NaN</td>\n",
       "      <td>NaN</td>\n",
       "      <td>6.0</td>\n",
       "      <td>37.0</td>\n",
       "      <td>6.784891</td>\n",
       "    </tr>\n",
       "    <tr>\n",
       "      <th>184</th>\n",
       "      <td>185</td>\n",
       "      <td>InChI=1/C39H67N5O11/c1-28(2)34(41-38(48)54-23-...</td>\n",
       "      <td>COCCOCCOC(=O)N[C@@H](C(C)C)C(=O)N[C@@H](Cc1ccc...</td>\n",
       "      <td>461990.0</td>\n",
       "      <td>NaN</td>\n",
       "      <td>Human immunodeficiency virus 1</td>\n",
       "      <td>PQITLWQRPLVTIKIGGQLKEALLDTGADDTVLEEMNLPGRWKPKM...</td>\n",
       "      <td>NaN</td>\n",
       "      <td>67.0</td>\n",
       "      <td>NaN</td>\n",
       "      <td>NaN</td>\n",
       "      <td>NaN</td>\n",
       "      <td>NaN</td>\n",
       "      <td>6.0</td>\n",
       "      <td>37.0</td>\n",
       "      <td>7.173277</td>\n",
       "    </tr>\n",
       "    <tr>\n",
       "      <th>185</th>\n",
       "      <td>186</td>\n",
       "      <td>InChI=1/C38H51N7O7/c1-24(2)34(43-38(51)52-3)37...</td>\n",
       "      <td>COC(=O)N[C@@H](C(C)C)C(=O)NN(C[C@H](O)[C@H](Cc...</td>\n",
       "      <td>461985.0</td>\n",
       "      <td>NaN</td>\n",
       "      <td>Human immunodeficiency virus 1</td>\n",
       "      <td>PQITLWQRPLVTIKIGGQLKEALLDTGADDTVLEEMNLPGRWKPKM...</td>\n",
       "      <td>NaN</td>\n",
       "      <td>27.0</td>\n",
       "      <td>NaN</td>\n",
       "      <td>NaN</td>\n",
       "      <td>NaN</td>\n",
       "      <td>NaN</td>\n",
       "      <td>6.0</td>\n",
       "      <td>37.0</td>\n",
       "      <td>7.567031</td>\n",
       "    </tr>\n",
       "  </tbody>\n",
       "</table>\n",
       "</div>"
      ],
      "text/plain": [
       "      ID                                              InChI  \\\n",
       "180  181  InChI=1/C31H51N5O5/c1-20(2)28(32-22(5)37)30(40...   \n",
       "181  182  InChI=1/C33H55N5O7/c1-7-44-32(42)35-28(22(3)4)...   \n",
       "183  184  InChI=1/C35H59N5O9/c1-24(2)30(37-34(44)48-19-1...   \n",
       "184  185  InChI=1/C39H67N5O11/c1-28(2)34(41-38(48)54-23-...   \n",
       "185  186  InChI=1/C38H51N7O7/c1-24(2)34(43-38(51)52-3)37...   \n",
       "\n",
       "                                                SMILES  PubChem_ID UniProt_ID  \\\n",
       "180  CC(C)[C@H](NC(C)=O)C(=O)N[C@@H](Cc1ccccc1)[C@@...     65023.0        NaN   \n",
       "181  CCOC(=O)N[C@@H](C(C)C)C(=O)N[C@@H](Cc1ccccc1)[...    461984.0        NaN   \n",
       "183  COCCOC(=O)N[C@@H](C(C)C)C(=O)N[C@@H](Cc1ccccc1...    461988.0        NaN   \n",
       "184  COCCOCCOC(=O)N[C@@H](C(C)C)C(=O)N[C@@H](Cc1ccc...    461990.0        NaN   \n",
       "185  COC(=O)N[C@@H](C(C)C)C(=O)NN(C[C@H](O)[C@H](Cc...    461985.0        NaN   \n",
       "\n",
       "                           Organism  \\\n",
       "180  Human immunodeficiency virus 1   \n",
       "181  Human immunodeficiency virus 1   \n",
       "183  Human immunodeficiency virus 1   \n",
       "184  Human immunodeficiency virus 1   \n",
       "185  Human immunodeficiency virus 1   \n",
       "\n",
       "                                       Target Sequence   Kd   IC50   Ki EC50  \\\n",
       "180  PQITLWQRPLVTIKIGGQLKEALLDTGADDTVLEEMNLPGRWKPKM...  NaN    8.5  NaN  NaN   \n",
       "181  PQITLWQRPLVTIKIGGQLKEALLDTGADDTVLEEMNLPGRWKPKM...  NaN  177.0  NaN  NaN   \n",
       "183  PQITLWQRPLVTIKIGGQLKEALLDTGADDTVLEEMNLPGRWKPKM...  NaN  164.0  NaN  NaN   \n",
       "184  PQITLWQRPLVTIKIGGQLKEALLDTGADDTVLEEMNLPGRWKPKM...  NaN   67.0  NaN  NaN   \n",
       "185  PQITLWQRPLVTIKIGGQLKEALLDTGADDTVLEEMNLPGRWKPKM...  NaN   27.0  NaN  NaN   \n",
       "\n",
       "     kon koff   pH  Temp     pIC50  \n",
       "180  NaN  NaN  6.0  37.0  8.065502  \n",
       "181  NaN  NaN  6.0  37.0  6.751781  \n",
       "183  NaN  NaN  6.0  37.0  6.784891  \n",
       "184  NaN  NaN  6.0  37.0  7.173277  \n",
       "185  NaN  NaN  6.0  37.0  7.567031  "
      ]
     },
     "execution_count": 3,
     "metadata": {},
     "output_type": "execute_result"
    }
   ],
   "source": [
    "df.head()"
   ]
  },
  {
   "cell_type": "markdown",
   "metadata": {},
   "source": [
    "## Drug and target encoding\n",
    "\n",
    "DeepPurpose supports [several possible encodings](https://github.com/kexinhuang12345/DeepPurpose#encodings) for drugs and targets. Right now I'm using the Morgan Extended-Connectivity Fingerprints encoding for drugs and the conjoint triad features encoding for targets because they're not computationally intensive.\n",
    "\n",
    "TODO: compare performance of different drug and target encodings."
   ]
  },
  {
   "cell_type": "code",
   "execution_count": 3,
   "metadata": {
    "ExecuteTime": {
     "end_time": "2020-10-15T18:20:40.254003Z",
     "start_time": "2020-10-15T18:20:40.242003Z"
    }
   },
   "outputs": [],
   "source": [
    "drug_encoding, target_encoding = 'Morgan', 'Conjoint_triad'"
   ]
  },
  {
   "cell_type": "markdown",
   "metadata": {},
   "source": [
    "The following cell splits the data into training, validation, and testing sets. I think these numbers are probably fine, but feel free to adjust them. One thing to note is that for some reason RDKit (the biochemistry library) has trouble translating some of the SMILES data (~500 drugs) into Morgan format. That's only a small fraction of the drugs in the training data, though."
   ]
  },
  {
   "cell_type": "code",
   "execution_count": 4,
   "metadata": {
    "ExecuteTime": {
     "end_time": "2020-10-15T18:21:36.054169Z",
     "start_time": "2020-10-15T18:20:40.403003Z"
    }
   },
   "outputs": [
    {
     "name": "stdout",
     "output_type": "stream",
     "text": [
      "Drug Target Interaction Prediction Mode...\n",
      "in total: 93336 drug-target pairs\n",
      "encoding drug...\n",
      "unique drugs: 63535\n",
      "rdkit not found this smiles for morgan: CSc1ccc(cc1)C1=C(C=C[N]([O-])=C1)[C@@H]1CCC(F)(F)C[C@H]1C(=O)NCC#N convert to all 0 features\n",
      "rdkit not found this smiles for morgan: O=C1NC(=O)c2c1c1c3ccccc3n3[Ru](C#[O])[n+]4cccc2c4c13 convert to all 0 features\n",
      "rdkit not found this smiles for morgan: CN1C(=O)c2c(C1=O)c1cc(F)c[n+]3[Ru](C#[O])n4c5ccc(O)cc5c2c4c13 convert to all 0 features\n",
      "rdkit not found this smiles for morgan: NOOSc1ccc(CC[N]23CC4=CC=CC=[N]4[Re+]2[N]2=C(C3)C=CC=C2)cc1 convert to all 0 features\n",
      "rdkit not found this smiles for morgan: NOOSc1ccc(CC[N@@]23CC(=O)O[Re]2[N]2=C(C3)C=CC=C2)cc1 convert to all 0 features\n",
      "rdkit not found this smiles for morgan: CN1C=C[N]2=C1C[N]1(CCc3ccc(SOON)cc3)CC3=[N](C=CN3C)[Re+]21 convert to all 0 features\n",
      "rdkit not found this smiles for morgan: NOOSc1ccc(NC(=S)NCCCCCCCC[N]23CC4=CC=CC=[N]4[Re+]2[N]2=C(C3)C=CC=C2)cc1 convert to all 0 features\n",
      "rdkit not found this smiles for morgan: NOOSc1ccc(NC(=S)NCCOCCOCC[N]23CC4=CC=CC=[N]4[Re+]2[N]2=C(C3)C=CC=C2)cc1 convert to all 0 features\n",
      "rdkit not found this smiles for morgan: NOOSc1ccc(NC(=S)NCCCCC[N]23CC4=CC=CC=[N]4[Re+]2[N]2=C(C3)C=CC=C2)cc1 convert to all 0 features\n",
      "rdkit not found this smiles for morgan: NOOSc1ccc(NC(=S)NCCCCCCCC[N@@]23CC(=O)O[Re]2[N]2=C(C3)C=CC=C2)cc1 convert to all 0 features\n",
      "rdkit not found this smiles for morgan: CN1C=C[N]2=C1C[N]1(CCCCCCCCCCNC(=S)Nc3ccc(SOON)cc3)CC3=[N](C=CN3C)[Re+]21 convert to all 0 features\n",
      "rdkit not found this smiles for morgan: Cn1c(Nc2c(Cl)ccc(CNC(=O)C3=CC=CC=[N]3O)c2Cl)nc2cc(C(=O)NCCC(F)(F)F)c(cc12)N1CCC(CC1)C(F)(F)F convert to all 0 features\n",
      "rdkit not found this smiles for morgan: CC[N]1(CC)CCN(CCOc2ccc3[nH]c(=O)c4CCCNc4c3c2)CC1 convert to all 0 features\n",
      "rdkit not found this smiles for morgan: COc1cc(C[N](C)(C)C2CCCC2)cc2[nH]c(=O)c3CCCNc3c12 convert to all 0 features\n",
      "rdkit not found this smiles for morgan: CC1=C2C(N(C(=O)C2=[N](N1)C1CC1)c1cc(C)c(=O)n(C)c1)c1ccc(Cl)cc1 convert to all 0 features\n",
      "rdkit not found this smiles for morgan: CC1=N[N](C)=C(C)C1N[S+]([O-])(=O)c1c(Cl)cc(cc1Cl)-c1cccc2CNCCc12 convert to all 0 features\n",
      "rdkit not found this smiles for morgan: CNC(=O)C1=CC(CCCN2CCOCC2)[N](=C1C)c1ccccc1 convert to all 0 features\n",
      "rdkit not found this smiles for morgan: O=C(N1N=C(CC1c1ccccc1)c1cnc2ccccc12)c1ccccc1 convert to all 0 features\n",
      "rdkit not found this smiles for morgan: CCOC(=O)CCc1c(CC(=O)OCC)cnc1\\C=N\\O convert to all 0 features\n",
      "rdkit not found this smiles for morgan: O=C(N1CCN(CC1)c1ccc(cc1)C#N)n1sc2[nH]cccc2c1=O convert to all 0 features\n",
      "rdkit not found this smiles for morgan: CC(=O)N1CCN(CC1)C(=O)n1sc2[nH]cccc2c1=O convert to all 0 features\n",
      "rdkit not found this smiles for morgan: O=C(C1CC1)N1CCN(CC1)C(=O)n1sc2[nH]cccc2c1=O convert to all 0 features\n",
      "rdkit not found this smiles for morgan: COc1ccc(cc1OC)C(=O)N1CCN(CC1)C(=O)n1sc2[nH]cccc2c1=O convert to all 0 features\n",
      "rdkit not found this smiles for morgan: CC(C)(O)c1nc(ncc1F)N1C[C@H]2CSC(N)=[N]([C@H]2C1)c1cnccn1 convert to all 0 features\n",
      "rdkit not found this smiles for morgan: CC(C)NC(=O)[C@@H]1C[C@H]2C[C@H]2N1C(=O)C[N]1#[N]=C(C(C)=O)c2cc(OCc3ncccn3)ccc12 convert to all 0 features\n",
      "rdkit not found this smiles for morgan: CC(C)Cc1ccc2nnc(-c3cc(ncn3)N3CCOCC3)c2c1 convert to all 0 features\n",
      "rdkit not found this smiles for morgan: C1CN(CCO1)c1cc(ncn1)-c1nnc2ccccc12 convert to all 0 features\n",
      "rdkit not found this smiles for morgan: CC(C)(c1nc(nc2N3CCOC[C@H]3COc12)[N]1=C(N)Nc2ccccc12)S(C)(=O)=O convert to all 0 features\n",
      "rdkit not found this smiles for morgan: CC(C)(c1nc(nc2N3CCOC[C@H]3COc12)[N]1=C(Nc2ccccc12)N1CCOCC1)S(C)(=O)=O convert to all 0 features\n",
      "rdkit not found this smiles for morgan: Cn1nccc1[C@H]1CCCCC[C@@H]1Oc1cc(F)c(c(F)c1)S(=O)(=O)Nc1cc[nH]cn1 convert to all 0 features\n",
      "rdkit not found this smiles for morgan: Clc1ccc(CNc2cc(nn2)-c2cccn(Cc3ccccc3Cl)c2=O)s1 convert to all 0 features\n",
      "rdkit not found this smiles for morgan: Clc1ccc(CNc2cc(nn2)-c2cccn(Cc3cccc(Cl)c3)c2=O)s1 convert to all 0 features\n",
      "rdkit not found this smiles for morgan: Clc1ccc(CNc2cc(nn2)-c2cccn(Cc3ccc(Cl)cc3)c2=O)s1 convert to all 0 features\n",
      "rdkit not found this smiles for morgan: Clc1ccc(CNc2cc(nn2)-c2cccn(Cc3ccc(Cl)s3)c2=O)s1 convert to all 0 features\n",
      "rdkit not found this smiles for morgan: Clc1ccc(CNc2cc(nn2)-c2cccn(Cc3ccccc3)c2=O)s1 convert to all 0 features\n",
      "rdkit not found this smiles for morgan: OC(=O)n1cccc(-c2cc(NCc3ccc(Cl)s3)nn2)c1=O convert to all 0 features\n",
      "rdkit not found this smiles for morgan: Clc1ccc(CNc2cc(nn2)-c2cccn(CC#N)c2=O)s1 convert to all 0 features\n",
      "rdkit not found this smiles for morgan: Clc1ccc(CNc2cc(nn2C(=O)c2ccccc2)-c2cccnc2=O)s1 convert to all 0 features\n",
      "rdkit not found this smiles for morgan: CC(C)(C)C(=O)n1nc(cc1NCc1ccc(Cl)s1)-c1cccnc1=O convert to all 0 features\n",
      "rdkit not found this smiles for morgan: COCC(C)(C)C(=O)n1nc(cc1NCc1ccc(Cl)s1)-c1cccnc1=O convert to all 0 features\n",
      "rdkit not found this smiles for morgan: Clc1ccc(CNc2cc(nn2C(=O)c2cccc3OCCOc23)-c2cccnc2=O)s1 convert to all 0 features\n",
      "rdkit not found this smiles for morgan: COc1ccc(C(=O)n2nc(cc2NCc2ccc(Cl)s2)-c2cccnc2=O)c(OC)c1 convert to all 0 features\n",
      "rdkit not found this smiles for morgan: COc1ccccc1C(=O)n1nc(cc1NCc1ccc(Cl)s1)-c1cccnc1=O convert to all 0 features\n",
      "rdkit not found this smiles for morgan: Clc1ccc(CNc2cc(nn2C(=O)c2ccsc2)-c2cccnc2=O)s1 convert to all 0 features\n",
      "rdkit not found this smiles for morgan: Clc1ccc(CNc2cc(nn2C(=O)c2ccccc2N2CCOCC2)-c2cccnc2=O)s1 convert to all 0 features\n",
      "rdkit not found this smiles for morgan: COCCOc1ccccc1C(=O)n1nc(cc1NCc1ccc(Cl)s1)-c1cccnc1=O convert to all 0 features\n",
      "rdkit not found this smiles for morgan: Clc1ccc(CNc2cc(nn2C(=O)c2ccc(cc2)N2CCOCC2)-c2cccnc2=O)s1 convert to all 0 features\n",
      "rdkit not found this smiles for morgan: Clc1ccc(CNc2cc(nn2)-c2cccn(Cc3nnn[nH]3)c2=O)s1 convert to all 0 features\n",
      "rdkit not found this smiles for morgan: COCCn1cccc(-c2cc(NCc3ccc(Cl)s3)nn2)c1=O convert to all 0 features\n",
      "rdkit not found this smiles for morgan: Clc1ccc(CNc2cc(nn2)-c2cccn(CCc3ccccc3)c2=O)s1 convert to all 0 features\n",
      "rdkit not found this smiles for morgan: Clc1ccc(CNc2cc(nn2)-c2cccn(Cc3ccco3)c2=O)s1 convert to all 0 features\n",
      "rdkit not found this smiles for morgan: Clc1ccc(CNc2cc(nn2)-c2cccn(Cc3ccoc3)c2=O)s1 convert to all 0 features\n",
      "rdkit not found this smiles for morgan: Clc1ccc(CNc2cc(nn2)-c2cccn(Cc3cccc4ccccc34)c2=O)s1 convert to all 0 features\n",
      "rdkit not found this smiles for morgan: Clc1ccc(CNc2cc(nn2)-c2cccn(Cc3ccc4ccccc4c3)c2=O)s1 convert to all 0 features\n",
      "rdkit not found this smiles for morgan: Clc1ccc(CNc2cc(nn2)-c2cccn(Cc3cccnn3)c2=O)s1 convert to all 0 features\n",
      "rdkit not found this smiles for morgan: Clc1ccc(CNc2cc(nn2)-c2cccn(Cc3ccccn3)c2=O)s1 convert to all 0 features\n",
      "rdkit not found this smiles for morgan: Clc1ccc(CNc2cc(nn2)-c2cccn(Cc3cccnc3)c2=O)s1 convert to all 0 features\n",
      "rdkit not found this smiles for morgan: Clc1ccc(CNc2cc(nn2)-c2cccn(Cc3ccncc3)c2=O)s1 convert to all 0 features\n",
      "rdkit not found this smiles for morgan: Clc1ccc(CNc2cc(nn2)-c2cccn(Cc3ncccn3)c2=O)s1 convert to all 0 features\n",
      "rdkit not found this smiles for morgan: Clc1ccc(CNc2cc(nn2)-c2cccn(Cc3cccs3)c2=O)s1 convert to all 0 features\n",
      "rdkit not found this smiles for morgan: Clc1ccc(CNc2cc(nn2)-c2cccn(Cc3ccsc3)c2=O)s1 convert to all 0 features\n",
      "rdkit not found this smiles for morgan: Clc1ccc(CNc2cc(nn2)-c2cccn(CC(=O)N3CCOCC3)c2=O)s1 convert to all 0 features\n",
      "rdkit not found this smiles for morgan: Clc1ccc(CNc2cc(nn2)-c2cccn(CCN3CCOCC3)c2=O)s1 convert to all 0 features\n",
      "rdkit not found this smiles for morgan: Clc1ccc(CNc2cc(nn2)-c2cccn(CCc3ccccn3)c2=O)s1 convert to all 0 features\n",
      "rdkit not found this smiles for morgan: Cn1cccc(-c2cc(NCc3ccc(Cl)s3)nn2)c1=O convert to all 0 features\n",
      "rdkit not found this smiles for morgan: O=C(c1ccco1)n1nc(cc1NCc1ccccc1)-c1cccnc1=O convert to all 0 features\n",
      "rdkit not found this smiles for morgan: CN(C)c1cc(nn1C(=O)c1ccco1)-c1cccnc1=O convert to all 0 features\n",
      "rdkit not found this smiles for morgan: Nc1ccccc1C(=O)n1nc(cc1NCc1ccc(Cl)s1)-c1cccnc1=O convert to all 0 features\n",
      "rdkit not found this smiles for morgan: CC(C)(C)c1ccc(cc1)C(=O)n1nc(cc1NCc1ccc(Cl)s1)-c1cccnc1=O convert to all 0 features\n",
      "rdkit not found this smiles for morgan: Nc1cc(nn1C(=O)c1ccco1)-c1cccnc1=O convert to all 0 features\n",
      "rdkit not found this smiles for morgan: CCOC(=O)Cn1cccc(-c2cc(NCc3ccc(Cl)s3)nn2)c1=O convert to all 0 features\n",
      "rdkit not found this smiles for morgan: CC(C)(C)OC(=O)Cn1cccc(-c2cc(NCc3ccc(Cl)s3)nn2)c1=O convert to all 0 features\n"
     ]
    },
    {
     "name": "stdout",
     "output_type": "stream",
     "text": [
      "rdkit not found this smiles for morgan: Clc1cccc(Cl)c1NC(=O)N1CCN(CC1)c1ccc(cc1)-c1[nH]cnn1CCc1ccccc1 convert to all 0 features\n",
      "rdkit not found this smiles for morgan: Clc1cccc(Cl)c1NC(=O)N1CCN(CC1)c1ccc(cc1)-c1ncnn1 convert to all 0 features\n",
      "rdkit not found this smiles for morgan: Cc1ccc(cc1)-c1nc([nH]o1)-c1ccc(cc1)N1CCN(CC1)C(=O)Nc1ccccc1Cl convert to all 0 features\n",
      "rdkit not found this smiles for morgan: Cn1cc(ccc1C(N)=O)S(=O)(=O)c1ccc(CN\\C(Nc2ccncc2)=N/C#N)cc1 convert to all 0 features\n",
      "rdkit not found this smiles for morgan: Cc1cc(nn1)-c1cc(C(=O)Nc2ccc(F)cn2)c2ncnn2c1 convert to all 0 features\n",
      "rdkit not found this smiles for morgan: C[N]1=C(OC(=C1)c1cccc(Nc2nccc(n2)-c2cccnc2)c1)N1CCNC(=O)C11CC1 convert to all 0 features\n",
      "rdkit not found this smiles for morgan: Cc1ccnc(Nc2cccc(C3=C[N](C)=C(O3)N3CCNC(=O)C33CC3)c2C)n1 convert to all 0 features\n",
      "rdkit not found this smiles for morgan: CN1C=[N](C)C=C1c1ccc(C[C@H](NC(=O)[C@H]2N[C@@H]3CC[C@H]2C3)C#N)c(F)c1 convert to all 0 features\n",
      "rdkit not found this smiles for morgan: Oc1cnc(Cn2cnc(c(Oc3cc(Cl)cc(c3)C#N)c2=O)C(F)(F)F)c[nH]1 convert to all 0 features\n",
      "encoding protein...\n",
      "unique target sequence: 1113\n",
      "splitting dataset...\n",
      "Done.\n"
     ]
    }
   ],
   "source": [
    "train, val, test = utils.data_process(X_drugs, X_targets, y, \n",
    "                                drug_encoding, target_encoding, \n",
    "                                split_method='random',frac=[0.7,0.1,0.2])"
   ]
  },
  {
   "cell_type": "markdown",
   "metadata": {},
   "source": [
    "## Model configuration\n",
    "\n",
    "DeepPurpose's model configuration utility is a wrapper for generating neural networks using PyTorch. The list of options for hyperparameters is [here](https://github.com/kexinhuang12345/DeepPurpose/blob/e169e2f550694145077bb2af95a4031abe400a77/DeepPurpose/utils.py#L486). Several types of model architecture are supported including CNNs, RNNs, MPNNs, MLPs, and transformers. The hyperparameters used below are suggested defaults that aren't too computationally intensive; they produce a 3 layer MPNN. \n",
    "\n",
    "TODO: I think there is a lot of potential work to be done on hyperparameter optimization here. "
   ]
  },
  {
   "cell_type": "code",
   "execution_count": 5,
   "metadata": {
    "ExecuteTime": {
     "end_time": "2020-10-14T01:30:48.742578Z",
     "start_time": "2020-10-14T01:30:48.728583Z"
    }
   },
   "outputs": [],
   "source": [
    "config = utils.generate_config(drug_encoding = drug_encoding, \n",
    "                               target_encoding = target_encoding,\n",
    "                         cls_hidden_dims = [1024,1024,512], \n",
    "                         train_epoch = 3, \n",
    "                         LR = 0.001, \n",
    "                         batch_size = 128,\n",
    "                         hidden_dim_drug = 128,\n",
    "                         mpnn_hidden_size = 128,\n",
    "                         mpnn_depth = 3\n",
    "                        )"
   ]
  },
  {
   "cell_type": "code",
   "execution_count": 6,
   "metadata": {
    "ExecuteTime": {
     "end_time": "2020-10-14T01:30:49.205635Z",
     "start_time": "2020-10-14T01:30:49.111637Z"
    }
   },
   "outputs": [],
   "source": [
    "model = models.model_initialize(**config)"
   ]
  },
  {
   "cell_type": "markdown",
   "metadata": {},
   "source": [
    "## Model training and loading\n",
    "\n",
    "Using the hyperparameters above, the model takes about 20 minutes on a GPU (1.5 hours on a laptop CPU) to train on BindingDB. For demo purposes I'm going to load a model I trained earlier, but I used the exact same code as above."
   ]
  },
  {
   "cell_type": "code",
   "execution_count": 7,
   "metadata": {
    "ExecuteTime": {
     "end_time": "2020-10-14T01:34:15.864556Z",
     "start_time": "2020-10-14T01:30:49.583419Z"
    }
   },
   "outputs": [
    {
     "name": "stdout",
     "output_type": "stream",
     "text": [
      "Let's use CPU/s!\n",
      "--- Data Preparation ---\n",
      "--- Go for Training ---\n",
      "Training at Epoch 1 iteration 0 with loss 49.0665. Total time 0.0 hours\n",
      "Training at Epoch 1 iteration 100 with loss 1.36499. Total time 0.00333 hours\n",
      "Training at Epoch 1 iteration 200 with loss 0.85757. Total time 0.00666 hours\n",
      "Training at Epoch 1 iteration 300 with loss 0.76675. Total time 0.01 hours\n",
      "Training at Epoch 1 iteration 400 with loss 1.07368. Total time 0.01333 hours\n",
      "Training at Epoch 1 iteration 500 with loss 0.93190. Total time 0.01666 hours\n",
      "Validation at Epoch 1 , MSE: 0.68142 , Pearson Correlation: 0.83315 with p-value: 0.0 , Concordance Index: 0.82024\n",
      "Training at Epoch 2 iteration 0 with loss 0.59810. Total time 0.01833 hours\n",
      "Training at Epoch 2 iteration 100 with loss 0.56848. Total time 0.02166 hours\n",
      "Training at Epoch 2 iteration 200 with loss 0.64867. Total time 0.025 hours\n",
      "Training at Epoch 2 iteration 300 with loss 0.67891. Total time 0.02833 hours\n",
      "Training at Epoch 2 iteration 400 with loss 0.54653. Total time 0.03166 hours\n",
      "Training at Epoch 2 iteration 500 with loss 0.54228. Total time 0.035 hours\n",
      "Validation at Epoch 2 , MSE: 0.57409 , Pearson Correlation: 0.86149 with p-value: 0.0 , Concordance Index: 0.83699\n",
      "Training at Epoch 3 iteration 0 with loss 0.44758. Total time 0.03666 hours\n",
      "Training at Epoch 3 iteration 100 with loss 0.50131. Total time 0.04 hours\n",
      "Training at Epoch 3 iteration 200 with loss 0.45627. Total time 0.04305 hours\n",
      "Training at Epoch 3 iteration 300 with loss 0.52845. Total time 0.04638 hours\n",
      "Training at Epoch 3 iteration 400 with loss 0.51836. Total time 0.04972 hours\n",
      "Training at Epoch 3 iteration 500 with loss 0.57019. Total time 0.05277 hours\n",
      "Validation at Epoch 3 , MSE: 0.58019 , Pearson Correlation: 0.86966 with p-value: 0.0 , Concordance Index: 0.84257\n",
      "--- Go for Testing ---\n",
      "Testing MSE: 0.5683279953434138 , Pearson Correlation: 0.8649398004554095 with p-value: 0.0 , Concordance Index: 0.8369573848095063\n",
      "--- Training Finished ---\n"
     ]
    },
    {
     "data": {
      "image/png": "[encoded data removed]",
      "text/plain": [
       "<Figure size 432x288 with 1 Axes>"
      ]
     },
     "metadata": {
      "needs_background": "light"
     },
     "output_type": "display_data"
    }
   ],
   "source": [
    "#run this if you want to train a new one\n",
    "model.train(train, val, test, verbose = True)\n",
    "today = date.today()\n",
    "date_time = today.strftime(\"%m-%d-%y\")\n",
    "model.save_model('../model-'+date_time)"
   ]
  },
  {
   "cell_type": "code",
   "execution_count": 5,
   "metadata": {
    "ExecuteTime": {
     "end_time": "2020-10-15T18:21:36.681707Z",
     "start_time": "2020-10-15T18:21:36.543709Z"
    }
   },
   "outputs": [],
   "source": [
    "#run this if you want to use my trained one\n",
    "model = models.model_pretrained(path_dir = '../example_models/model-9-24')"
   ]
  },
  {
   "cell_type": "markdown",
   "metadata": {},
   "source": [
    "## Model validation\n",
    "\n",
    "The following code is built in to the DeepPurpose `train` method, I've just pulled it out so I can grab the dataset that was set aside for validation during the data processing step. "
   ]
  },
  {
   "cell_type": "code",
   "execution_count": 6,
   "metadata": {
    "ExecuteTime": {
     "end_time": "2020-10-15T18:21:37.195133Z",
     "start_time": "2020-10-15T18:21:37.183753Z"
    }
   },
   "outputs": [],
   "source": [
    "config = model.config\n",
    "params = {'batch_size': config['batch_size'],\n",
    "    'shuffle': True,\n",
    "    'num_workers': config['num_workers'],\n",
    "    'drop_last': False}\n",
    "\n",
    "validation_generator = data.DataLoader(utils.data_process_loader(val.index.values, val.Label.values, val, **config), **params)"
   ]
  },
  {
   "cell_type": "markdown",
   "metadata": {},
   "source": [
    "The available performance metrics are mean squared error, Pearson's R, p-value of Pearson's R, and concordance index."
   ]
  },
  {
   "cell_type": "code",
   "execution_count": 7,
   "metadata": {
    "ExecuteTime": {
     "end_time": "2020-10-15T18:21:45.726310Z",
     "start_time": "2020-10-15T18:21:37.666229Z"
    }
   },
   "outputs": [
    {
     "name": "stdout",
     "output_type": "stream",
     "text": [
      "Pearson's R:  0.872697291184556\n"
     ]
    }
   ],
   "source": [
    "mse, pearsonr, pvalue, concordance_index, y_pred = models.DBTA.test_(model, validation_generator, model.model, test=True)\n",
    "print(\"Pearson's R: \", pearsonr)"
   ]
  },
  {
   "cell_type": "markdown",
   "metadata": {},
   "source": [
    "## Model usage\n",
    "\n",
    "To predict IC50, run data_process to create a dataset consisting of a single drug-target pair, and then run `predict`, which is just a wrapper on `test_`. The output is in pIC50. "
   ]
  },
  {
   "cell_type": "code",
   "execution_count": 8,
   "metadata": {
    "ExecuteTime": {
     "end_time": "2020-10-15T18:23:04.419505Z",
     "start_time": "2020-10-15T18:23:04.385508Z"
    }
   },
   "outputs": [
    {
     "name": "stdout",
     "output_type": "stream",
     "text": [
      "Drug Target Interaction Prediction Mode...\n",
      "in total: 1 drug-target pairs\n",
      "encoding drug...\n",
      "unique drugs: 1\n",
      "encoding protein...\n",
      "unique target sequence: 1\n",
      "splitting dataset...\n",
      "do not do train/test split on the data for already splitted data\n",
      "predicting...\n",
      "The predicted score is [7.395412921905518]\n"
     ]
    }
   ],
   "source": [
    "X_drug = ['CC1=C2C=C(C=CC2=NN1)C3=CC(=CN=C3)OCC(CC4=CC=CC=C4)N']\n",
    "X_target = ['MKKFFDSRREQGGSGLGSGSSGGGGSTSGLGSGYIGRVFGIGRQQVTVDEVLAEGGFAIVFLVRTSNGMKCALKRMFVNNEHDLQVCKREIQIMRDLSGHKNIVGYIDSSINNVSSGDVWEVLILMDFCRGGQVVNLMNQRLQTGFTENEVLQIFCDTCEAVARLHQCKTPIIHRDLKVENILLHDRGHYVLCDFGSATNKFQNPQTEGVNAVEDEIKKYTTLSYRAPEMVNLYSGKIITTKADIWALGCLLYKLCYFTLPFGESQVAICDGNFTIPDNSRYSQDMHCLIRYMLEPDPDKRPDIYQVSYFSFKLLKKECPIPNVQNSPIPAKLPEPVKASEAAAKKTQPKARLTDPIPTTETSIAPRQRPKAGQTQPNPGILPIQPALTPRKRATVQPPPQAAGSSNQPGLLASVPQPKPQAPPSQPLPQTQAKQPQAPPTPQQTPSTQAQGLPAQAQATPQHQQQLFLKQQQQQQQPPPAQQQPAGTFYQQQQAQTQQFQAVHPATQKPAIAQFPVVSQGGSQQQLMQNFYQQQQQQQQQQQQQQLATALHQQQLMTQQAALQQKPTMAAGQQPQPQPAAAPQPAPAQEPAIQAPVRQQPKVQTTPPPAVQGQKVGSLTPPSSPKTQRAGHRRILSDVTHSAVFGVPASKSTQLLQAAAAEASLNKSKSATTTPSGSPRTSQQNVYNPSEGSTWNPFDDDNFSKLTAEELLNKDFAKLGEGKHPEKLGGSAESLIPGFQSTQGDAFATTSFSAGTAEKRKGGQTVDSGLPLLSVSDPFIPLQVPDAPEKLIEGLKSPDTSLLLPDLLPMTDPFGSTSDAVIEKADVAVESLIPGLEPPVPQRLPSQTESVTSNRTDSLTGEDSLLDCSLLSNPTTDLLEEFAPTAISAPVHKAAEDSNLISGFDVPEGSDKVAEDEFDPIPVLITKNPQGGHSRNSSGSSESSLPNLARSLLLVDQLIDL']\n",
    "X_pred = utils.data_process(X_drug, X_target, y, \n",
    "                                drug_encoding, target_encoding, \n",
    "                                split_method='no_split')\n",
    "y_pred = model.predict(X_pred)\n",
    "print('The predicted score is ' + str(y_pred))"
   ]
  },
  {
   "cell_type": "markdown",
   "metadata": {},
   "source": [
    "# Second pass: Gradient Boosting with additional information\n",
    "\n",
    "My main innovation here has been to improve upon DeepPurpose by incorporating additional information such as temperature, pH, and model organism in a gradient boosting model that adjusts the first model's predictions.\n",
    "\n",
    "\n",
    "## Data importing\n",
    "\n",
    "By default, calling `digitalcell.feature_select` grabs the temperature and pH values from the dataset, as well as several encodings of the input data. There are a number of supported encodings; the defaults have low overhead and perform well in the classifier. The encodings are input as a list, so you can use as many as you like in combination. Supported encodings are as follows:\n",
    "\n",
    "Drugs:\n",
    "* DeepPurpose.smiles2morgan\n",
    "* DeepPurpose.drug2emb_encoder\n",
    "* DeepPurpose.calcPubChemFingerAll\n",
    "* DeepPurpose.smiles2daylight\n",
    "\n",
    "Targets:\n",
    "* DeepPurpose.CalculateConjointTriad\n",
    "* DeepPurpose.protein2emb_encoder\n",
    "* DeepPurpose.target2quasi\n",
    "\n",
    "\n",
    "TODO: import support for other datasets (convert to SMILES using https://cactus.nci.nih.gov/chemical/structure)\n",
    "\n",
    "TODO: The option to include entries that don't have pH and temperature and impute those values should be straightforward to implement"
   ]
  },
  {
   "cell_type": "code",
   "execution_count": 9,
   "metadata": {
    "ExecuteTime": {
     "end_time": "2020-10-15T18:30:00.416965Z",
     "start_time": "2020-10-15T18:23:10.745713Z"
    }
   },
   "outputs": [
    {
     "name": "stdout",
     "output_type": "stream",
     "text": [
      "Encoding:  drug2emb_encoder\n",
      "Elapsed time:  56.15505075454712\n",
      "Encoding:  smiles2daylight\n",
      "rdkit not found this smiles: CSc1ccc(cc1)C1=C(C=C[N]([O-])=C1)[C@@H]1CCC(F)(F)C[C@H]1C(=O)NCC#N convert to all 0 features\n",
      "rdkit not found this smiles: O=C1NC(=O)c2c1c1c3ccccc3n3[Ru](C#[O])[n+]4cccc2c4c13 convert to all 0 features\n",
      "rdkit not found this smiles: CN1C(=O)c2c(C1=O)c1cc(F)c[n+]3[Ru](C#[O])n4c5ccc(O)cc5c2c4c13 convert to all 0 features\n",
      "rdkit not found this smiles: NOOSc1ccc(CC[N]23CC4=CC=CC=[N]4[Re+]2[N]2=C(C3)C=CC=C2)cc1 convert to all 0 features\n",
      "rdkit not found this smiles: NOOSc1ccc(CC[N@@]23CC(=O)O[Re]2[N]2=C(C3)C=CC=C2)cc1 convert to all 0 features\n",
      "rdkit not found this smiles: CN1C=C[N]2=C1C[N]1(CCc3ccc(SOON)cc3)CC3=[N](C=CN3C)[Re+]21 convert to all 0 features\n",
      "rdkit not found this smiles: NOOSc1ccc(NC(=S)NCCCCCCCC[N]23CC4=CC=CC=[N]4[Re+]2[N]2=C(C3)C=CC=C2)cc1 convert to all 0 features\n",
      "rdkit not found this smiles: NOOSc1ccc(NC(=S)NCCOCCOCC[N]23CC4=CC=CC=[N]4[Re+]2[N]2=C(C3)C=CC=C2)cc1 convert to all 0 features\n",
      "rdkit not found this smiles: NOOSc1ccc(NC(=S)NCCCCC[N]23CC4=CC=CC=[N]4[Re+]2[N]2=C(C3)C=CC=C2)cc1 convert to all 0 features\n",
      "rdkit not found this smiles: NOOSc1ccc(NC(=S)NCCCCCCCC[N@@]23CC(=O)O[Re]2[N]2=C(C3)C=CC=C2)cc1 convert to all 0 features\n",
      "rdkit not found this smiles: CN1C=C[N]2=C1C[N]1(CCCCCCCCCCNC(=S)Nc3ccc(SOON)cc3)CC3=[N](C=CN3C)[Re+]21 convert to all 0 features\n",
      "rdkit not found this smiles: Cn1c(Nc2c(Cl)ccc(CNC(=O)C3=CC=CC=[N]3O)c2Cl)nc2cc(C(=O)NCCC(F)(F)F)c(cc12)N1CCC(CC1)C(F)(F)F convert to all 0 features\n",
      "rdkit not found this smiles: CC[N]1(CC)CCN(CCOc2ccc3[nH]c(=O)c4CCCNc4c3c2)CC1 convert to all 0 features\n",
      "rdkit not found this smiles: COc1cc(C[N](C)(C)C2CCCC2)cc2[nH]c(=O)c3CCCNc3c12 convert to all 0 features\n",
      "rdkit not found this smiles: CC1=C2C(N(C(=O)C2=[N](N1)C1CC1)c1cc(C)c(=O)n(C)c1)c1ccc(Cl)cc1 convert to all 0 features\n",
      "rdkit not found this smiles: CC1=N[N](C)=C(C)C1N[S+]([O-])(=O)c1c(Cl)cc(cc1Cl)-c1cccc2CNCCc12 convert to all 0 features\n",
      "rdkit not found this smiles: CNC(=O)C1=CC(CCCN2CCOCC2)[N](=C1C)c1ccccc1 convert to all 0 features\n",
      "rdkit not found this smiles: O=C(N1N=C(CC1c1ccccc1)c1cnc2ccccc12)c1ccccc1 convert to all 0 features\n",
      "rdkit not found this smiles: CCOC(=O)CCc1c(CC(=O)OCC)cnc1\\C=N\\O convert to all 0 features\n",
      "rdkit not found this smiles: O=C(N1CCN(CC1)c1ccc(cc1)C#N)n1sc2[nH]cccc2c1=O convert to all 0 features\n",
      "rdkit not found this smiles: CC(=O)N1CCN(CC1)C(=O)n1sc2[nH]cccc2c1=O convert to all 0 features\n",
      "rdkit not found this smiles: O=C(C1CC1)N1CCN(CC1)C(=O)n1sc2[nH]cccc2c1=O convert to all 0 features\n",
      "rdkit not found this smiles: COc1ccc(cc1OC)C(=O)N1CCN(CC1)C(=O)n1sc2[nH]cccc2c1=O convert to all 0 features\n",
      "rdkit not found this smiles: CC(C)(O)c1nc(ncc1F)N1C[C@H]2CSC(N)=[N]([C@H]2C1)c1cnccn1 convert to all 0 features\n",
      "rdkit not found this smiles: CC(C)NC(=O)[C@@H]1C[C@H]2C[C@H]2N1C(=O)C[N]1#[N]=C(C(C)=O)c2cc(OCc3ncccn3)ccc12 convert to all 0 features\n",
      "rdkit not found this smiles: CC(C)Cc1ccc2nnc(-c3cc(ncn3)N3CCOCC3)c2c1 convert to all 0 features\n",
      "rdkit not found this smiles: C1CN(CCO1)c1cc(ncn1)-c1nnc2ccccc12 convert to all 0 features\n",
      "rdkit not found this smiles: CC(C)(c1nc(nc2N3CCOC[C@H]3COc12)[N]1=C(N)Nc2ccccc12)S(C)(=O)=O convert to all 0 features\n",
      "rdkit not found this smiles: CC(C)(c1nc(nc2N3CCOC[C@H]3COc12)[N]1=C(Nc2ccccc12)N1CCOCC1)S(C)(=O)=O convert to all 0 features\n",
      "rdkit not found this smiles: Cn1nccc1[C@H]1CCCCC[C@@H]1Oc1cc(F)c(c(F)c1)S(=O)(=O)Nc1cc[nH]cn1 convert to all 0 features\n",
      "rdkit not found this smiles: Clc1ccc(CNc2cc(nn2)-c2cccn(Cc3ccccc3Cl)c2=O)s1 convert to all 0 features\n",
      "rdkit not found this smiles: Clc1ccc(CNc2cc(nn2)-c2cccn(Cc3cccc(Cl)c3)c2=O)s1 convert to all 0 features\n",
      "rdkit not found this smiles: Clc1ccc(CNc2cc(nn2)-c2cccn(Cc3ccc(Cl)cc3)c2=O)s1 convert to all 0 features\n",
      "rdkit not found this smiles: Clc1ccc(CNc2cc(nn2)-c2cccn(Cc3ccc(Cl)s3)c2=O)s1 convert to all 0 features\n",
      "rdkit not found this smiles: Clc1ccc(CNc2cc(nn2)-c2cccn(Cc3ccccc3)c2=O)s1 convert to all 0 features\n",
      "rdkit not found this smiles: OC(=O)n1cccc(-c2cc(NCc3ccc(Cl)s3)nn2)c1=O convert to all 0 features\n",
      "rdkit not found this smiles: Clc1ccc(CNc2cc(nn2)-c2cccn(CC#N)c2=O)s1 convert to all 0 features\n",
      "rdkit not found this smiles: Clc1ccc(CNc2cc(nn2C(=O)c2ccccc2)-c2cccnc2=O)s1 convert to all 0 features\n",
      "rdkit not found this smiles: CC(C)(C)C(=O)n1nc(cc1NCc1ccc(Cl)s1)-c1cccnc1=O convert to all 0 features\n",
      "rdkit not found this smiles: COCC(C)(C)C(=O)n1nc(cc1NCc1ccc(Cl)s1)-c1cccnc1=O convert to all 0 features\n",
      "rdkit not found this smiles: Clc1ccc(CNc2cc(nn2C(=O)c2cccc3OCCOc23)-c2cccnc2=O)s1 convert to all 0 features\n",
      "rdkit not found this smiles: COc1ccc(C(=O)n2nc(cc2NCc2ccc(Cl)s2)-c2cccnc2=O)c(OC)c1 convert to all 0 features\n",
      "rdkit not found this smiles: COc1ccccc1C(=O)n1nc(cc1NCc1ccc(Cl)s1)-c1cccnc1=O convert to all 0 features\n",
      "rdkit not found this smiles: Clc1ccc(CNc2cc(nn2C(=O)c2ccsc2)-c2cccnc2=O)s1 convert to all 0 features\n",
      "rdkit not found this smiles: Clc1ccc(CNc2cc(nn2C(=O)c2ccccc2N2CCOCC2)-c2cccnc2=O)s1 convert to all 0 features\n",
      "rdkit not found this smiles: COCCOc1ccccc1C(=O)n1nc(cc1NCc1ccc(Cl)s1)-c1cccnc1=O convert to all 0 features\n",
      "rdkit not found this smiles: Clc1ccc(CNc2cc(nn2C(=O)c2ccc(cc2)N2CCOCC2)-c2cccnc2=O)s1 convert to all 0 features\n",
      "rdkit not found this smiles: Clc1ccc(CNc2cc(nn2)-c2cccn(Cc3nnn[nH]3)c2=O)s1 convert to all 0 features\n",
      "rdkit not found this smiles: COCCn1cccc(-c2cc(NCc3ccc(Cl)s3)nn2)c1=O convert to all 0 features\n",
      "rdkit not found this smiles: Clc1ccc(CNc2cc(nn2)-c2cccn(CCc3ccccc3)c2=O)s1 convert to all 0 features\n",
      "rdkit not found this smiles: Clc1ccc(CNc2cc(nn2)-c2cccn(Cc3ccco3)c2=O)s1 convert to all 0 features\n",
      "rdkit not found this smiles: Clc1ccc(CNc2cc(nn2)-c2cccn(Cc3ccoc3)c2=O)s1 convert to all 0 features\n",
      "rdkit not found this smiles: Clc1ccc(CNc2cc(nn2)-c2cccn(Cc3cccc4ccccc34)c2=O)s1 convert to all 0 features\n",
      "rdkit not found this smiles: Clc1ccc(CNc2cc(nn2)-c2cccn(Cc3ccc4ccccc4c3)c2=O)s1 convert to all 0 features\n",
      "rdkit not found this smiles: Clc1ccc(CNc2cc(nn2)-c2cccn(Cc3cccnn3)c2=O)s1 convert to all 0 features\n",
      "rdkit not found this smiles: Clc1ccc(CNc2cc(nn2)-c2cccn(Cc3ccccn3)c2=O)s1 convert to all 0 features\n",
      "rdkit not found this smiles: Clc1ccc(CNc2cc(nn2)-c2cccn(Cc3cccnc3)c2=O)s1 convert to all 0 features\n",
      "rdkit not found this smiles: Clc1ccc(CNc2cc(nn2)-c2cccn(Cc3ccncc3)c2=O)s1 convert to all 0 features\n",
      "rdkit not found this smiles: Clc1ccc(CNc2cc(nn2)-c2cccn(Cc3ncccn3)c2=O)s1 convert to all 0 features\n",
      "rdkit not found this smiles: Clc1ccc(CNc2cc(nn2)-c2cccn(Cc3cccs3)c2=O)s1 convert to all 0 features\n",
      "rdkit not found this smiles: Clc1ccc(CNc2cc(nn2)-c2cccn(Cc3ccsc3)c2=O)s1 convert to all 0 features\n",
      "rdkit not found this smiles: Clc1ccc(CNc2cc(nn2)-c2cccn(CC(=O)N3CCOCC3)c2=O)s1 convert to all 0 features\n",
      "rdkit not found this smiles: Clc1ccc(CNc2cc(nn2)-c2cccn(CCN3CCOCC3)c2=O)s1 convert to all 0 features\n",
      "rdkit not found this smiles: Clc1ccc(CNc2cc(nn2)-c2cccn(CCc3ccccn3)c2=O)s1 convert to all 0 features\n",
      "rdkit not found this smiles: Cn1cccc(-c2cc(NCc3ccc(Cl)s3)nn2)c1=O convert to all 0 features\n",
      "rdkit not found this smiles: O=C(c1ccco1)n1nc(cc1NCc1ccccc1)-c1cccnc1=O convert to all 0 features\n",
      "rdkit not found this smiles: CN(C)c1cc(nn1C(=O)c1ccco1)-c1cccnc1=O convert to all 0 features\n",
      "rdkit not found this smiles: Nc1ccccc1C(=O)n1nc(cc1NCc1ccc(Cl)s1)-c1cccnc1=O convert to all 0 features\n",
      "rdkit not found this smiles: CC(C)(C)c1ccc(cc1)C(=O)n1nc(cc1NCc1ccc(Cl)s1)-c1cccnc1=O convert to all 0 features\n",
      "rdkit not found this smiles: Nc1cc(nn1C(=O)c1ccco1)-c1cccnc1=O convert to all 0 features\n",
      "rdkit not found this smiles: CCOC(=O)Cn1cccc(-c2cc(NCc3ccc(Cl)s3)nn2)c1=O convert to all 0 features\n",
      "rdkit not found this smiles: CC(C)(C)OC(=O)Cn1cccc(-c2cc(NCc3ccc(Cl)s3)nn2)c1=O convert to all 0 features\n",
      "rdkit not found this smiles: Clc1cccc(Cl)c1NC(=O)N1CCN(CC1)c1ccc(cc1)-c1[nH]cnn1CCc1ccccc1 convert to all 0 features\n",
      "rdkit not found this smiles: Clc1cccc(Cl)c1NC(=O)N1CCN(CC1)c1ccc(cc1)-c1ncnn1 convert to all 0 features\n",
      "rdkit not found this smiles: Cc1ccc(cc1)-c1nc([nH]o1)-c1ccc(cc1)N1CCN(CC1)C(=O)Nc1ccccc1Cl convert to all 0 features\n",
      "rdkit not found this smiles: Cn1cc(ccc1C(N)=O)S(=O)(=O)c1ccc(CN\\C(Nc2ccncc2)=N/C#N)cc1 convert to all 0 features\n"
     ]
    },
    {
     "name": "stdout",
     "output_type": "stream",
     "text": [
      "rdkit not found this smiles: Cc1cc(nn1)-c1cc(C(=O)Nc2ccc(F)cn2)c2ncnn2c1 convert to all 0 features\n",
      "rdkit not found this smiles: C[N]1=C(OC(=C1)c1cccc(Nc2nccc(n2)-c2cccnc2)c1)N1CCNC(=O)C11CC1 convert to all 0 features\n",
      "rdkit not found this smiles: Cc1ccnc(Nc2cccc(C3=C[N](C)=C(O3)N3CCNC(=O)C33CC3)c2C)n1 convert to all 0 features\n",
      "rdkit not found this smiles: CN1C=[N](C)C=C1c1ccc(C[C@H](NC(=O)[C@H]2N[C@@H]3CC[C@H]2C3)C#N)c(F)c1 convert to all 0 features\n",
      "rdkit not found this smiles: Oc1cnc(Cn2cnc(c(Oc3cc(Cl)cc(c3)C#N)c2=O)C(F)(F)F)c[nH]1 convert to all 0 features\n",
      "Elapsed time:  331.6637170314789\n",
      "Encoding:  CalculateConjointTriad\n",
      "Elapsed time:  333.25377345085144\n",
      "Encoding:  protein2emb_encoder\n",
      "Elapsed time:  409.6532506942749\n"
     ]
    }
   ],
   "source": [
    "df_data = digitalcell.feature_select(df)"
   ]
  },
  {
   "cell_type": "markdown",
   "metadata": {},
   "source": [
    "## Getting first pass predictions from Model 1\n",
    "\n",
    "This cell loads an initial DeepPurpose model and converts the current training data into the format used by said model. Calling `utils.data_process` may not be necessary if you're computing both models at the same time, but if the encodings used in Model 1 differ from those used in Model 2, trying to run the model without doing this might break it."
   ]
  },
  {
   "cell_type": "code",
   "execution_count": 10,
   "metadata": {
    "ExecuteTime": {
     "end_time": "2020-10-15T18:30:01.447395Z",
     "start_time": "2020-10-15T18:30:01.388396Z"
    }
   },
   "outputs": [],
   "source": [
    "model = models.model_pretrained(path_dir = '../example_models/model-9-24')"
   ]
  },
  {
   "cell_type": "code",
   "execution_count": 11,
   "metadata": {
    "ExecuteTime": {
     "end_time": "2020-10-15T18:30:57.478799Z",
     "start_time": "2020-10-15T18:30:02.466404Z"
    }
   },
   "outputs": [
    {
     "name": "stdout",
     "output_type": "stream",
     "text": [
      "Drug Target Interaction Prediction Mode...\n",
      "in total: 93336 drug-target pairs\n",
      "encoding drug...\n",
      "unique drugs: 63535\n",
      "rdkit not found this smiles for morgan: CSc1ccc(cc1)C1=C(C=C[N]([O-])=C1)[C@@H]1CCC(F)(F)C[C@H]1C(=O)NCC#N convert to all 0 features\n",
      "rdkit not found this smiles for morgan: O=C1NC(=O)c2c1c1c3ccccc3n3[Ru](C#[O])[n+]4cccc2c4c13 convert to all 0 features\n",
      "rdkit not found this smiles for morgan: CN1C(=O)c2c(C1=O)c1cc(F)c[n+]3[Ru](C#[O])n4c5ccc(O)cc5c2c4c13 convert to all 0 features\n",
      "rdkit not found this smiles for morgan: NOOSc1ccc(CC[N]23CC4=CC=CC=[N]4[Re+]2[N]2=C(C3)C=CC=C2)cc1 convert to all 0 features\n",
      "rdkit not found this smiles for morgan: NOOSc1ccc(CC[N@@]23CC(=O)O[Re]2[N]2=C(C3)C=CC=C2)cc1 convert to all 0 features\n",
      "rdkit not found this smiles for morgan: CN1C=C[N]2=C1C[N]1(CCc3ccc(SOON)cc3)CC3=[N](C=CN3C)[Re+]21 convert to all 0 features\n",
      "rdkit not found this smiles for morgan: NOOSc1ccc(NC(=S)NCCCCCCCC[N]23CC4=CC=CC=[N]4[Re+]2[N]2=C(C3)C=CC=C2)cc1 convert to all 0 features\n",
      "rdkit not found this smiles for morgan: NOOSc1ccc(NC(=S)NCCOCCOCC[N]23CC4=CC=CC=[N]4[Re+]2[N]2=C(C3)C=CC=C2)cc1 convert to all 0 features\n",
      "rdkit not found this smiles for morgan: NOOSc1ccc(NC(=S)NCCCCC[N]23CC4=CC=CC=[N]4[Re+]2[N]2=C(C3)C=CC=C2)cc1 convert to all 0 features\n",
      "rdkit not found this smiles for morgan: NOOSc1ccc(NC(=S)NCCCCCCCC[N@@]23CC(=O)O[Re]2[N]2=C(C3)C=CC=C2)cc1 convert to all 0 features\n",
      "rdkit not found this smiles for morgan: CN1C=C[N]2=C1C[N]1(CCCCCCCCCCNC(=S)Nc3ccc(SOON)cc3)CC3=[N](C=CN3C)[Re+]21 convert to all 0 features\n",
      "rdkit not found this smiles for morgan: Cn1c(Nc2c(Cl)ccc(CNC(=O)C3=CC=CC=[N]3O)c2Cl)nc2cc(C(=O)NCCC(F)(F)F)c(cc12)N1CCC(CC1)C(F)(F)F convert to all 0 features\n",
      "rdkit not found this smiles for morgan: CC[N]1(CC)CCN(CCOc2ccc3[nH]c(=O)c4CCCNc4c3c2)CC1 convert to all 0 features\n",
      "rdkit not found this smiles for morgan: COc1cc(C[N](C)(C)C2CCCC2)cc2[nH]c(=O)c3CCCNc3c12 convert to all 0 features\n",
      "rdkit not found this smiles for morgan: CC1=C2C(N(C(=O)C2=[N](N1)C1CC1)c1cc(C)c(=O)n(C)c1)c1ccc(Cl)cc1 convert to all 0 features\n",
      "rdkit not found this smiles for morgan: CC1=N[N](C)=C(C)C1N[S+]([O-])(=O)c1c(Cl)cc(cc1Cl)-c1cccc2CNCCc12 convert to all 0 features\n",
      "rdkit not found this smiles for morgan: CNC(=O)C1=CC(CCCN2CCOCC2)[N](=C1C)c1ccccc1 convert to all 0 features\n",
      "rdkit not found this smiles for morgan: O=C(N1N=C(CC1c1ccccc1)c1cnc2ccccc12)c1ccccc1 convert to all 0 features\n",
      "rdkit not found this smiles for morgan: CCOC(=O)CCc1c(CC(=O)OCC)cnc1\\C=N\\O convert to all 0 features\n",
      "rdkit not found this smiles for morgan: O=C(N1CCN(CC1)c1ccc(cc1)C#N)n1sc2[nH]cccc2c1=O convert to all 0 features\n",
      "rdkit not found this smiles for morgan: CC(=O)N1CCN(CC1)C(=O)n1sc2[nH]cccc2c1=O convert to all 0 features\n",
      "rdkit not found this smiles for morgan: O=C(C1CC1)N1CCN(CC1)C(=O)n1sc2[nH]cccc2c1=O convert to all 0 features\n",
      "rdkit not found this smiles for morgan: COc1ccc(cc1OC)C(=O)N1CCN(CC1)C(=O)n1sc2[nH]cccc2c1=O convert to all 0 features\n",
      "rdkit not found this smiles for morgan: CC(C)(O)c1nc(ncc1F)N1C[C@H]2CSC(N)=[N]([C@H]2C1)c1cnccn1 convert to all 0 features\n",
      "rdkit not found this smiles for morgan: CC(C)NC(=O)[C@@H]1C[C@H]2C[C@H]2N1C(=O)C[N]1#[N]=C(C(C)=O)c2cc(OCc3ncccn3)ccc12 convert to all 0 features\n",
      "rdkit not found this smiles for morgan: CC(C)Cc1ccc2nnc(-c3cc(ncn3)N3CCOCC3)c2c1 convert to all 0 features\n",
      "rdkit not found this smiles for morgan: C1CN(CCO1)c1cc(ncn1)-c1nnc2ccccc12 convert to all 0 features\n",
      "rdkit not found this smiles for morgan: CC(C)(c1nc(nc2N3CCOC[C@H]3COc12)[N]1=C(N)Nc2ccccc12)S(C)(=O)=O convert to all 0 features\n",
      "rdkit not found this smiles for morgan: CC(C)(c1nc(nc2N3CCOC[C@H]3COc12)[N]1=C(Nc2ccccc12)N1CCOCC1)S(C)(=O)=O convert to all 0 features\n",
      "rdkit not found this smiles for morgan: Cn1nccc1[C@H]1CCCCC[C@@H]1Oc1cc(F)c(c(F)c1)S(=O)(=O)Nc1cc[nH]cn1 convert to all 0 features\n",
      "rdkit not found this smiles for morgan: Clc1ccc(CNc2cc(nn2)-c2cccn(Cc3ccccc3Cl)c2=O)s1 convert to all 0 features\n",
      "rdkit not found this smiles for morgan: Clc1ccc(CNc2cc(nn2)-c2cccn(Cc3cccc(Cl)c3)c2=O)s1 convert to all 0 features\n",
      "rdkit not found this smiles for morgan: Clc1ccc(CNc2cc(nn2)-c2cccn(Cc3ccc(Cl)cc3)c2=O)s1 convert to all 0 features\n",
      "rdkit not found this smiles for morgan: Clc1ccc(CNc2cc(nn2)-c2cccn(Cc3ccc(Cl)s3)c2=O)s1 convert to all 0 features\n",
      "rdkit not found this smiles for morgan: Clc1ccc(CNc2cc(nn2)-c2cccn(Cc3ccccc3)c2=O)s1 convert to all 0 features\n",
      "rdkit not found this smiles for morgan: OC(=O)n1cccc(-c2cc(NCc3ccc(Cl)s3)nn2)c1=O convert to all 0 features\n",
      "rdkit not found this smiles for morgan: Clc1ccc(CNc2cc(nn2)-c2cccn(CC#N)c2=O)s1 convert to all 0 features\n",
      "rdkit not found this smiles for morgan: Clc1ccc(CNc2cc(nn2C(=O)c2ccccc2)-c2cccnc2=O)s1 convert to all 0 features\n",
      "rdkit not found this smiles for morgan: CC(C)(C)C(=O)n1nc(cc1NCc1ccc(Cl)s1)-c1cccnc1=O convert to all 0 features\n",
      "rdkit not found this smiles for morgan: COCC(C)(C)C(=O)n1nc(cc1NCc1ccc(Cl)s1)-c1cccnc1=O convert to all 0 features\n",
      "rdkit not found this smiles for morgan: Clc1ccc(CNc2cc(nn2C(=O)c2cccc3OCCOc23)-c2cccnc2=O)s1 convert to all 0 features\n",
      "rdkit not found this smiles for morgan: COc1ccc(C(=O)n2nc(cc2NCc2ccc(Cl)s2)-c2cccnc2=O)c(OC)c1 convert to all 0 features\n",
      "rdkit not found this smiles for morgan: COc1ccccc1C(=O)n1nc(cc1NCc1ccc(Cl)s1)-c1cccnc1=O convert to all 0 features\n",
      "rdkit not found this smiles for morgan: Clc1ccc(CNc2cc(nn2C(=O)c2ccsc2)-c2cccnc2=O)s1 convert to all 0 features\n",
      "rdkit not found this smiles for morgan: Clc1ccc(CNc2cc(nn2C(=O)c2ccccc2N2CCOCC2)-c2cccnc2=O)s1 convert to all 0 features\n",
      "rdkit not found this smiles for morgan: COCCOc1ccccc1C(=O)n1nc(cc1NCc1ccc(Cl)s1)-c1cccnc1=O convert to all 0 features\n",
      "rdkit not found this smiles for morgan: Clc1ccc(CNc2cc(nn2C(=O)c2ccc(cc2)N2CCOCC2)-c2cccnc2=O)s1 convert to all 0 features\n",
      "rdkit not found this smiles for morgan: Clc1ccc(CNc2cc(nn2)-c2cccn(Cc3nnn[nH]3)c2=O)s1 convert to all 0 features\n",
      "rdkit not found this smiles for morgan: COCCn1cccc(-c2cc(NCc3ccc(Cl)s3)nn2)c1=O convert to all 0 features\n",
      "rdkit not found this smiles for morgan: Clc1ccc(CNc2cc(nn2)-c2cccn(CCc3ccccc3)c2=O)s1 convert to all 0 features\n",
      "rdkit not found this smiles for morgan: Clc1ccc(CNc2cc(nn2)-c2cccn(Cc3ccco3)c2=O)s1 convert to all 0 features\n",
      "rdkit not found this smiles for morgan: Clc1ccc(CNc2cc(nn2)-c2cccn(Cc3ccoc3)c2=O)s1 convert to all 0 features\n",
      "rdkit not found this smiles for morgan: Clc1ccc(CNc2cc(nn2)-c2cccn(Cc3cccc4ccccc34)c2=O)s1 convert to all 0 features\n",
      "rdkit not found this smiles for morgan: Clc1ccc(CNc2cc(nn2)-c2cccn(Cc3ccc4ccccc4c3)c2=O)s1 convert to all 0 features\n",
      "rdkit not found this smiles for morgan: Clc1ccc(CNc2cc(nn2)-c2cccn(Cc3cccnn3)c2=O)s1 convert to all 0 features\n",
      "rdkit not found this smiles for morgan: Clc1ccc(CNc2cc(nn2)-c2cccn(Cc3ccccn3)c2=O)s1 convert to all 0 features\n",
      "rdkit not found this smiles for morgan: Clc1ccc(CNc2cc(nn2)-c2cccn(Cc3cccnc3)c2=O)s1 convert to all 0 features\n",
      "rdkit not found this smiles for morgan: Clc1ccc(CNc2cc(nn2)-c2cccn(Cc3ccncc3)c2=O)s1 convert to all 0 features\n",
      "rdkit not found this smiles for morgan: Clc1ccc(CNc2cc(nn2)-c2cccn(Cc3ncccn3)c2=O)s1 convert to all 0 features\n",
      "rdkit not found this smiles for morgan: Clc1ccc(CNc2cc(nn2)-c2cccn(Cc3cccs3)c2=O)s1 convert to all 0 features\n",
      "rdkit not found this smiles for morgan: Clc1ccc(CNc2cc(nn2)-c2cccn(Cc3ccsc3)c2=O)s1 convert to all 0 features\n",
      "rdkit not found this smiles for morgan: Clc1ccc(CNc2cc(nn2)-c2cccn(CC(=O)N3CCOCC3)c2=O)s1 convert to all 0 features\n",
      "rdkit not found this smiles for morgan: Clc1ccc(CNc2cc(nn2)-c2cccn(CCN3CCOCC3)c2=O)s1 convert to all 0 features\n",
      "rdkit not found this smiles for morgan: Clc1ccc(CNc2cc(nn2)-c2cccn(CCc3ccccn3)c2=O)s1 convert to all 0 features\n",
      "rdkit not found this smiles for morgan: Cn1cccc(-c2cc(NCc3ccc(Cl)s3)nn2)c1=O convert to all 0 features\n",
      "rdkit not found this smiles for morgan: O=C(c1ccco1)n1nc(cc1NCc1ccccc1)-c1cccnc1=O convert to all 0 features\n",
      "rdkit not found this smiles for morgan: CN(C)c1cc(nn1C(=O)c1ccco1)-c1cccnc1=O convert to all 0 features\n",
      "rdkit not found this smiles for morgan: Nc1ccccc1C(=O)n1nc(cc1NCc1ccc(Cl)s1)-c1cccnc1=O convert to all 0 features\n",
      "rdkit not found this smiles for morgan: CC(C)(C)c1ccc(cc1)C(=O)n1nc(cc1NCc1ccc(Cl)s1)-c1cccnc1=O convert to all 0 features\n",
      "rdkit not found this smiles for morgan: Nc1cc(nn1C(=O)c1ccco1)-c1cccnc1=O convert to all 0 features\n",
      "rdkit not found this smiles for morgan: CCOC(=O)Cn1cccc(-c2cc(NCc3ccc(Cl)s3)nn2)c1=O convert to all 0 features\n",
      "rdkit not found this smiles for morgan: CC(C)(C)OC(=O)Cn1cccc(-c2cc(NCc3ccc(Cl)s3)nn2)c1=O convert to all 0 features\n"
     ]
    },
    {
     "name": "stdout",
     "output_type": "stream",
     "text": [
      "rdkit not found this smiles for morgan: Clc1cccc(Cl)c1NC(=O)N1CCN(CC1)c1ccc(cc1)-c1[nH]cnn1CCc1ccccc1 convert to all 0 features\n",
      "rdkit not found this smiles for morgan: Clc1cccc(Cl)c1NC(=O)N1CCN(CC1)c1ccc(cc1)-c1ncnn1 convert to all 0 features\n",
      "rdkit not found this smiles for morgan: Cc1ccc(cc1)-c1nc([nH]o1)-c1ccc(cc1)N1CCN(CC1)C(=O)Nc1ccccc1Cl convert to all 0 features\n",
      "rdkit not found this smiles for morgan: Cn1cc(ccc1C(N)=O)S(=O)(=O)c1ccc(CN\\C(Nc2ccncc2)=N/C#N)cc1 convert to all 0 features\n",
      "rdkit not found this smiles for morgan: Cc1cc(nn1)-c1cc(C(=O)Nc2ccc(F)cn2)c2ncnn2c1 convert to all 0 features\n",
      "rdkit not found this smiles for morgan: C[N]1=C(OC(=C1)c1cccc(Nc2nccc(n2)-c2cccnc2)c1)N1CCNC(=O)C11CC1 convert to all 0 features\n",
      "rdkit not found this smiles for morgan: Cc1ccnc(Nc2cccc(C3=C[N](C)=C(O3)N3CCNC(=O)C33CC3)c2C)n1 convert to all 0 features\n",
      "rdkit not found this smiles for morgan: CN1C=[N](C)C=C1c1ccc(C[C@H](NC(=O)[C@H]2N[C@@H]3CC[C@H]2C3)C#N)c(F)c1 convert to all 0 features\n",
      "rdkit not found this smiles for morgan: Oc1cnc(Cn2cnc(c(Oc3cc(Cl)cc(c3)C#N)c2=O)C(F)(F)F)c[nH]1 convert to all 0 features\n",
      "encoding protein...\n",
      "unique target sequence: 1113\n",
      "splitting dataset...\n",
      "do not do train/test split on the data for already splitted data\n"
     ]
    }
   ],
   "source": [
    "X_pred = utils.data_process(X_drugs, X_targets, y, \n",
    "                                model.drug_encoding, model.target_encoding, \n",
    "                                split_method='no_split')"
   ]
  },
  {
   "cell_type": "markdown",
   "metadata": {},
   "source": [
    "We then use the first model to generate estimates of pIC50 for the whole training dataset."
   ]
  },
  {
   "cell_type": "code",
   "execution_count": 12,
   "metadata": {
    "ExecuteTime": {
     "end_time": "2020-10-15T18:32:22.562990Z",
     "start_time": "2020-10-15T18:30:58.592000Z"
    },
    "scrolled": false
   },
   "outputs": [
    {
     "name": "stdout",
     "output_type": "stream",
     "text": [
      "predicting...\n"
     ]
    }
   ],
   "source": [
    "first_pass = model.predict(X_pred)"
   ]
  },
  {
   "cell_type": "markdown",
   "metadata": {},
   "source": [
    "## Training model 2\n",
    "\n",
    "This step converts the features generated by the encoding step into vectors to be fed into the model. You can expect this to take over 5 minutes.\n",
    "\n",
    "TODO: The conversion to vector space here is pretty trivial - you could probably improve the model here by performing PCA or similar for feature extraction instead."
   ]
  },
  {
   "cell_type": "code",
   "execution_count": 13,
   "metadata": {
    "ExecuteTime": {
     "end_time": "2020-10-15T18:40:24.983178Z",
     "start_time": "2020-10-15T18:32:24.078541Z"
    },
    "run_control": {
     "marked": true
    }
   },
   "outputs": [
    {
     "name": "stdout",
     "output_type": "stream",
     "text": [
      "Converting features to vectors (this takes a while)\n"
     ]
    }
   ],
   "source": [
    "X_train,X_test,y_train,y_test,cat_list = digitalcell.data_process_omic(df_data, first_pass)"
   ]
  },
  {
   "cell_type": "markdown",
   "metadata": {},
   "source": [
    "The following two cells generate a gradient boosting model that improves on the performance of model 1 by incorporating additional information and encodings. The model actually consists of 3 estimators, providing an 80 percent lower and upper prediction interval. You can adjust the bounds on the confidence interval when you create the model. Each model takes about 3 or 4 minutes to build.\n",
    "\n",
    "TODO: There could be substantial improvement on the model hyperparameters here; look at the [sklearn Gradient Boosting Regressor options](https://scikit-learn.org/stable/modules/generated/sklearn.ensemble.GradientBoostingRegressor.html) for suggestions."
   ]
  },
  {
   "cell_type": "code",
   "execution_count": 16,
   "metadata": {
    "ExecuteTime": {
     "end_time": "2020-10-14T01:46:35.457199Z",
     "start_time": "2020-10-14T01:46:35.444200Z"
    }
   },
   "outputs": [],
   "source": [
    "model2 = digitalcell.GBoostModel(\n",
    "    lower_alpha=0.1, upper_alpha=0.9, n_estimators=10, org_list = cat_list, init_model = model)"
   ]
  },
  {
   "cell_type": "code",
   "execution_count": 17,
   "metadata": {
    "ExecuteTime": {
     "end_time": "2020-10-14T02:00:19.351486Z",
     "start_time": "2020-10-14T01:46:37.108355Z"
    }
   },
   "outputs": [
    {
     "name": "stdout",
     "output_type": "stream",
     "text": [
      "Calculating estimates...\n",
      "Getting lower bound...\n",
      "Getting upper bound...\n"
     ]
    }
   ],
   "source": [
    "# Fit and make predictions\n",
    "model2.fit(X_train, y_train)"
   ]
  },
  {
   "cell_type": "markdown",
   "metadata": {},
   "source": [
    "We can quickly use this model to make predictions for all of the testing data, which is useful for getting performance metrics."
   ]
  },
  {
   "cell_type": "code",
   "execution_count": 18,
   "metadata": {
    "ExecuteTime": {
     "end_time": "2020-10-14T02:00:22.132693Z",
     "start_time": "2020-10-14T02:00:21.247941Z"
    }
   },
   "outputs": [],
   "source": [
    "model2.predictions = model2.predict(X_test)"
   ]
  },
  {
   "cell_type": "markdown",
   "metadata": {},
   "source": [
    "Be sure to pickle your model to preserve its deliciousness. (This cell just saves the model to a file.)"
   ]
  },
  {
   "cell_type": "code",
   "execution_count": 19,
   "metadata": {
    "ExecuteTime": {
     "end_time": "2020-10-14T02:00:24.000982Z",
     "start_time": "2020-10-14T02:00:23.906985Z"
    }
   },
   "outputs": [],
   "source": [
    "today = date.today()\n",
    "date_time = today.strftime(\"%m-%d-%y\")\n",
    "filename = '../model_'+date_time+'.sav'\n",
    "pickle.dump(model2, open(filename, 'wb'))"
   ]
  },
  {
   "cell_type": "markdown",
   "metadata": {},
   "source": [
    "## Usage\n",
    "\n",
    "For the example usage, I'll be importing two pre-trained models, a DeepPurpose one and a Gradient Boosted one built on top of it. I saved the typelist seperately for this model, but if you make a new model, it should be automatically stored in model2.typelist."
   ]
  },
  {
   "cell_type": "code",
   "execution_count": 14,
   "metadata": {
    "ExecuteTime": {
     "end_time": "2020-10-15T18:40:26.784020Z",
     "start_time": "2020-10-15T18:40:26.695215Z"
    },
    "run_control": {
     "marked": true
    }
   },
   "outputs": [],
   "source": [
    "model = models.model_pretrained(path_dir = '../example_models/model-9-24')\n",
    "model2 = pickle.load( open( \"../example_models/model_10_12.sav\", \"rb\" ) )\n",
    "model2.typelist = pickle.load(open('../example_models/model_10_12_typelist.sav',\"rb\"))"
   ]
  },
  {
   "cell_type": "markdown",
   "metadata": {},
   "source": [
    "Enter the drug in SMILES format and the target in AAC format here."
   ]
  },
  {
   "cell_type": "code",
   "execution_count": 15,
   "metadata": {
    "ExecuteTime": {
     "end_time": "2020-10-15T18:40:28.710065Z",
     "start_time": "2020-10-15T18:40:28.698036Z"
    }
   },
   "outputs": [],
   "source": [
    "X_drug = ['CC1=C2C=C(C=CC2=NN1)C3=CC(=CN=C3)OCC(CC4=CC=CC=C4)N']\n",
    "X_target = ['MKKFFDSRREQGGSGLGSGSSGGGGSTSGLGSGYIGRVFGIGRQQVTVDEVLAEGGFAIVFLVRTSNGMKCALKRMFVNNEHDLQVCKREIQIMRDLSGHKNIVGYIDSSINNVSSGDVWEVLILMDFCRGGQVVNLMNQRLQTGFTENEVLQIFCDTCEAVARLHQCKTPIIHRDLKVENILLHDRGHYVLCDFGSATNKFQNPQTEGVNAVEDEIKKYTTLSYRAPEMVNLYSGKIITTKADIWALGCLLYKLCYFTLPFGESQVAICDGNFTIPDNSRYSQDMHCLIRYMLEPDPDKRPDIYQVSYFSFKLLKKECPIPNVQNSPIPAKLPEPVKASEAAAKKTQPKARLTDPIPTTETSIAPRQRPKAGQTQPNPGILPIQPALTPRKRATVQPPPQAAGSSNQPGLLASVPQPKPQAPPSQPLPQTQAKQPQAPPTPQQTPSTQAQGLPAQAQATPQHQQQLFLKQQQQQQQPPPAQQQPAGTFYQQQQAQTQQFQAVHPATQKPAIAQFPVVSQGGSQQQLMQNFYQQQQQQQQQQQQQQLATALHQQQLMTQQAALQQKPTMAAGQQPQPQPAAAPQPAPAQEPAIQAPVRQQPKVQTTPPPAVQGQKVGSLTPPSSPKTQRAGHRRILSDVTHSAVFGVPASKSTQLLQAAAAEASLNKSKSATTTPSGSPRTSQQNVYNPSEGSTWNPFDDDNFSKLTAEELLNKDFAKLGEGKHPEKLGGSAESLIPGFQSTQGDAFATTSFSAGTAEKRKGGQTVDSGLPLLSVSDPFIPLQVPDAPEKLIEGLKSPDTSLLLPDLLPMTDPFGSTSDAVIEKADVAVESLIPGLEPPVPQRLPSQTESVTSNRTDSLTGEDSLLDCSLLSNPTTDLLEEFAPTAISAPVHKAAEDSNLISGFDVPEGSDKVAEDEFDPIPVLITKNPQGGHSRNSSGSSESSLPNLARSLLLVDQLIDL']"
   ]
  },
  {
   "cell_type": "markdown",
   "metadata": {},
   "source": [
    "This is where you can include the temperature and pH information if you have them; it also works if you leave either one out. The values shown below are the defaults."
   ]
  },
  {
   "cell_type": "code",
   "execution_count": 20,
   "metadata": {
    "ExecuteTime": {
     "end_time": "2020-10-15T18:44:40.602216Z",
     "start_time": "2020-10-15T18:44:40.453113Z"
    }
   },
   "outputs": [
    {
     "name": "stdout",
     "output_type": "stream",
     "text": [
      "Drug Target Interaction Prediction Mode...\n",
      "in total: 1 drug-target pairs\n",
      "encoding drug...\n",
      "unique drugs: 1\n",
      "encoding protein...\n",
      "unique target sequence: 1\n",
      "splitting dataset...\n",
      "do not do train/test split on the data for already splitted data\n",
      "predicting...\n",
      "Encoding:  drug2emb_encoder\n",
      "Elapsed time:  0.003998517990112305\n",
      "Encoding:  smiles2daylight\n",
      "Elapsed time:  0.011998891830444336\n",
      "Encoding:  CalculateConjointTriad\n",
      "Elapsed time:  0.01799798011779785\n",
      "Encoding:  protein2emb_encoder\n",
      "Elapsed time:  0.023006916046142578\n",
      "Estimated pIC50:  [7.0326146]\n",
      "Lower bound:  [5.75294071]\n",
      "Upper bound:  [8.18879894]\n"
     ]
    }
   ],
   "source": [
    "pred = digitalcell.model_usage(model, model2, X_drug, X_target, temp = 35, pH = 7)"
   ]
  },
  {
   "cell_type": "markdown",
   "metadata": {},
   "source": [
    "Here you can compare the performance of my best DeepPurpose model (`model`) with my best gradient boosting model (`model2`). Unfortunately, my second model isn't strictly better, but hopefully I've given you the infrastructure to iterate on my model and improve it."
   ]
  },
  {
   "cell_type": "code",
   "execution_count": 17,
   "metadata": {
    "ExecuteTime": {
     "end_time": "2020-10-15T18:41:54.062321Z",
     "start_time": "2020-10-15T18:40:32.494303Z"
    }
   },
   "outputs": [
    {
     "name": "stdout",
     "output_type": "stream",
     "text": [
      "predicting...\n",
      "Average error:  0.5759653421717266\n",
      "Fraction correct within one order of magnitude:  0.8374796434394713\n",
      "Fraction correct within two orders of magnitude:  0.9815505271289866\n",
      "Pearson's R =  (0.8725064130131689, 0.0)\n"
     ]
    },
    {
     "data": {
      "image/png": "[encoded data removed]",
      "text/plain": [
       "<Figure size 432x288 with 1 Axes>"
      ]
     },
     "metadata": {
      "needs_background": "light"
     },
     "output_type": "display_data"
    },
    {
     "data": {
      "text/plain": [
       "(None, None)"
      ]
     },
     "execution_count": 17,
     "metadata": {},
     "output_type": "execute_result"
    }
   ],
   "source": [
    "digitalcell.model_metrics(model, X_pred,y)"
   ]
  },
  {
   "cell_type": "code",
   "execution_count": 18,
   "metadata": {
    "ExecuteTime": {
     "end_time": "2020-10-15T18:41:57.398749Z",
     "start_time": "2020-10-15T18:41:55.929349Z"
    },
    "scrolled": false
   },
   "outputs": [
    {
     "name": "stdout",
     "output_type": "stream",
     "text": [
      "Average error:  0.6881187290076366\n",
      "Fraction correct within one order of magnitude:  0.7546889901452655\n",
      "Fraction correct within two orders of magnitude:  0.9839461693337167\n",
      "Pearson's R =  (0.8782765917728603, 0.0)\n"
     ]
    },
    {
     "data": {
      "image/png": "[encoded data removed]",
      "text/plain": [
       "<Figure size 432x288 with 1 Axes>"
      ]
     },
     "metadata": {
      "needs_background": "light"
     },
     "output_type": "display_data"
    }
   ],
   "source": [
    "importances, type_importance = digitalcell.model_metrics(model2, X_test, y_test, model2.typelist)"
   ]
  },
  {
   "cell_type": "markdown",
   "metadata": {},
   "source": [
    "The advantage of the Gradient Boosting model is it can also give you feature importances; the following chart tells you what information the model is weighting heavily. \"estimate\" refers to the estimate from Model 1."
   ]
  },
  {
   "cell_type": "code",
   "execution_count": 19,
   "metadata": {
    "ExecuteTime": {
     "end_time": "2020-10-15T18:41:59.284232Z",
     "start_time": "2020-10-15T18:41:59.257146Z"
    }
   },
   "outputs": [
    {
     "data": {
      "text/html": [
       "<div>\n",
       "<style scoped>\n",
       "    .dataframe tbody tr th:only-of-type {\n",
       "        vertical-align: middle;\n",
       "    }\n",
       "\n",
       "    .dataframe tbody tr th {\n",
       "        vertical-align: top;\n",
       "    }\n",
       "\n",
       "    .dataframe thead th {\n",
       "        text-align: right;\n",
       "    }\n",
       "</style>\n",
       "<table border=\"1\" class=\"dataframe\">\n",
       "  <thead>\n",
       "    <tr style=\"text-align: right;\">\n",
       "      <th></th>\n",
       "      <th>importance</th>\n",
       "    </tr>\n",
       "    <tr>\n",
       "      <th>Type</th>\n",
       "      <th></th>\n",
       "    </tr>\n",
       "  </thead>\n",
       "  <tbody>\n",
       "    <tr>\n",
       "      <th>estimate</th>\n",
       "      <td>0.995</td>\n",
       "    </tr>\n",
       "    <tr>\n",
       "      <th>protein2emb_encoder</th>\n",
       "      <td>0.005</td>\n",
       "    </tr>\n",
       "    <tr>\n",
       "      <th>CalculateConjointTriad</th>\n",
       "      <td>0.000</td>\n",
       "    </tr>\n",
       "    <tr>\n",
       "      <th>Temp</th>\n",
       "      <td>0.000</td>\n",
       "    </tr>\n",
       "    <tr>\n",
       "      <th>drug2emb_encoder</th>\n",
       "      <td>0.000</td>\n",
       "    </tr>\n",
       "    <tr>\n",
       "      <th>organism</th>\n",
       "      <td>0.000</td>\n",
       "    </tr>\n",
       "    <tr>\n",
       "      <th>pH</th>\n",
       "      <td>0.000</td>\n",
       "    </tr>\n",
       "    <tr>\n",
       "      <th>smiles2daylight</th>\n",
       "      <td>0.000</td>\n",
       "    </tr>\n",
       "  </tbody>\n",
       "</table>\n",
       "</div>"
      ],
      "text/plain": [
       "                        importance\n",
       "Type                              \n",
       "estimate                     0.995\n",
       "protein2emb_encoder          0.005\n",
       "CalculateConjointTriad       0.000\n",
       "Temp                         0.000\n",
       "drug2emb_encoder             0.000\n",
       "organism                     0.000\n",
       "pH                           0.000\n",
       "smiles2daylight              0.000"
      ]
     },
     "execution_count": 19,
     "metadata": {},
     "output_type": "execute_result"
    }
   ],
   "source": [
    "type_importance"
   ]
  },
  {
   "cell_type": "code",
   "execution_count": null,
   "metadata": {},
   "outputs": [],
   "source": []
  }
 ],
 "metadata": {
  "hide_input": false,
  "kernelspec": {
   "display_name": "Python 3",
   "language": "python",
   "name": "python3"
  },
  "latex_envs": {
   "LaTeX_envs_menu_present": true,
   "autoclose": false,
   "autocomplete": true,
   "bibliofile": "biblio.bib",
   "cite_by": "apalike",
   "current_citInitial": 1,
   "eqLabelWithNumbers": true,
   "eqNumInitial": 1,
   "hotkeys": {
    "equation": "Ctrl-E",
    "itemize": "Ctrl-I"
   },
   "labels_anchors": false,
   "latex_user_defs": false,
   "report_style_numbering": false,
   "user_envs_cfg": false
  },
  "toc": {
   "base_numbering": 1,
   "nav_menu": {},
   "number_sections": true,
   "sideBar": true,
   "skip_h1_title": false,
   "title_cell": "Table of Contents",
   "title_sidebar": "Contents",
   "toc_cell": false,
   "toc_position": {},
   "toc_section_display": true,
   "toc_window_display": false
  },
  "varInspector": {
   "cols": {
    "lenName": 16,
    "lenType": 16,
    "lenVar": 40
   },
   "kernels_config": {
    "python": {
     "delete_cmd_postfix": "",
     "delete_cmd_prefix": "del ",
     "library": "var_list.py",
     "varRefreshCmd": "print(var_dic_list())"
    },
    "r": {
     "delete_cmd_postfix": ") ",
     "delete_cmd_prefix": "rm(",
     "library": "var_list.r",
     "varRefreshCmd": "cat(var_dic_list()) "
    }
   },
   "types_to_exclude": [
    "module",
    "function",
    "builtin_function_or_method",
    "instance",
    "_Feature"
   ],
   "window_display": false
  }
 },
 "nbformat": 4,
 "nbformat_minor": 4
}
