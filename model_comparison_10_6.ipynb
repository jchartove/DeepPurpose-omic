{
 "cells": [
  {
   "cell_type": "markdown",
   "metadata": {},
   "source": [
    "This notebook demonstrates how to predict IC50 from BindingDB data using a DeepPurpose model. There's a lot of room for tweaking things here, but the model performance with minimal code and a relatively short training time is surprisingly good."
   ]
  },
  {
   "cell_type": "code",
   "execution_count": 1,
   "metadata": {
    "ExecuteTime": {
     "end_time": "2020-10-08T01:12:51.716463Z",
     "start_time": "2020-10-08T01:12:48.376584Z"
    }
   },
   "outputs": [],
   "source": [
    "import os\n",
    "\n",
    "from DeepPurpose import utils, dataset, CompoundPred\n",
    "from DeepPurpose import DTI as models\n",
    "import warnings\n",
    "warnings.filterwarnings(\"ignore\")"
   ]
  },
  {
   "cell_type": "markdown",
   "metadata": {},
   "source": [
    "# Data Importing\n",
    "\n",
    "The entirety of BindingDB is saved as a .tsv file. The function `process_BindingDB` loads it into a Pandas dataframe with three columns: drugs (SMILES format), targets (protein primary structure), and binding score (in this case IC50). The `convert_to_log` flag makes it pIC50.\n",
    "\n",
    "TODO: what are the other arguments to `process_BindingDB`?\n",
    "can I save the dataframe for easier access?"
   ]
  },
  {
   "cell_type": "code",
   "execution_count": 2,
   "metadata": {
    "ExecuteTime": {
     "end_time": "2020-10-08T01:14:51.829498Z",
     "start_time": "2020-10-08T01:13:02.362331Z"
    },
    "scrolled": true
   },
   "outputs": [
    {
     "name": "stdout",
     "output_type": "stream",
     "text": [
      "Loading Dataset from path...\n"
     ]
    },
    {
     "name": "stderr",
     "output_type": "stream",
     "text": [
      "b'Skipping line 772572: expected 193 fields, saw 205\\nSkipping line 772598: expected 193 fields, saw 205\\n'\n",
      "b'Skipping line 805291: expected 193 fields, saw 205\\n'\n",
      "b'Skipping line 827961: expected 193 fields, saw 265\\n'\n",
      "b'Skipping line 1231688: expected 193 fields, saw 241\\n'\n",
      "b'Skipping line 1345591: expected 193 fields, saw 241\\nSkipping line 1345592: expected 193 fields, saw 241\\nSkipping line 1345593: expected 193 fields, saw 241\\nSkipping line 1345594: expected 193 fields, saw 241\\nSkipping line 1345595: expected 193 fields, saw 241\\nSkipping line 1345596: expected 193 fields, saw 241\\nSkipping line 1345597: expected 193 fields, saw 241\\nSkipping line 1345598: expected 193 fields, saw 241\\nSkipping line 1345599: expected 193 fields, saw 241\\n'\n",
      "b'Skipping line 1358864: expected 193 fields, saw 205\\n'\n",
      "b'Skipping line 1378087: expected 193 fields, saw 241\\nSkipping line 1378088: expected 193 fields, saw 241\\nSkipping line 1378089: expected 193 fields, saw 241\\nSkipping line 1378090: expected 193 fields, saw 241\\nSkipping line 1378091: expected 193 fields, saw 241\\nSkipping line 1378092: expected 193 fields, saw 241\\nSkipping line 1378093: expected 193 fields, saw 241\\nSkipping line 1378094: expected 193 fields, saw 241\\nSkipping line 1378095: expected 193 fields, saw 241\\n'\n",
      "b'Skipping line 1417264: expected 193 fields, saw 205\\n'\n"
     ]
    },
    {
     "name": "stdout",
     "output_type": "stream",
     "text": [
      "Beginning Processing...\n",
      "There are 1073803 drug target pairs.\n",
      "Default set to logspace (nM -> p) for easier regression\n"
     ]
    }
   ],
   "source": [
    "data_path = './data//BindingDB_All.tsv'\n",
    "X_drugs, X_targets, y = dataset.process_BindingDB(path = data_path, df = None, y = 'IC50', binary = False, convert_to_log = True, threshold = 0)"
   ]
  },
  {
   "cell_type": "markdown",
   "metadata": {},
   "source": [
    "The cell below just shows what the data looks like."
   ]
  },
  {
   "cell_type": "code",
   "execution_count": 3,
   "metadata": {
    "ExecuteTime": {
     "end_time": "2020-10-01T00:13:55.279187Z",
     "start_time": "2020-10-01T00:13:55.266187Z"
    }
   },
   "outputs": [
    {
     "name": "stdout",
     "output_type": "stream",
     "text": [
      "Drug 1: Cc1nc(CN2CCN(CC2)c2c(Cl)cnc3[nH]c(nc23)-c2cn(C)nc2C)no1\n",
      "Target 1: MALIPDLAMETWLLLAVSLVLLYLYGTHSHGLFKKLGIPGPTPLPFLGNILSYHKGFCMFDMECHKKYGKVWGFYDGQQPVLAITDPDMIKTVLVKECYSVFTNRRPFGPVGFMKSAISIAEDEEWKRLRSLLSPTFTSGKLKEMVPIIAQYGDVLVRNLRREAETGKPVTLKDVFGAYSMDVITSTSFGVNIDSLNNPQDPFVENTKKLLRFDFLDPFFLSITVFPFLIPILEVLNICVFPREVTNFLRKSVKRMKESRLEDTQKHRVDFLQLMIDSQNSKETESHKALSDLELVAQSIIFIFAGYETTSSVLSFIMYELATHPDVQQKLQEEIDAVLPNKAPPTYDTVLQMEYLDMVVNETLRLFPIAMRLERVCKKDVEINGMFIPKGVVVMIPSYALHRDPKYWTEPEKFLPERFSKKNKDNIDPYIYTPFGSGPRNCIGMRFALMNMKLALIRVLQNFSFKPCKETQIPLKLSLGGLLQPEKPVVLKVESRDGTVSGA\n",
      "IC50 1: 4.301029127075886\n"
     ]
    }
   ],
   "source": [
    "print('Drug 1: ' + X_drugs[0])\n",
    "print('Target 1: ' + X_targets[0])\n",
    "print('IC50 1: ' + str(y[0]))"
   ]
  },
  {
   "cell_type": "markdown",
   "metadata": {},
   "source": [
    "# Drug and target encoding\n",
    "\n",
    "DeepPurpose supports several possible encodings for drugs and targets. I suspect choosing and possibly combining these will be key for feature engineering and model performance. Right now I'm using the Morgan Extended-Connectivity Fingerprints encoding for drugs and the conjoint triad features encoding for targets because they're not computationally intensive. I would like to find a way to allow models to take PaDEL features as drug encodings, which is what the gastric cancer paper did. They also encoded targets in terms of mutation position, which may not be feasible for all targets, but is probably worth looking into."
   ]
  },
  {
   "cell_type": "code",
   "execution_count": 3,
   "metadata": {
    "ExecuteTime": {
     "end_time": "2020-10-08T01:14:51.907485Z",
     "start_time": "2020-10-08T01:14:51.895488Z"
    }
   },
   "outputs": [],
   "source": [
    "drug_encoding = 'MPNN'\n",
    "target_encoding = 'CNN_RNN'"
   ]
  },
  {
   "cell_type": "markdown",
   "metadata": {},
   "source": [
    "The following cell splits the data into training and testing sets. I think these numbers are probably fine, but maybe there's a way to improve on them. One thing to note is that for some reason RDKit (the biochemistry library) has trouble translating some of the SMILES data (~500 drugs) into Morgan format, so I might want to look into fixing that. That's only a small fraction of the drugs in the training data, though.\n",
    "\n",
    "TODO: look into `split_method` options,\n",
    "i would also like to save the training and testing data sets since this step takes a while"
   ]
  },
  {
   "cell_type": "code",
   "execution_count": 4,
   "metadata": {
    "ExecuteTime": {
     "end_time": "2020-10-08T01:53:42.476184Z",
     "start_time": "2020-10-08T01:14:51.942488Z"
    },
    "code_folding": [],
    "run_control": {
     "marked": false
    },
    "scrolled": true
   },
   "outputs": [
    {
     "name": "stdout",
     "output_type": "stream",
     "text": [
      "Drug Target Interaction Prediction Mode...\n",
      "in total: 1073803 drug-target pairs\n",
      "encoding drug...\n",
      "unique drugs: 549205\n",
      "Molecules not found and change to zero vectors..\n",
      "Molecules not found and change to zero vectors..\n",
      "Molecules not found and change to zero vectors..\n",
      "Molecules not found and change to zero vectors..\n",
      "Molecules not found and change to zero vectors..\n",
      "Molecules not found and change to zero vectors..\n",
      "Molecules not found and change to zero vectors..\n",
      "Molecules not found and change to zero vectors..\n",
      "Molecules not found and change to zero vectors..\n",
      "Molecules not found and change to zero vectors..\n",
      "Molecules not found and change to zero vectors..\n",
      "Molecules not found and change to zero vectors..\n",
      "Molecules not found and change to zero vectors..\n",
      "Molecules not found and change to zero vectors..\n",
      "Molecules not found and change to zero vectors..\n",
      "Molecules not found and change to zero vectors..\n",
      "Molecules not found and change to zero vectors..\n",
      "Molecules not found and change to zero vectors..\n",
      "Molecules not found and change to zero vectors..\n",
      "Molecules not found and change to zero vectors..\n",
      "Molecules not found and change to zero vectors..\n",
      "Molecules not found and change to zero vectors..\n",
      "Molecules not found and change to zero vectors..\n",
      "Molecules not found and change to zero vectors..\n",
      "Molecules not found and change to zero vectors..\n",
      "Molecules not found and change to zero vectors..\n",
      "Molecules not found and change to zero vectors..\n",
      "Molecules not found and change to zero vectors..\n",
      "Molecules not found and change to zero vectors..\n",
      "Molecules not found and change to zero vectors..\n",
      "Molecules not found and change to zero vectors..\n",
      "Molecules not found and change to zero vectors..\n",
      "Molecules not found and change to zero vectors..\n",
      "Molecules not found and change to zero vectors..\n",
      "Molecules not found and change to zero vectors..\n",
      "Molecules not found and change to zero vectors..\n",
      "Molecules not found and change to zero vectors..\n",
      "Molecules not found and change to zero vectors..\n",
      "Molecules not found and change to zero vectors..\n",
      "Molecules not found and change to zero vectors..\n",
      "Molecules not found and change to zero vectors..\n",
      "Molecules not found and change to zero vectors..\n",
      "Molecules not found and change to zero vectors..\n",
      "Molecules not found and change to zero vectors..\n",
      "Molecules not found and change to zero vectors..\n",
      "Molecules not found and change to zero vectors..\n",
      "Molecules not found and change to zero vectors..\n",
      "Molecules not found and change to zero vectors..\n",
      "Molecules not found and change to zero vectors..\n",
      "Molecules not found and change to zero vectors..\n",
      "Molecules not found and change to zero vectors..\n",
      "Molecules not found and change to zero vectors..\n",
      "Molecules not found and change to zero vectors..\n",
      "Molecules not found and change to zero vectors..\n",
      "Molecules not found and change to zero vectors..\n",
      "Molecules not found and change to zero vectors..\n",
      "Molecules not found and change to zero vectors..\n",
      "Molecules not found and change to zero vectors..\n",
      "Molecules not found and change to zero vectors..\n",
      "Molecules not found and change to zero vectors..\n",
      "Molecules not found and change to zero vectors..\n",
      "Molecules not found and change to zero vectors..\n",
      "Molecules not found and change to zero vectors..\n",
      "Molecules not found and change to zero vectors..\n",
      "Molecules not found and change to zero vectors..\n",
      "Molecules not found and change to zero vectors..\n",
      "Molecules not found and change to zero vectors..\n",
      "Molecules not found and change to zero vectors..\n",
      "Molecules not found and change to zero vectors..\n",
      "Molecules not found and change to zero vectors..\n",
      "Molecules not found and change to zero vectors..\n",
      "Molecules not found and change to zero vectors..\n",
      "Molecules not found and change to zero vectors..\n",
      "Molecules not found and change to zero vectors..\n",
      "Molecules not found and change to zero vectors..\n",
      "Molecules not found and change to zero vectors..\n",
      "Molecules not found and change to zero vectors..\n",
      "Molecules not found and change to zero vectors..\n",
      "Molecules not found and change to zero vectors..\n",
      "Molecules not found and change to zero vectors..\n",
      "Molecules not found and change to zero vectors..\n",
      "Molecules not found and change to zero vectors..\n",
      "Molecules not found and change to zero vectors..\n",
      "Molecules not found and change to zero vectors..\n",
      "Molecules not found and change to zero vectors..\n",
      "Molecules not found and change to zero vectors..\n",
      "Molecules not found and change to zero vectors..\n",
      "Molecules not found and change to zero vectors..\n",
      "Molecules not found and change to zero vectors..\n",
      "Molecules not found and change to zero vectors..\n",
      "Molecules not found and change to zero vectors..\n",
      "Molecules not found and change to zero vectors..\n",
      "Molecules not found and change to zero vectors..\n",
      "Molecules not found and change to zero vectors..\n",
      "Molecules not found and change to zero vectors..\n",
      "Molecules not found and change to zero vectors..\n",
      "Molecules not found and change to zero vectors..\n",
      "Molecules not found and change to zero vectors..\n",
      "Molecules not found and change to zero vectors..\n",
      "Molecules not found and change to zero vectors..\n",
      "Molecules not found and change to zero vectors..\n",
      "Molecules not found and change to zero vectors..\n",
      "Molecules not found and change to zero vectors..\n",
      "Molecules not found and change to zero vectors..\n",
      "Molecules not found and change to zero vectors..\n",
      "Molecules not found and change to zero vectors..\n",
      "Molecules not found and change to zero vectors..\n",
      "Molecules not found and change to zero vectors..\n",
      "Molecules not found and change to zero vectors..\n",
      "Molecules not found and change to zero vectors..\n",
      "Molecules not found and change to zero vectors..\n",
      "Molecules not found and change to zero vectors..\n",
      "Molecules not found and change to zero vectors..\n",
      "Molecules not found and change to zero vectors..\n",
      "Molecules not found and change to zero vectors..\n",
      "Molecules not found and change to zero vectors..\n",
      "Molecules not found and change to zero vectors..\n",
      "Molecules not found and change to zero vectors..\n",
      "Molecules not found and change to zero vectors..\n",
      "Molecules not found and change to zero vectors..\n",
      "Molecules not found and change to zero vectors..\n",
      "Molecules not found and change to zero vectors..\n",
      "Molecules not found and change to zero vectors..\n",
      "Molecules not found and change to zero vectors..\n",
      "Molecules not found and change to zero vectors..\n",
      "Molecules not found and change to zero vectors..\n",
      "Molecules not found and change to zero vectors..\n",
      "Molecules not found and change to zero vectors..\n",
      "Molecules not found and change to zero vectors..\n",
      "Molecules not found and change to zero vectors..\n",
      "Molecules not found and change to zero vectors..\n",
      "Molecules not found and change to zero vectors..\n",
      "Molecules not found and change to zero vectors..\n",
      "Molecules not found and change to zero vectors..\n",
      "Molecules not found and change to zero vectors..\n",
      "Molecules not found and change to zero vectors..\n",
      "Molecules not found and change to zero vectors..\n",
      "Molecules not found and change to zero vectors..\n",
      "Molecules not found and change to zero vectors..\n",
      "Molecules not found and change to zero vectors..\n",
      "Molecules not found and change to zero vectors..\n",
      "Molecules not found and change to zero vectors..\n",
      "Molecules not found and change to zero vectors..\n",
      "Molecules not found and change to zero vectors..\n",
      "Molecules not found and change to zero vectors..\n",
      "Molecules not found and change to zero vectors..\n",
      "Molecules not found and change to zero vectors..\n",
      "Molecules not found and change to zero vectors..\n",
      "Molecules not found and change to zero vectors..\n",
      "Molecules not found and change to zero vectors..\n",
      "Molecules not found and change to zero vectors..\n",
      "Molecules not found and change to zero vectors..\n",
      "Molecules not found and change to zero vectors..\n",
      "Molecules not found and change to zero vectors..\n",
      "Molecules not found and change to zero vectors..\n",
      "Molecules not found and change to zero vectors..\n",
      "Molecules not found and change to zero vectors..\n",
      "Molecules not found and change to zero vectors..\n",
      "Molecules not found and change to zero vectors..\n",
      "Molecules not found and change to zero vectors..\n",
      "Molecules not found and change to zero vectors..\n",
      "Molecules not found and change to zero vectors..\n",
      "Molecules not found and change to zero vectors..\n",
      "Molecules not found and change to zero vectors..\n",
      "Molecules not found and change to zero vectors..\n"
     ]
    },
    {
     "name": "stdout",
     "output_type": "stream",
     "text": [
      "Molecules not found and change to zero vectors..\n",
      "Molecules not found and change to zero vectors..\n",
      "Molecules not found and change to zero vectors..\n",
      "Molecules not found and change to zero vectors..\n",
      "Molecules not found and change to zero vectors..\n",
      "Molecules not found and change to zero vectors..\n",
      "Molecules not found and change to zero vectors..\n",
      "Molecules not found and change to zero vectors..\n",
      "Molecules not found and change to zero vectors..\n",
      "Molecules not found and change to zero vectors..\n",
      "Molecules not found and change to zero vectors..\n",
      "Molecules not found and change to zero vectors..\n",
      "Molecules not found and change to zero vectors..\n",
      "Molecules not found and change to zero vectors..\n",
      "Molecules not found and change to zero vectors..\n",
      "Molecules not found and change to zero vectors..\n",
      "Molecules not found and change to zero vectors..\n",
      "Molecules not found and change to zero vectors..\n",
      "Molecules not found and change to zero vectors..\n",
      "Molecules not found and change to zero vectors..\n",
      "Molecules not found and change to zero vectors..\n",
      "Molecules not found and change to zero vectors..\n",
      "Molecules not found and change to zero vectors..\n",
      "Molecules not found and change to zero vectors..\n",
      "Molecules not found and change to zero vectors..\n",
      "Molecules not found and change to zero vectors..\n",
      "Molecules not found and change to zero vectors..\n",
      "Molecules not found and change to zero vectors..\n",
      "Molecules not found and change to zero vectors..\n",
      "Molecules not found and change to zero vectors..\n",
      "Molecules not found and change to zero vectors..\n",
      "Molecules not found and change to zero vectors..\n",
      "Molecules not found and change to zero vectors..\n",
      "Molecules not found and change to zero vectors..\n",
      "Molecules not found and change to zero vectors..\n",
      "Molecules not found and change to zero vectors..\n",
      "Molecules not found and change to zero vectors..\n",
      "Molecules not found and change to zero vectors..\n",
      "Molecules not found and change to zero vectors..\n",
      "Molecules not found and change to zero vectors..\n",
      "Molecules not found and change to zero vectors..\n",
      "Molecules not found and change to zero vectors..\n",
      "Molecules not found and change to zero vectors..\n",
      "Molecules not found and change to zero vectors..\n",
      "Molecules not found and change to zero vectors..\n",
      "Molecules not found and change to zero vectors..\n",
      "Molecules not found and change to zero vectors..\n",
      "Molecules not found and change to zero vectors..\n",
      "Molecules not found and change to zero vectors..\n",
      "Molecules not found and change to zero vectors..\n",
      "Molecules not found and change to zero vectors..\n",
      "Molecules not found and change to zero vectors..\n",
      "Molecules not found and change to zero vectors..\n",
      "Molecules not found and change to zero vectors..\n",
      "Molecules not found and change to zero vectors..\n",
      "Molecules not found and change to zero vectors..\n",
      "Molecules not found and change to zero vectors..\n",
      "Molecules not found and change to zero vectors..\n",
      "Molecules not found and change to zero vectors..\n",
      "Molecules not found and change to zero vectors..\n",
      "Molecules not found and change to zero vectors..\n",
      "Molecules not found and change to zero vectors..\n",
      "Molecules not found and change to zero vectors..\n",
      "Molecules not found and change to zero vectors..\n",
      "Molecules not found and change to zero vectors..\n",
      "Molecules not found and change to zero vectors..\n",
      "Molecules not found and change to zero vectors..\n",
      "Molecules not found and change to zero vectors..\n",
      "Molecules not found and change to zero vectors..\n",
      "Molecules not found and change to zero vectors..\n",
      "Molecules not found and change to zero vectors..\n",
      "Molecules not found and change to zero vectors..\n",
      "Molecules not found and change to zero vectors..\n",
      "Molecules not found and change to zero vectors..\n",
      "Molecules not found and change to zero vectors..\n",
      "Molecules not found and change to zero vectors..\n",
      "Molecules not found and change to zero vectors..\n",
      "Molecules not found and change to zero vectors..\n",
      "Molecules not found and change to zero vectors..\n",
      "Molecules not found and change to zero vectors..\n",
      "Molecules not found and change to zero vectors..\n",
      "Molecules not found and change to zero vectors..\n",
      "Molecules not found and change to zero vectors..\n",
      "Molecules not found and change to zero vectors..\n",
      "Molecules not found and change to zero vectors..\n",
      "Molecules not found and change to zero vectors..\n",
      "Molecules not found and change to zero vectors..\n",
      "Molecules not found and change to zero vectors..\n",
      "Molecules not found and change to zero vectors..\n",
      "Molecules not found and change to zero vectors..\n",
      "Molecules not found and change to zero vectors..\n",
      "Molecules not found and change to zero vectors..\n",
      "Molecules not found and change to zero vectors..\n",
      "Molecules not found and change to zero vectors..\n",
      "Molecules not found and change to zero vectors..\n",
      "Molecules not found and change to zero vectors..\n",
      "Molecules not found and change to zero vectors..\n",
      "Molecules not found and change to zero vectors..\n",
      "Molecules not found and change to zero vectors..\n",
      "Molecules not found and change to zero vectors..\n",
      "Molecules not found and change to zero vectors..\n",
      "Molecules not found and change to zero vectors..\n",
      "Molecules not found and change to zero vectors..\n",
      "Molecules not found and change to zero vectors..\n",
      "Molecules not found and change to zero vectors..\n",
      "Molecules not found and change to zero vectors..\n",
      "Molecules not found and change to zero vectors..\n",
      "Molecules not found and change to zero vectors..\n",
      "Molecules not found and change to zero vectors..\n",
      "Molecules not found and change to zero vectors..\n",
      "Molecules not found and change to zero vectors..\n",
      "Molecules not found and change to zero vectors..\n",
      "Molecules not found and change to zero vectors..\n",
      "Molecules not found and change to zero vectors..\n",
      "Molecules not found and change to zero vectors..\n",
      "Molecules not found and change to zero vectors..\n",
      "Molecules not found and change to zero vectors..\n",
      "Molecules not found and change to zero vectors..\n",
      "Molecules not found and change to zero vectors..\n",
      "Molecules not found and change to zero vectors..\n",
      "Molecules not found and change to zero vectors..\n",
      "Molecules not found and change to zero vectors..\n",
      "Molecules not found and change to zero vectors..\n",
      "Molecules not found and change to zero vectors..\n",
      "Molecules not found and change to zero vectors..\n",
      "Molecules not found and change to zero vectors..\n",
      "Molecules not found and change to zero vectors..\n",
      "Molecules not found and change to zero vectors..\n",
      "Molecules not found and change to zero vectors..\n",
      "Molecules not found and change to zero vectors..\n",
      "Molecules not found and change to zero vectors..\n",
      "Molecules not found and change to zero vectors..\n",
      "Molecules not found and change to zero vectors..\n",
      "Molecules not found and change to zero vectors..\n",
      "Molecules not found and change to zero vectors..\n",
      "Molecules not found and change to zero vectors..\n",
      "Molecules not found and change to zero vectors..\n",
      "Molecules not found and change to zero vectors..\n",
      "Molecules not found and change to zero vectors..\n",
      "Molecules not found and change to zero vectors..\n",
      "Molecules not found and change to zero vectors..\n",
      "Molecules not found and change to zero vectors..\n",
      "Molecules not found and change to zero vectors..\n",
      "Molecules not found and change to zero vectors..\n",
      "Molecules not found and change to zero vectors..\n",
      "Molecules not found and change to zero vectors..\n",
      "Molecules not found and change to zero vectors..\n",
      "Molecules not found and change to zero vectors..\n",
      "Molecules not found and change to zero vectors..\n",
      "Molecules not found and change to zero vectors..\n",
      "Molecules not found and change to zero vectors..\n",
      "Molecules not found and change to zero vectors..\n",
      "Molecules not found and change to zero vectors..\n",
      "Molecules not found and change to zero vectors..\n",
      "Molecules not found and change to zero vectors..\n",
      "Molecules not found and change to zero vectors..\n",
      "Molecules not found and change to zero vectors..\n",
      "Molecules not found and change to zero vectors..\n",
      "Molecules not found and change to zero vectors..\n",
      "Molecules not found and change to zero vectors..\n",
      "Molecules not found and change to zero vectors..\n",
      "Molecules not found and change to zero vectors..\n",
      "Molecules not found and change to zero vectors..\n",
      "Molecules not found and change to zero vectors..\n",
      "Molecules not found and change to zero vectors..\n",
      "Molecules not found and change to zero vectors..\n",
      "Molecules not found and change to zero vectors..\n",
      "Molecules not found and change to zero vectors..\n"
     ]
    },
    {
     "name": "stdout",
     "output_type": "stream",
     "text": [
      "Molecules not found and change to zero vectors..\n",
      "Molecules not found and change to zero vectors..\n",
      "Molecules not found and change to zero vectors..\n",
      "Molecules not found and change to zero vectors..\n",
      "Molecules not found and change to zero vectors..\n",
      "Molecules not found and change to zero vectors..\n",
      "Molecules not found and change to zero vectors..\n",
      "Molecules not found and change to zero vectors..\n",
      "Molecules not found and change to zero vectors..\n",
      "Molecules not found and change to zero vectors..\n",
      "Molecules not found and change to zero vectors..\n",
      "Molecules not found and change to zero vectors..\n",
      "Molecules not found and change to zero vectors..\n",
      "Molecules not found and change to zero vectors..\n",
      "Molecules not found and change to zero vectors..\n",
      "Molecules not found and change to zero vectors..\n",
      "Molecules not found and change to zero vectors..\n",
      "Molecules not found and change to zero vectors..\n",
      "Molecules not found and change to zero vectors..\n",
      "Molecules not found and change to zero vectors..\n",
      "Molecules not found and change to zero vectors..\n",
      "Molecules not found and change to zero vectors..\n",
      "Molecules not found and change to zero vectors..\n",
      "Molecules not found and change to zero vectors..\n",
      "Molecules not found and change to zero vectors..\n",
      "Molecules not found and change to zero vectors..\n",
      "Molecules not found and change to zero vectors..\n",
      "Molecules not found and change to zero vectors..\n",
      "Molecules not found and change to zero vectors..\n",
      "Molecules not found and change to zero vectors..\n",
      "Molecules not found and change to zero vectors..\n",
      "Molecules not found and change to zero vectors..\n",
      "Molecules not found and change to zero vectors..\n",
      "Molecules not found and change to zero vectors..\n",
      "Molecules not found and change to zero vectors..\n",
      "Molecules not found and change to zero vectors..\n",
      "Molecules not found and change to zero vectors..\n",
      "Molecules not found and change to zero vectors..\n",
      "Molecules not found and change to zero vectors..\n",
      "Molecules not found and change to zero vectors..\n",
      "Molecules not found and change to zero vectors..\n",
      "Molecules not found and change to zero vectors..\n",
      "Molecules not found and change to zero vectors..\n",
      "Molecules not found and change to zero vectors..\n",
      "Molecules not found and change to zero vectors..\n",
      "Molecules not found and change to zero vectors..\n",
      "Molecules not found and change to zero vectors..\n",
      "Molecules not found and change to zero vectors..\n",
      "Molecules not found and change to zero vectors..\n",
      "Molecules not found and change to zero vectors..\n",
      "Molecules not found and change to zero vectors..\n",
      "Molecules not found and change to zero vectors..\n",
      "Molecules not found and change to zero vectors..\n",
      "Molecules not found and change to zero vectors..\n",
      "Molecules not found and change to zero vectors..\n",
      "Molecules not found and change to zero vectors..\n",
      "Molecules not found and change to zero vectors..\n",
      "Molecules not found and change to zero vectors..\n",
      "Molecules not found and change to zero vectors..\n",
      "Molecules not found and change to zero vectors..\n",
      "Molecules not found and change to zero vectors..\n",
      "Molecules not found and change to zero vectors..\n",
      "Molecules not found and change to zero vectors..\n",
      "Molecules not found and change to zero vectors..\n",
      "Molecules not found and change to zero vectors..\n",
      "Molecules not found and change to zero vectors..\n",
      "Molecules not found and change to zero vectors..\n",
      "Molecules not found and change to zero vectors..\n",
      "Molecules not found and change to zero vectors..\n",
      "Molecules not found and change to zero vectors..\n",
      "Molecules not found and change to zero vectors..\n",
      "Molecules not found and change to zero vectors..\n",
      "Molecules not found and change to zero vectors..\n",
      "Molecules not found and change to zero vectors..\n",
      "Molecules not found and change to zero vectors..\n",
      "Molecules not found and change to zero vectors..\n",
      "Molecules not found and change to zero vectors..\n",
      "Molecules not found and change to zero vectors..\n",
      "Molecules not found and change to zero vectors..\n",
      "Molecules not found and change to zero vectors..\n",
      "Molecules not found and change to zero vectors..\n",
      "Molecules not found and change to zero vectors..\n",
      "Molecules not found and change to zero vectors..\n",
      "Molecules not found and change to zero vectors..\n",
      "Molecules not found and change to zero vectors..\n",
      "Molecules not found and change to zero vectors..\n",
      "Molecules not found and change to zero vectors..\n",
      "Molecules not found and change to zero vectors..\n",
      "Molecules not found and change to zero vectors..\n",
      "Molecules not found and change to zero vectors..\n",
      "Molecules not found and change to zero vectors..\n",
      "Molecules not found and change to zero vectors..\n",
      "Molecules not found and change to zero vectors..\n",
      "Molecules not found and change to zero vectors..\n",
      "Molecules not found and change to zero vectors..\n",
      "Molecules not found and change to zero vectors..\n",
      "Molecules not found and change to zero vectors..\n",
      "Molecules not found and change to zero vectors..\n",
      "Molecules not found and change to zero vectors..\n",
      "Molecules not found and change to zero vectors..\n",
      "Molecules not found and change to zero vectors..\n",
      "Molecules not found and change to zero vectors..\n",
      "Molecules not found and change to zero vectors..\n",
      "Molecules not found and change to zero vectors..\n",
      "Molecules not found and change to zero vectors..\n",
      "Molecules not found and change to zero vectors..\n",
      "Molecules not found and change to zero vectors..\n",
      "Molecules not found and change to zero vectors..\n",
      "Molecules not found and change to zero vectors..\n",
      "Molecules not found and change to zero vectors..\n",
      "Molecules not found and change to zero vectors..\n",
      "encoding protein...\n",
      "unique target sequence: 5078\n",
      "splitting dataset...\n",
      "Done.\n"
     ]
    }
   ],
   "source": [
    "train, val, test = utils.data_process(X_drugs, X_targets, y, \n",
    "                                drug_encoding, target_encoding, \n",
    "                                split_method='random',frac=[0.7,0.1,0.2])"
   ]
  },
  {
   "cell_type": "markdown",
   "metadata": {},
   "source": [
    "# Model configuration\n",
    "\n",
    "DeepPurpose's model configuration utility is a wrapper for generating neural networks using PyTorch. The list of options for hyperparameters is [here](https://github.com/kexinhuang12345/DeepPurpose/blob/e169e2f550694145077bb2af95a4031abe400a77/DeepPurpose/utils.py#L486). Several types of model architecture are supported including CNNs, RNNs, MPNNs, MLPs, and transformers. I think there is a lot of potential work to be done on hyperparameter optimization here. The hyperparameters used below are suggested defaults that aren't too computationally intensive; they produce a 3 layer MPNN. I would also like to incorporate some models that don't utilize deep learning, as I think with proper input feature engineering we may be able to get good performance with an SVM or ridge regressor, and it would be nice to have a more interpretable model for comparison. "
   ]
  },
  {
   "cell_type": "code",
   "execution_count": 10,
   "metadata": {
    "ExecuteTime": {
     "end_time": "2020-10-07T15:51:32.944243Z",
     "start_time": "2020-10-07T15:31:29.802795Z"
    }
   },
   "outputs": [
    {
     "ename": "MemoryError",
     "evalue": "",
     "output_type": "error",
     "traceback": [
      "\u001b[1;31m---------------------------------------------------------------------------\u001b[0m",
      "\u001b[1;31mMemoryError\u001b[0m                               Traceback (most recent call last)",
      "\u001b[1;32m<ipython-input-10-0d37516838b8>\u001b[0m in \u001b[0;36m<module>\u001b[1;34m\u001b[0m\n\u001b[0;32m      5\u001b[0m \u001b[1;31m# Saving the objects:\u001b[0m\u001b[1;33m\u001b[0m\u001b[1;33m\u001b[0m\u001b[1;33m\u001b[0m\u001b[0m\n\u001b[0;32m      6\u001b[0m \u001b[1;32mwith\u001b[0m \u001b[0mopen\u001b[0m\u001b[1;33m(\u001b[0m\u001b[1;34m'trainmpnn.pkl'\u001b[0m\u001b[1;33m,\u001b[0m \u001b[1;34m'wb'\u001b[0m\u001b[1;33m)\u001b[0m \u001b[1;32mas\u001b[0m \u001b[0mf\u001b[0m\u001b[1;33m:\u001b[0m  \u001b[1;31m# Python 3: open(..., 'wb')\u001b[0m\u001b[1;33m\u001b[0m\u001b[1;33m\u001b[0m\u001b[0m\n\u001b[1;32m----> 7\u001b[1;33m     \u001b[0mpickle\u001b[0m\u001b[1;33m.\u001b[0m\u001b[0mdump\u001b[0m\u001b[1;33m(\u001b[0m\u001b[1;33m[\u001b[0m\u001b[0mtrain\u001b[0m\u001b[1;33m,\u001b[0m\u001b[0mval\u001b[0m\u001b[1;33m,\u001b[0m\u001b[0mtest\u001b[0m\u001b[1;33m]\u001b[0m\u001b[1;33m,\u001b[0m \u001b[0mf\u001b[0m\u001b[1;33m)\u001b[0m\u001b[1;33m\u001b[0m\u001b[1;33m\u001b[0m\u001b[0m\n\u001b[0m",
      "\u001b[1;31mMemoryError\u001b[0m: "
     ]
    }
   ],
   "source": [
    "import pickle\n",
    "\n",
    "# obj0, obj1, obj2 are created here...\n",
    "\n",
    "# Saving the objects:\n",
    "with open('trainmpnn.pkl', 'wb') as f:  # Python 3: open(..., 'wb')\n",
    "    pickle.dump([train,val,test], f)"
   ]
  },
  {
   "cell_type": "code",
   "execution_count": 5,
   "metadata": {
    "ExecuteTime": {
     "end_time": "2020-10-08T01:54:18.897175Z",
     "start_time": "2020-10-08T01:54:18.886171Z"
    }
   },
   "outputs": [],
   "source": [
    "config = utils.generate_config(drug_encoding = drug_encoding, \n",
    "                         target_encoding = target_encoding, \n",
    "                         cls_hidden_dims = [1024,1024,512], \n",
    "                         train_epoch = 1, \n",
    "                         LR = 0.001, \n",
    "                         batch_size = 128,\n",
    "                         #cnn_target_filters = [32,64,96],\n",
    "                         #cnn_target_kernels = [4,8,12]\n",
    "                         hidden_dim_drug = 128,\n",
    "                         mpnn_hidden_size = 128,\n",
    "                         mpnn_depth = 3\n",
    "                        )"
   ]
  },
  {
   "cell_type": "code",
   "execution_count": 6,
   "metadata": {
    "ExecuteTime": {
     "end_time": "2020-10-08T01:54:54.887170Z",
     "start_time": "2020-10-08T01:54:54.560171Z"
    }
   },
   "outputs": [],
   "source": [
    "model = models.model_initialize(**config)"
   ]
  },
  {
   "cell_type": "markdown",
   "metadata": {},
   "source": [
    "# Model training and loading\n",
    "\n",
    "Using the hyperparameters above, the model takes about 1.5 hours to train on BindingDB. For demo purposes I'm going to just load a model I trained earlier today, but I used the exact same code as above."
   ]
  },
  {
   "cell_type": "code",
   "execution_count": 8,
   "metadata": {
    "ExecuteTime": {
     "end_time": "2020-10-07T23:24:30.028955Z",
     "start_time": "2020-10-07T23:24:28.135496Z"
    }
   },
   "outputs": [],
   "source": [
    "import torch\n",
    "import gc\n",
    "torch.cuda.empty_cache()\n",
    "\n",
    "learn = None\n",
    "gc.collect()\n",
    "torch.cuda.empty_cache()"
   ]
  },
  {
   "cell_type": "code",
   "execution_count": 4,
   "metadata": {
    "ExecuteTime": {
     "end_time": "2020-10-07T23:59:39.287866Z",
     "start_time": "2020-10-07T23:59:38.671431Z"
    }
   },
   "outputs": [],
   "source": [
    "import numba.cuda as cu\n",
    "dev = cu.select_device(0) # or which ever GPU ID\n",
    "#dev.reset()"
   ]
  },
  {
   "cell_type": "code",
   "execution_count": 2,
   "metadata": {
    "ExecuteTime": {
     "end_time": "2020-10-08T00:20:57.333723Z",
     "start_time": "2020-10-08T00:20:57.314713Z"
    }
   },
   "outputs": [
    {
     "data": {
      "text/plain": [
       "1"
      ]
     },
     "execution_count": 2,
     "metadata": {},
     "output_type": "execute_result"
    }
   ],
   "source": [
    "import torch\n",
    "torch.cuda.device_count()"
   ]
  },
  {
   "cell_type": "code",
   "execution_count": 6,
   "metadata": {
    "ExecuteTime": {
     "end_time": "2020-10-08T00:00:55.356706Z",
     "start_time": "2020-10-08T00:00:55.197718Z"
    }
   },
   "outputs": [
    {
     "ename": "AttributeError",
     "evalue": "module 'torch._C' has no attribute '_cuda_getDriverVersion'",
     "output_type": "error",
     "traceback": [
      "\u001b[1;31m---------------------------------------------------------------------------\u001b[0m",
      "\u001b[1;31mAttributeError\u001b[0m                            Traceback (most recent call last)",
      "\u001b[1;32m<ipython-input-6-3ed9a7d50c68>\u001b[0m in \u001b[0;36m<module>\u001b[1;34m\u001b[0m\n\u001b[0;32m      1\u001b[0m \u001b[0mCUDA_VISIBLE_DEVICES\u001b[0m\u001b[1;33m=\u001b[0m\u001b[1;36m0\u001b[0m\u001b[1;33m\u001b[0m\u001b[1;33m\u001b[0m\u001b[0m\n\u001b[0;32m      2\u001b[0m \u001b[0mtorch\u001b[0m\u001b[1;33m.\u001b[0m\u001b[0mcuda\u001b[0m\u001b[1;33m.\u001b[0m\u001b[0mdevice_count\u001b[0m\u001b[1;33m(\u001b[0m\u001b[1;33m)\u001b[0m\u001b[1;33m\u001b[0m\u001b[1;33m\u001b[0m\u001b[0m\n\u001b[1;32m----> 3\u001b[1;33m \u001b[0mtorch\u001b[0m\u001b[1;33m.\u001b[0m\u001b[0m_C\u001b[0m\u001b[1;33m.\u001b[0m\u001b[0m_cuda_getDriverVersion\u001b[0m\u001b[1;33m(\u001b[0m\u001b[1;33m)\u001b[0m\u001b[1;33m\u001b[0m\u001b[1;33m\u001b[0m\u001b[0m\n\u001b[0m",
      "\u001b[1;31mAttributeError\u001b[0m: module 'torch._C' has no attribute '_cuda_getDriverVersion'"
     ]
    }
   ],
   "source": [
    "CUDA_VISIBLE_DEVICES=0\n",
    "torch.cuda.device_count()\n",
    "torch._C._cuda_getDriverVersion()"
   ]
  },
  {
   "cell_type": "code",
   "execution_count": 7,
   "metadata": {
    "ExecuteTime": {
     "end_time": "2020-10-08T12:44:15.768780Z",
     "start_time": "2020-10-08T01:55:30.398171Z"
    }
   },
   "outputs": [
    {
     "name": "stdout",
     "output_type": "stream",
     "text": [
      "Let's use CPU/s!\n",
      "--- Data Preparation ---\n",
      "--- Go for Training ---\n",
      "Training at Epoch 1 iteration 0 with loss 41.7884. Total time 0.00666 hours\n",
      "Training at Epoch 1 iteration 100 with loss 2.24428. Total time 0.69305 hours\n",
      "Training at Epoch 1 iteration 200 with loss 2.25886. Total time 1.56361 hours\n",
      "Training at Epoch 1 iteration 300 with loss 2.66207. Total time 2.52416 hours\n",
      "Training at Epoch 1 iteration 400 with loss 1.95117. Total time 3.56166 hours\n",
      "Training at Epoch 1 iteration 500 with loss 2.06245. Total time 4.68166 hours\n",
      "Training at Epoch 1 iteration 600 with loss 3.83481. Total time 5.8375 hours\n",
      "Training at Epoch 1 iteration 700 with loss 1.92898. Total time 7.08027 hours\n",
      "Training at Epoch 1 iteration 800 with loss 2.47401. Total time 8.35694 hours\n",
      "Training at Epoch 1 iteration 900 with loss 2.36830. Total time 9.65055 hours\n"
     ]
    },
    {
     "ename": "KeyboardInterrupt",
     "evalue": "",
     "output_type": "error",
     "traceback": [
      "\u001b[1;31m---------------------------------------------------------------------------\u001b[0m",
      "\u001b[1;31mKeyboardInterrupt\u001b[0m                         Traceback (most recent call last)",
      "\u001b[1;32m<ipython-input-7-4b0b86df22a4>\u001b[0m in \u001b[0;36m<module>\u001b[1;34m\u001b[0m\n\u001b[0;32m      1\u001b[0m \u001b[1;31m#run this if you want to train a new one\u001b[0m\u001b[1;33m\u001b[0m\u001b[1;33m\u001b[0m\u001b[1;33m\u001b[0m\u001b[0m\n\u001b[1;32m----> 2\u001b[1;33m \u001b[0mmodel\u001b[0m\u001b[1;33m.\u001b[0m\u001b[0mtrain\u001b[0m\u001b[1;33m(\u001b[0m\u001b[0mtrain\u001b[0m\u001b[1;33m,\u001b[0m \u001b[0mval\u001b[0m\u001b[1;33m,\u001b[0m \u001b[0mtest\u001b[0m\u001b[1;33m,\u001b[0m \u001b[0mverbose\u001b[0m \u001b[1;33m=\u001b[0m \u001b[1;32mTrue\u001b[0m\u001b[1;33m)\u001b[0m\u001b[1;33m\u001b[0m\u001b[1;33m\u001b[0m\u001b[0m\n\u001b[0m\u001b[0;32m      3\u001b[0m \u001b[0mmodel\u001b[0m\u001b[1;33m.\u001b[0m\u001b[0msave_model\u001b[0m\u001b[1;33m(\u001b[0m\u001b[1;34m'./model-10-6-mpnn'\u001b[0m\u001b[1;33m)\u001b[0m\u001b[1;33m\u001b[0m\u001b[1;33m\u001b[0m\u001b[0m\n",
      "\u001b[1;32m~\\Dropbox\\Work\\insight\\omic\\DeepPurpose-omic\\DeepPurpose\\DTI.py\u001b[0m in \u001b[0;36mtrain\u001b[1;34m(self, train, val, test, verbose)\u001b[0m\n\u001b[0;32m    418\u001b[0m \u001b[1;33m\u001b[0m\u001b[0m\n\u001b[0;32m    419\u001b[0m                                 \u001b[0mopt\u001b[0m\u001b[1;33m.\u001b[0m\u001b[0mzero_grad\u001b[0m\u001b[1;33m(\u001b[0m\u001b[1;33m)\u001b[0m\u001b[1;33m\u001b[0m\u001b[1;33m\u001b[0m\u001b[0m\n\u001b[1;32m--> 420\u001b[1;33m                                 \u001b[0mloss\u001b[0m\u001b[1;33m.\u001b[0m\u001b[0mbackward\u001b[0m\u001b[1;33m(\u001b[0m\u001b[1;33m)\u001b[0m\u001b[1;33m\u001b[0m\u001b[1;33m\u001b[0m\u001b[0m\n\u001b[0m\u001b[0;32m    421\u001b[0m                                 \u001b[0mopt\u001b[0m\u001b[1;33m.\u001b[0m\u001b[0mstep\u001b[0m\u001b[1;33m(\u001b[0m\u001b[1;33m)\u001b[0m\u001b[1;33m\u001b[0m\u001b[1;33m\u001b[0m\u001b[0m\n\u001b[0;32m    422\u001b[0m \u001b[1;33m\u001b[0m\u001b[0m\n",
      "\u001b[1;32m~\\anaconda3\\envs\\multiPurpose\\lib\\site-packages\\torch\\tensor.py\u001b[0m in \u001b[0;36mbackward\u001b[1;34m(self, gradient, retain_graph, create_graph)\u001b[0m\n\u001b[0;32m    183\u001b[0m                 \u001b[0mproducts\u001b[0m\u001b[1;33m.\u001b[0m \u001b[0mDefaults\u001b[0m \u001b[0mto\u001b[0m\u001b[0;31m \u001b[0m\u001b[0;31m`\u001b[0m\u001b[0;31m`\u001b[0m\u001b[1;32mFalse\u001b[0m\u001b[0;31m`\u001b[0m\u001b[0;31m`\u001b[0m\u001b[1;33m.\u001b[0m\u001b[1;33m\u001b[0m\u001b[1;33m\u001b[0m\u001b[0m\n\u001b[0;32m    184\u001b[0m         \"\"\"\n\u001b[1;32m--> 185\u001b[1;33m         \u001b[0mtorch\u001b[0m\u001b[1;33m.\u001b[0m\u001b[0mautograd\u001b[0m\u001b[1;33m.\u001b[0m\u001b[0mbackward\u001b[0m\u001b[1;33m(\u001b[0m\u001b[0mself\u001b[0m\u001b[1;33m,\u001b[0m \u001b[0mgradient\u001b[0m\u001b[1;33m,\u001b[0m \u001b[0mretain_graph\u001b[0m\u001b[1;33m,\u001b[0m \u001b[0mcreate_graph\u001b[0m\u001b[1;33m)\u001b[0m\u001b[1;33m\u001b[0m\u001b[1;33m\u001b[0m\u001b[0m\n\u001b[0m\u001b[0;32m    186\u001b[0m \u001b[1;33m\u001b[0m\u001b[0m\n\u001b[0;32m    187\u001b[0m     \u001b[1;32mdef\u001b[0m \u001b[0mregister_hook\u001b[0m\u001b[1;33m(\u001b[0m\u001b[0mself\u001b[0m\u001b[1;33m,\u001b[0m \u001b[0mhook\u001b[0m\u001b[1;33m)\u001b[0m\u001b[1;33m:\u001b[0m\u001b[1;33m\u001b[0m\u001b[1;33m\u001b[0m\u001b[0m\n",
      "\u001b[1;32m~\\anaconda3\\envs\\multiPurpose\\lib\\site-packages\\torch\\autograd\\__init__.py\u001b[0m in \u001b[0;36mbackward\u001b[1;34m(tensors, grad_tensors, retain_graph, create_graph, grad_variables)\u001b[0m\n\u001b[0;32m    125\u001b[0m     Variable._execution_engine.run_backward(\n\u001b[0;32m    126\u001b[0m         \u001b[0mtensors\u001b[0m\u001b[1;33m,\u001b[0m \u001b[0mgrad_tensors\u001b[0m\u001b[1;33m,\u001b[0m \u001b[0mretain_graph\u001b[0m\u001b[1;33m,\u001b[0m \u001b[0mcreate_graph\u001b[0m\u001b[1;33m,\u001b[0m\u001b[1;33m\u001b[0m\u001b[1;33m\u001b[0m\u001b[0m\n\u001b[1;32m--> 127\u001b[1;33m         allow_unreachable=True)  # allow_unreachable flag\n\u001b[0m\u001b[0;32m    128\u001b[0m \u001b[1;33m\u001b[0m\u001b[0m\n\u001b[0;32m    129\u001b[0m \u001b[1;33m\u001b[0m\u001b[0m\n",
      "\u001b[1;31mKeyboardInterrupt\u001b[0m: "
     ]
    }
   ],
   "source": [
    "#run this if you want to train a new one\n",
    "model.train(train, val, test, verbose = True)\n",
    "model.save_model('./model-10-6-mpnn')"
   ]
  },
  {
   "cell_type": "code",
   "execution_count": 12,
   "metadata": {
    "ExecuteTime": {
     "end_time": "2020-09-29T18:00:36.728072Z",
     "start_time": "2020-09-29T18:00:36.582076Z"
    }
   },
   "outputs": [],
   "source": [
    "#run this if you want to use my trained one\n",
    "model = models.model_pretrained(path_dir = './model-9-24')"
   ]
  },
  {
   "cell_type": "markdown",
   "metadata": {},
   "source": [
    "# Model validation\n",
    "\n",
    "The following code is built in to the DeepPurpose `train` method, I've just pulled it out so I can grab the dataset that was set aside for validation during the data processing step. "
   ]
  },
  {
   "cell_type": "code",
   "execution_count": 13,
   "metadata": {
    "ExecuteTime": {
     "end_time": "2020-09-29T18:00:40.895445Z",
     "start_time": "2020-09-29T18:00:40.875442Z"
    }
   },
   "outputs": [],
   "source": [
    "import torch\n",
    "from torch.utils import data\n",
    "\n",
    "params = {'batch_size': config['batch_size'],\n",
    "    'shuffle': True,\n",
    "    'num_workers': config['num_workers'],\n",
    "    'drop_last': False}\n",
    "\n",
    "validation_generator = data.DataLoader(utils.data_process_loader(val.index.values, val.Label.values, val, **config), **params)"
   ]
  },
  {
   "cell_type": "markdown",
   "metadata": {},
   "source": [
    "The available performance metrics are ROC-AUC, PR-AUC, F1, cross-entropy loss, MSE, Pearson Correlation with p-value, and Concordance Index. I'm displaying the ROC-AUC here for comparison to the DeepIC50 paper. It's not at their level yet, but it's also not bad for a first try?\n",
    "\n",
    "TODO: graph ROC curve, also why does test_ return \"logits\""
   ]
  },
  {
   "cell_type": "code",
   "execution_count": 14,
   "metadata": {
    "ExecuteTime": {
     "end_time": "2020-09-29T18:03:14.281308Z",
     "start_time": "2020-09-29T18:00:43.738224Z"
    }
   },
   "outputs": [
    {
     "name": "stdout",
     "output_type": "stream",
     "text": [
      "0.7099348319182541\n"
     ]
    }
   ],
   "source": [
    "model.binary = False\n",
    "auc, auprc, f1, loss, logits = models.DBTA.test_(model, validation_generator, model.model, test=True)\n",
    "print(auc)"
   ]
  },
  {
   "cell_type": "code",
   "execution_count": 40,
   "metadata": {},
   "outputs": [],
   "source": [
    "#trying to get the ROC curve to actually plot...\n",
    "\n",
    "#import matplotlib.pyplot as plt\n",
    "#import sklearn\n",
    "#from sklearn.metrics import mean_squared_error, roc_auc_score, average_precision_score, f1_score\n",
    "\n",
    "#y_label = []\n",
    "#roc_auc_file = os.path.join(model.result_folder, \"roc-auc.jpg\")\n",
    "#plt.figure(0)\n",
    "#sklearn.metrics.roc_curve(y_pred, y_label, roc_auc_file, model.drug_encoding)\n",
    "#plt.figure(1)\n",
    "#pr_auc_file = os.path.join(model.result_folder, \"pr-auc.jpg\")\n",
    "#sklearn.metrics.prauc_curve(y_pred, y_label, pr_auc_file, model.drug_encoding)"
   ]
  },
  {
   "cell_type": "markdown",
   "metadata": {},
   "source": [
    "# Model usage\n",
    "\n",
    "To predict IC50, run data_process to create a dataset consisting of a single drug-target pair, and then run `predict`, which is just a wrapper on `test_`. The output is in pIC50. \n",
    "\n",
    "TODO: why do I need to include `y` as input?"
   ]
  },
  {
   "cell_type": "code",
   "execution_count": 28,
   "metadata": {},
   "outputs": [
    {
     "name": "stdout",
     "output_type": "stream",
     "text": [
      "Drug Target Interaction Prediction Mode...\n",
      "in total: 1 drug-target pairs\n",
      "encoding drug...\n",
      "unique drugs: 1\n",
      "encoding protein...\n",
      "unique target sequence: 1\n",
      "splitting dataset...\n",
      "do not do train/test split on the data for already splitted data\n",
      "predicting...\n",
      "The predicted score is [7.395412921905518]\n"
     ]
    }
   ],
   "source": [
    "X_drug = ['CC1=C2C=C(C=CC2=NN1)C3=CC(=CN=C3)OCC(CC4=CC=CC=C4)N']\n",
    "X_target = ['MKKFFDSRREQGGSGLGSGSSGGGGSTSGLGSGYIGRVFGIGRQQVTVDEVLAEGGFAIVFLVRTSNGMKCALKRMFVNNEHDLQVCKREIQIMRDLSGHKNIVGYIDSSINNVSSGDVWEVLILMDFCRGGQVVNLMNQRLQTGFTENEVLQIFCDTCEAVARLHQCKTPIIHRDLKVENILLHDRGHYVLCDFGSATNKFQNPQTEGVNAVEDEIKKYTTLSYRAPEMVNLYSGKIITTKADIWALGCLLYKLCYFTLPFGESQVAICDGNFTIPDNSRYSQDMHCLIRYMLEPDPDKRPDIYQVSYFSFKLLKKECPIPNVQNSPIPAKLPEPVKASEAAAKKTQPKARLTDPIPTTETSIAPRQRPKAGQTQPNPGILPIQPALTPRKRATVQPPPQAAGSSNQPGLLASVPQPKPQAPPSQPLPQTQAKQPQAPPTPQQTPSTQAQGLPAQAQATPQHQQQLFLKQQQQQQQPPPAQQQPAGTFYQQQQAQTQQFQAVHPATQKPAIAQFPVVSQGGSQQQLMQNFYQQQQQQQQQQQQQQLATALHQQQLMTQQAALQQKPTMAAGQQPQPQPAAAPQPAPAQEPAIQAPVRQQPKVQTTPPPAVQGQKVGSLTPPSSPKTQRAGHRRILSDVTHSAVFGVPASKSTQLLQAAAAEASLNKSKSATTTPSGSPRTSQQNVYNPSEGSTWNPFDDDNFSKLTAEELLNKDFAKLGEGKHPEKLGGSAESLIPGFQSTQGDAFATTSFSAGTAEKRKGGQTVDSGLPLLSVSDPFIPLQVPDAPEKLIEGLKSPDTSLLLPDLLPMTDPFGSTSDAVIEKADVAVESLIPGLEPPVPQRLPSQTESVTSNRTDSLTGEDSLLDCSLLSNPTTDLLEEFAPTAISAPVHKAAEDSNLISGFDVPEGSDKVAEDEFDPIPVLITKNPQGGHSRNSSGSSESSLPNLARSLLLVDQLIDL']\n",
    "X_pred = utils.data_process(X_drug, X_target, y, \n",
    "                                drug_encoding, target_encoding, \n",
    "                                split_method='no_split')\n",
    "y_pred = model.predict(X_pred)\n",
    "print('The predicted score is ' + str(y_pred))"
   ]
  },
  {
   "cell_type": "code",
   "execution_count": null,
   "metadata": {},
   "outputs": [],
   "source": []
  }
 ],
 "metadata": {
  "hide_input": false,
  "kernelspec": {
   "display_name": "Python 3",
   "language": "python",
   "name": "python3"
  },
  "latex_envs": {
   "LaTeX_envs_menu_present": true,
   "autoclose": false,
   "autocomplete": true,
   "bibliofile": "biblio.bib",
   "cite_by": "apalike",
   "current_citInitial": 1,
   "eqLabelWithNumbers": true,
   "eqNumInitial": 1,
   "hotkeys": {
    "equation": "Ctrl-E",
    "itemize": "Ctrl-I"
   },
   "labels_anchors": false,
   "latex_user_defs": false,
   "report_style_numbering": false,
   "user_envs_cfg": false
  },
  "toc": {
   "base_numbering": 1,
   "nav_menu": {},
   "number_sections": true,
   "sideBar": true,
   "skip_h1_title": false,
   "title_cell": "Table of Contents",
   "title_sidebar": "Contents",
   "toc_cell": false,
   "toc_position": {},
   "toc_section_display": true,
   "toc_window_display": false
  },
  "varInspector": {
   "cols": {
    "lenName": 16,
    "lenType": 16,
    "lenVar": 40
   },
   "kernels_config": {
    "python": {
     "delete_cmd_postfix": "",
     "delete_cmd_prefix": "del ",
     "library": "var_list.py",
     "varRefreshCmd": "print(var_dic_list())"
    },
    "r": {
     "delete_cmd_postfix": ") ",
     "delete_cmd_prefix": "rm(",
     "library": "var_list.r",
     "varRefreshCmd": "cat(var_dic_list()) "
    }
   },
   "types_to_exclude": [
    "module",
    "function",
    "builtin_function_or_method",
    "instance",
    "_Feature"
   ],
   "window_display": true
  }
 },
 "nbformat": 4,
 "nbformat_minor": 4
}
