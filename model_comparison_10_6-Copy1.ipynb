{
 "cells": [
  {
   "cell_type": "markdown",
   "metadata": {},
   "source": [
    "This notebook demonstrates how to predict IC50 from BindingDB data using a DeepPurpose model. There's a lot of room for tweaking things here, but the model performance with minimal code and a relatively short training time is surprisingly good."
   ]
  },
  {
   "cell_type": "code",
   "execution_count": 6,
   "metadata": {
    "ExecuteTime": {
     "end_time": "2020-10-07T14:30:38.238604Z",
     "start_time": "2020-10-07T14:30:38.233616Z"
    }
   },
   "outputs": [],
   "source": [
    "import os\n",
    "\n",
    "from DeepPurpose import utils, dataset, CompoundPred\n",
    "from DeepPurpose import DTI as models\n",
    "import warnings\n",
    "warnings.filterwarnings(\"ignore\")"
   ]
  },
  {
   "cell_type": "markdown",
   "metadata": {},
   "source": [
    "# Data Importing\n",
    "\n",
    "The entirety of BindingDB is saved as a .tsv file. The function `process_BindingDB` loads it into a Pandas dataframe with three columns: drugs (SMILES format), targets (protein primary structure), and binding score (in this case IC50). The `convert_to_log` flag makes it pIC50.\n",
    "\n",
    "TODO: what are the other arguments to `process_BindingDB`?\n",
    "can I save the dataframe for easier access?"
   ]
  },
  {
   "cell_type": "code",
   "execution_count": 2,
   "metadata": {
    "ExecuteTime": {
     "end_time": "2020-10-07T14:29:26.706606Z",
     "start_time": "2020-10-07T14:27:42.864609Z"
    },
    "scrolled": true
   },
   "outputs": [
    {
     "name": "stdout",
     "output_type": "stream",
     "text": [
      "Loading Dataset from path...\n"
     ]
    },
    {
     "name": "stderr",
     "output_type": "stream",
     "text": [
      "b'Skipping line 772572: expected 193 fields, saw 205\\nSkipping line 772598: expected 193 fields, saw 205\\n'\n",
      "b'Skipping line 805291: expected 193 fields, saw 205\\n'\n",
      "b'Skipping line 827961: expected 193 fields, saw 265\\n'\n",
      "b'Skipping line 1231688: expected 193 fields, saw 241\\n'\n",
      "b'Skipping line 1345591: expected 193 fields, saw 241\\nSkipping line 1345592: expected 193 fields, saw 241\\nSkipping line 1345593: expected 193 fields, saw 241\\nSkipping line 1345594: expected 193 fields, saw 241\\nSkipping line 1345595: expected 193 fields, saw 241\\nSkipping line 1345596: expected 193 fields, saw 241\\nSkipping line 1345597: expected 193 fields, saw 241\\nSkipping line 1345598: expected 193 fields, saw 241\\nSkipping line 1345599: expected 193 fields, saw 241\\n'\n",
      "b'Skipping line 1358864: expected 193 fields, saw 205\\n'\n",
      "b'Skipping line 1378087: expected 193 fields, saw 241\\nSkipping line 1378088: expected 193 fields, saw 241\\nSkipping line 1378089: expected 193 fields, saw 241\\nSkipping line 1378090: expected 193 fields, saw 241\\nSkipping line 1378091: expected 193 fields, saw 241\\nSkipping line 1378092: expected 193 fields, saw 241\\nSkipping line 1378093: expected 193 fields, saw 241\\nSkipping line 1378094: expected 193 fields, saw 241\\nSkipping line 1378095: expected 193 fields, saw 241\\n'\n",
      "b'Skipping line 1417264: expected 193 fields, saw 205\\n'\n"
     ]
    },
    {
     "name": "stdout",
     "output_type": "stream",
     "text": [
      "Beginning Processing...\n",
      "There are 1073803 drug target pairs.\n",
      "Default set to logspace (nM -> p) for easier regression\n"
     ]
    }
   ],
   "source": [
    "data_path = './data//BindingDB_All.tsv'\n",
    "X_drugs, X_targets, y = dataset.process_BindingDB(path = data_path, df = None, y = 'IC50', binary = False, convert_to_log = True, threshold = 0)"
   ]
  },
  {
   "cell_type": "markdown",
   "metadata": {},
   "source": [
    "The cell below just shows what the data looks like."
   ]
  },
  {
   "cell_type": "code",
   "execution_count": 3,
   "metadata": {
    "ExecuteTime": {
     "end_time": "2020-10-01T00:13:55.279187Z",
     "start_time": "2020-10-01T00:13:55.266187Z"
    }
   },
   "outputs": [
    {
     "name": "stdout",
     "output_type": "stream",
     "text": [
      "Drug 1: Cc1nc(CN2CCN(CC2)c2c(Cl)cnc3[nH]c(nc23)-c2cn(C)nc2C)no1\n",
      "Target 1: MALIPDLAMETWLLLAVSLVLLYLYGTHSHGLFKKLGIPGPTPLPFLGNILSYHKGFCMFDMECHKKYGKVWGFYDGQQPVLAITDPDMIKTVLVKECYSVFTNRRPFGPVGFMKSAISIAEDEEWKRLRSLLSPTFTSGKLKEMVPIIAQYGDVLVRNLRREAETGKPVTLKDVFGAYSMDVITSTSFGVNIDSLNNPQDPFVENTKKLLRFDFLDPFFLSITVFPFLIPILEVLNICVFPREVTNFLRKSVKRMKESRLEDTQKHRVDFLQLMIDSQNSKETESHKALSDLELVAQSIIFIFAGYETTSSVLSFIMYELATHPDVQQKLQEEIDAVLPNKAPPTYDTVLQMEYLDMVVNETLRLFPIAMRLERVCKKDVEINGMFIPKGVVVMIPSYALHRDPKYWTEPEKFLPERFSKKNKDNIDPYIYTPFGSGPRNCIGMRFALMNMKLALIRVLQNFSFKPCKETQIPLKLSLGGLLQPEKPVVLKVESRDGTVSGA\n",
      "IC50 1: 4.301029127075886\n"
     ]
    }
   ],
   "source": [
    "print('Drug 1: ' + X_drugs[0])\n",
    "print('Target 1: ' + X_targets[0])\n",
    "print('IC50 1: ' + str(y[0]))"
   ]
  },
  {
   "cell_type": "markdown",
   "metadata": {},
   "source": [
    "# Drug and target encoding\n",
    "\n",
    "DeepPurpose supports several possible encodings for drugs and targets. I suspect choosing and possibly combining these will be key for feature engineering and model performance. Right now I'm using the Morgan Extended-Connectivity Fingerprints encoding for drugs and the conjoint triad features encoding for targets because they're not computationally intensive. I would like to find a way to allow models to take PaDEL features as drug encodings, which is what the gastric cancer paper did. They also encoded targets in terms of mutation position, which may not be feasible for all targets, but is probably worth looking into."
   ]
  },
  {
   "cell_type": "code",
   "execution_count": 3,
   "metadata": {
    "ExecuteTime": {
     "end_time": "2020-10-07T14:29:37.139617Z",
     "start_time": "2020-10-07T14:29:37.129607Z"
    }
   },
   "outputs": [],
   "source": [
    "drug_encoding = 'CNN'\n",
    "target_encoding = 'CNN'"
   ]
  },
  {
   "cell_type": "markdown",
   "metadata": {},
   "source": [
    "The following cell splits the data into training and testing sets. I think these numbers are probably fine, but maybe there's a way to improve on them. One thing to note is that for some reason RDKit (the biochemistry library) has trouble translating some of the SMILES data (~500 drugs) into Morgan format, so I might want to look into fixing that. That's only a small fraction of the drugs in the training data, though.\n",
    "\n",
    "TODO: look into `split_method` options,\n",
    "i would also like to save the training and testing data sets since this step takes a while"
   ]
  },
  {
   "cell_type": "code",
   "execution_count": 4,
   "metadata": {
    "ExecuteTime": {
     "end_time": "2020-10-07T14:30:21.714604Z",
     "start_time": "2020-10-07T14:29:40.269608Z"
    },
    "code_folding": [],
    "run_control": {
     "marked": false
    },
    "scrolled": true
   },
   "outputs": [
    {
     "name": "stdout",
     "output_type": "stream",
     "text": [
      "Drug Target Interaction Prediction Mode...\n",
      "in total: 1073803 drug-target pairs\n",
      "encoding drug...\n",
      "unique drugs: 549205\n",
      "encoding protein...\n",
      "unique target sequence: 5078\n",
      "splitting dataset...\n",
      "Done.\n"
     ]
    }
   ],
   "source": [
    "train, val, test = utils.data_process(X_drugs, X_targets, y, \n",
    "                                drug_encoding, target_encoding, \n",
    "                                split_method='random',frac=[0.7,0.1,0.2])"
   ]
  },
  {
   "cell_type": "markdown",
   "metadata": {},
   "source": [
    "# Model configuration\n",
    "\n",
    "DeepPurpose's model configuration utility is a wrapper for generating neural networks using PyTorch. The list of options for hyperparameters is [here](https://github.com/kexinhuang12345/DeepPurpose/blob/e169e2f550694145077bb2af95a4031abe400a77/DeepPurpose/utils.py#L486). Several types of model architecture are supported including CNNs, RNNs, MPNNs, MLPs, and transformers. I think there is a lot of potential work to be done on hyperparameter optimization here. The hyperparameters used below are suggested defaults that aren't too computationally intensive; they produce a 3 layer MPNN. I would also like to incorporate some models that don't utilize deep learning, as I think with proper input feature engineering we may be able to get good performance with an SVM or ridge regressor, and it would be nice to have a more interpretable model for comparison. "
   ]
  },
  {
   "cell_type": "code",
   "execution_count": 13,
   "metadata": {
    "ExecuteTime": {
     "end_time": "2020-10-07T15:09:17.061296Z",
     "start_time": "2020-10-07T15:09:17.054300Z"
    }
   },
   "outputs": [],
   "source": [
    "config = utils.generate_config(drug_encoding = drug_encoding, \n",
    "                         target_encoding = target_encoding, \n",
    "                         cls_hidden_dims = [1024,1024,512], \n",
    "                         train_epoch = 1, \n",
    "                         LR = 0.001, \n",
    "                         batch_size = 128,\n",
    "                         cnn_target_filters = [32,64,96],\n",
    "                         cnn_target_kernels = [4,8,12]\n",
    "                         #hidden_dim_drug = 128,\n",
    "                         #mpnn_hidden_size = 128,\n",
    "                         #mpnn_depth = 3\n",
    "                        )"
   ]
  },
  {
   "cell_type": "code",
   "execution_count": 14,
   "metadata": {
    "ExecuteTime": {
     "end_time": "2020-10-07T15:09:20.164291Z",
     "start_time": "2020-10-07T15:09:20.098294Z"
    }
   },
   "outputs": [],
   "source": [
    "model = models.model_initialize(**config)"
   ]
  },
  {
   "cell_type": "markdown",
   "metadata": {},
   "source": [
    "# Model training and loading\n",
    "\n",
    "Using the hyperparameters above, the model takes about 1.5 hours to train on BindingDB. For demo purposes I'm going to just load a model I trained earlier today, but I used the exact same code as above."
   ]
  },
  {
   "cell_type": "code",
   "execution_count": 16,
   "metadata": {
    "ExecuteTime": {
     "end_time": "2020-10-07T18:39:29.622276Z",
     "start_time": "2020-10-07T15:47:01.043854Z"
    }
   },
   "outputs": [
    {
     "name": "stdout",
     "output_type": "stream",
     "text": [
      "Let's use 1 GPU!\n",
      "--- Data Preparation ---\n",
      "--- Go for Training ---\n",
      "Training at Epoch 1 iteration 0 with loss 1.40671. Total time 0.00027 hours\n",
      "Training at Epoch 1 iteration 100 with loss 1.56044. Total time 0.04166 hours\n",
      "Training at Epoch 1 iteration 200 with loss 1.19786. Total time 0.08277 hours\n",
      "Training at Epoch 1 iteration 300 with loss 1.37850. Total time 0.12416 hours\n",
      "Training at Epoch 1 iteration 400 with loss 1.38586. Total time 0.16555 hours\n",
      "Training at Epoch 1 iteration 500 with loss 1.42000. Total time 0.20666 hours\n",
      "Training at Epoch 1 iteration 600 with loss 1.39354. Total time 0.24777 hours\n",
      "Training at Epoch 1 iteration 700 with loss 1.40350. Total time 0.28861 hours\n",
      "Training at Epoch 1 iteration 800 with loss 1.51178. Total time 0.32972 hours\n",
      "Training at Epoch 1 iteration 900 with loss 1.61530. Total time 0.37083 hours\n",
      "Training at Epoch 1 iteration 1000 with loss 1.38299. Total time 0.41222 hours\n",
      "Training at Epoch 1 iteration 1100 with loss 1.53081. Total time 0.45333 hours\n",
      "Training at Epoch 1 iteration 1200 with loss 1.54611. Total time 0.49444 hours\n",
      "Training at Epoch 1 iteration 1300 with loss 1.29722. Total time 0.53555 hours\n",
      "Training at Epoch 1 iteration 1400 with loss 1.48963. Total time 0.57638 hours\n",
      "Training at Epoch 1 iteration 1500 with loss 1.38857. Total time 0.6175 hours\n",
      "Training at Epoch 1 iteration 1600 with loss 1.25432. Total time 0.65861 hours\n",
      "Training at Epoch 1 iteration 1700 with loss 1.26376. Total time 0.69944 hours\n",
      "Training at Epoch 1 iteration 1800 with loss 1.49310. Total time 0.74055 hours\n",
      "Training at Epoch 1 iteration 1900 with loss 1.56832. Total time 0.78166 hours\n",
      "Training at Epoch 1 iteration 2000 with loss 1.48289. Total time 0.82277 hours\n",
      "Training at Epoch 1 iteration 2100 with loss 1.45340. Total time 0.86388 hours\n",
      "Training at Epoch 1 iteration 2200 with loss 1.46391. Total time 0.90472 hours\n",
      "Training at Epoch 1 iteration 2300 with loss 1.48502. Total time 0.94583 hours\n",
      "Training at Epoch 1 iteration 2400 with loss 1.43686. Total time 0.98694 hours\n",
      "Training at Epoch 1 iteration 2500 with loss 1.56185. Total time 1.02777 hours\n",
      "Training at Epoch 1 iteration 2600 with loss 1.45286. Total time 1.06888 hours\n",
      "Training at Epoch 1 iteration 2700 with loss 1.09503. Total time 1.11 hours\n",
      "Training at Epoch 1 iteration 2800 with loss 1.12559. Total time 1.15111 hours\n",
      "Training at Epoch 1 iteration 2900 with loss 1.36104. Total time 1.19222 hours\n",
      "Training at Epoch 1 iteration 3000 with loss 1.13241. Total time 1.23305 hours\n",
      "Training at Epoch 1 iteration 3100 with loss 1.23930. Total time 1.27416 hours\n",
      "Training at Epoch 1 iteration 3200 with loss 1.41183. Total time 1.31527 hours\n",
      "Training at Epoch 1 iteration 3300 with loss 1.46224. Total time 1.35611 hours\n",
      "Training at Epoch 1 iteration 3400 with loss 1.18276. Total time 1.39722 hours\n",
      "Training at Epoch 1 iteration 3500 with loss 1.24276. Total time 1.43833 hours\n",
      "Training at Epoch 1 iteration 3600 with loss 1.38433. Total time 1.47916 hours\n",
      "Training at Epoch 1 iteration 3700 with loss 1.76472. Total time 1.52027 hours\n",
      "Training at Epoch 1 iteration 3800 with loss 1.32012. Total time 1.56138 hours\n",
      "Training at Epoch 1 iteration 3900 with loss 1.33430. Total time 1.60222 hours\n",
      "Training at Epoch 1 iteration 4000 with loss 1.31893. Total time 1.64333 hours\n",
      "Training at Epoch 1 iteration 4100 with loss 1.07559. Total time 1.68416 hours\n",
      "Training at Epoch 1 iteration 4200 with loss 1.27754. Total time 1.72527 hours\n",
      "Training at Epoch 1 iteration 4300 with loss 1.03807. Total time 1.76611 hours\n",
      "Training at Epoch 1 iteration 4400 with loss 1.46475. Total time 1.80722 hours\n",
      "Training at Epoch 1 iteration 4500 with loss 1.11238. Total time 1.84805 hours\n",
      "Training at Epoch 1 iteration 4600 with loss 1.42214. Total time 1.88916 hours\n",
      "Training at Epoch 1 iteration 4700 with loss 1.24605. Total time 1.93 hours\n",
      "Training at Epoch 1 iteration 4800 with loss 1.41539. Total time 1.97111 hours\n",
      "Training at Epoch 1 iteration 4900 with loss 1.39097. Total time 2.01194 hours\n",
      "Training at Epoch 1 iteration 5000 with loss 0.96082. Total time 2.05305 hours\n",
      "Training at Epoch 1 iteration 5100 with loss 1.38468. Total time 2.09388 hours\n",
      "Training at Epoch 1 iteration 5200 with loss 1.23395. Total time 2.135 hours\n",
      "Training at Epoch 1 iteration 5300 with loss 1.04008. Total time 2.17611 hours\n",
      "Training at Epoch 1 iteration 5400 with loss 0.91151. Total time 2.21694 hours\n",
      "Training at Epoch 1 iteration 5500 with loss 1.21506. Total time 2.25805 hours\n",
      "Training at Epoch 1 iteration 5600 with loss 1.07642. Total time 2.29916 hours\n",
      "Training at Epoch 1 iteration 5700 with loss 1.08415. Total time 2.34027 hours\n",
      "Training at Epoch 1 iteration 5800 with loss 1.28503. Total time 2.38138 hours\n",
      "Validation at Epoch 1 , MSE: 1.14803 , Pearson Correlation: 0.70556 with p-value: 0.0 , Concordance Index: 0.75606\n",
      "--- Go for Testing ---\n",
      "Testing MSE: 1.1452942755270066 , Pearson Correlation: 0.7065846521368199 with p-value: 0.0 , Concordance Index: 0.7566231801431267\n",
      "--- Training Finished ---\n"
     ]
    },
    {
     "data": {
      "image/png": "[encoded data removed]",
      "text/plain": [
       "<Figure size 432x288 with 1 Axes>"
      ]
     },
     "metadata": {
      "needs_background": "light"
     },
     "output_type": "display_data"
    }
   ],
   "source": [
    "#run this if you want to train a new one\n",
    "model.train(train, val, test, verbose = True)\n",
    "model.save_model('./model-10-6-cnn')"
   ]
  },
  {
   "cell_type": "code",
   "execution_count": 12,
   "metadata": {
    "ExecuteTime": {
     "end_time": "2020-09-29T18:00:36.728072Z",
     "start_time": "2020-09-29T18:00:36.582076Z"
    }
   },
   "outputs": [],
   "source": [
    "#run this if you want to use my trained one\n",
    "model = models.model_pretrained(path_dir = './model-9-24')"
   ]
  },
  {
   "cell_type": "markdown",
   "metadata": {},
   "source": [
    "# Model validation\n",
    "\n",
    "The following code is built in to the DeepPurpose `train` method, I've just pulled it out so I can grab the dataset that was set aside for validation during the data processing step. "
   ]
  },
  {
   "cell_type": "code",
   "execution_count": 17,
   "metadata": {
    "ExecuteTime": {
     "end_time": "2020-10-07T18:45:26.863992Z",
     "start_time": "2020-10-07T18:45:26.846005Z"
    }
   },
   "outputs": [],
   "source": [
    "import torch\n",
    "from torch.utils import data\n",
    "\n",
    "params = {'batch_size': config['batch_size'],\n",
    "    'shuffle': True,\n",
    "    'num_workers': config['num_workers'],\n",
    "    'drop_last': False}\n",
    "\n",
    "validation_generator = data.DataLoader(utils.data_process_loader(val.index.values, val.Label.values, val, **config), **params)"
   ]
  },
  {
   "cell_type": "markdown",
   "metadata": {},
   "source": [
    "The available performance metrics are ROC-AUC, PR-AUC, F1, cross-entropy loss, MSE, Pearson Correlation with p-value, and Concordance Index. I'm displaying the ROC-AUC here for comparison to the DeepIC50 paper. It's not at their level yet, but it's also not bad for a first try?\n",
    "\n",
    "TODO: graph ROC curve, also why does test_ return \"logits\""
   ]
  },
  {
   "cell_type": "code",
   "execution_count": null,
   "metadata": {
    "ExecuteTime": {
     "end_time": "2020-10-07T18:54:43.332670Z",
     "start_time": "2020-10-07T18:45:30.532205Z"
    }
   },
   "outputs": [],
   "source": [
    "model.binary = False\n",
    "auc, auprc, f1, loss, logits = models.DBTA.test_(model, validation_generator, model.model, test=True)"
   ]
  },
  {
   "cell_type": "code",
   "execution_count": 19,
   "metadata": {
    "ExecuteTime": {
     "end_time": "2020-10-07T18:57:13.499964Z",
     "start_time": "2020-10-07T18:57:13.493953Z"
    }
   },
   "outputs": [
    {
     "name": "stdout",
     "output_type": "stream",
     "text": [
      "0.7055658796128017\n"
     ]
    }
   ],
   "source": [
    "print(auprc)"
   ]
  },
  {
   "cell_type": "code",
   "execution_count": 40,
   "metadata": {},
   "outputs": [],
   "source": [
    "#trying to get the ROC curve to actually plot...\n",
    "\n",
    "#import matplotlib.pyplot as plt\n",
    "#import sklearn\n",
    "#from sklearn.metrics import mean_squared_error, roc_auc_score, average_precision_score, f1_score\n",
    "\n",
    "#y_label = []\n",
    "#roc_auc_file = os.path.join(model.result_folder, \"roc-auc.jpg\")\n",
    "#plt.figure(0)\n",
    "#sklearn.metrics.roc_curve(y_pred, y_label, roc_auc_file, model.drug_encoding)\n",
    "#plt.figure(1)\n",
    "#pr_auc_file = os.path.join(model.result_folder, \"pr-auc.jpg\")\n",
    "#sklearn.metrics.prauc_curve(y_pred, y_label, pr_auc_file, model.drug_encoding)"
   ]
  },
  {
   "cell_type": "markdown",
   "metadata": {},
   "source": [
    "# Model usage\n",
    "\n",
    "To predict IC50, run data_process to create a dataset consisting of a single drug-target pair, and then run `predict`, which is just a wrapper on `test_`. The output is in pIC50. \n",
    "\n",
    "TODO: why do I need to include `y` as input?"
   ]
  },
  {
   "cell_type": "code",
   "execution_count": 28,
   "metadata": {},
   "outputs": [
    {
     "name": "stdout",
     "output_type": "stream",
     "text": [
      "Drug Target Interaction Prediction Mode...\n",
      "in total: 1 drug-target pairs\n",
      "encoding drug...\n",
      "unique drugs: 1\n",
      "encoding protein...\n",
      "unique target sequence: 1\n",
      "splitting dataset...\n",
      "do not do train/test split on the data for already splitted data\n",
      "predicting...\n",
      "The predicted score is [7.395412921905518]\n"
     ]
    }
   ],
   "source": [
    "X_drug = ['CC1=C2C=C(C=CC2=NN1)C3=CC(=CN=C3)OCC(CC4=CC=CC=C4)N']\n",
    "X_target = ['MKKFFDSRREQGGSGLGSGSSGGGGSTSGLGSGYIGRVFGIGRQQVTVDEVLAEGGFAIVFLVRTSNGMKCALKRMFVNNEHDLQVCKREIQIMRDLSGHKNIVGYIDSSINNVSSGDVWEVLILMDFCRGGQVVNLMNQRLQTGFTENEVLQIFCDTCEAVARLHQCKTPIIHRDLKVENILLHDRGHYVLCDFGSATNKFQNPQTEGVNAVEDEIKKYTTLSYRAPEMVNLYSGKIITTKADIWALGCLLYKLCYFTLPFGESQVAICDGNFTIPDNSRYSQDMHCLIRYMLEPDPDKRPDIYQVSYFSFKLLKKECPIPNVQNSPIPAKLPEPVKASEAAAKKTQPKARLTDPIPTTETSIAPRQRPKAGQTQPNPGILPIQPALTPRKRATVQPPPQAAGSSNQPGLLASVPQPKPQAPPSQPLPQTQAKQPQAPPTPQQTPSTQAQGLPAQAQATPQHQQQLFLKQQQQQQQPPPAQQQPAGTFYQQQQAQTQQFQAVHPATQKPAIAQFPVVSQGGSQQQLMQNFYQQQQQQQQQQQQQQLATALHQQQLMTQQAALQQKPTMAAGQQPQPQPAAAPQPAPAQEPAIQAPVRQQPKVQTTPPPAVQGQKVGSLTPPSSPKTQRAGHRRILSDVTHSAVFGVPASKSTQLLQAAAAEASLNKSKSATTTPSGSPRTSQQNVYNPSEGSTWNPFDDDNFSKLTAEELLNKDFAKLGEGKHPEKLGGSAESLIPGFQSTQGDAFATTSFSAGTAEKRKGGQTVDSGLPLLSVSDPFIPLQVPDAPEKLIEGLKSPDTSLLLPDLLPMTDPFGSTSDAVIEKADVAVESLIPGLEPPVPQRLPSQTESVTSNRTDSLTGEDSLLDCSLLSNPTTDLLEEFAPTAISAPVHKAAEDSNLISGFDVPEGSDKVAEDEFDPIPVLITKNPQGGHSRNSSGSSESSLPNLARSLLLVDQLIDL']\n",
    "X_pred = utils.data_process(X_drug, X_target, y, \n",
    "                                drug_encoding, target_encoding, \n",
    "                                split_method='no_split')\n",
    "y_pred = model.predict(X_pred)\n",
    "print('The predicted score is ' + str(y_pred))"
   ]
  },
  {
   "cell_type": "code",
   "execution_count": null,
   "metadata": {},
   "outputs": [],
   "source": []
  }
 ],
 "metadata": {
  "hide_input": false,
  "kernelspec": {
   "display_name": "Python 3",
   "language": "python",
   "name": "python3"
  },
  "language_info": {
   "codemirror_mode": {
    "name": "ipython",
    "version": 3
   },
   "file_extension": ".py",
   "mimetype": "text/x-python",
   "name": "python",
   "nbconvert_exporter": "python",
   "pygments_lexer": "ipython3",
   "version": "3.7.9"
  },
  "latex_envs": {
   "LaTeX_envs_menu_present": true,
   "autoclose": false,
   "autocomplete": true,
   "bibliofile": "biblio.bib",
   "cite_by": "apalike",
   "current_citInitial": 1,
   "eqLabelWithNumbers": true,
   "eqNumInitial": 1,
   "hotkeys": {
    "equation": "Ctrl-E",
    "itemize": "Ctrl-I"
   },
   "labels_anchors": false,
   "latex_user_defs": false,
   "report_style_numbering": false,
   "user_envs_cfg": false
  },
  "toc": {
   "base_numbering": 1,
   "nav_menu": {},
   "number_sections": true,
   "sideBar": true,
   "skip_h1_title": false,
   "title_cell": "Table of Contents",
   "title_sidebar": "Contents",
   "toc_cell": false,
   "toc_position": {},
   "toc_section_display": true,
   "toc_window_display": false
  },
  "varInspector": {
   "cols": {
    "lenName": 16,
    "lenType": 16,
    "lenVar": 40
   },
   "kernels_config": {
    "python": {
     "delete_cmd_postfix": "",
     "delete_cmd_prefix": "del ",
     "library": "var_list.py",
     "varRefreshCmd": "print(var_dic_list())"
    },
    "r": {
     "delete_cmd_postfix": ") ",
     "delete_cmd_prefix": "rm(",
     "library": "var_list.r",
     "varRefreshCmd": "cat(var_dic_list()) "
    }
   },
   "types_to_exclude": [
    "module",
    "function",
    "builtin_function_or_method",
    "instance",
    "_Feature"
   ],
   "window_display": true
  }
 },
 "nbformat": 4,
 "nbformat_minor": 4
}
