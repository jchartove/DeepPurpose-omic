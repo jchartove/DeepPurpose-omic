{
 "cells": [
  {
   "cell_type": "markdown",
   "metadata": {},
   "source": [
    "This notebook demonstrates how to predict IC50 from BindingDB data using a DeepPurpose model. There's a lot of room for tweaking things here, but the model performance with minimal code and a relatively short training time is surprisingly good."
   ]
  },
  {
   "cell_type": "code",
   "execution_count": 10,
   "metadata": {
    "ExecuteTime": {
     "end_time": "2020-09-30T23:14:46.840358Z",
     "start_time": "2020-09-30T23:14:46.823359Z"
    }
   },
   "outputs": [],
   "source": [
    "import os\n",
    "\n",
    "from DeepPurpose import utils, dataset, CompoundPred\n",
    "from DeepPurpose import DTI as models\n",
    "import warnings\n",
    "warnings.filterwarnings(\"ignore\")"
   ]
  },
  {
   "cell_type": "markdown",
   "metadata": {},
   "source": [
    "# Data Importing\n",
    "\n",
    "The entirety of BindingDB is saved as a .tsv file. The function `process_BindingDB` loads it into a Pandas dataframe with three columns: drugs (SMILES format), targets (protein primary structure), and binding score (in this case IC50). The `convert_to_log` flag makes it pIC50.\n",
    "\n",
    "TODO: what are the other arguments to `process_BindingDB`?\n",
    "can I save the dataframe for easier access?"
   ]
  },
  {
   "cell_type": "code",
   "execution_count": 2,
   "metadata": {
    "ExecuteTime": {
     "end_time": "2020-09-30T22:58:25.114367Z",
     "start_time": "2020-09-30T22:55:24.981008Z"
    },
    "scrolled": true
   },
   "outputs": [
    {
     "name": "stdout",
     "output_type": "stream",
     "text": [
      "Loading Dataset from path...\n"
     ]
    },
    {
     "name": "stderr",
     "output_type": "stream",
     "text": [
      "b'Skipping line 772572: expected 193 fields, saw 205\\nSkipping line 772598: expected 193 fields, saw 205\\n'\n",
      "b'Skipping line 805291: expected 193 fields, saw 205\\n'\n",
      "b'Skipping line 827961: expected 193 fields, saw 265\\n'\n",
      "b'Skipping line 1231688: expected 193 fields, saw 241\\n'\n",
      "b'Skipping line 1345591: expected 193 fields, saw 241\\nSkipping line 1345592: expected 193 fields, saw 241\\nSkipping line 1345593: expected 193 fields, saw 241\\nSkipping line 1345594: expected 193 fields, saw 241\\nSkipping line 1345595: expected 193 fields, saw 241\\nSkipping line 1345596: expected 193 fields, saw 241\\nSkipping line 1345597: expected 193 fields, saw 241\\nSkipping line 1345598: expected 193 fields, saw 241\\nSkipping line 1345599: expected 193 fields, saw 241\\n'\n",
      "b'Skipping line 1358864: expected 193 fields, saw 205\\n'\n",
      "b'Skipping line 1378087: expected 193 fields, saw 241\\nSkipping line 1378088: expected 193 fields, saw 241\\nSkipping line 1378089: expected 193 fields, saw 241\\nSkipping line 1378090: expected 193 fields, saw 241\\nSkipping line 1378091: expected 193 fields, saw 241\\nSkipping line 1378092: expected 193 fields, saw 241\\nSkipping line 1378093: expected 193 fields, saw 241\\nSkipping line 1378094: expected 193 fields, saw 241\\nSkipping line 1378095: expected 193 fields, saw 241\\n'\n",
      "b'Skipping line 1417264: expected 193 fields, saw 205\\n'\n"
     ]
    },
    {
     "name": "stdout",
     "output_type": "stream",
     "text": [
      "Beginning Processing...\n",
      "There are 1073803 drug target pairs.\n",
      "Default set to logspace (nM -> p) for easier regression\n"
     ]
    }
   ],
   "source": [
    "data_path = './data//BindingDB_All.tsv'\n",
    "X_drugs, X_targets, y = dataset.process_BindingDB(path = data_path, df = None, y = 'IC50', binary = False, convert_to_log = True, threshold = 0)"
   ]
  },
  {
   "cell_type": "markdown",
   "metadata": {},
   "source": [
    "The cell below just shows what the data looks like."
   ]
  },
  {
   "cell_type": "code",
   "execution_count": 6,
   "metadata": {
    "ExecuteTime": {
     "end_time": "2020-09-29T17:43:56.526466Z",
     "start_time": "2020-09-29T17:43:56.493434Z"
    }
   },
   "outputs": [
    {
     "name": "stdout",
     "output_type": "stream",
     "text": [
      "Drug 1: Cc1nc(CN2CCN(CC2)c2c(Cl)cnc3[nH]c(nc23)-c2cn(C)nc2C)no1\n",
      "Target 1: MALIPDLAMETWLLLAVSLVLLYLYGTHSHGLFKKLGIPGPTPLPFLGNILSYHKGFCMFDMECHKKYGKVWGFYDGQQPVLAITDPDMIKTVLVKECYSVFTNRRPFGPVGFMKSAISIAEDEEWKRLRSLLSPTFTSGKLKEMVPIIAQYGDVLVRNLRREAETGKPVTLKDVFGAYSMDVITSTSFGVNIDSLNNPQDPFVENTKKLLRFDFLDPFFLSITVFPFLIPILEVLNICVFPREVTNFLRKSVKRMKESRLEDTQKHRVDFLQLMIDSQNSKETESHKALSDLELVAQSIIFIFAGYETTSSVLSFIMYELATHPDVQQKLQEEIDAVLPNKAPPTYDTVLQMEYLDMVVNETLRLFPIAMRLERVCKKDVEINGMFIPKGVVVMIPSYALHRDPKYWTEPEKFLPERFSKKNKDNIDPYIYTPFGSGPRNCIGMRFALMNMKLALIRVLQNFSFKPCKETQIPLKLSLGGLLQPEKPVVLKVESRDGTVSGA\n",
      "IC50 1: 4.301029127075886\n"
     ]
    }
   ],
   "source": [
    "print('Drug 1: ' + X_drugs[0])\n",
    "print('Target 1: ' + X_targets[0])\n",
    "print('IC50 1: ' + str(y[0]))"
   ]
  },
  {
   "cell_type": "markdown",
   "metadata": {},
   "source": [
    "# Drug and target encoding\n",
    "\n",
    "DeepPurpose supports several possible encodings for drugs and targets. I suspect choosing and possibly combining these will be key for feature engineering and model performance. Right now I'm using the Morgan Extended-Connectivity Fingerprints encoding for drugs and the conjoint triad features encoding for targets because they're not computationally intensive. I would like to find a way to allow models to take PaDEL features as drug encodings, which is what the gastric cancer paper did. They also encoded targets in terms of mutation position, which may not be feasible for all targets, but is probably worth looking into."
   ]
  },
  {
   "cell_type": "code",
   "execution_count": 14,
   "metadata": {
    "ExecuteTime": {
     "end_time": "2020-09-30T23:26:17.363896Z",
     "start_time": "2020-09-30T23:26:17.347885Z"
    }
   },
   "outputs": [],
   "source": [
    "drug_encoding, target_encoding = 'rdkit_2d_normalized', 'Conjoint_triad'"
   ]
  },
  {
   "cell_type": "markdown",
   "metadata": {},
   "source": [
    "The following cell splits the data into training and testing sets. I think these numbers are probably fine, but maybe there's a way to improve on them. One thing to note is that for some reason RDKit (the biochemistry library) has trouble translating some of the SMILES data (~500 drugs) into Morgan format, so I might want to look into fixing that. That's only a small fraction of the drugs in the training data, though.\n",
    "\n",
    "TODO: look into `split_method` options,\n",
    "i would also like to save the training and testing data sets since this step takes a while"
   ]
  },
  {
   "cell_type": "code",
   "execution_count": null,
   "metadata": {
    "ExecuteTime": {
     "start_time": "2020-09-30T23:26:19.358Z"
    },
    "code_folding": [],
    "run_control": {
     "marked": false
    },
    "scrolled": true
   },
   "outputs": [
    {
     "name": "stdout",
     "output_type": "stream",
     "text": [
      "Drug Target Interaction Prediction Mode...\n",
      "in total: 1073803 drug-target pairs\n",
      "encoding drug...\n",
      "unique drugs: 549205\n",
      "descriptastorus not found this smiles: CC(C)(C)OC(=O)N1CC(=O)N(C(=O)C1)c1ccc(cc1)N1CC(COC(=O)[N]2=CC=C(Cl)S2)OC1=O convert to all 1 features\n",
      "descriptastorus not found this smiles: CSc1ccc(cc1)C1=C(C=C[N]([O-])=C1)[C@@H]1CCC(F)(F)C[C@H]1C(=O)NCC#N convert to all 1 features\n"
     ]
    },
    {
     "name": "stderr",
     "output_type": "stream",
     "text": [
      "ERROR:root:function application failed (Ipc->CN(C)C(=O)N1Cc2c(F)cccc2C(c2cccc(O)c2)C1)\n",
      "Traceback (most recent call last):\n",
      "  File \"C:\\Users\\Julia\\anaconda3\\envs\\multiPurpose\\lib\\site-packages\\descriptastorus-2.0.0.32-py3.7.egg\\descriptastorus\\descriptors\\rdDescriptors.py\", line 243, in applyFunc\n",
      "    return FUNCS[name](m)\n",
      "  File \"C:\\Users\\Julia\\anaconda3\\envs\\multiPurpose\\lib\\site-packages\\rdkit\\Chem\\GraphDescriptors.py\", line 124, in Ipc\n",
      "    cPoly = abs(Graphs.CharacteristicPolynomial(mol, adjMat))\n",
      "  File \"C:\\Users\\Julia\\anaconda3\\envs\\multiPurpose\\lib\\site-packages\\rdkit\\Chem\\Graphs.py\", line 48, in CharacteristicPolynomial\n",
      "    An = numpy.dot(A, Bn)\n",
      "  File \"<__array_function__ internals>\", line 6, in dot\n",
      "KeyboardInterrupt\n",
      "ERROR:root:Could not compute Ipc for molecule\n",
      "Traceback (most recent call last):\n",
      "  File \"C:\\Users\\Julia\\anaconda3\\envs\\multiPurpose\\lib\\site-packages\\descriptastorus-2.0.0.32-py3.7.egg\\descriptastorus\\descriptors\\rdNormalizedDescriptors.py\", line 62, in applyNormalizedFunc\n",
      "    return cdfs[name](rdDescriptors.applyFunc(name,m))\n",
      "  File \"C:\\Users\\Julia\\anaconda3\\envs\\multiPurpose\\lib\\site-packages\\descriptastorus-2.0.0.32-py3.7.egg\\descriptastorus\\descriptors\\rdNormalizedDescriptors.py\", line 49, in cdf\n",
      "    v = dist.cdf(np.clip(v, minV, maxV), loc=loc, scale=scale, *arg)\n",
      "  File \"<__array_function__ internals>\", line 6, in clip\n",
      "  File \"C:\\Users\\Julia\\anaconda3\\envs\\multiPurpose\\lib\\site-packages\\numpy\\core\\fromnumeric.py\", line 2097, in clip\n",
      "    return _wrapfunc(a, 'clip', a_min, a_max, out=out, **kwargs)\n",
      "  File \"C:\\Users\\Julia\\anaconda3\\envs\\multiPurpose\\lib\\site-packages\\numpy\\core\\fromnumeric.py\", line 55, in _wrapfunc\n",
      "    return _wrapit(obj, method, *args, **kwds)\n",
      "  File \"C:\\Users\\Julia\\anaconda3\\envs\\multiPurpose\\lib\\site-packages\\numpy\\core\\fromnumeric.py\", line 44, in _wrapit\n",
      "    result = getattr(asarray(obj), method)(*args, **kwds)\n",
      "  File \"C:\\Users\\Julia\\anaconda3\\envs\\multiPurpose\\lib\\site-packages\\numpy\\core\\_methods.py\", line 141, in _clip\n",
      "    um.clip, a, min, max, out=out, casting=casting, **kwargs)\n",
      "  File \"C:\\Users\\Julia\\anaconda3\\envs\\multiPurpose\\lib\\site-packages\\numpy\\core\\_methods.py\", line 94, in _clip_dep_invoke_with_casting\n",
      "    return ufunc(*args, out=out, **kwargs)\n",
      "TypeError: '>=' not supported between instances of 'NoneType' and 'float'\n",
      "ERROR:root:function application failed (qed->O=C(NC1Cc2ccccc2N(CCO)C1=O)c1cc2cc(Cl)ccc2[nH]1)\n",
      "Traceback (most recent call last):\n",
      "  File \"C:\\Users\\Julia\\anaconda3\\envs\\multiPurpose\\lib\\site-packages\\descriptastorus-2.0.0.32-py3.7.egg\\descriptastorus\\descriptors\\rdDescriptors.py\", line 243, in applyFunc\n",
      "    return FUNCS[name](m)\n",
      "  File \"C:\\Users\\Julia\\anaconda3\\envs\\multiPurpose\\lib\\site-packages\\rdkit\\Chem\\QED.py\", line 286, in qed\n",
      "    qedProperties = properties(mol)\n",
      "  File \"C:\\Users\\Julia\\anaconda3\\envs\\multiPurpose\\lib\\site-packages\\rdkit\\Chem\\QED.py\", line 259, in properties\n",
      "    ALERTS=sum(1 for alert in StructuralAlerts if mol.HasSubstructMatch(alert)),\n",
      "  File \"C:\\Users\\Julia\\anaconda3\\envs\\multiPurpose\\lib\\site-packages\\rdkit\\Chem\\QED.py\", line 259, in <genexpr>\n",
      "    ALERTS=sum(1 for alert in StructuralAlerts if mol.HasSubstructMatch(alert)),\n",
      "KeyboardInterrupt\n",
      "ERROR:root:Could not compute qed for molecule\n",
      "Traceback (most recent call last):\n",
      "  File \"C:\\Users\\Julia\\anaconda3\\envs\\multiPurpose\\lib\\site-packages\\descriptastorus-2.0.0.32-py3.7.egg\\descriptastorus\\descriptors\\rdNormalizedDescriptors.py\", line 62, in applyNormalizedFunc\n",
      "    return cdfs[name](rdDescriptors.applyFunc(name,m))\n",
      "  File \"C:\\Users\\Julia\\anaconda3\\envs\\multiPurpose\\lib\\site-packages\\descriptastorus-2.0.0.32-py3.7.egg\\descriptastorus\\descriptors\\rdNormalizedDescriptors.py\", line 49, in cdf\n",
      "    v = dist.cdf(np.clip(v, minV, maxV), loc=loc, scale=scale, *arg)\n",
      "  File \"<__array_function__ internals>\", line 6, in clip\n",
      "  File \"C:\\Users\\Julia\\anaconda3\\envs\\multiPurpose\\lib\\site-packages\\numpy\\core\\fromnumeric.py\", line 2097, in clip\n",
      "    return _wrapfunc(a, 'clip', a_min, a_max, out=out, **kwargs)\n",
      "  File \"C:\\Users\\Julia\\anaconda3\\envs\\multiPurpose\\lib\\site-packages\\numpy\\core\\fromnumeric.py\", line 55, in _wrapfunc\n",
      "    return _wrapit(obj, method, *args, **kwds)\n",
      "  File \"C:\\Users\\Julia\\anaconda3\\envs\\multiPurpose\\lib\\site-packages\\numpy\\core\\fromnumeric.py\", line 44, in _wrapit\n",
      "    result = getattr(asarray(obj), method)(*args, **kwds)\n",
      "  File \"C:\\Users\\Julia\\anaconda3\\envs\\multiPurpose\\lib\\site-packages\\numpy\\core\\_methods.py\", line 141, in _clip\n",
      "    um.clip, a, min, max, out=out, casting=casting, **kwargs)\n",
      "  File \"C:\\Users\\Julia\\anaconda3\\envs\\multiPurpose\\lib\\site-packages\\numpy\\core\\_methods.py\", line 94, in _clip_dep_invoke_with_casting\n",
      "    return ufunc(*args, out=out, **kwargs)\n",
      "TypeError: '>=' not supported between instances of 'NoneType' and 'float'\n",
      "ERROR:root:Could not compute Chi2v for molecule\n",
      "Traceback (most recent call last):\n",
      "  File \"C:\\Users\\Julia\\anaconda3\\envs\\multiPurpose\\lib\\site-packages\\descriptastorus-2.0.0.32-py3.7.egg\\descriptastorus\\descriptors\\rdNormalizedDescriptors.py\", line 62, in applyNormalizedFunc\n",
      "    return cdfs[name](rdDescriptors.applyFunc(name,m))\n",
      "  File \"C:\\Users\\Julia\\anaconda3\\envs\\multiPurpose\\lib\\site-packages\\descriptastorus-2.0.0.32-py3.7.egg\\descriptastorus\\descriptors\\rdNormalizedDescriptors.py\", line 49, in cdf\n",
      "    v = dist.cdf(np.clip(v, minV, maxV), loc=loc, scale=scale, *arg)\n",
      "  File \"C:\\Users\\Julia\\anaconda3\\envs\\multiPurpose\\lib\\site-packages\\scipy\\stats\\_distn_infrastructure.py\", line 1851, in cdf\n",
      "    place(output, cond2, 1.0)\n",
      "  File \"<__array_function__ internals>\", line 6, in place\n",
      "  File \"C:\\Users\\Julia\\anaconda3\\envs\\multiPurpose\\lib\\site-packages\\numpy\\lib\\function_base.py\", line 1742, in place\n",
      "    return _insert(arr, mask, vals)\n",
      "KeyboardInterrupt\n",
      "ERROR:root:Could not compute EState_VSA8 for molecule\n",
      "Traceback (most recent call last):\n",
      "  File \"C:\\Users\\Julia\\anaconda3\\envs\\multiPurpose\\lib\\site-packages\\descriptastorus-2.0.0.32-py3.7.egg\\descriptastorus\\descriptors\\rdNormalizedDescriptors.py\", line 62, in applyNormalizedFunc\n",
      "    return cdfs[name](rdDescriptors.applyFunc(name,m))\n",
      "  File \"C:\\Users\\Julia\\anaconda3\\envs\\multiPurpose\\lib\\site-packages\\descriptastorus-2.0.0.32-py3.7.egg\\descriptastorus\\descriptors\\rdNormalizedDescriptors.py\", line 49, in cdf\n",
      "    v = dist.cdf(np.clip(v, minV, maxV), loc=loc, scale=scale, *arg)\n",
      "  File \"C:\\Users\\Julia\\anaconda3\\envs\\multiPurpose\\lib\\site-packages\\scipy\\stats\\_distn_infrastructure.py\", line 1850, in cdf\n",
      "    place(output, (1-cond0)+np.isnan(x), self.badvalue)\n",
      "  File \"<__array_function__ internals>\", line 6, in place\n",
      "  File \"C:\\Users\\Julia\\anaconda3\\envs\\multiPurpose\\lib\\site-packages\\numpy\\lib\\function_base.py\", line 1742, in place\n",
      "    return _insert(arr, mask, vals)\n",
      "KeyboardInterrupt\n",
      "ERROR:root:function application failed (Ipc->Cc1nc(/C=C2\\SC(=S)N(CC(=O)O)C2=O)c(C)o1)\n",
      "Traceback (most recent call last):\n",
      "  File \"C:\\Users\\Julia\\anaconda3\\envs\\multiPurpose\\lib\\site-packages\\descriptastorus-2.0.0.32-py3.7.egg\\descriptastorus\\descriptors\\rdDescriptors.py\", line 243, in applyFunc\n",
      "    return FUNCS[name](m)\n",
      "  File \"C:\\Users\\Julia\\anaconda3\\envs\\multiPurpose\\lib\\site-packages\\rdkit\\Chem\\GraphDescriptors.py\", line 124, in Ipc\n",
      "    cPoly = abs(Graphs.CharacteristicPolynomial(mol, adjMat))\n",
      "  File \"C:\\Users\\Julia\\anaconda3\\envs\\multiPurpose\\lib\\site-packages\\rdkit\\Chem\\Graphs.py\", line 48, in CharacteristicPolynomial\n",
      "    An = numpy.dot(A, Bn)\n",
      "  File \"<__array_function__ internals>\", line 6, in dot\n",
      "KeyboardInterrupt\n",
      "ERROR:root:Could not compute Ipc for molecule\n",
      "Traceback (most recent call last):\n",
      "  File \"C:\\Users\\Julia\\anaconda3\\envs\\multiPurpose\\lib\\site-packages\\descriptastorus-2.0.0.32-py3.7.egg\\descriptastorus\\descriptors\\rdNormalizedDescriptors.py\", line 62, in applyNormalizedFunc\n",
      "    return cdfs[name](rdDescriptors.applyFunc(name,m))\n",
      "  File \"C:\\Users\\Julia\\anaconda3\\envs\\multiPurpose\\lib\\site-packages\\descriptastorus-2.0.0.32-py3.7.egg\\descriptastorus\\descriptors\\rdNormalizedDescriptors.py\", line 49, in cdf\n",
      "    v = dist.cdf(np.clip(v, minV, maxV), loc=loc, scale=scale, *arg)\n",
      "  File \"<__array_function__ internals>\", line 6, in clip\n",
      "  File \"C:\\Users\\Julia\\anaconda3\\envs\\multiPurpose\\lib\\site-packages\\numpy\\core\\fromnumeric.py\", line 2097, in clip\n",
      "    return _wrapfunc(a, 'clip', a_min, a_max, out=out, **kwargs)\n",
      "  File \"C:\\Users\\Julia\\anaconda3\\envs\\multiPurpose\\lib\\site-packages\\numpy\\core\\fromnumeric.py\", line 55, in _wrapfunc\n",
      "    return _wrapit(obj, method, *args, **kwds)\n",
      "  File \"C:\\Users\\Julia\\anaconda3\\envs\\multiPurpose\\lib\\site-packages\\numpy\\core\\fromnumeric.py\", line 44, in _wrapit\n",
      "    result = getattr(asarray(obj), method)(*args, **kwds)\n",
      "  File \"C:\\Users\\Julia\\anaconda3\\envs\\multiPurpose\\lib\\site-packages\\numpy\\core\\_methods.py\", line 141, in _clip\n",
      "    um.clip, a, min, max, out=out, casting=casting, **kwargs)\n",
      "  File \"C:\\Users\\Julia\\anaconda3\\envs\\multiPurpose\\lib\\site-packages\\numpy\\core\\_methods.py\", line 94, in _clip_dep_invoke_with_casting\n",
      "    return ufunc(*args, out=out, **kwargs)\n",
      "TypeError: '>=' not supported between instances of 'NoneType' and 'float'\n"
     ]
    },
    {
     "name": "stderr",
     "output_type": "stream",
     "text": [
      "ERROR:root:Could not compute NOCount for molecule\n",
      "Traceback (most recent call last):\n",
      "  File \"C:\\Users\\Julia\\anaconda3\\envs\\multiPurpose\\lib\\site-packages\\descriptastorus-2.0.0.32-py3.7.egg\\descriptastorus\\descriptors\\rdNormalizedDescriptors.py\", line 62, in applyNormalizedFunc\n",
      "    return cdfs[name](rdDescriptors.applyFunc(name,m))\n",
      "  File \"C:\\Users\\Julia\\anaconda3\\envs\\multiPurpose\\lib\\site-packages\\descriptastorus-2.0.0.32-py3.7.egg\\descriptastorus\\descriptors\\rdNormalizedDescriptors.py\", line 49, in cdf\n",
      "    v = dist.cdf(np.clip(v, minV, maxV), loc=loc, scale=scale, *arg)\n",
      "  File \"C:\\Users\\Julia\\anaconda3\\envs\\multiPurpose\\lib\\site-packages\\scipy\\stats\\_distn_infrastructure.py\", line 1851, in cdf\n",
      "    place(output, cond2, 1.0)\n",
      "  File \"<__array_function__ internals>\", line 6, in place\n",
      "  File \"C:\\Users\\Julia\\anaconda3\\envs\\multiPurpose\\lib\\site-packages\\numpy\\lib\\function_base.py\", line 1742, in place\n",
      "    return _insert(arr, mask, vals)\n",
      "KeyboardInterrupt\n",
      "ERROR:root:function application failed (fr_morpholine->N#CC(C(=O)Nc1ccc(-c2ccccc2)cc1)C(=O)C1CC1)\n",
      "Traceback (most recent call last):\n",
      "  File \"C:\\Users\\Julia\\anaconda3\\envs\\multiPurpose\\lib\\site-packages\\descriptastorus-2.0.0.32-py3.7.egg\\descriptastorus\\descriptors\\rdDescriptors.py\", line 243, in applyFunc\n",
      "    return FUNCS[name](m)\n",
      "  File \"C:\\Users\\Julia\\anaconda3\\envs\\multiPurpose\\lib\\site-packages\\rdkit\\Chem\\Fragments.py\", line 46, in <lambda>\n",
      "    fn = lambda mol, countUnique=True, pattern=patt: _CountMatches(mol, pattern, unique=countUnique)\n",
      "  File \"C:\\Users\\Julia\\anaconda3\\envs\\multiPurpose\\lib\\site-packages\\rdkit\\Chem\\Fragments.py\", line 24, in _CountMatches\n",
      "    return len(mol.GetSubstructMatches(patt, uniquify=unique))\n",
      "  File \"C:\\Users\\Julia\\anaconda3\\envs\\multiPurpose\\lib\\site-packages\\rdkit\\Chem\\Draw\\IPythonConsole.py\", line 155, in _GetSubstructMatches\n",
      "    res = mol.__GetSubstructMatches(query, *args, **kwargs)\n",
      "KeyboardInterrupt\n",
      "ERROR:root:Could not compute fr_morpholine for molecule\n",
      "Traceback (most recent call last):\n",
      "  File \"C:\\Users\\Julia\\anaconda3\\envs\\multiPurpose\\lib\\site-packages\\descriptastorus-2.0.0.32-py3.7.egg\\descriptastorus\\descriptors\\rdNormalizedDescriptors.py\", line 62, in applyNormalizedFunc\n",
      "    return cdfs[name](rdDescriptors.applyFunc(name,m))\n",
      "  File \"C:\\Users\\Julia\\anaconda3\\envs\\multiPurpose\\lib\\site-packages\\descriptastorus-2.0.0.32-py3.7.egg\\descriptastorus\\descriptors\\rdNormalizedDescriptors.py\", line 49, in cdf\n",
      "    v = dist.cdf(np.clip(v, minV, maxV), loc=loc, scale=scale, *arg)\n",
      "  File \"<__array_function__ internals>\", line 6, in clip\n",
      "  File \"C:\\Users\\Julia\\anaconda3\\envs\\multiPurpose\\lib\\site-packages\\numpy\\core\\fromnumeric.py\", line 2097, in clip\n",
      "    return _wrapfunc(a, 'clip', a_min, a_max, out=out, **kwargs)\n",
      "  File \"C:\\Users\\Julia\\anaconda3\\envs\\multiPurpose\\lib\\site-packages\\numpy\\core\\fromnumeric.py\", line 55, in _wrapfunc\n",
      "    return _wrapit(obj, method, *args, **kwds)\n",
      "  File \"C:\\Users\\Julia\\anaconda3\\envs\\multiPurpose\\lib\\site-packages\\numpy\\core\\fromnumeric.py\", line 44, in _wrapit\n",
      "    result = getattr(asarray(obj), method)(*args, **kwds)\n",
      "  File \"C:\\Users\\Julia\\anaconda3\\envs\\multiPurpose\\lib\\site-packages\\numpy\\core\\_methods.py\", line 141, in _clip\n",
      "    um.clip, a, min, max, out=out, casting=casting, **kwargs)\n",
      "  File \"C:\\Users\\Julia\\anaconda3\\envs\\multiPurpose\\lib\\site-packages\\numpy\\core\\_methods.py\", line 94, in _clip_dep_invoke_with_casting\n",
      "    return ufunc(*args, out=out, **kwargs)\n",
      "TypeError: '>=' not supported between instances of 'NoneType' and 'int'\n",
      "ERROR:root:Could not compute MolMR for molecule\n",
      "Traceback (most recent call last):\n",
      "  File \"C:\\Users\\Julia\\anaconda3\\envs\\multiPurpose\\lib\\site-packages\\descriptastorus-2.0.0.32-py3.7.egg\\descriptastorus\\descriptors\\rdNormalizedDescriptors.py\", line 62, in applyNormalizedFunc\n",
      "    return cdfs[name](rdDescriptors.applyFunc(name,m))\n",
      "  File \"C:\\Users\\Julia\\anaconda3\\envs\\multiPurpose\\lib\\site-packages\\descriptastorus-2.0.0.32-py3.7.egg\\descriptastorus\\descriptors\\rdNormalizedDescriptors.py\", line 49, in cdf\n",
      "    v = dist.cdf(np.clip(v, minV, maxV), loc=loc, scale=scale, *arg)\n",
      "  File \"C:\\Users\\Julia\\anaconda3\\envs\\multiPurpose\\lib\\site-packages\\scipy\\stats\\_distn_infrastructure.py\", line 1851, in cdf\n",
      "    place(output, cond2, 1.0)\n",
      "  File \"<__array_function__ internals>\", line 6, in place\n",
      "  File \"C:\\Users\\Julia\\anaconda3\\envs\\multiPurpose\\lib\\site-packages\\numpy\\lib\\function_base.py\", line 1742, in place\n",
      "    return _insert(arr, mask, vals)\n",
      "KeyboardInterrupt\n",
      "ERROR:root:function application failed (fr_COO->CC(=O)C(C#N)C(=O)Nc1ccc(-c2c(Cl)cccc2Cl)cc1Cl)\n",
      "Traceback (most recent call last):\n",
      "  File \"C:\\Users\\Julia\\anaconda3\\envs\\multiPurpose\\lib\\site-packages\\descriptastorus-2.0.0.32-py3.7.egg\\descriptastorus\\descriptors\\rdDescriptors.py\", line 243, in applyFunc\n",
      "    return FUNCS[name](m)\n",
      "  File \"C:\\Users\\Julia\\anaconda3\\envs\\multiPurpose\\lib\\site-packages\\rdkit\\Chem\\Fragments.py\", line 46, in <lambda>\n",
      "    fn = lambda mol, countUnique=True, pattern=patt: _CountMatches(mol, pattern, unique=countUnique)\n",
      "  File \"C:\\Users\\Julia\\anaconda3\\envs\\multiPurpose\\lib\\site-packages\\rdkit\\Chem\\Fragments.py\", line 24, in _CountMatches\n",
      "    return len(mol.GetSubstructMatches(patt, uniquify=unique))\n",
      "  File \"C:\\Users\\Julia\\anaconda3\\envs\\multiPurpose\\lib\\site-packages\\rdkit\\Chem\\Draw\\IPythonConsole.py\", line 155, in _GetSubstructMatches\n",
      "    res = mol.__GetSubstructMatches(query, *args, **kwargs)\n",
      "KeyboardInterrupt\n",
      "ERROR:root:Could not compute fr_COO for molecule\n",
      "Traceback (most recent call last):\n",
      "  File \"C:\\Users\\Julia\\anaconda3\\envs\\multiPurpose\\lib\\site-packages\\descriptastorus-2.0.0.32-py3.7.egg\\descriptastorus\\descriptors\\rdNormalizedDescriptors.py\", line 62, in applyNormalizedFunc\n",
      "    return cdfs[name](rdDescriptors.applyFunc(name,m))\n",
      "  File \"C:\\Users\\Julia\\anaconda3\\envs\\multiPurpose\\lib\\site-packages\\descriptastorus-2.0.0.32-py3.7.egg\\descriptastorus\\descriptors\\rdNormalizedDescriptors.py\", line 49, in cdf\n",
      "    v = dist.cdf(np.clip(v, minV, maxV), loc=loc, scale=scale, *arg)\n",
      "  File \"<__array_function__ internals>\", line 6, in clip\n",
      "  File \"C:\\Users\\Julia\\anaconda3\\envs\\multiPurpose\\lib\\site-packages\\numpy\\core\\fromnumeric.py\", line 2097, in clip\n",
      "    return _wrapfunc(a, 'clip', a_min, a_max, out=out, **kwargs)\n",
      "  File \"C:\\Users\\Julia\\anaconda3\\envs\\multiPurpose\\lib\\site-packages\\numpy\\core\\fromnumeric.py\", line 55, in _wrapfunc\n",
      "    return _wrapit(obj, method, *args, **kwds)\n",
      "  File \"C:\\Users\\Julia\\anaconda3\\envs\\multiPurpose\\lib\\site-packages\\numpy\\core\\fromnumeric.py\", line 44, in _wrapit\n",
      "    result = getattr(asarray(obj), method)(*args, **kwds)\n",
      "  File \"C:\\Users\\Julia\\anaconda3\\envs\\multiPurpose\\lib\\site-packages\\numpy\\core\\_methods.py\", line 141, in _clip\n",
      "    um.clip, a, min, max, out=out, casting=casting, **kwargs)\n",
      "  File \"C:\\Users\\Julia\\anaconda3\\envs\\multiPurpose\\lib\\site-packages\\numpy\\core\\_methods.py\", line 94, in _clip_dep_invoke_with_casting\n",
      "    return ufunc(*args, out=out, **kwargs)\n",
      "TypeError: '>=' not supported between instances of 'NoneType' and 'int'\n",
      "ERROR:root:function application failed (Ipc->CC(=O)C(C#N)C(=O)Nc1ccc(-c2ccccc2Cl)c(Cl)c1)\n",
      "Traceback (most recent call last):\n",
      "  File \"C:\\Users\\Julia\\anaconda3\\envs\\multiPurpose\\lib\\site-packages\\descriptastorus-2.0.0.32-py3.7.egg\\descriptastorus\\descriptors\\rdDescriptors.py\", line 243, in applyFunc\n",
      "    return FUNCS[name](m)\n",
      "  File \"C:\\Users\\Julia\\anaconda3\\envs\\multiPurpose\\lib\\site-packages\\rdkit\\Chem\\GraphDescriptors.py\", line 124, in Ipc\n",
      "    cPoly = abs(Graphs.CharacteristicPolynomial(mol, adjMat))\n",
      "  File \"C:\\Users\\Julia\\anaconda3\\envs\\multiPurpose\\lib\\site-packages\\rdkit\\Chem\\Graphs.py\", line 48, in CharacteristicPolynomial\n",
      "    An = numpy.dot(A, Bn)\n",
      "  File \"<__array_function__ internals>\", line 6, in dot\n",
      "KeyboardInterrupt\n",
      "ERROR:root:Could not compute Ipc for molecule\n",
      "Traceback (most recent call last):\n",
      "  File \"C:\\Users\\Julia\\anaconda3\\envs\\multiPurpose\\lib\\site-packages\\descriptastorus-2.0.0.32-py3.7.egg\\descriptastorus\\descriptors\\rdNormalizedDescriptors.py\", line 62, in applyNormalizedFunc\n",
      "    return cdfs[name](rdDescriptors.applyFunc(name,m))\n",
      "  File \"C:\\Users\\Julia\\anaconda3\\envs\\multiPurpose\\lib\\site-packages\\descriptastorus-2.0.0.32-py3.7.egg\\descriptastorus\\descriptors\\rdNormalizedDescriptors.py\", line 49, in cdf\n",
      "    v = dist.cdf(np.clip(v, minV, maxV), loc=loc, scale=scale, *arg)\n",
      "  File \"<__array_function__ internals>\", line 6, in clip\n",
      "  File \"C:\\Users\\Julia\\anaconda3\\envs\\multiPurpose\\lib\\site-packages\\numpy\\core\\fromnumeric.py\", line 2097, in clip\n",
      "    return _wrapfunc(a, 'clip', a_min, a_max, out=out, **kwargs)\n",
      "  File \"C:\\Users\\Julia\\anaconda3\\envs\\multiPurpose\\lib\\site-packages\\numpy\\core\\fromnumeric.py\", line 55, in _wrapfunc\n",
      "    return _wrapit(obj, method, *args, **kwds)\n",
      "  File \"C:\\Users\\Julia\\anaconda3\\envs\\multiPurpose\\lib\\site-packages\\numpy\\core\\fromnumeric.py\", line 44, in _wrapit\n",
      "    result = getattr(asarray(obj), method)(*args, **kwds)\n",
      "  File \"C:\\Users\\Julia\\anaconda3\\envs\\multiPurpose\\lib\\site-packages\\numpy\\core\\_methods.py\", line 141, in _clip\n",
      "    um.clip, a, min, max, out=out, casting=casting, **kwargs)\n",
      "  File \"C:\\Users\\Julia\\anaconda3\\envs\\multiPurpose\\lib\\site-packages\\numpy\\core\\_methods.py\", line 94, in _clip_dep_invoke_with_casting\n",
      "    return ufunc(*args, out=out, **kwargs)\n",
      "TypeError: '>=' not supported between instances of 'NoneType' and 'float'\n"
     ]
    },
    {
     "name": "stderr",
     "output_type": "stream",
     "text": [
      "ERROR:root:function application failed (fr_Al_COO->CC(=O)C(C#N)C(=O)Nc1ccc(-c2cccc(Cl)c2Cl)cc1)\n",
      "Traceback (most recent call last):\n",
      "  File \"C:\\Users\\Julia\\anaconda3\\envs\\multiPurpose\\lib\\site-packages\\descriptastorus-2.0.0.32-py3.7.egg\\descriptastorus\\descriptors\\rdDescriptors.py\", line 243, in applyFunc\n",
      "    return FUNCS[name](m)\n",
      "  File \"C:\\Users\\Julia\\anaconda3\\envs\\multiPurpose\\lib\\site-packages\\rdkit\\Chem\\Fragments.py\", line 46, in <lambda>\n",
      "    fn = lambda mol, countUnique=True, pattern=patt: _CountMatches(mol, pattern, unique=countUnique)\n",
      "  File \"C:\\Users\\Julia\\anaconda3\\envs\\multiPurpose\\lib\\site-packages\\rdkit\\Chem\\Fragments.py\", line 24, in _CountMatches\n",
      "    return len(mol.GetSubstructMatches(patt, uniquify=unique))\n",
      "  File \"C:\\Users\\Julia\\anaconda3\\envs\\multiPurpose\\lib\\site-packages\\rdkit\\Chem\\Draw\\IPythonConsole.py\", line 155, in _GetSubstructMatches\n",
      "    res = mol.__GetSubstructMatches(query, *args, **kwargs)\n",
      "KeyboardInterrupt\n",
      "ERROR:root:Could not compute fr_Al_COO for molecule\n",
      "Traceback (most recent call last):\n",
      "  File \"C:\\Users\\Julia\\anaconda3\\envs\\multiPurpose\\lib\\site-packages\\descriptastorus-2.0.0.32-py3.7.egg\\descriptastorus\\descriptors\\rdNormalizedDescriptors.py\", line 62, in applyNormalizedFunc\n",
      "    return cdfs[name](rdDescriptors.applyFunc(name,m))\n",
      "  File \"C:\\Users\\Julia\\anaconda3\\envs\\multiPurpose\\lib\\site-packages\\descriptastorus-2.0.0.32-py3.7.egg\\descriptastorus\\descriptors\\rdNormalizedDescriptors.py\", line 49, in cdf\n",
      "    v = dist.cdf(np.clip(v, minV, maxV), loc=loc, scale=scale, *arg)\n",
      "  File \"<__array_function__ internals>\", line 6, in clip\n",
      "  File \"C:\\Users\\Julia\\anaconda3\\envs\\multiPurpose\\lib\\site-packages\\numpy\\core\\fromnumeric.py\", line 2097, in clip\n",
      "    return _wrapfunc(a, 'clip', a_min, a_max, out=out, **kwargs)\n",
      "  File \"C:\\Users\\Julia\\anaconda3\\envs\\multiPurpose\\lib\\site-packages\\numpy\\core\\fromnumeric.py\", line 55, in _wrapfunc\n",
      "    return _wrapit(obj, method, *args, **kwds)\n",
      "  File \"C:\\Users\\Julia\\anaconda3\\envs\\multiPurpose\\lib\\site-packages\\numpy\\core\\fromnumeric.py\", line 44, in _wrapit\n",
      "    result = getattr(asarray(obj), method)(*args, **kwds)\n",
      "  File \"C:\\Users\\Julia\\anaconda3\\envs\\multiPurpose\\lib\\site-packages\\numpy\\core\\_methods.py\", line 141, in _clip\n",
      "    um.clip, a, min, max, out=out, casting=casting, **kwargs)\n",
      "  File \"C:\\Users\\Julia\\anaconda3\\envs\\multiPurpose\\lib\\site-packages\\numpy\\core\\_methods.py\", line 94, in _clip_dep_invoke_with_casting\n",
      "    return ufunc(*args, out=out, **kwargs)\n",
      "TypeError: '>=' not supported between instances of 'NoneType' and 'int'\n",
      "ERROR:root:Could not compute VSA_EState8 for molecule\n",
      "Traceback (most recent call last):\n",
      "  File \"C:\\Users\\Julia\\anaconda3\\envs\\multiPurpose\\lib\\site-packages\\descriptastorus-2.0.0.32-py3.7.egg\\descriptastorus\\descriptors\\rdNormalizedDescriptors.py\", line 62, in applyNormalizedFunc\n",
      "    return cdfs[name](rdDescriptors.applyFunc(name,m))\n",
      "  File \"C:\\Users\\Julia\\anaconda3\\envs\\multiPurpose\\lib\\site-packages\\descriptastorus-2.0.0.32-py3.7.egg\\descriptastorus\\descriptors\\rdNormalizedDescriptors.py\", line 49, in cdf\n",
      "    v = dist.cdf(np.clip(v, minV, maxV), loc=loc, scale=scale, *arg)\n",
      "  File \"C:\\Users\\Julia\\anaconda3\\envs\\multiPurpose\\lib\\site-packages\\scipy\\stats\\_distn_infrastructure.py\", line 1853, in cdf\n",
      "    goodargs = argsreduce(cond, *((x,)+args))\n",
      "  File \"C:\\Users\\Julia\\anaconda3\\envs\\multiPurpose\\lib\\site-packages\\scipy\\stats\\_distn_infrastructure.py\", line 538, in argsreduce\n",
      "    return [np.extract(cond, arr1 * expand_arr) for arr1 in newargs]\n",
      "  File \"C:\\Users\\Julia\\anaconda3\\envs\\multiPurpose\\lib\\site-packages\\scipy\\stats\\_distn_infrastructure.py\", line 538, in <listcomp>\n",
      "    return [np.extract(cond, arr1 * expand_arr) for arr1 in newargs]\n",
      "  File \"<__array_function__ internals>\", line 6, in extract\n",
      "  File \"C:\\Users\\Julia\\anaconda3\\envs\\multiPurpose\\lib\\site-packages\\numpy\\lib\\function_base.py\", line 1694, in extract\n",
      "    return _nx.take(ravel(arr), nonzero(ravel(condition))[0])\n",
      "  File \"<__array_function__ internals>\", line 6, in take\n",
      "  File \"C:\\Users\\Julia\\anaconda3\\envs\\multiPurpose\\lib\\site-packages\\numpy\\core\\fromnumeric.py\", line 191, in take\n",
      "    return _wrapfunc(a, 'take', indices, axis=axis, out=out, mode=mode)\n",
      "  File \"C:\\Users\\Julia\\anaconda3\\envs\\multiPurpose\\lib\\site-packages\\numpy\\core\\fromnumeric.py\", line 58, in _wrapfunc\n",
      "    return bound(*args, **kwds)\n",
      "KeyboardInterrupt\n",
      "ERROR:root:Could not compute FractionCSP3 for molecule\n",
      "Traceback (most recent call last):\n",
      "  File \"C:\\Users\\Julia\\anaconda3\\envs\\multiPurpose\\lib\\site-packages\\descriptastorus-2.0.0.32-py3.7.egg\\descriptastorus\\descriptors\\rdNormalizedDescriptors.py\", line 62, in applyNormalizedFunc\n",
      "    return cdfs[name](rdDescriptors.applyFunc(name,m))\n",
      "  File \"C:\\Users\\Julia\\anaconda3\\envs\\multiPurpose\\lib\\site-packages\\descriptastorus-2.0.0.32-py3.7.egg\\descriptastorus\\descriptors\\rdNormalizedDescriptors.py\", line 49, in cdf\n",
      "    v = dist.cdf(np.clip(v, minV, maxV), loc=loc, scale=scale, *arg)\n",
      "  File \"C:\\Users\\Julia\\anaconda3\\envs\\multiPurpose\\lib\\site-packages\\scipy\\stats\\_distn_infrastructure.py\", line 1851, in cdf\n",
      "    place(output, cond2, 1.0)\n",
      "  File \"<__array_function__ internals>\", line 6, in place\n",
      "  File \"C:\\Users\\Julia\\anaconda3\\envs\\multiPurpose\\lib\\site-packages\\numpy\\lib\\function_base.py\", line 1742, in place\n",
      "    return _insert(arr, mask, vals)\n",
      "KeyboardInterrupt\n",
      "ERROR:root:Could not compute PEOE_VSA12 for molecule\n",
      "Traceback (most recent call last):\n",
      "  File \"C:\\Users\\Julia\\anaconda3\\envs\\multiPurpose\\lib\\site-packages\\descriptastorus-2.0.0.32-py3.7.egg\\descriptastorus\\descriptors\\rdNormalizedDescriptors.py\", line 62, in applyNormalizedFunc\n",
      "    return cdfs[name](rdDescriptors.applyFunc(name,m))\n",
      "  File \"C:\\Users\\Julia\\anaconda3\\envs\\multiPurpose\\lib\\site-packages\\descriptastorus-2.0.0.32-py3.7.egg\\descriptastorus\\descriptors\\rdNormalizedDescriptors.py\", line 49, in cdf\n",
      "    v = dist.cdf(np.clip(v, minV, maxV), loc=loc, scale=scale, *arg)\n",
      "  File \"C:\\Users\\Julia\\anaconda3\\envs\\multiPurpose\\lib\\site-packages\\scipy\\stats\\_distn_infrastructure.py\", line 1851, in cdf\n",
      "    place(output, cond2, 1.0)\n",
      "  File \"<__array_function__ internals>\", line 6, in place\n",
      "  File \"C:\\Users\\Julia\\anaconda3\\envs\\multiPurpose\\lib\\site-packages\\numpy\\lib\\function_base.py\", line 1742, in place\n",
      "    return _insert(arr, mask, vals)\n",
      "KeyboardInterrupt\n",
      "ERROR:root:Could not compute EState_VSA4 for molecule\n",
      "Traceback (most recent call last):\n",
      "  File \"C:\\Users\\Julia\\anaconda3\\envs\\multiPurpose\\lib\\site-packages\\descriptastorus-2.0.0.32-py3.7.egg\\descriptastorus\\descriptors\\rdNormalizedDescriptors.py\", line 62, in applyNormalizedFunc\n",
      "    return cdfs[name](rdDescriptors.applyFunc(name,m))\n",
      "  File \"C:\\Users\\Julia\\anaconda3\\envs\\multiPurpose\\lib\\site-packages\\descriptastorus-2.0.0.32-py3.7.egg\\descriptastorus\\descriptors\\rdNormalizedDescriptors.py\", line 49, in cdf\n",
      "    v = dist.cdf(np.clip(v, minV, maxV), loc=loc, scale=scale, *arg)\n",
      "  File \"C:\\Users\\Julia\\anaconda3\\envs\\multiPurpose\\lib\\site-packages\\scipy\\stats\\_distn_infrastructure.py\", line 1851, in cdf\n",
      "    place(output, cond2, 1.0)\n",
      "  File \"<__array_function__ internals>\", line 6, in place\n",
      "  File \"C:\\Users\\Julia\\anaconda3\\envs\\multiPurpose\\lib\\site-packages\\numpy\\lib\\function_base.py\", line 1742, in place\n",
      "    return _insert(arr, mask, vals)\n",
      "KeyboardInterrupt\n",
      "ERROR:root:function application failed (Ipc->CCOCCCO[C@@H](c1ccccc1)[C@@H]1CCCN(C(=O)N[C@H](CNC)CC2CCCCC2)C1)\n",
      "Traceback (most recent call last):\n",
      "  File \"C:\\Users\\Julia\\anaconda3\\envs\\multiPurpose\\lib\\site-packages\\descriptastorus-2.0.0.32-py3.7.egg\\descriptastorus\\descriptors\\rdDescriptors.py\", line 243, in applyFunc\n",
      "    return FUNCS[name](m)\n",
      "  File \"C:\\Users\\Julia\\anaconda3\\envs\\multiPurpose\\lib\\site-packages\\rdkit\\Chem\\GraphDescriptors.py\", line 124, in Ipc\n",
      "    cPoly = abs(Graphs.CharacteristicPolynomial(mol, adjMat))\n",
      "  File \"C:\\Users\\Julia\\anaconda3\\envs\\multiPurpose\\lib\\site-packages\\rdkit\\Chem\\Graphs.py\", line 41, in CharacteristicPolynomial\n",
      "    I = 1. * numpy.identity(nAtoms)\n",
      "  File \"C:\\Users\\Julia\\anaconda3\\envs\\multiPurpose\\lib\\site-packages\\numpy\\core\\numeric.py\", line 2114, in identity\n",
      "    return eye(n, dtype=dtype)\n",
      "  File \"C:\\Users\\Julia\\anaconda3\\envs\\multiPurpose\\lib\\site-packages\\numpy\\lib\\twodim_base.py\", line 199, in eye\n",
      "    m = zeros((N, M), dtype=dtype, order=order)\n",
      "KeyboardInterrupt\n"
     ]
    },
    {
     "name": "stderr",
     "output_type": "stream",
     "text": [
      "ERROR:root:Could not compute Ipc for molecule\n",
      "Traceback (most recent call last):\n",
      "  File \"C:\\Users\\Julia\\anaconda3\\envs\\multiPurpose\\lib\\site-packages\\descriptastorus-2.0.0.32-py3.7.egg\\descriptastorus\\descriptors\\rdNormalizedDescriptors.py\", line 62, in applyNormalizedFunc\n",
      "    return cdfs[name](rdDescriptors.applyFunc(name,m))\n",
      "  File \"C:\\Users\\Julia\\anaconda3\\envs\\multiPurpose\\lib\\site-packages\\descriptastorus-2.0.0.32-py3.7.egg\\descriptastorus\\descriptors\\rdNormalizedDescriptors.py\", line 49, in cdf\n",
      "    v = dist.cdf(np.clip(v, minV, maxV), loc=loc, scale=scale, *arg)\n",
      "  File \"<__array_function__ internals>\", line 6, in clip\n",
      "  File \"C:\\Users\\Julia\\anaconda3\\envs\\multiPurpose\\lib\\site-packages\\numpy\\core\\fromnumeric.py\", line 2097, in clip\n",
      "    return _wrapfunc(a, 'clip', a_min, a_max, out=out, **kwargs)\n",
      "  File \"C:\\Users\\Julia\\anaconda3\\envs\\multiPurpose\\lib\\site-packages\\numpy\\core\\fromnumeric.py\", line 55, in _wrapfunc\n",
      "    return _wrapit(obj, method, *args, **kwds)\n",
      "  File \"C:\\Users\\Julia\\anaconda3\\envs\\multiPurpose\\lib\\site-packages\\numpy\\core\\fromnumeric.py\", line 44, in _wrapit\n",
      "    result = getattr(asarray(obj), method)(*args, **kwds)\n",
      "  File \"C:\\Users\\Julia\\anaconda3\\envs\\multiPurpose\\lib\\site-packages\\numpy\\core\\_methods.py\", line 141, in _clip\n",
      "    um.clip, a, min, max, out=out, casting=casting, **kwargs)\n",
      "  File \"C:\\Users\\Julia\\anaconda3\\envs\\multiPurpose\\lib\\site-packages\\numpy\\core\\_methods.py\", line 94, in _clip_dep_invoke_with_casting\n",
      "    return ufunc(*args, out=out, **kwargs)\n",
      "TypeError: '>=' not supported between instances of 'NoneType' and 'float'\n",
      "ERROR:root:Could not compute SlogP_VSA12 for molecule\n",
      "Traceback (most recent call last):\n",
      "  File \"C:\\Users\\Julia\\anaconda3\\envs\\multiPurpose\\lib\\site-packages\\descriptastorus-2.0.0.32-py3.7.egg\\descriptastorus\\descriptors\\rdNormalizedDescriptors.py\", line 62, in applyNormalizedFunc\n",
      "    return cdfs[name](rdDescriptors.applyFunc(name,m))\n",
      "  File \"C:\\Users\\Julia\\anaconda3\\envs\\multiPurpose\\lib\\site-packages\\descriptastorus-2.0.0.32-py3.7.egg\\descriptastorus\\descriptors\\rdNormalizedDescriptors.py\", line 49, in cdf\n",
      "    v = dist.cdf(np.clip(v, minV, maxV), loc=loc, scale=scale, *arg)\n",
      "  File \"C:\\Users\\Julia\\anaconda3\\envs\\multiPurpose\\lib\\site-packages\\scipy\\stats\\_distn_infrastructure.py\", line 1851, in cdf\n",
      "    place(output, cond2, 1.0)\n",
      "  File \"<__array_function__ internals>\", line 6, in place\n",
      "  File \"C:\\Users\\Julia\\anaconda3\\envs\\multiPurpose\\lib\\site-packages\\numpy\\lib\\function_base.py\", line 1742, in place\n",
      "    return _insert(arr, mask, vals)\n",
      "KeyboardInterrupt\n",
      "ERROR:root:Could not compute PEOE_VSA13 for molecule\n",
      "Traceback (most recent call last):\n",
      "  File \"C:\\Users\\Julia\\anaconda3\\envs\\multiPurpose\\lib\\site-packages\\descriptastorus-2.0.0.32-py3.7.egg\\descriptastorus\\descriptors\\rdNormalizedDescriptors.py\", line 62, in applyNormalizedFunc\n",
      "    return cdfs[name](rdDescriptors.applyFunc(name,m))\n",
      "  File \"C:\\Users\\Julia\\anaconda3\\envs\\multiPurpose\\lib\\site-packages\\descriptastorus-2.0.0.32-py3.7.egg\\descriptastorus\\descriptors\\rdNormalizedDescriptors.py\", line 49, in cdf\n",
      "    v = dist.cdf(np.clip(v, minV, maxV), loc=loc, scale=scale, *arg)\n",
      "  File \"C:\\Users\\Julia\\anaconda3\\envs\\multiPurpose\\lib\\site-packages\\scipy\\stats\\_distn_infrastructure.py\", line 1851, in cdf\n",
      "    place(output, cond2, 1.0)\n",
      "  File \"<__array_function__ internals>\", line 6, in place\n",
      "  File \"C:\\Users\\Julia\\anaconda3\\envs\\multiPurpose\\lib\\site-packages\\numpy\\lib\\function_base.py\", line 1742, in place\n",
      "    return _insert(arr, mask, vals)\n",
      "KeyboardInterrupt\n",
      "ERROR:root:function application failed (Ipc->COc1ccccc1C1=Nn2c(nnc2-c2ccccc2O)SC1)\n",
      "Traceback (most recent call last):\n",
      "  File \"C:\\Users\\Julia\\anaconda3\\envs\\multiPurpose\\lib\\site-packages\\descriptastorus-2.0.0.32-py3.7.egg\\descriptastorus\\descriptors\\rdDescriptors.py\", line 243, in applyFunc\n",
      "    return FUNCS[name](m)\n",
      "  File \"C:\\Users\\Julia\\anaconda3\\envs\\multiPurpose\\lib\\site-packages\\rdkit\\Chem\\GraphDescriptors.py\", line 124, in Ipc\n",
      "    cPoly = abs(Graphs.CharacteristicPolynomial(mol, adjMat))\n",
      "  File \"C:\\Users\\Julia\\anaconda3\\envs\\multiPurpose\\lib\\site-packages\\rdkit\\Chem\\Graphs.py\", line 48, in CharacteristicPolynomial\n",
      "    An = numpy.dot(A, Bn)\n",
      "  File \"<__array_function__ internals>\", line 6, in dot\n",
      "KeyboardInterrupt\n",
      "ERROR:root:Could not compute Ipc for molecule\n",
      "Traceback (most recent call last):\n",
      "  File \"C:\\Users\\Julia\\anaconda3\\envs\\multiPurpose\\lib\\site-packages\\descriptastorus-2.0.0.32-py3.7.egg\\descriptastorus\\descriptors\\rdNormalizedDescriptors.py\", line 62, in applyNormalizedFunc\n",
      "    return cdfs[name](rdDescriptors.applyFunc(name,m))\n",
      "  File \"C:\\Users\\Julia\\anaconda3\\envs\\multiPurpose\\lib\\site-packages\\descriptastorus-2.0.0.32-py3.7.egg\\descriptastorus\\descriptors\\rdNormalizedDescriptors.py\", line 49, in cdf\n",
      "    v = dist.cdf(np.clip(v, minV, maxV), loc=loc, scale=scale, *arg)\n",
      "  File \"<__array_function__ internals>\", line 6, in clip\n",
      "  File \"C:\\Users\\Julia\\anaconda3\\envs\\multiPurpose\\lib\\site-packages\\numpy\\core\\fromnumeric.py\", line 2097, in clip\n",
      "    return _wrapfunc(a, 'clip', a_min, a_max, out=out, **kwargs)\n",
      "  File \"C:\\Users\\Julia\\anaconda3\\envs\\multiPurpose\\lib\\site-packages\\numpy\\core\\fromnumeric.py\", line 55, in _wrapfunc\n",
      "    return _wrapit(obj, method, *args, **kwds)\n",
      "  File \"C:\\Users\\Julia\\anaconda3\\envs\\multiPurpose\\lib\\site-packages\\numpy\\core\\fromnumeric.py\", line 44, in _wrapit\n",
      "    result = getattr(asarray(obj), method)(*args, **kwds)\n",
      "  File \"C:\\Users\\Julia\\anaconda3\\envs\\multiPurpose\\lib\\site-packages\\numpy\\core\\_methods.py\", line 141, in _clip\n",
      "    um.clip, a, min, max, out=out, casting=casting, **kwargs)\n",
      "  File \"C:\\Users\\Julia\\anaconda3\\envs\\multiPurpose\\lib\\site-packages\\numpy\\core\\_methods.py\", line 94, in _clip_dep_invoke_with_casting\n",
      "    return ufunc(*args, out=out, **kwargs)\n",
      "TypeError: '>=' not supported between instances of 'NoneType' and 'float'\n"
     ]
    },
    {
     "name": "stdout",
     "output_type": "stream",
     "text": [
      "descriptastorus not found this smiles: O=C1NC(=O)c2c1c1c3ccccc3n3[Ru](C#[O])[n+]4cccc2c4c13 convert to all 1 features\n",
      "descriptastorus not found this smiles: CN1C(=O)c2c(C1=O)c1cc(F)c[n+]3[Ru](C#[O])n4c5ccc(O)cc5c2c4c13 convert to all 1 features\n"
     ]
    }
   ],
   "source": [
    "train, val, test = utils.data_process(X_drugs, X_targets, y, \n",
    "                                drug_encoding, target_encoding, \n",
    "                                split_method='cold_drug',frac=[0.7,0.1,0.2])"
   ]
  },
  {
   "cell_type": "markdown",
   "metadata": {},
   "source": [
    "# Model configuration\n",
    "\n",
    "DeepPurpose's model configuration utility is a wrapper for generating neural networks using PyTorch. The list of options for hyperparameters is [here](https://github.com/kexinhuang12345/DeepPurpose/blob/e169e2f550694145077bb2af95a4031abe400a77/DeepPurpose/utils.py#L486). Several types of model architecture are supported including CNNs, RNNs, MPNNs, MLPs, and transformers. I think there is a lot of potential work to be done on hyperparameter optimization here. The hyperparameters used below are suggested defaults that aren't too computationally intensive; they produce a 3 layer MPNN. I would also like to incorporate some models that don't utilize deep learning, as I think with proper input feature engineering we may be able to get good performance with an SVM or ridge regressor, and it would be nice to have a more interpretable model for comparison. "
   ]
  },
  {
   "cell_type": "code",
   "execution_count": 9,
   "metadata": {
    "ExecuteTime": {
     "end_time": "2020-09-29T17:54:36.192396Z",
     "start_time": "2020-09-29T17:54:36.181396Z"
    }
   },
   "outputs": [],
   "source": [
    "config = utils.generate_config(drug_encoding = drug_encoding, \n",
    "                               target_encoding = target_encoding,\n",
    "                         cls_hidden_dims = [1024,1024,512], \n",
    "                         train_epoch = 3, \n",
    "                         LR = 0.001, \n",
    "                         batch_size = 128,\n",
    "                         hidden_dim_drug = 128,\n",
    "                         mpnn_hidden_size = 128,\n",
    "                         mpnn_depth = 3\n",
    "                        )"
   ]
  },
  {
   "cell_type": "code",
   "execution_count": null,
   "metadata": {},
   "outputs": [],
   "source": [
    "model = models.model_initialize(**config)"
   ]
  },
  {
   "cell_type": "markdown",
   "metadata": {},
   "source": [
    "# Model training and loading\n",
    "\n",
    "Using the hyperparameters above, the model takes about 1.5 hours to train on BindingDB. For demo purposes I'm going to just load a model I trained earlier today, but I used the exact same code as above."
   ]
  },
  {
   "cell_type": "code",
   "execution_count": null,
   "metadata": {},
   "outputs": [],
   "source": [
    "#run this if you want to train a new one\n",
    "model.train(train, val, test, verbose = True)\n",
    "model.save_model('./model-9-30')"
   ]
  },
  {
   "cell_type": "code",
   "execution_count": 12,
   "metadata": {
    "ExecuteTime": {
     "end_time": "2020-09-29T18:00:36.728072Z",
     "start_time": "2020-09-29T18:00:36.582076Z"
    }
   },
   "outputs": [],
   "source": [
    "#run this if you want to use my trained one\n",
    "model = models.model_pretrained(path_dir = './model-9-24')"
   ]
  },
  {
   "cell_type": "markdown",
   "metadata": {},
   "source": [
    "# Model validation\n",
    "\n",
    "The following code is built in to the DeepPurpose `train` method, I've just pulled it out so I can grab the dataset that was set aside for validation during the data processing step. "
   ]
  },
  {
   "cell_type": "code",
   "execution_count": 13,
   "metadata": {
    "ExecuteTime": {
     "end_time": "2020-09-29T18:00:40.895445Z",
     "start_time": "2020-09-29T18:00:40.875442Z"
    }
   },
   "outputs": [],
   "source": [
    "import torch\n",
    "from torch.utils import data\n",
    "\n",
    "params = {'batch_size': config['batch_size'],\n",
    "    'shuffle': True,\n",
    "    'num_workers': config['num_workers'],\n",
    "    'drop_last': False}\n",
    "\n",
    "validation_generator = data.DataLoader(utils.data_process_loader(val.index.values, val.Label.values, val, **config), **params)"
   ]
  },
  {
   "cell_type": "markdown",
   "metadata": {},
   "source": [
    "The available performance metrics are ROC-AUC, PR-AUC, F1, cross-entropy loss, MSE, Pearson Correlation with p-value, and Concordance Index. I'm displaying the ROC-AUC here for comparison to the DeepIC50 paper. It's not at their level yet, but it's also not bad for a first try?\n",
    "\n",
    "TODO: graph ROC curve, also why does test_ return \"logits\""
   ]
  },
  {
   "cell_type": "code",
   "execution_count": 14,
   "metadata": {
    "ExecuteTime": {
     "end_time": "2020-09-29T18:03:14.281308Z",
     "start_time": "2020-09-29T18:00:43.738224Z"
    }
   },
   "outputs": [
    {
     "name": "stdout",
     "output_type": "stream",
     "text": [
      "0.7099348319182541\n"
     ]
    }
   ],
   "source": [
    "model.binary = False\n",
    "auc, auprc, f1, loss, logits = models.DBTA.test_(model, validation_generator, model.model, test=True)\n",
    "print(auc)"
   ]
  },
  {
   "cell_type": "code",
   "execution_count": 40,
   "metadata": {},
   "outputs": [],
   "source": [
    "#trying to get the ROC curve to actually plot...\n",
    "\n",
    "#import matplotlib.pyplot as plt\n",
    "#import sklearn\n",
    "#from sklearn.metrics import mean_squared_error, roc_auc_score, average_precision_score, f1_score\n",
    "\n",
    "#y_label = []\n",
    "#roc_auc_file = os.path.join(model.result_folder, \"roc-auc.jpg\")\n",
    "#plt.figure(0)\n",
    "#sklearn.metrics.roc_curve(y_pred, y_label, roc_auc_file, model.drug_encoding)\n",
    "#plt.figure(1)\n",
    "#pr_auc_file = os.path.join(model.result_folder, \"pr-auc.jpg\")\n",
    "#sklearn.metrics.prauc_curve(y_pred, y_label, pr_auc_file, model.drug_encoding)"
   ]
  },
  {
   "cell_type": "markdown",
   "metadata": {},
   "source": [
    "# Model usage\n",
    "\n",
    "To predict IC50, run data_process to create a dataset consisting of a single drug-target pair, and then run `predict`, which is just a wrapper on `test_`. The output is in pIC50. \n",
    "\n",
    "TODO: why do I need to include `y` as input?"
   ]
  },
  {
   "cell_type": "code",
   "execution_count": 28,
   "metadata": {},
   "outputs": [
    {
     "name": "stdout",
     "output_type": "stream",
     "text": [
      "Drug Target Interaction Prediction Mode...\n",
      "in total: 1 drug-target pairs\n",
      "encoding drug...\n",
      "unique drugs: 1\n",
      "encoding protein...\n",
      "unique target sequence: 1\n",
      "splitting dataset...\n",
      "do not do train/test split on the data for already splitted data\n",
      "predicting...\n",
      "The predicted score is [7.395412921905518]\n"
     ]
    }
   ],
   "source": [
    "X_drug = ['CC1=C2C=C(C=CC2=NN1)C3=CC(=CN=C3)OCC(CC4=CC=CC=C4)N']\n",
    "X_target = ['MKKFFDSRREQGGSGLGSGSSGGGGSTSGLGSGYIGRVFGIGRQQVTVDEVLAEGGFAIVFLVRTSNGMKCALKRMFVNNEHDLQVCKREIQIMRDLSGHKNIVGYIDSSINNVSSGDVWEVLILMDFCRGGQVVNLMNQRLQTGFTENEVLQIFCDTCEAVARLHQCKTPIIHRDLKVENILLHDRGHYVLCDFGSATNKFQNPQTEGVNAVEDEIKKYTTLSYRAPEMVNLYSGKIITTKADIWALGCLLYKLCYFTLPFGESQVAICDGNFTIPDNSRYSQDMHCLIRYMLEPDPDKRPDIYQVSYFSFKLLKKECPIPNVQNSPIPAKLPEPVKASEAAAKKTQPKARLTDPIPTTETSIAPRQRPKAGQTQPNPGILPIQPALTPRKRATVQPPPQAAGSSNQPGLLASVPQPKPQAPPSQPLPQTQAKQPQAPPTPQQTPSTQAQGLPAQAQATPQHQQQLFLKQQQQQQQPPPAQQQPAGTFYQQQQAQTQQFQAVHPATQKPAIAQFPVVSQGGSQQQLMQNFYQQQQQQQQQQQQQQLATALHQQQLMTQQAALQQKPTMAAGQQPQPQPAAAPQPAPAQEPAIQAPVRQQPKVQTTPPPAVQGQKVGSLTPPSSPKTQRAGHRRILSDVTHSAVFGVPASKSTQLLQAAAAEASLNKSKSATTTPSGSPRTSQQNVYNPSEGSTWNPFDDDNFSKLTAEELLNKDFAKLGEGKHPEKLGGSAESLIPGFQSTQGDAFATTSFSAGTAEKRKGGQTVDSGLPLLSVSDPFIPLQVPDAPEKLIEGLKSPDTSLLLPDLLPMTDPFGSTSDAVIEKADVAVESLIPGLEPPVPQRLPSQTESVTSNRTDSLTGEDSLLDCSLLSNPTTDLLEEFAPTAISAPVHKAAEDSNLISGFDVPEGSDKVAEDEFDPIPVLITKNPQGGHSRNSSGSSESSLPNLARSLLLVDQLIDL']\n",
    "X_pred = utils.data_process(X_drug, X_target, y, \n",
    "                                drug_encoding, target_encoding, \n",
    "                                split_method='no_split')\n",
    "y_pred = model.predict(X_pred)\n",
    "print('The predicted score is ' + str(y_pred))"
   ]
  },
  {
   "cell_type": "code",
   "execution_count": null,
   "metadata": {},
   "outputs": [],
   "source": []
  }
 ],
 "metadata": {
  "hide_input": false,
  "kernelspec": {
   "display_name": "Python 3",
   "language": "python",
   "name": "python3"
  },
  "language_info": {
   "codemirror_mode": {
    "name": "ipython",
    "version": 3
   },
   "file_extension": ".py",
   "mimetype": "text/x-python",
   "name": "python",
   "nbconvert_exporter": "python",
   "pygments_lexer": "ipython3",
   "version": "3.7.9"
  },
  "latex_envs": {
   "LaTeX_envs_menu_present": true,
   "autoclose": false,
   "autocomplete": true,
   "bibliofile": "biblio.bib",
   "cite_by": "apalike",
   "current_citInitial": 1,
   "eqLabelWithNumbers": true,
   "eqNumInitial": 1,
   "hotkeys": {
    "equation": "Ctrl-E",
    "itemize": "Ctrl-I"
   },
   "labels_anchors": false,
   "latex_user_defs": false,
   "report_style_numbering": false,
   "user_envs_cfg": false
  },
  "toc": {
   "base_numbering": 1,
   "nav_menu": {},
   "number_sections": true,
   "sideBar": true,
   "skip_h1_title": false,
   "title_cell": "Table of Contents",
   "title_sidebar": "Contents",
   "toc_cell": false,
   "toc_position": {},
   "toc_section_display": true,
   "toc_window_display": false
  },
  "varInspector": {
   "cols": {
    "lenName": 16,
    "lenType": 16,
    "lenVar": 40
   },
   "kernels_config": {
    "python": {
     "delete_cmd_postfix": "",
     "delete_cmd_prefix": "del ",
     "library": "var_list.py",
     "varRefreshCmd": "print(var_dic_list())"
    },
    "r": {
     "delete_cmd_postfix": ") ",
     "delete_cmd_prefix": "rm(",
     "library": "var_list.r",
     "varRefreshCmd": "cat(var_dic_list()) "
    }
   },
   "types_to_exclude": [
    "module",
    "function",
    "builtin_function_or_method",
    "instance",
    "_Feature"
   ],
   "window_display": false
  }
 },
 "nbformat": 4,
 "nbformat_minor": 4
}
