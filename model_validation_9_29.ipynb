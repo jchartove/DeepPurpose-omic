{
 "cells": [
  {
   "cell_type": "markdown",
   "metadata": {},
   "source": [
    "This notebook demonstrates how to predict IC50 from BindingDB data using a DeepPurpose model. There's a lot of room for tweaking things here, but the model performance with minimal code and a relatively short training time is surprisingly good."
   ]
  },
  {
   "cell_type": "code",
   "execution_count": 4,
   "metadata": {
    "ExecuteTime": {
     "end_time": "2020-09-29T17:39:39.607828Z",
     "start_time": "2020-09-29T17:39:39.594830Z"
    }
   },
   "outputs": [],
   "source": [
    "import os\n",
    "\n",
    "from DeepPurpose import utils, dataset, CompoundPred\n",
    "from DeepPurpose import DTI as models\n",
    "import warnings\n",
    "warnings.filterwarnings(\"ignore\")"
   ]
  },
  {
   "cell_type": "markdown",
   "metadata": {},
   "source": [
    "# Data Importing\n",
    "\n",
    "The entirety of BindingDB is saved as a .tsv file. The function `process_BindingDB` loads it into a Pandas dataframe with three columns: drugs (SMILES format), targets (protein primary structure), and binding score (in this case IC50). The `convert_to_log` flag makes it pIC50.\n",
    "\n",
    "TODO: what are the other arguments to `process_BindingDB`?\n",
    "can I save the dataframe for easier access?"
   ]
  },
  {
   "cell_type": "code",
   "execution_count": 11,
   "metadata": {
    "ExecuteTime": {
     "end_time": "2020-09-29T17:57:42.554463Z",
     "start_time": "2020-09-29T17:54:36.534400Z"
    },
    "scrolled": true
   },
   "outputs": [
    {
     "name": "stdout",
     "output_type": "stream",
     "text": [
      "Loading Dataset from path...\n"
     ]
    },
    {
     "name": "stderr",
     "output_type": "stream",
     "text": [
      "b'Skipping line 772572: expected 193 fields, saw 205\\nSkipping line 772598: expected 193 fields, saw 205\\n'\n",
      "b'Skipping line 805291: expected 193 fields, saw 205\\n'\n",
      "b'Skipping line 827961: expected 193 fields, saw 265\\n'\n",
      "b'Skipping line 1231688: expected 193 fields, saw 241\\n'\n",
      "b'Skipping line 1345591: expected 193 fields, saw 241\\nSkipping line 1345592: expected 193 fields, saw 241\\nSkipping line 1345593: expected 193 fields, saw 241\\nSkipping line 1345594: expected 193 fields, saw 241\\nSkipping line 1345595: expected 193 fields, saw 241\\nSkipping line 1345596: expected 193 fields, saw 241\\nSkipping line 1345597: expected 193 fields, saw 241\\nSkipping line 1345598: expected 193 fields, saw 241\\nSkipping line 1345599: expected 193 fields, saw 241\\n'\n",
      "b'Skipping line 1358864: expected 193 fields, saw 205\\n'\n",
      "b'Skipping line 1378087: expected 193 fields, saw 241\\nSkipping line 1378088: expected 193 fields, saw 241\\nSkipping line 1378089: expected 193 fields, saw 241\\nSkipping line 1378090: expected 193 fields, saw 241\\nSkipping line 1378091: expected 193 fields, saw 241\\nSkipping line 1378092: expected 193 fields, saw 241\\nSkipping line 1378093: expected 193 fields, saw 241\\nSkipping line 1378094: expected 193 fields, saw 241\\nSkipping line 1378095: expected 193 fields, saw 241\\n'\n",
      "b'Skipping line 1417264: expected 193 fields, saw 205\\n'\n"
     ]
    },
    {
     "name": "stdout",
     "output_type": "stream",
     "text": [
      "Beginning Processing...\n",
      "There are 1073803 drug target pairs.\n",
      "Default set to logspace (nM -> p) for easier regression\n"
     ]
    }
   ],
   "source": [
    "data_path = './data//BindingDB_All.tsv'\n",
    "X_drugs, X_targets, y = dataset.process_BindingDB(path = data_path, df = None, y = 'IC50', binary = False, convert_to_log = True, threshold = 0)"
   ]
  },
  {
   "cell_type": "markdown",
   "metadata": {},
   "source": [
    "The cell below just shows what the data looks like."
   ]
  },
  {
   "cell_type": "code",
   "execution_count": 6,
   "metadata": {
    "ExecuteTime": {
     "end_time": "2020-09-29T17:43:56.526466Z",
     "start_time": "2020-09-29T17:43:56.493434Z"
    }
   },
   "outputs": [
    {
     "name": "stdout",
     "output_type": "stream",
     "text": [
      "Drug 1: Cc1nc(CN2CCN(CC2)c2c(Cl)cnc3[nH]c(nc23)-c2cn(C)nc2C)no1\n",
      "Target 1: MALIPDLAMETWLLLAVSLVLLYLYGTHSHGLFKKLGIPGPTPLPFLGNILSYHKGFCMFDMECHKKYGKVWGFYDGQQPVLAITDPDMIKTVLVKECYSVFTNRRPFGPVGFMKSAISIAEDEEWKRLRSLLSPTFTSGKLKEMVPIIAQYGDVLVRNLRREAETGKPVTLKDVFGAYSMDVITSTSFGVNIDSLNNPQDPFVENTKKLLRFDFLDPFFLSITVFPFLIPILEVLNICVFPREVTNFLRKSVKRMKESRLEDTQKHRVDFLQLMIDSQNSKETESHKALSDLELVAQSIIFIFAGYETTSSVLSFIMYELATHPDVQQKLQEEIDAVLPNKAPPTYDTVLQMEYLDMVVNETLRLFPIAMRLERVCKKDVEINGMFIPKGVVVMIPSYALHRDPKYWTEPEKFLPERFSKKNKDNIDPYIYTPFGSGPRNCIGMRFALMNMKLALIRVLQNFSFKPCKETQIPLKLSLGGLLQPEKPVVLKVESRDGTVSGA\n",
      "IC50 1: 4.301029127075886\n"
     ]
    }
   ],
   "source": [
    "print('Drug 1: ' + X_drugs[0])\n",
    "print('Target 1: ' + X_targets[0])\n",
    "print('IC50 1: ' + str(y[0]))"
   ]
  },
  {
   "cell_type": "markdown",
   "metadata": {},
   "source": [
    "# Drug and target encoding\n",
    "\n",
    "DeepPurpose supports several possible encodings for drugs and targets. I suspect choosing and possibly combining these will be key for feature engineering and model performance. Right now I'm using the Morgan Extended-Connectivity Fingerprints encoding for drugs and the conjoint triad features encoding for targets because they're not computationally intensive. I would like to find a way to allow models to take PaDEL features as drug encodings, which is what the gastric cancer paper did. They also encoded targets in terms of mutation position, which may not be feasible for all targets, but is probably worth looking into."
   ]
  },
  {
   "cell_type": "code",
   "execution_count": 7,
   "metadata": {
    "ExecuteTime": {
     "end_time": "2020-09-29T17:43:56.572433Z",
     "start_time": "2020-09-29T17:43:56.536433Z"
    }
   },
   "outputs": [],
   "source": [
    "drug_encoding, target_encoding = 'Morgan', 'Conjoint_triad'"
   ]
  },
  {
   "cell_type": "markdown",
   "metadata": {},
   "source": [
    "The following cell splits the data into training and testing sets. I think these numbers are probably fine, but maybe there's a way to improve on them. One thing to note is that for some reason RDKit (the biochemistry library) has trouble translating some of the SMILES data (~500 drugs) into Morgan format, so I might want to look into fixing that. That's only a small fraction of the drugs in the training data, though.\n",
    "\n",
    "TODO: look into `split_method` options,\n",
    "i would also like to save the training and testing data sets since this step takes a while"
   ]
  },
  {
   "cell_type": "code",
   "execution_count": 8,
   "metadata": {
    "ExecuteTime": {
     "end_time": "2020-09-29T17:54:36.176407Z",
     "start_time": "2020-09-29T17:43:56.579436Z"
    }
   },
   "outputs": [
    {
     "name": "stdout",
     "output_type": "stream",
     "text": [
      "Drug Target Interaction Prediction Mode...\n",
      "in total: 1073803 drug-target pairs\n",
      "encoding drug...\n",
      "unique drugs: 549205\n",
      "rdkit not found this smiles for morgan: CC(C)(C)OC(=O)N1CC(=O)N(C(=O)C1)c1ccc(cc1)N1CC(COC(=O)[N]2=CC=C(Cl)S2)OC1=O convert to all 1 features\n",
      "rdkit not found this smiles for morgan: CSc1ccc(cc1)C1=C(C=C[N]([O-])=C1)[C@@H]1CCC(F)(F)C[C@H]1C(=O)NCC#N convert to all 1 features\n",
      "rdkit not found this smiles for morgan: OC(C[n+]1cccc(c1)-c1cccc(c1)-c1ccccc1)(P(O)(O)=O)P(O)([O-])=O convert to all 1 features\n",
      "rdkit not found this smiles for morgan: O=C1NC(=O)c2c1c1c3ccccc3n3[Ru](C#[O])[n+]4cccc2c4c13 convert to all 1 features\n",
      "rdkit not found this smiles for morgan: CN1C(=O)c2c(C1=O)c1cc(F)c[n+]3[Ru](C#[O])n4c5ccc(O)cc5c2c4c13 convert to all 1 features\n",
      "rdkit not found this smiles for morgan: CCC=[C]1=CC=C(C=C1)N1CC(C1)Oc1ccc(cc1)[C@H](C)NC(=O)c1ccncc1 convert to all 1 features\n",
      "rdkit not found this smiles for morgan: NOOSc1ccc(CC[N]23CC4=CC=CC=[N]4[Re+]2[N]2=C(C3)C=CC=C2)cc1 convert to all 1 features\n",
      "rdkit not found this smiles for morgan: NOOSc1ccc(CC[N@@]23CC(=O)O[Re]2[N]2=C(C3)C=CC=C2)cc1 convert to all 1 features\n",
      "rdkit not found this smiles for morgan: CN1C=C[N]2=C1C[N]1(CCc3ccc(SOON)cc3)CC3=[N](C=CN3C)[Re+]21 convert to all 1 features\n",
      "rdkit not found this smiles for morgan: NOOSc1ccc(NC(=S)NCCCCCCCC[N]23CC4=CC=CC=[N]4[Re+]2[N]2=C(C3)C=CC=C2)cc1 convert to all 1 features\n",
      "rdkit not found this smiles for morgan: NOOSc1ccc(NC(=S)NCCOCCOCC[N]23CC4=CC=CC=[N]4[Re+]2[N]2=C(C3)C=CC=C2)cc1 convert to all 1 features\n",
      "rdkit not found this smiles for morgan: NOOSc1ccc(NC(=S)NCCCCC[N]23CC4=CC=CC=[N]4[Re+]2[N]2=C(C3)C=CC=C2)cc1 convert to all 1 features\n",
      "rdkit not found this smiles for morgan: NOOSc1ccc(NC(=S)NCCCCCCCC[N@@]23CC(=O)O[Re]2[N]2=C(C3)C=CC=C2)cc1 convert to all 1 features\n",
      "rdkit not found this smiles for morgan: CN1C=C[N]2=C1C[N]1(CCCCCCCCCCNC(=S)Nc3ccc(SOON)cc3)CC3=[N](C=CN3C)[Re+]21 convert to all 1 features\n",
      "rdkit not found this smiles for morgan: OB(O)C1CCCN1C(=O)CNC(=O)CCCCC[N]12CC3=CC=CC=[N]3[Re+]1[N]1=C(C2)C=CC=C1 convert to all 1 features\n",
      "rdkit not found this smiles for morgan: OB(O)C1CCCN1C(=O)CNC(=O)CCCCC[N@@]12CC(=O)O[Re]1[N]1=C(C2)C=CC=C1 convert to all 1 features\n",
      "rdkit not found this smiles for morgan: CN1C=C[N]2=C1C[N]1(CCCCCC(=O)NCC(=O)N3CCCC3B(O)O)CC3=[N](C=CN3C)[Re+]21 convert to all 1 features\n",
      "rdkit not found this smiles for morgan: C[N]1(O)CCC[C@H]1c1cccnc1 convert to all 1 features\n",
      "rdkit not found this smiles for morgan: C[N]1=CCC[C@H]1c1cccnc1 convert to all 1 features\n",
      "rdkit not found this smiles for morgan: Cn1c(Nc2c(Cl)ccc(CNC(=O)C3=CC=CC=[N]3O)c2Cl)nc2cc(C(=O)NCCC(F)(F)F)c(cc12)N1CCC(CC1)C(F)(F)F convert to all 1 features\n",
      "rdkit not found this smiles for morgan: CC(C(C)[N]1=CC=C(F)C=C1)c1cc(cc2c1oc(cc2=O)N1CCOCC1)C(=O)N(C)C convert to all 1 features\n",
      "rdkit not found this smiles for morgan: ONC(=O)c1ccc(CNC(=O)c2nc(cc2-c2ccc(F)cc2)-c2cccs2)nc1 convert to all 1 features\n",
      "rdkit not found this smiles for morgan: CC(C)Nc1nc(cc2ncn(C)c(=O)c12)C1=CC=C(N2CCOCC2)[N](O)=C1 convert to all 1 features\n",
      "rdkit not found this smiles for morgan: CC1Cc2nn(C)c(c2-c2nc(NC3=[N](C)NC(C)=C3)ncc12)-c1ccccc1Cl convert to all 1 features\n",
      "rdkit not found this smiles for morgan: O[N]1=C(C=CC=C1)c1ccc(cc1)C(=O)NC\\C=C\\CN1CCN(CC1)c1cccc(Cl)c1Cl convert to all 1 features\n",
      "rdkit not found this smiles for morgan: [OH2+][V]12([OH2+])(=O)OC(=O)c3ccccc3[N]1=Cc1cc(Br)ccc1O2 convert to all 1 features\n",
      "rdkit not found this smiles for morgan: [OH2+][V]12([OH2+])(=O)OC(=O)c3ccccc3[N]1=Cc1cc(ccc1O2)[N+]([O-])=O convert to all 1 features\n",
      "rdkit not found this smiles for morgan: Clc1ccc2O[V]3(=O)(Oc4ccc(Cl)cc4C=[N]3c3ccccc3)[N](=Cc2c1)c1ccccc1 convert to all 1 features\n",
      "rdkit not found this smiles for morgan: Brc1ccc2O[V]3(=O)(Oc4ccc(Br)cc4C=[N]3c3ccccc3)[N](=Cc2c1)c1ccccc1 convert to all 1 features\n",
      "rdkit not found this smiles for morgan: [O-][N+](=O)c1ccc2O[V]3(=O)(Oc4ccc(cc4C=[N]3c3ccccc3)[N+]([O-])=O)[N](=Cc2c1)c1ccccc1 convert to all 1 features\n",
      "rdkit not found this smiles for morgan: CC[N]1(CC)CCN(CCOc2ccc3[nH]c(=O)c4CCCNc4c3c2)CC1 convert to all 1 features\n",
      "rdkit not found this smiles for morgan: COc1cc(C[N](C)(C)C2CCCC2)cc2[nH]c(=O)c3CCCNc3c12 convert to all 1 features\n",
      "rdkit not found this smiles for morgan: CC1=C2C(N(C(=O)C2=[N](N1)C1CC1)c1cc(C)c(=O)n(C)c1)c1ccc(Cl)cc1 convert to all 1 features\n",
      "rdkit not found this smiles for morgan: ON(=O)c1cccc(N\\N=C2/C(=O)Nc3ccccc23)c1 convert to all 1 features\n",
      "rdkit not found this smiles for morgan: ON(=O)c1cccc(N\\N=C2/C(=O)Nc3ccc(cc23)S(O)(=O)=O)c1 convert to all 1 features\n",
      "rdkit not found this smiles for morgan: [H][N]1([H])CCN(CC1)c1ncnc2sc3CCCCc3c12 convert to all 1 features\n",
      "rdkit not found this smiles for morgan: [H][N]1(C)CCCN(CC1)c1ncnc2sccc12 convert to all 1 features\n",
      "rdkit not found this smiles for morgan: CN(C)Cc1ccc(cc1)-c1cc(N(C)[C@H]2CC[C@@H](CC2)NC(C)=O)c(C)c(c1)C(=O)NCc1c(C)cc(C)nc1=O convert to all 1 features\n",
      "rdkit not found this smiles for morgan: CN(C)Cc1ccc(cc1)-c1cc(N(C)[C@@H]2CC[C@@H](CC2)NC(C)=O)c(C)c(c1)C(=O)NCc1c(C)cc(C)nc1=O convert to all 1 features\n",
      "rdkit not found this smiles for morgan: CN(C)Cc1ccc(cn1)-c1cc(N(C)[C@@H]2CC[C@@H](CC2)NC(C)=O)c(C)c(c1)C(=O)NCc1c(C)cc(C)nc1=O convert to all 1 features\n",
      "rdkit not found this smiles for morgan: CN([C@@H]1CC[C@@H](CC1)NC(C)=O)c1cc(cc(C(=O)NCc2c(C)cc(C)nc2=O)c1C)-c1ccc(CO)nc1 convert to all 1 features\n",
      "rdkit not found this smiles for morgan: CN(C)Cc1ccc(cc1)-c1cc(N(C)[C@H]2CC[C@H](N)CC2)c(C)c(c1)C(=O)NCc1c(C)cc(C)nc1=O convert to all 1 features\n",
      "rdkit not found this smiles for morgan: CCN(C1CCOCC1)c1cc(cc(C(=O)NCc2c(C)cc(C)nc2=O)c1C)-c1cnn(C)c1 convert to all 1 features\n",
      "rdkit not found this smiles for morgan: CCN(C1CCOCC1)c1cc(cc(C(=O)NCc2c(C)cc(C)nc2=O)c1C)-c1ccc(CN(C)C)nc1 convert to all 1 features\n",
      "rdkit not found this smiles for morgan: CCN(C1CCOCC1)c1cc(cc(C(=O)NCc2c(C)cc(C)nc2=O)c1C)-c1ccc(CN2CCN(C)CC2)nc1 convert to all 1 features\n",
      "rdkit not found this smiles for morgan: CCN(C1CCOCC1)c1cc(cc(C(=O)NCc2c(C)cc(C)nc2=O)c1C)-c1ccc(C)cc1 convert to all 1 features\n",
      "rdkit not found this smiles for morgan: CCN(C1CCOCC1)c1cc(cc(C(=O)NCc2c(C)cc(C)nc2=O)c1C)-c1cccc(CN2CCOCC2)c1 convert to all 1 features\n",
      "rdkit not found this smiles for morgan: CCN(C1CCOCC1)c1cc(cc(C(=O)NCc2c(C)cc(C)nc2=O)c1C)-c1ccc(CN2CC(CN3CCOCC3)C2)cc1 convert to all 1 features\n",
      "rdkit not found this smiles for morgan: Cc1cc(C)c(CNC(=O)c2cc(cc(NC3CCOCC3)c2C)-c2ccc(CN3CCOCC3)cc2)c(=O)n1 convert to all 1 features\n",
      "rdkit not found this smiles for morgan: CCNc1cc(cc(C(=O)NCc2c(C)cc(C)nc2=O)c1C)-c1ccc(CN2CCOCC2)cc1 convert to all 1 features\n",
      "rdkit not found this smiles for morgan: CCN(C1CCOCC1)c1cc(cc(C(=O)NCc2c(CO)cc(C)nc2=O)c1C)-c1ccc(CN2CCOCC2)cc1 convert to all 1 features\n",
      "rdkit not found this smiles for morgan: CC(=O)N(C1CCOCC1)c1cc(cc(C(=O)NCc2c(C)cc(C)nc2=O)c1C)-c1ccc(CN2CCOCC2)cc1 convert to all 1 features\n",
      "rdkit not found this smiles for morgan: CCN(C1CCOCC1)c1cc(cc(C(=O)NCc2c(C)cc(C)nc2=O)c1C)-c1ccc(CN2CCOCC2)c(F)c1 convert to all 1 features\n",
      "rdkit not found this smiles for morgan: CCN(C1CCOCC1)c1cc(cc(C(=O)NCc2c(C)cc(C)nc2=O)c1C)-c1ccc(CN2CCOCC2)cc1F convert to all 1 features\n",
      "rdkit not found this smiles for morgan: CCN(C1CCOCC1)c1cc(cc(C(=O)NCc2c(C)cc(C)nc2=O)c1C)-c1ccc(CN2CCOCC2)cc1C convert to all 1 features\n",
      "rdkit not found this smiles for morgan: CCN(C1CCOCC1)c1cc(cc(C(=O)NCc2c(C)cc(C)nc2=O)c1C)-c1ccc(cc1)C(=O)N1CCOCC1 convert to all 1 features\n",
      "rdkit not found this smiles for morgan: CCN(C1CCN(CC1)S(C)(=O)=O)c1cc(cc(C(=O)NCc2c(C)cc(C)nc2=O)c1C)-c1ccc(CN2CCOCC2)cc1 convert to all 1 features\n",
      "rdkit not found this smiles for morgan: CCN(C1CCN(CC1)C(C)=O)c1cc(cc(C(=O)NCc2c(C)cc(C)nc2=O)c1C)-c1ccc(CN2CCOCC2)cc1 convert to all 1 features\n",
      "rdkit not found this smiles for morgan: CCN(C1CCNCC1)c1cc(cc(C(=O)NCc2c(C)cc(C)nc2=O)c1C)-c1ccc(CN2CCOCC2)cc1 convert to all 1 features\n",
      "rdkit not found this smiles for morgan: CCN(C1CCN(CC1)C(=O)C(C)(C)C)c1cc(cc(C(=O)NCc2c(C)cc(C)nc2=O)c1C)-c1ccc(CN2CCOCC2)cc1 convert to all 1 features\n",
      "rdkit not found this smiles for morgan: CCN([C@H]1CC[C@H](N)CC1)c1cc(cc(C(=O)NCc2c(C)cc(C)nc2=O)c1C)-c1ccc(CN2CCOCC2)cc1 convert to all 1 features\n",
      "rdkit not found this smiles for morgan: CCN([C@H]1CC[C@@H](CC1)NC(C)=O)c1cc(cc(C(=O)NCc2c(C)cc(C)nc2=O)c1C)-c1ccc(CN2CCOCC2)cc1 convert to all 1 features\n",
      "rdkit not found this smiles for morgan: CCN(C1CCOCC1)c1cc(c(F)c(C(=O)NCc2c(C)cc(C)nc2=O)c1C)-c1ccc(CN2CCOCC2)cc1 convert to all 1 features\n",
      "rdkit not found this smiles for morgan: CCN(C1CCOCC1)c1cc(cc(C(=O)NCc2c(C)cc(C)nc2=O)c1C)-c1ccc(CN2CCOCC2=O)cc1 convert to all 1 features\n",
      "rdkit not found this smiles for morgan: CCN(C1CCSCC1)c1cc(cc(C(=O)NCc2c(C)cc(C)nc2=O)c1C)-c1ccc(CN2CCOCC2)cc1 convert to all 1 features\n",
      "rdkit not found this smiles for morgan: CCN(C1CCS(=O)CC1)c1cc(cc(C(=O)NCc2c(C)cc(C)nc2=O)c1C)-c1ccc(CN2CCOCC2)cc1 convert to all 1 features\n",
      "rdkit not found this smiles for morgan: CCN(C1CCOCC1)c1cc(cc(C(=O)NCc2c(C)cc(C)nc2=O)c1C)-c1ccc(CN2CCOCC2)c(C)c1 convert to all 1 features\n",
      "rdkit not found this smiles for morgan: CCN(C1CCS(=O)(=O)CC1)c1cc(cc(C(=O)NCc2c(C)cc(C)nc2=O)c1C)-c1ccc(CN2CCOCC2)cc1 convert to all 1 features\n",
      "rdkit not found this smiles for morgan: CCN(C1CCOCC1)c1cc(cc(C(=O)NCc2c(C)cc(C)[nH]c2=O)c1C)-c1ccc(C[N]2(O)CCOCC2)cc1 convert to all 1 features\n",
      "rdkit not found this smiles for morgan: Cc1cc(C)c(CNC(=O)c2cc(cc(N(CC(F)(F)F)C3CCOCC3)c2C)-c2ccc(CN3CCOCC3)cc2)c(=O)n1 convert to all 1 features\n",
      "rdkit not found this smiles for morgan: CCN(C1CCOCC1)c1cc(cc(C(=O)NCc2c(C)cc(C)nc2=O)c1CC)-c1ccc(CN2CCOCC2)cc1 convert to all 1 features\n",
      "rdkit not found this smiles for morgan: CCN(C1CCOCC1)c1cc(cc(C(=O)NCc2c(C)cc(C)nc2=O)c1C)-c1ccc(CN2CCOCC2)c(c1)C#N convert to all 1 features\n",
      "rdkit not found this smiles for morgan: CCN([C@H]1CC[C@@H](CC1)N(C)C)c1cc(cc(C(=O)NCc2c(C)cc(C)nc2=O)c1C)-c1ccc(CN2CCOCC2)cc1 convert to all 1 features\n"
     ]
    },
    {
     "name": "stdout",
     "output_type": "stream",
     "text": [
      "rdkit not found this smiles for morgan: CC(C)n1c(Nc2ccccc2)nc2cnc(Nc3ccc(cc3)C(=O)N[N]3=CCN(C)CC3)nc12 convert to all 1 features\n",
      "rdkit no"
     ]
    },
    {
     "data": {
      "text/html": [
       "<b>limit_output extension: Maximum message size of 10000 exceeded with 10131 characters</b>"
      ]
     },
     "metadata": {},
     "output_type": "display_data"
    }
   ],
   "source": [
    "train, val, test = utils.data_process(X_drugs, X_targets, y, \n",
    "                                drug_encoding, target_encoding, \n",
    "                                split_method='cold_drug',frac=[0.7,0.1,0.2])"
   ]
  },
  {
   "cell_type": "markdown",
   "metadata": {},
   "source": [
    "# Model configuration\n",
    "\n",
    "DeepPurpose's model configuration utility is a wrapper for generating neural networks using PyTorch. The list of options for hyperparameters is [here](https://github.com/kexinhuang12345/DeepPurpose/blob/e169e2f550694145077bb2af95a4031abe400a77/DeepPurpose/utils.py#L486). Several types of model architecture are supported including CNNs, RNNs, MPNNs, MLPs, and transformers. I think there is a lot of potential work to be done on hyperparameter optimization here. The hyperparameters used below are suggested defaults that aren't too computationally intensive; they produce a 3 layer MPNN. I would also like to incorporate some models that don't utilize deep learning, as I think with proper input feature engineering we may be able to get good performance with an SVM or ridge regressor, and it would be nice to have a more interpretable model for comparison. "
   ]
  },
  {
   "cell_type": "code",
   "execution_count": 9,
   "metadata": {
    "ExecuteTime": {
     "end_time": "2020-09-29T17:54:36.192396Z",
     "start_time": "2020-09-29T17:54:36.181396Z"
    }
   },
   "outputs": [],
   "source": [
    "config = utils.generate_config(drug_encoding = drug_encoding, \n",
    "                               target_encoding = target_encoding,\n",
    "                         cls_hidden_dims = [1024,1024,512], \n",
    "                         train_epoch = 3, \n",
    "                         LR = 0.001, \n",
    "                         batch_size = 128,\n",
    "                         hidden_dim_drug = 128,\n",
    "                         mpnn_hidden_size = 128,\n",
    "                         mpnn_depth = 3\n",
    "                        )"
   ]
  },
  {
   "cell_type": "code",
   "execution_count": null,
   "metadata": {},
   "outputs": [],
   "source": [
    "model = models.model_initialize(**config)"
   ]
  },
  {
   "cell_type": "markdown",
   "metadata": {},
   "source": [
    "# Model training and loading\n",
    "\n",
    "Using the hyperparameters above, the model takes about 1.5 hours to train on BindingDB. For demo purposes I'm going to just load a model I trained earlier today, but I used the exact same code as above."
   ]
  },
  {
   "cell_type": "code",
   "execution_count": null,
   "metadata": {},
   "outputs": [],
   "source": [
    "#run this if you want to train a new one\n",
    "model.train(train, val, test, verbose = True)\n",
    "model.save_model('./model-9-29')"
   ]
  },
  {
   "cell_type": "code",
   "execution_count": 12,
   "metadata": {
    "ExecuteTime": {
     "end_time": "2020-09-29T18:00:36.728072Z",
     "start_time": "2020-09-29T18:00:36.582076Z"
    }
   },
   "outputs": [],
   "source": [
    "#run this if you want to use my trained one\n",
    "model = models.model_pretrained(path_dir = './model-9-24')"
   ]
  },
  {
   "cell_type": "markdown",
   "metadata": {},
   "source": [
    "# Model validation\n",
    "\n",
    "The following code is built in to the DeepPurpose `train` method, I've just pulled it out so I can grab the dataset that was set aside for validation during the data processing step. "
   ]
  },
  {
   "cell_type": "code",
   "execution_count": 13,
   "metadata": {
    "ExecuteTime": {
     "end_time": "2020-09-29T18:00:40.895445Z",
     "start_time": "2020-09-29T18:00:40.875442Z"
    }
   },
   "outputs": [],
   "source": [
    "import torch\n",
    "from torch.utils import data\n",
    "\n",
    "params = {'batch_size': config['batch_size'],\n",
    "    'shuffle': True,\n",
    "    'num_workers': config['num_workers'],\n",
    "    'drop_last': False}\n",
    "\n",
    "validation_generator = data.DataLoader(utils.data_process_loader(val.index.values, val.Label.values, val, **config), **params)"
   ]
  },
  {
   "cell_type": "markdown",
   "metadata": {},
   "source": [
    "The available performance metrics are ROC-AUC, PR-AUC, F1, cross-entropy loss, MSE, Pearson Correlation with p-value, and Concordance Index. I'm displaying the ROC-AUC here for comparison to the DeepIC50 paper. It's not at their level yet, but it's also not bad for a first try?\n",
    "\n",
    "TODO: graph ROC curve, also why does test_ return \"logits\""
   ]
  },
  {
   "cell_type": "code",
   "execution_count": 14,
   "metadata": {
    "ExecuteTime": {
     "end_time": "2020-09-29T18:03:14.281308Z",
     "start_time": "2020-09-29T18:00:43.738224Z"
    }
   },
   "outputs": [
    {
     "name": "stdout",
     "output_type": "stream",
     "text": [
      "0.7099348319182541\n"
     ]
    }
   ],
   "source": [
    "model.binary = False\n",
    "auc, auprc, f1, loss, logits = models.DBTA.test_(model, validation_generator, model.model, test=True)\n",
    "print(auc)"
   ]
  },
  {
   "cell_type": "code",
   "execution_count": 40,
   "metadata": {},
   "outputs": [],
   "source": [
    "#trying to get the ROC curve to actually plot...\n",
    "\n",
    "#import matplotlib.pyplot as plt\n",
    "#import sklearn\n",
    "#from sklearn.metrics import mean_squared_error, roc_auc_score, average_precision_score, f1_score\n",
    "\n",
    "#y_label = []\n",
    "#roc_auc_file = os.path.join(model.result_folder, \"roc-auc.jpg\")\n",
    "#plt.figure(0)\n",
    "#sklearn.metrics.roc_curve(y_pred, y_label, roc_auc_file, model.drug_encoding)\n",
    "#plt.figure(1)\n",
    "#pr_auc_file = os.path.join(model.result_folder, \"pr-auc.jpg\")\n",
    "#sklearn.metrics.prauc_curve(y_pred, y_label, pr_auc_file, model.drug_encoding)"
   ]
  },
  {
   "cell_type": "markdown",
   "metadata": {},
   "source": [
    "# Model usage\n",
    "\n",
    "To predict IC50, run data_process to create a dataset consisting of a single drug-target pair, and then run `predict`, which is just a wrapper on `test_`. The output is in pIC50. \n",
    "\n",
    "TODO: why do I need to include `y` as input?"
   ]
  },
  {
   "cell_type": "code",
   "execution_count": 28,
   "metadata": {},
   "outputs": [
    {
     "name": "stdout",
     "output_type": "stream",
     "text": [
      "Drug Target Interaction Prediction Mode...\n",
      "in total: 1 drug-target pairs\n",
      "encoding drug...\n",
      "unique drugs: 1\n",
      "encoding protein...\n",
      "unique target sequence: 1\n",
      "splitting dataset...\n",
      "do not do train/test split on the data for already splitted data\n",
      "predicting...\n",
      "The predicted score is [7.395412921905518]\n"
     ]
    }
   ],
   "source": [
    "X_drug = ['CC1=C2C=C(C=CC2=NN1)C3=CC(=CN=C3)OCC(CC4=CC=CC=C4)N']\n",
    "X_target = ['MKKFFDSRREQGGSGLGSGSSGGGGSTSGLGSGYIGRVFGIGRQQVTVDEVLAEGGFAIVFLVRTSNGMKCALKRMFVNNEHDLQVCKREIQIMRDLSGHKNIVGYIDSSINNVSSGDVWEVLILMDFCRGGQVVNLMNQRLQTGFTENEVLQIFCDTCEAVARLHQCKTPIIHRDLKVENILLHDRGHYVLCDFGSATNKFQNPQTEGVNAVEDEIKKYTTLSYRAPEMVNLYSGKIITTKADIWALGCLLYKLCYFTLPFGESQVAICDGNFTIPDNSRYSQDMHCLIRYMLEPDPDKRPDIYQVSYFSFKLLKKECPIPNVQNSPIPAKLPEPVKASEAAAKKTQPKARLTDPIPTTETSIAPRQRPKAGQTQPNPGILPIQPALTPRKRATVQPPPQAAGSSNQPGLLASVPQPKPQAPPSQPLPQTQAKQPQAPPTPQQTPSTQAQGLPAQAQATPQHQQQLFLKQQQQQQQPPPAQQQPAGTFYQQQQAQTQQFQAVHPATQKPAIAQFPVVSQGGSQQQLMQNFYQQQQQQQQQQQQQQLATALHQQQLMTQQAALQQKPTMAAGQQPQPQPAAAPQPAPAQEPAIQAPVRQQPKVQTTPPPAVQGQKVGSLTPPSSPKTQRAGHRRILSDVTHSAVFGVPASKSTQLLQAAAAEASLNKSKSATTTPSGSPRTSQQNVYNPSEGSTWNPFDDDNFSKLTAEELLNKDFAKLGEGKHPEKLGGSAESLIPGFQSTQGDAFATTSFSAGTAEKRKGGQTVDSGLPLLSVSDPFIPLQVPDAPEKLIEGLKSPDTSLLLPDLLPMTDPFGSTSDAVIEKADVAVESLIPGLEPPVPQRLPSQTESVTSNRTDSLTGEDSLLDCSLLSNPTTDLLEEFAPTAISAPVHKAAEDSNLISGFDVPEGSDKVAEDEFDPIPVLITKNPQGGHSRNSSGSSESSLPNLARSLLLVDQLIDL']\n",
    "X_pred = utils.data_process(X_drug, X_target, y, \n",
    "                                drug_encoding, target_encoding, \n",
    "                                split_method='no_split')\n",
    "y_pred = model.predict(X_pred)\n",
    "print('The predicted score is ' + str(y_pred))"
   ]
  },
  {
   "cell_type": "code",
   "execution_count": null,
   "metadata": {},
   "outputs": [],
   "source": []
  }
 ],
 "metadata": {
  "hide_input": false,
  "kernelspec": {
   "display_name": "Python 3",
   "language": "python",
   "name": "python3"
  },
  "language_info": {
   "codemirror_mode": {
    "name": "ipython",
    "version": 3
   },
   "file_extension": ".py",
   "mimetype": "text/x-python",
   "name": "python",
   "nbconvert_exporter": "python",
   "pygments_lexer": "ipython3",
   "version": "3.7.8"
  },
  "latex_envs": {
   "LaTeX_envs_menu_present": true,
   "autoclose": false,
   "autocomplete": true,
   "bibliofile": "biblio.bib",
   "cite_by": "apalike",
   "current_citInitial": 1,
   "eqLabelWithNumbers": true,
   "eqNumInitial": 1,
   "hotkeys": {
    "equation": "Ctrl-E",
    "itemize": "Ctrl-I"
   },
   "labels_anchors": false,
   "latex_user_defs": false,
   "report_style_numbering": false,
   "user_envs_cfg": false
  },
  "toc": {
   "base_numbering": 1,
   "nav_menu": {},
   "number_sections": true,
   "sideBar": true,
   "skip_h1_title": false,
   "title_cell": "Table of Contents",
   "title_sidebar": "Contents",
   "toc_cell": false,
   "toc_position": {},
   "toc_section_display": true,
   "toc_window_display": false
  },
  "varInspector": {
   "cols": {
    "lenName": 16,
    "lenType": 16,
    "lenVar": 40
   },
   "kernels_config": {
    "python": {
     "delete_cmd_postfix": "",
     "delete_cmd_prefix": "del ",
     "library": "var_list.py",
     "varRefreshCmd": "print(var_dic_list())"
    },
    "r": {
     "delete_cmd_postfix": ") ",
     "delete_cmd_prefix": "rm(",
     "library": "var_list.r",
     "varRefreshCmd": "cat(var_dic_list()) "
    }
   },
   "types_to_exclude": [
    "module",
    "function",
    "builtin_function_or_method",
    "instance",
    "_Feature"
   ],
   "window_display": false
  }
 },
 "nbformat": 4,
 "nbformat_minor": 4
}
