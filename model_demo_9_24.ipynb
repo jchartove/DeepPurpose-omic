{
 "cells": [
  {
   "cell_type": "markdown",
   "metadata": {},
   "source": [
    "This notebook demonstrates how to predict IC50 from BindingDB data using a DeepPurpose model. There's a lot of room for tweaking things here, but the model performance with minimal code and a relatively short training time is surprisingly good."
   ]
  },
  {
   "cell_type": "code",
   "execution_count": 1,
   "metadata": {
    "ExecuteTime": {
     "end_time": "2020-10-08T13:01:57.099553Z",
     "start_time": "2020-10-08T13:01:53.332540Z"
    }
   },
   "outputs": [],
   "source": [
    "import os\n",
    "\n",
    "from DeepPurpose import utils, dataset, CompoundPred\n",
    "from DeepPurpose import DTI as models\n",
    "import warnings\n",
    "warnings.filterwarnings(\"ignore\")"
   ]
  },
  {
   "cell_type": "markdown",
   "metadata": {},
   "source": [
    "# Data Importing\n",
    "\n",
    "The entirety of BindingDB is saved as a .tsv file. The function `process_BindingDB` loads it into a Pandas dataframe with three columns: drugs (SMILES format), targets (protein primary structure), and binding score (in this case IC50). The `convert_to_log` flag makes it pIC50.\n",
    "\n",
    "TODO: what are the other arguments to `process_BindingDB`?\n",
    "can I save the dataframe for easier access?"
   ]
  },
  {
   "cell_type": "code",
   "execution_count": 2,
   "metadata": {
    "ExecuteTime": {
     "end_time": "2020-10-08T13:03:46.916644Z",
     "start_time": "2020-10-08T13:02:01.363552Z"
    },
    "scrolled": true
   },
   "outputs": [
    {
     "name": "stdout",
     "output_type": "stream",
     "text": [
      "Loading Dataset from path...\n"
     ]
    },
    {
     "name": "stderr",
     "output_type": "stream",
     "text": [
      "b'Skipping line 772572: expected 193 fields, saw 205\\nSkipping line 772598: expected 193 fields, saw 205\\n'\n",
      "b'Skipping line 805291: expected 193 fields, saw 205\\n'\n",
      "b'Skipping line 827961: expected 193 fields, saw 265\\n'\n",
      "b'Skipping line 1231688: expected 193 fields, saw 241\\n'\n",
      "b'Skipping line 1345591: expected 193 fields, saw 241\\nSkipping line 1345592: expected 193 fields, saw 241\\nSkipping line 1345593: expected 193 fields, saw 241\\nSkipping line 1345594: expected 193 fields, saw 241\\nSkipping line 1345595: expected 193 fields, saw 241\\nSkipping line 1345596: expected 193 fields, saw 241\\nSkipping line 1345597: expected 193 fields, saw 241\\nSkipping line 1345598: expected 193 fields, saw 241\\nSkipping line 1345599: expected 193 fields, saw 241\\n'\n",
      "b'Skipping line 1358864: expected 193 fields, saw 205\\n'\n",
      "b'Skipping line 1378087: expected 193 fields, saw 241\\nSkipping line 1378088: expected 193 fields, saw 241\\nSkipping line 1378089: expected 193 fields, saw 241\\nSkipping line 1378090: expected 193 fields, saw 241\\nSkipping line 1378091: expected 193 fields, saw 241\\nSkipping line 1378092: expected 193 fields, saw 241\\nSkipping line 1378093: expected 193 fields, saw 241\\nSkipping line 1378094: expected 193 fields, saw 241\\nSkipping line 1378095: expected 193 fields, saw 241\\n'\n",
      "b'Skipping line 1417264: expected 193 fields, saw 205\\n'\n"
     ]
    },
    {
     "name": "stdout",
     "output_type": "stream",
     "text": [
      "Beginning Processing...\n",
      "There are 1073803 drug target pairs.\n",
      "Default set to logspace (nM -> p) for easier regression\n"
     ]
    }
   ],
   "source": [
    "data_path = './data//BindingDB_All.tsv'\n",
    "X_drugs, X_targets, y = dataset.process_BindingDB(path = data_path, df = None, y = 'IC50', binary = False, convert_to_log = True, threshold = 0)"
   ]
  },
  {
   "cell_type": "markdown",
   "metadata": {},
   "source": [
    "The cell below just shows what the data looks like."
   ]
  },
  {
   "cell_type": "code",
   "execution_count": 3,
   "metadata": {
    "ExecuteTime": {
     "end_time": "2020-10-01T00:47:06.277978Z",
     "start_time": "2020-10-01T00:47:06.264967Z"
    }
   },
   "outputs": [
    {
     "name": "stdout",
     "output_type": "stream",
     "text": [
      "Drug 1: Cc1nc(CN2CCN(CC2)c2c(Cl)cnc3[nH]c(nc23)-c2cn(C)nc2C)no1\n",
      "Target 1: MALIPDLAMETWLLLAVSLVLLYLYGTHSHGLFKKLGIPGPTPLPFLGNILSYHKGFCMFDMECHKKYGKVWGFYDGQQPVLAITDPDMIKTVLVKECYSVFTNRRPFGPVGFMKSAISIAEDEEWKRLRSLLSPTFTSGKLKEMVPIIAQYGDVLVRNLRREAETGKPVTLKDVFGAYSMDVITSTSFGVNIDSLNNPQDPFVENTKKLLRFDFLDPFFLSITVFPFLIPILEVLNICVFPREVTNFLRKSVKRMKESRLEDTQKHRVDFLQLMIDSQNSKETESHKALSDLELVAQSIIFIFAGYETTSSVLSFIMYELATHPDVQQKLQEEIDAVLPNKAPPTYDTVLQMEYLDMVVNETLRLFPIAMRLERVCKKDVEINGMFIPKGVVVMIPSYALHRDPKYWTEPEKFLPERFSKKNKDNIDPYIYTPFGSGPRNCIGMRFALMNMKLALIRVLQNFSFKPCKETQIPLKLSLGGLLQPEKPVVLKVESRDGTVSGA\n",
      "IC50 1: 4.301029127075886\n"
     ]
    }
   ],
   "source": [
    "print('Drug 1: ' + X_drugs[0])\n",
    "print('Target 1: ' + X_targets[0])\n",
    "print('IC50 1: ' + str(y[0]))"
   ]
  },
  {
   "cell_type": "markdown",
   "metadata": {},
   "source": [
    "# Drug and target encoding\n",
    "\n",
    "DeepPurpose supports several possible encodings for drugs and targets. I suspect choosing and possibly combining these will be key for feature engineering and model performance. Right now I'm using the Morgan Extended-Connectivity Fingerprints encoding for drugs and the conjoint triad features encoding for targets because they're not computationally intensive. I would like to find a way to allow models to take PaDEL features as drug encodings, which is what the gastric cancer paper did. They also encoded targets in terms of mutation position, which may not be feasible for all targets, but is probably worth looking into."
   ]
  },
  {
   "cell_type": "code",
   "execution_count": 8,
   "metadata": {
    "ExecuteTime": {
     "end_time": "2020-10-08T13:20:11.780121Z",
     "start_time": "2020-10-08T13:20:11.772109Z"
    }
   },
   "outputs": [],
   "source": [
    "drug_encoding, target_encoding = 'Morgan', 'Conjoint_triad'"
   ]
  },
  {
   "cell_type": "markdown",
   "metadata": {},
   "source": [
    "The following cell splits the data into training and testing sets. I think these numbers are probably fine, but maybe there's a way to improve on them. One thing to note is that for some reason RDKit (the biochemistry library) has trouble translating some of the SMILES data (~500 drugs) into Morgan format, so I might want to look into fixing that. That's only a small fraction of the drugs in the training data, though.\n",
    "\n",
    "TODO: look into `split_method` options,\n",
    "i would also like to save the training and testing data sets since this step takes a while"
   ]
  },
  {
   "cell_type": "code",
   "execution_count": 9,
   "metadata": {
    "ExecuteTime": {
     "end_time": "2020-10-08T13:25:36.556956Z",
     "start_time": "2020-10-08T13:20:14.447110Z"
    }
   },
   "outputs": [
    {
     "name": "stdout",
     "output_type": "stream",
     "text": [
      "Drug Target Interaction Prediction Mode...\n",
      "in total: 1073803 drug-target pairs\n",
      "encoding drug...\n",
      "unique drugs: 549205\n",
      "rdkit not found this smiles for morgan: CC(C)(C)OC(=O)N1CC(=O)N(C(=O)C1)c1ccc(cc1)N1CC(COC(=O)[N]2=CC=C(Cl)S2)OC1=O convert to all 0 features\n",
      "rdkit not found this smiles for morgan: CSc1ccc(cc1)C1=C(C=C[N]([O-])=C1)[C@@H]1CCC(F)(F)C[C@H]1C(=O)NCC#N convert to all 0 features\n",
      "rdkit not found this smiles for morgan: O=C1NC(=O)c2c1c1c3ccccc3n3[Ru](C#[O])[n+]4cccc2c4c13 convert to all 0 features\n",
      "rdkit not found this smiles for morgan: CN1C(=O)c2c(C1=O)c1cc(F)c[n+]3[Ru](C#[O])n4c5ccc(O)cc5c2c4c13 convert to all 0 features\n",
      "rdkit not found this smiles for morgan: CCC=[C]1=CC=C(C=C1)N1CC(C1)Oc1ccc(cc1)[C@H](C)NC(=O)c1ccncc1 convert to all 0 features\n",
      "rdkit not found this smiles for morgan: NOOSc1ccc(CC[N]23CC4=CC=CC=[N]4[Re+]2[N]2=C(C3)C=CC=C2)cc1 convert to all 0 features\n",
      "rdkit not found this smiles for morgan: NOOSc1ccc(CC[N@@]23CC(=O)O[Re]2[N]2=C(C3)C=CC=C2)cc1 convert to all 0 features\n",
      "rdkit not found this smiles for morgan: CN1C=C[N]2=C1C[N]1(CCc3ccc(SOON)cc3)CC3=[N](C=CN3C)[Re+]21 convert to all 0 features\n",
      "rdkit not found this smiles for morgan: NOOSc1ccc(NC(=S)NCCCCCCCC[N]23CC4=CC=CC=[N]4[Re+]2[N]2=C(C3)C=CC=C2)cc1 convert to all 0 features\n",
      "rdkit not found this smiles for morgan: NOOSc1ccc(NC(=S)NCCOCCOCC[N]23CC4=CC=CC=[N]4[Re+]2[N]2=C(C3)C=CC=C2)cc1 convert to all 0 features\n",
      "rdkit not found this smiles for morgan: NOOSc1ccc(NC(=S)NCCCCC[N]23CC4=CC=CC=[N]4[Re+]2[N]2=C(C3)C=CC=C2)cc1 convert to all 0 features\n",
      "rdkit not found this smiles for morgan: NOOSc1ccc(NC(=S)NCCCCCCCC[N@@]23CC(=O)O[Re]2[N]2=C(C3)C=CC=C2)cc1 convert to all 0 features\n",
      "rdkit not found this smiles for morgan: CN1C=C[N]2=C1C[N]1(CCCCCCCCCCNC(=S)Nc3ccc(SOON)cc3)CC3=[N](C=CN3C)[Re+]21 convert to all 0 features\n",
      "rdkit not found this smiles for morgan: OB(O)C1CCCN1C(=O)CNC(=O)CCCCC[N]12CC3=CC=CC=[N]3[Re+]1[N]1=C(C2)C=CC=C1 convert to all 0 features\n",
      "rdkit not found this smiles for morgan: OB(O)C1CCCN1C(=O)CNC(=O)CCCCC[N@@]12CC(=O)O[Re]1[N]1=C(C2)C=CC=C1 convert to all 0 features\n",
      "rdkit not found this smiles for morgan: CN1C=C[N]2=C1C[N]1(CCCCCC(=O)NCC(=O)N3CCCC3B(O)O)CC3=[N](C=CN3C)[Re+]21 convert to all 0 features\n",
      "rdkit not found this smiles for morgan: C[N]1(O)CCC[C@H]1c1cccnc1 convert to all 0 features\n",
      "rdkit not found this smiles for morgan: C[N]1=CCC[C@H]1c1cccnc1 convert to all 0 features\n",
      "rdkit not found this smiles for morgan: Cn1c(Nc2c(Cl)ccc(CNC(=O)C3=CC=CC=[N]3O)c2Cl)nc2cc(C(=O)NCCC(F)(F)F)c(cc12)N1CCC(CC1)C(F)(F)F convert to all 0 features\n",
      "rdkit not found this smiles for morgan: CC(C(C)[N]1=CC=C(F)C=C1)c1cc(cc2c1oc(cc2=O)N1CCOCC1)C(=O)N(C)C convert to all 0 features\n",
      "rdkit not found this smiles for morgan: ONC(=O)c1ccc(CNC(=O)c2nc(cc2-c2ccc(F)cc2)-c2cccs2)nc1 convert to all 0 features\n",
      "rdkit not found this smiles for morgan: CC(C)Nc1nc(cc2ncn(C)c(=O)c12)C1=CC=C(N2CCOCC2)[N](O)=C1 convert to all 0 features\n",
      "rdkit not found this smiles for morgan: CC1Cc2nn(C)c(c2-c2nc(NC3=[N](C)NC(C)=C3)ncc12)-c1ccccc1Cl convert to all 0 features\n",
      "rdkit not found this smiles for morgan: O[N]1=C(C=CC=C1)c1ccc(cc1)C(=O)NC\\C=C\\CN1CCN(CC1)c1cccc(Cl)c1Cl convert to all 0 features\n",
      "rdkit not found this smiles for morgan: [OH2+][V]12([OH2+])(=O)OC(=O)c3ccccc3[N]1=Cc1cc(Br)ccc1O2 convert to all 0 features\n",
      "rdkit not found this smiles for morgan: [OH2+][V]12([OH2+])(=O)OC(=O)c3ccccc3[N]1=Cc1cc(ccc1O2)[N+]([O-])=O convert to all 0 features\n",
      "rdkit not found this smiles for morgan: Clc1ccc2O[V]3(=O)(Oc4ccc(Cl)cc4C=[N]3c3ccccc3)[N](=Cc2c1)c1ccccc1 convert to all 0 features\n",
      "rdkit not found this smiles for morgan: Brc1ccc2O[V]3(=O)(Oc4ccc(Br)cc4C=[N]3c3ccccc3)[N](=Cc2c1)c1ccccc1 convert to all 0 features\n",
      "rdkit not found this smiles for morgan: [O-][N+](=O)c1ccc2O[V]3(=O)(Oc4ccc(cc4C=[N]3c3ccccc3)[N+]([O-])=O)[N](=Cc2c1)c1ccccc1 convert to all 0 features\n",
      "rdkit not found this smiles for morgan: CC[N]1(CC)CCN(CCOc2ccc3[nH]c(=O)c4CCCNc4c3c2)CC1 convert to all 0 features\n",
      "rdkit not found this smiles for morgan: COc1cc(C[N](C)(C)C2CCCC2)cc2[nH]c(=O)c3CCCNc3c12 convert to all 0 features\n",
      "rdkit not found this smiles for morgan: CC1=C2C(N(C(=O)C2=[N](N1)C1CC1)c1cc(C)c(=O)n(C)c1)c1ccc(Cl)cc1 convert to all 0 features\n",
      "rdkit not found this smiles for morgan: ON(=O)c1cccc(N\\N=C2/C(=O)Nc3ccccc23)c1 convert to all 0 features\n",
      "rdkit not found this smiles for morgan: ON(=O)c1cccc(N\\N=C2/C(=O)Nc3ccc(cc23)S(O)(=O)=O)c1 convert to all 0 features\n",
      "rdkit not found this smiles for morgan: [H][N]1([H])CCN(CC1)c1ncnc2sc3CCCCc3c12 convert to all 0 features\n",
      "rdkit not found this smiles for morgan: [H][N]1(C)CCCN(CC1)c1ncnc2sccc12 convert to all 0 features\n",
      "rdkit not found this smiles for morgan: CN(C)Cc1ccc(cc1)-c1cc(N(C)[C@H]2CC[C@@H](CC2)NC(C)=O)c(C)c(c1)C(=O)NCc1c(C)cc(C)nc1=O convert to all 0 features\n",
      "rdkit not found this smiles for morgan: CN(C)Cc1ccc(cc1)-c1cc(N(C)[C@@H]2CC[C@@H](CC2)NC(C)=O)c(C)c(c1)C(=O)NCc1c(C)cc(C)nc1=O convert to all 0 features\n",
      "rdkit not found this smiles for morgan: CN(C)Cc1ccc(cn1)-c1cc(N(C)[C@@H]2CC[C@@H](CC2)NC(C)=O)c(C)c(c1)C(=O)NCc1c(C)cc(C)nc1=O convert to all 0 features\n",
      "rdkit not found this smiles for morgan: CN([C@@H]1CC[C@@H](CC1)NC(C)=O)c1cc(cc(C(=O)NCc2c(C)cc(C)nc2=O)c1C)-c1ccc(CO)nc1 convert to all 0 features\n",
      "rdkit not found this smiles for morgan: CN(C)Cc1ccc(cc1)-c1cc(N(C)[C@H]2CC[C@H](N)CC2)c(C)c(c1)C(=O)NCc1c(C)cc(C)nc1=O convert to all 0 features\n",
      "rdkit not found this smiles for morgan: CCN(C1CCOCC1)c1cc(cc(C(=O)NCc2c(C)cc(C)nc2=O)c1C)-c1cnn(C)c1 convert to all 0 features\n",
      "rdkit not found this smiles for morgan: CCN(C1CCOCC1)c1cc(cc(C(=O)NCc2c(C)cc(C)nc2=O)c1C)-c1ccc(CN(C)C)nc1 convert to all 0 features\n",
      "rdkit not found this smiles for morgan: CCN(C1CCOCC1)c1cc(cc(C(=O)NCc2c(C)cc(C)nc2=O)c1C)-c1ccc(CN2CCN(C)CC2)nc1 convert to all 0 features\n",
      "rdkit not found this smiles for morgan: CCN(C1CCOCC1)c1cc(cc(C(=O)NCc2c(C)cc(C)nc2=O)c1C)-c1ccc(C)cc1 convert to all 0 features\n",
      "rdkit not found this smiles for morgan: CCN(C1CCOCC1)c1cc(cc(C(=O)NCc2c(C)cc(C)nc2=O)c1C)-c1cccc(CN2CCOCC2)c1 convert to all 0 features\n",
      "rdkit not found this smiles for morgan: CCN(C1CCOCC1)c1cc(cc(C(=O)NCc2c(C)cc(C)nc2=O)c1C)-c1ccc(CN2CC(CN3CCOCC3)C2)cc1 convert to all 0 features\n",
      "rdkit not found this smiles for morgan: Cc1cc(C)c(CNC(=O)c2cc(cc(NC3CCOCC3)c2C)-c2ccc(CN3CCOCC3)cc2)c(=O)n1 convert to all 0 features\n",
      "rdkit not found this smiles for morgan: CCNc1cc(cc(C(=O)NCc2c(C)cc(C)nc2=O)c1C)-c1ccc(CN2CCOCC2)cc1 convert to all 0 features\n",
      "rdkit not found this smiles for morgan: CCN(C1CCOCC1)c1cc(cc(C(=O)NCc2c(CO)cc(C)nc2=O)c1C)-c1ccc(CN2CCOCC2)cc1 convert to all 0 features\n",
      "rdkit not found this smiles for morgan: CC(=O)N(C1CCOCC1)c1cc(cc(C(=O)NCc2c(C)cc(C)nc2=O)c1C)-c1ccc(CN2CCOCC2)cc1 convert to all 0 features\n",
      "rdkit not found this smiles for morgan: CCN(C1CCOCC1)c1cc(cc(C(=O)NCc2c(C)cc(C)nc2=O)c1C)-c1ccc(CN2CCOCC2)c(F)c1 convert to all 0 features\n",
      "rdkit not found this smiles for morgan: CCN(C1CCOCC1)c1cc(cc(C(=O)NCc2c(C)cc(C)nc2=O)c1C)-c1ccc(CN2CCOCC2)cc1F convert to all 0 features\n",
      "rdkit not found this smiles for morgan: CCN(C1CCOCC1)c1cc(cc(C(=O)NCc2c(C)cc(C)nc2=O)c1C)-c1ccc(CN2CCOCC2)cc1C convert to all 0 features\n",
      "rdkit not found this smiles for morgan: CCN(C1CCOCC1)c1cc(cc(C(=O)NCc2c(C)cc(C)nc2=O)c1C)-c1ccc(cc1)C(=O)N1CCOCC1 convert to all 0 features\n",
      "rdkit not found this smiles for morgan: CCN(C1CCN(CC1)S(C)(=O)=O)c1cc(cc(C(=O)NCc2c(C)cc(C)nc2=O)c1C)-c1ccc(CN2CCOCC2)cc1 convert to all 0 features\n",
      "rdkit not found this smiles for morgan: CCN(C1CCN(CC1)C(C)=O)c1cc(cc(C(=O)NCc2c(C)cc(C)nc2=O)c1C)-c1ccc(CN2CCOCC2)cc1 convert to all 0 features\n",
      "rdkit not found this smiles for morgan: CCN(C1CCNCC1)c1cc(cc(C(=O)NCc2c(C)cc(C)nc2=O)c1C)-c1ccc(CN2CCOCC2)cc1 convert to all 0 features\n",
      "rdkit not found this smiles for morgan: CCN(C1CCN(CC1)C(=O)C(C)(C)C)c1cc(cc(C(=O)NCc2c(C)cc(C)nc2=O)c1C)-c1ccc(CN2CCOCC2)cc1 convert to all 0 features\n",
      "rdkit not found this smiles for morgan: CCN([C@H]1CC[C@H](N)CC1)c1cc(cc(C(=O)NCc2c(C)cc(C)nc2=O)c1C)-c1ccc(CN2CCOCC2)cc1 convert to all 0 features\n",
      "rdkit not found this smiles for morgan: CCN([C@H]1CC[C@@H](CC1)NC(C)=O)c1cc(cc(C(=O)NCc2c(C)cc(C)nc2=O)c1C)-c1ccc(CN2CCOCC2)cc1 convert to all 0 features\n",
      "rdkit not found this smiles for morgan: CCN(C1CCOCC1)c1cc(c(F)c(C(=O)NCc2c(C)cc(C)nc2=O)c1C)-c1ccc(CN2CCOCC2)cc1 convert to all 0 features\n",
      "rdkit not found this smiles for morgan: CCN(C1CCOCC1)c1cc(cc(C(=O)NCc2c(C)cc(C)nc2=O)c1C)-c1ccc(CN2CCOCC2=O)cc1 convert to all 0 features\n",
      "rdkit not found this smiles for morgan: CCN(C1CCSCC1)c1cc(cc(C(=O)NCc2c(C)cc(C)nc2=O)c1C)-c1ccc(CN2CCOCC2)cc1 convert to all 0 features\n",
      "rdkit not found this smiles for morgan: CCN(C1CCS(=O)CC1)c1cc(cc(C(=O)NCc2c(C)cc(C)nc2=O)c1C)-c1ccc(CN2CCOCC2)cc1 convert to all 0 features\n",
      "rdkit not found this smiles for morgan: CCN(C1CCOCC1)c1cc(cc(C(=O)NCc2c(C)cc(C)nc2=O)c1C)-c1ccc(CN2CCOCC2)c(C)c1 convert to all 0 features\n",
      "rdkit not found this smiles for morgan: CCN(C1CCS(=O)(=O)CC1)c1cc(cc(C(=O)NCc2c(C)cc(C)nc2=O)c1C)-c1ccc(CN2CCOCC2)cc1 convert to all 0 features\n",
      "rdkit not found this smiles for morgan: CCN(C1CCOCC1)c1cc(cc(C(=O)NCc2c(C)cc(C)[nH]c2=O)c1C)-c1ccc(C[N]2(O)CCOCC2)cc1 convert to all 0 features\n",
      "rdkit not found this smiles for morgan: Cc1cc(C)c(CNC(=O)c2cc(cc(N(CC(F)(F)F)C3CCOCC3)c2C)-c2ccc(CN3CCOCC3)cc2)c(=O)n1 convert to all 0 features\n",
      "rdkit not found this smiles for morgan: CCN(C1CCOCC1)c1cc(cc(C(=O)NCc2c(C)cc(C)nc2=O)c1CC)-c1ccc(CN2CCOCC2)cc1 convert to all 0 features\n",
      "rdkit not found this smiles for morgan: CCN(C1CCOCC1)c1cc(cc(C(=O)NCc2c(C)cc(C)nc2=O)c1C)-c1ccc(CN2CCOCC2)c(c1)C#N convert to all 0 features\n",
      "rdkit not found this smiles for morgan: CCN([C@H]1CC[C@@H](CC1)N(C)C)c1cc(cc(C(=O)NCc2c(C)cc(C)nc2=O)c1C)-c1ccc(CN2CCOCC2)cc1 convert to all 0 features\n"
     ]
    },
    {
     "name": "stdout",
     "output_type": "stream",
     "text": [
      "rdkit not found this smiles for morgan: CC(C)n1c(Nc2ccccc2)nc2cnc(Nc3ccc(cc3)C(=O)N[N]3=CCN(C)CC3)nc12 convert to all 0 features\n",
      "rdkit not found this smiles for morgan: CC(C)n1c(Nc2cccc(NC(C)=O)c2)nc2cnc(Nc3ccc(cc3F)C(=O)N[N]3=CCN(C)CC3)nc12 convert to all 0 features\n",
      "rdkit not found this smiles for morgan: CC[C@@H](N[C@@H](C)CC(N)=O)c1ccc(Cl)c(C(=O)C2=CC=[N]([O-])C=C2)c1F convert to all 0 features\n",
      "rdkit not found this smiles for morgan: CC1=N[N](C)=C(C)C1N[S+]([O-])(=O)c1c(Cl)cc(cc1Cl)-c1cccc2CNCCc12 convert to all 0 features\n",
      "rdkit not found this smiles for morgan: C[N]1=C(CC=N1)Nc1cc(ncc1C(=O)NC[C@@H](F)C(C)(C)O)-n1ccc2cc(cnc12)C#N convert to all 0 features\n",
      "rdkit not found this smiles for morgan: COc1ccc(cn1)-c1cc(NC(=O)C2=C3N=CC=C[N]3=NC2)n(n1)-c1ccc(C)cc1 convert to all 0 features\n",
      "rdkit not found this smiles for morgan: Cc1ccc(cc1)-n1nc(cc1NC(=O)C1=C2N=CC=C[N]2=NC1)C1=CCN(CC1)S(C)(=O)=O convert to all 0 features\n",
      "rdkit not found this smiles for morgan: CC(C)n1ncc2c(cc(C)nc12)C(=O)NCc1c(C)cc(C)nc1=O convert to all 0 features\n",
      "rdkit not found this smiles for morgan: CC(C)n1ncc2c(cc(nc12)C1CC1)C(=O)NCc1c(C)cc(C)nc1=O convert to all 0 features\n",
      "rdkit not found this smiles for morgan: CCN(C1CCOCC1)c1cc(cc(C(=O)NCc2c(C)cc(C)nc2=O)c1C)-c1ccc(CN2CCOCC2)cc1 convert to all 0 features\n",
      "rdkit not found this smiles for morgan: CCN(C1CCOCC1)c1cc(cc(C(=O)NCc2c(C)cc(C)nc2=O)c1C)-c1ccc(CN2CCCN(C)CC2)cc1 convert to all 0 features\n",
      "rdkit not found this smiles for morgan: CCN([C@H]1CC[C@@H](CC1)N(C)C)c1cc(Cl)cc(C(=O)NCc2c(C)cc(C)nc2=O)c1C convert to all 0 features\n",
      "rdkit not found this smiles for morgan: CNC(=O)C1=CC(CCCN2CCOCC2)[N](=C1C)c1ccccc1 convert to all 0 features\n",
      "rdkit not found this smiles for morgan: Cn1c2=[N]=C[N](CC(=O)Nc3nc(cs3)-c3ccc(Br)cc3)=c2c(=O)n(C)c1=O convert to all 0 features\n",
      "rdkit not found this smiles for morgan: O=C(N1N=C(CC1c1ccccc1)c1cnc2ccccc12)c1ccccc1 convert to all 0 features\n",
      "rdkit not found this smiles for morgan: C[N]1(C)CCN(CC1)c1ccc(cn1)-c1nc(oc1Sc1ccc(Cl)cc1)C1CCOCC1 convert to all 0 features\n",
      "rdkit not found this smiles for morgan: COCC[N]1=NC(N=C1C)c1ccc2ncc(C(=O)Nc3cc(ccc3C)-c3noc(n3)C3CC(F)(F)C3)n2c1 convert to all 0 features\n",
      "rdkit not found this smiles for morgan: CCOC(=O)CCc1c(CC(=O)OCC)cnc1\\C=N\\O convert to all 0 features\n",
      "rdkit not found this smiles for morgan: CC(C)(C)\\C=C(\\C#N)C(=O)N1CCC(Cc2nc(C3CCC(CC3)Oc3ccccc3)c3c(N)ncnc23)C1 convert to all 0 features\n",
      "rdkit not found this smiles for morgan: C(N1CCC(CC1)c1nnn2cnc3[nH]ccc3c12)C1=C[N]2=C(S1)C=CC=C2 convert to all 0 features\n",
      "rdkit not found this smiles for morgan: [N-]=[N]=NC[C@H]1CC[C@@H](CC1)c1nnn2cnc3[nH]ccc3c12 convert to all 0 features\n",
      "rdkit not found this smiles for morgan: COC1CC(C1)[N]1=CNc2cc(NC(=O)N[C@H](C)c3ccc(F)cc3)ncc12 convert to all 0 features\n",
      "rdkit not found this smiles for morgan: CN1C=C(c2cnc(N)c(n2)-c2ccc(C(=O)NCc3cccc(c3)S(C)(=O)=O)c(F)c2)[N](C)=C1 convert to all 0 features\n",
      "rdkit not found this smiles for morgan: Cc1cc2ccccc2c1-c1ccc(cc1)C(=O)NO convert to all 0 features\n",
      "rdkit not found this smiles for morgan: Cc1cc(-c2ccc(cc2)C(=O)NO)c2ccccc12 convert to all 0 features\n",
      "rdkit not found this smiles for morgan: ONC(=O)c1ccc(cc1)-c1cc(Cc2ccccc2)c2ccccc12 convert to all 0 features\n",
      "rdkit not found this smiles for morgan: CN(C)CCc1cc(-c2ccc(cc2)C(=O)NO)c2ccccc12 convert to all 0 features\n",
      "rdkit not found this smiles for morgan: CN1CCN(CCc2cc(-c3ccc(cc3)C(=O)NO)c3ccccc23)CC1 convert to all 0 features\n",
      "rdkit not found this smiles for morgan: CC(C)(C)OC(=O)N(C1CC1)C1=NC(=C[N]2=C(\\C=C3/NC(=O)NC3=O)C=NC12)c1cccc(OC(F)(F)F)c1 convert to all 0 features\n",
      "rdkit not found this smiles for morgan: O=C1NC(=O)\\C(N1)=C\\C1=[N]2C=C(N=C(NC3CC3)C2N=C1)C#Cc1ccccc1 convert to all 0 features\n",
      "rdkit not found this smiles for morgan: O=C1NC(=O)\\C(N1)=C\\C1=[N]2C=C(N=C(NC3CC3)C2N=C1)c1cccc(CN2CCOCC2)c1 convert to all 0 features\n",
      "rdkit not found this smiles for morgan: FC(F)(F)Oc1cccc(c1)C1=C[N]2=C(\\C=C3/NC(=O)NC3=O)C=NC2C(NC2CC2)=N1 convert to all 0 features\n",
      "rdkit not found this smiles for morgan: Fc1cccc(c1)C1=C[N]2=C(\\C=C3/NC(=O)NC3=O)C=NC2C(NC2CC2)=N1 convert to all 0 features\n",
      "rdkit not found this smiles for morgan: CC(C)(O)c1nc(ncc1F)N1C[C@H]2CSC(N)=[N]([C@H]2C1)c1cnccn1 convert to all 0 features\n",
      "rdkit not found this smiles for morgan: FC(F)(F)c1cccc(Nc2ccc3C(CCCN4CCOCC4)[N](=Cc3c2)c2ccccc2)c1 convert to all 0 features\n",
      "rdkit not found this smiles for morgan: CC(C)NC(=O)[C@@H]1C[C@H]2C[C@H]2N1C(=O)C[N]1#[N]=C(C(C)=O)c2cc(OCc3ncccn3)ccc12 convert to all 0 features\n",
      "rdkit not found this smiles for morgan: NS(=O)(=O)c1nnc(s1)N1C(=O)C2=[N](N(C(=C2C(=O)c2ccccc2)c2ccccc2)c2cccc(c2)[N+]([O-])=O)[Co]11N(C(=O)C2=[N]1N(C(=C2C(=O)c1ccccc1)c1ccccc1)c1cccc(c1)[N+]([O-])=O)c1nnc(s1)S(N)(=O)=O convert to all 0 features\n",
      "rdkit not found this smiles for morgan: NS(=O)(=O)c1nnc(s1)N1C(=O)C2=[N](N(C(=C2C(=O)c2ccccc2)c2ccccc2)c2cccc(c2)[N+]([O-])=O)[Ni]11N(C(=O)C2=[N]1N(C(=C2C(=O)c1ccccc1)c1ccccc1)c1cccc(c1)[N+]([O-])=O)c1nnc(s1)S(N)(=O)=O convert to all 0 features\n",
      "rdkit not found this smiles for morgan: NS(=O)(=O)c1nnc(s1)N1C(=O)C2=[N](N(C(=C2C(=O)c2ccccc2)c2ccccc2)c2cccc(c2)[N+]([O-])=O)[Cu]11N(C(=O)C2=[N]1N(C(=C2C(=O)c1ccccc1)c1ccccc1)c1cccc(c1)[N+]([O-])=O)c1nnc(s1)S(N)(=O)=O convert to all 0 features\n",
      "rdkit not found this smiles for morgan: CC(C)(c1nc(nc2N3CCOC[C@H]3COc12)[N]1=C(N)Nc2ccccc12)S(C)(=O)=O convert to all 0 features\n",
      "rdkit not found this smiles for morgan: CC(C)(c1nc(nc2N3CCOC[C@H]3COc12)[N]1=C(Nc2ccccc12)N1CCOCC1)S(C)(=O)=O convert to all 0 features\n",
      "rdkit not found this smiles for morgan: FC(F)(F)CN1CCC(CC1)S(=O)c1ccc(CNC(=O)[N]2=Cc3ccncc3O2)nc1 convert to all 0 features\n",
      "rdkit not found this smiles for morgan: Clc1ccc(CNc2cc(nn2)-c2cccn(Cc3ccccc3Cl)c2=O)s1 convert to all 0 features\n",
      "rdkit not found this smiles for morgan: Clc1ccc(CNc2cc(nn2)-c2cccn(Cc3cccc(Cl)c3)c2=O)s1 convert to all 0 features\n",
      "rdkit not found this smiles for morgan: Clc1ccc(CNc2cc(nn2)-c2cccn(Cc3ccc(Cl)cc3)c2=O)s1 convert to all 0 features\n",
      "rdkit not found this smiles for morgan: Clc1ccc(CNc2cc(nn2)-c2cccn(Cc3ccc(Cl)s3)c2=O)s1 convert to all 0 features\n",
      "rdkit not found this smiles for morgan: Clc1ccc(CNc2cc(nn2)-c2cccn(Cc3ccccc3)c2=O)s1 convert to all 0 features\n",
      "rdkit not found this smiles for morgan: OC(=O)n1cccc(-c2cc(NCc3ccc(Cl)s3)nn2)c1=O convert to all 0 features\n",
      "rdkit not found this smiles for morgan: Clc1ccc(CNc2cc(nn2)-c2cccn(CC#N)c2=O)s1 convert to all 0 features\n",
      "rdkit not found this smiles for morgan: Clc1ccc(CNc2cc(nn2)-c2cccn(Cc3nnn[nH]3)c2=O)s1 convert to all 0 features\n",
      "rdkit not found this smiles for morgan: COCCn1cccc(-c2cc(NCc3ccc(Cl)s3)nn2)c1=O convert to all 0 features\n",
      "rdkit not found this smiles for morgan: Clc1ccc(CNc2cc(nn2)-c2cccn(CCc3ccccc3)c2=O)s1 convert to all 0 features\n",
      "rdkit not found this smiles for morgan: Clc1ccc(CNc2cc(nn2)-c2cccn(Cc3ccco3)c2=O)s1 convert to all 0 features\n",
      "rdkit not found this smiles for morgan: Clc1ccc(CNc2cc(nn2)-c2cccn(Cc3ccoc3)c2=O)s1 convert to all 0 features\n",
      "rdkit not found this smiles for morgan: Clc1ccc(CNc2cc(nn2)-c2cccn(Cc3cccc4ccccc34)c2=O)s1 convert to all 0 features\n",
      "rdkit not found this smiles for morgan: Clc1ccc(CNc2cc(nn2)-c2cccn(Cc3ccc4ccccc4c3)c2=O)s1 convert to all 0 features\n",
      "rdkit not found this smiles for morgan: Clc1ccc(CNc2cc(nn2)-c2cccn(Cc3cccnn3)c2=O)s1 convert to all 0 features\n",
      "rdkit not found this smiles for morgan: Clc1ccc(CNc2cc(nn2)-c2cccn(Cc3ccccn3)c2=O)s1 convert to all 0 features\n",
      "rdkit not found this smiles for morgan: Clc1ccc(CNc2cc(nn2)-c2cccn(Cc3cccnc3)c2=O)s1 convert to all 0 features\n",
      "rdkit not found this smiles for morgan: Clc1ccc(CNc2cc(nn2)-c2cccn(Cc3ccncc3)c2=O)s1 convert to all 0 features\n",
      "rdkit not found this smiles for morgan: Clc1ccc(CNc2cc(nn2)-c2cccn(Cc3ncccn3)c2=O)s1 convert to all 0 features\n",
      "rdkit not found this smiles for morgan: Clc1ccc(CNc2cc(nn2)-c2cccn(Cc3cccs3)c2=O)s1 convert to all 0 features\n",
      "rdkit not found this smiles for morgan: Clc1ccc(CNc2cc(nn2)-c2cccn(Cc3ccsc3)c2=O)s1 convert to all 0 features\n",
      "rdkit not found this smiles for morgan: Clc1ccc(CNc2cc(nn2)-c2cccn(CC(=O)N3CCOCC3)c2=O)s1 convert to all 0 features\n",
      "rdkit not found this smiles for morgan: Clc1ccc(CNc2cc(nn2)-c2cccn(CCN3CCOCC3)c2=O)s1 convert to all 0 features\n",
      "rdkit not found this smiles for morgan: Clc1ccc(CNc2cc(nn2)-c2cccn(CCc3ccccn3)c2=O)s1 convert to all 0 features\n",
      "rdkit not found this smiles for morgan: Cn1cccc(-c2cc(NCc3ccc(Cl)s3)nn2)c1=O convert to all 0 features\n",
      "rdkit not found this smiles for morgan: CCOC(=O)Cn1cccc(-c2cc(NCc3ccc(Cl)s3)nn2)c1=O convert to all 0 features\n",
      "rdkit not found this smiles for morgan: CC(C)(C)OC(=O)Cn1cccc(-c2cc(NCc3ccc(Cl)s3)nn2)c1=O convert to all 0 features\n"
     ]
    },
    {
     "name": "stdout",
     "output_type": "stream",
     "text": [
      "rdkit not found this smiles for morgan: CCc1ccc(Cl)cc1-c1nc(cc1C#N)-c1cc(N)ncn1 convert to all 0 features\n",
      "rdkit not found this smiles for morgan: Cc1ccc(Cl)cc1-c1cc(nc1C(N)=O)-c1ncnc2[nH]ccc12 convert to all 0 features\n",
      "rdkit not found this smiles for morgan: CCc1ccc(Cl)cc1-c1cc(nc1C(N)=O)-c1ncnc2[nH]ccc12 convert to all 0 features\n",
      "rdkit not found this smiles for morgan: CCc1ccc(cc1-c1cc(nc1C(N)=O)-c1ncnc2[nH]ccc12)C(F)(F)F convert to all 0 features\n",
      "rdkit not found this smiles for morgan: CNc1cc(ncn1)-c1cc(C(N)=O)c(n1)-c1cc(Cl)ccc1C convert to all 0 features\n",
      "rdkit not found this smiles for morgan: Cc1ccc(Cl)cc1-c1nc(cc1C(N)=O)-c1ncnc2[nH]ccc12 convert to all 0 features\n",
      "rdkit not found this smiles for morgan: Cc1ccc(Cl)cc1-c1nc(cc1C(N)=O)-c1nc[nH]c2nccc12 convert to all 0 features\n",
      "rdkit not found this smiles for morgan: CCc1ccc(Cl)cc1-c1nc(cc1C(N)=O)-c1cc(N)ncn1 convert to all 0 features\n",
      "rdkit not found this smiles for morgan: CCc1ccc(Cl)cc1-c1nc(cc1C(N)=O)-c1ncnc2[nH]ccc12 convert to all 0 features\n",
      "rdkit not found this smiles for morgan: NC(=O)c1cc(nc1-c1cc(ccc1Cl)C(F)(F)F)-c1cc(N)ncn1 convert to all 0 features\n",
      "rdkit not found this smiles for morgan: CNc1cc(ncn1)-c1cc(C(N)=O)c(n1)-c1cc(ccc1Cl)C(F)(F)F convert to all 0 features\n",
      "rdkit not found this smiles for morgan: NC(=O)c1cc(nc1-c1cc(ccc1Cl)C(F)(F)F)-c1ncnc2[nH]ccc12 convert to all 0 features\n",
      "rdkit not found this smiles for morgan: Cc1ccc(cc1-c1nc(cc1C(N)=O)-c1cc(N)ncn1)C(F)(F)F convert to all 0 features\n",
      "rdkit not found this smiles for morgan: CNc1cc(ncn1)-c1cc(C(N)=O)c(n1)-c1cc(ccc1C)C(F)(F)F convert to all 0 features\n",
      "rdkit not found this smiles for morgan: Cc1ccc(cc1-c1nc(cc1C(N)=O)-c1ncnc2[nH]ccc12)C(F)(F)F convert to all 0 features\n",
      "rdkit not found this smiles for morgan: CCc1ccc(cc1-c1nc(cc1C(N)=O)-c1cc(N)ncn1)C(F)(F)F convert to all 0 features\n",
      "rdkit not found this smiles for morgan: CCc1ccc(cc1-c1nc(cc1C(N)=O)-c1cc(NC)ncn1)C(F)(F)F convert to all 0 features\n",
      "rdkit not found this smiles for morgan: CCc1ccc(cc1-c1nc(cc1C(N)=O)-c1ncnc2[nH]ccc12)C(F)(F)F convert to all 0 features\n",
      "rdkit not found this smiles for morgan: CC(C)c1nn(cc1CN1CCn2[nH]nnc2C1c1ccc(F)cc1)-c1ccccc1 convert to all 0 features\n",
      "rdkit not found this smiles for morgan: Clc1cccc(Cl)c1NC(=O)N1CCN(CC1)c1ccc(cc1)-c1ncnn1 convert to all 0 features\n",
      "rdkit not found this smiles for morgan: Cc1ccc(cc1)-c1nc([nH]o1)-c1ccc(cc1)N1CCN(CC1)C(=O)Nc1ccccc1Cl convert to all 0 features\n",
      "rdkit not found this smiles for morgan: Cc1ccc(o1)-c1cnc(CCC2=NN3C(N2)C=CC=C3C)n1 convert to all 0 features\n",
      "rdkit not found this smiles for morgan: CC1=CC=CC2NC(CCc3ncc(n3)-c3ccsc3)=NN12 convert to all 0 features\n",
      "rdkit not found this smiles for morgan: CC1=CC=CC2NC(CCc3ncc(n3)-c3cccnc3)=NN12 convert to all 0 features\n",
      "rdkit not found this smiles for morgan: Cc1cscc1-c1cnc(CCC2=NN3C(N2)C=CC=C3C)n1 convert to all 0 features\n",
      "rdkit not found this smiles for morgan: CC1=CC=CN2N=C(CCc3ncc(n3)-c3cccnc3)NC12 convert to all 0 features\n",
      "rdkit not found this smiles for morgan: COC1=CC=CN2N=C(CCc3ncc(n3)-c3cncs3)NC12 convert to all 0 features\n",
      "rdkit not found this smiles for morgan: COC1=CC=CN2N=C(CCc3ncc(n3)-c3cccnc3)NC12 convert to all 0 features\n",
      "rdkit not found this smiles for morgan: COC1=CC=CN2N=C(CCc3ncc(n3)-c3cccs3)NC12 convert to all 0 features\n",
      "rdkit not found this smiles for morgan: COC1=CC=CN2N=C(CCc3ncc(n3)-c3ccc(C)o3)NC12 convert to all 0 features\n",
      "rdkit not found this smiles for morgan: Cc1cc(nc1Cc1ccccc1)C(=O)NCc1ccc(CN)cc1 convert to all 0 features\n",
      "rdkit not found this smiles for morgan: CCc1c(Cc2ccc(Cn3ccccc3=O)cc2)c(C)cc1C(=O)NCc1c(C)cc(CN)cc1C convert to all 0 features\n",
      "rdkit not found this smiles for morgan: Cc1cc(nn1)-c1cc(C(=O)Nc2ccc(F)cn2)c2ncnn2c1 convert to all 0 features\n",
      "rdkit not found this smiles for morgan: C[C@@H](Nc1nc(nc2nc(C3=C(C)N(C)[N](C)=C3)n(Cc3ccc(cc3)C(F)(F)F)c12)C(O)=O)C1CCC1 convert to all 0 features\n",
      "rdkit not found this smiles for morgan: C[N]1=C(OC(=C1)c1cccc(Nc2nccc(n2)-c2cccnc2)c1)N1CCNC(=O)C11CC1 convert to all 0 features\n",
      "rdkit not found this smiles for morgan: Cc1ccnc(Nc2cccc(C3=C[N](C)=C(O3)N3CCNC(=O)C33CC3)c2C)n1 convert to all 0 features\n",
      "rdkit not found this smiles for morgan: COc1cc2C[N](C)(C)CCc2cc1Nc1ncc(Cl)c(Nc2ccccc2S(=O)(=O)C(C)C)n1 convert to all 0 features\n",
      "rdkit not found this smiles for morgan: C[N]1(C)CC(C1)c1ccc(cc1)-c1ccc(c(c1-c1nn[nH]n1)S(N)(=O)=O)C(F)(F)F convert to all 0 features\n",
      "rdkit not found this smiles for morgan: C[N]1(C)CCC(Cc2ccc(-c3ccc(cc3)C3CNC3)c(-c3nn[nH]n3)c2S(N)(=O)=O)CC1 convert to all 0 features\n",
      "rdkit not found this smiles for morgan: CN1C=[N](C)C=C1c1ccc(C[C@H](NC(=O)[C@H]2N[C@@H]3CC[C@H]2C3)C#N)c(F)c1 convert to all 0 features\n",
      "rdkit not found this smiles for morgan: Oc1cnc(Cn2cnc(c(Oc3cc(Cl)cc(c3)C#N)c2=O)C(F)(F)F)c[nH]1 convert to all 0 features\n",
      "rdkit not found this smiles for morgan: CC1(C)CC2C[C@@]3(C[N]23c2cc(nc3c(nccc23)-c2ccn[nH]2)N2CCOCC2)C1 convert to all 0 features\n",
      "rdkit not found this smiles for morgan: Cc1nc(nc2[nH]nc(N)c12)-c1ccc(NS(=O)(=O)c2csccc2Br)cc1 convert to all 0 features\n",
      "rdkit not found this smiles for morgan: Cc1nc(nc2[nH]nc(N)c12)-c1ccc(NS(=O)(=O)c2csccc2Cl)cc1 convert to all 0 features\n",
      "rdkit not found this smiles for morgan: OCC(=O)N1C2CCC1CC(C2)Oc1ccc(cc1C#N)C1=NC(Nc2ccc(cc2)N2CCN(CC2)C2COC2)=[N]=CN1 convert to all 0 features\n",
      "rdkit not found this smiles for morgan: OC(=O)C(F)(F)F.C[N]1=C(C(NC(=O)c2csc3ncc(N[C@@H]4CCCC[C@@H]4N)nc23)=CN1)C(F)(F)F convert to all 0 features\n",
      "rdkit not found this smiles for morgan: OC1Nc2ccc(cc2[N]2=NN=NN12)-c1ccc(CNc2ncccc2C(=O)NCc2ccc(F)c(F)c2)s1 convert to all 0 features\n",
      "rdkit not found this smiles for morgan: C[C@H](NC(=O)c1nc(cnc1NCc1ccc(cc1)C1=C2N(C=CN=C2N)[N](C)=C1)C#N)c1ccc(F)c(F)c1 convert to all 0 features\n",
      "rdkit not found this smiles for morgan: C[N]1=CC(=CN1)c1cc(-c2ccc(nc2)N2CCN(CC2)S(=O)(=O)CC2CC2)c2c(cnn2c1)C#N convert to all 0 features\n",
      "rdkit not found this smiles for morgan: CC(=O)Nc1ccc(C(=O)COC(=O)C2(O)CCC3=C2[N]([O-])=CC(=C3)c2cc(Cl)ccc2NC(=O)OC(C)(C)C)c(F)n1 convert to all 0 features\n",
      "rdkit not found this smiles for morgan: CC(C)(C)OC(=O)Nc1ccc(Cl)cc1C1=CC2=C([N]([O-])=C1)C(O)(CC2)c1nc(Cl)c([nH]1)-c1ccc(s1)C(=O)OC(C)(C)C convert to all 0 features\n",
      "rdkit not found this smiles for morgan: COC(=O)c1scc(C(=O)COC(=O)C2(O)CCC3=C2[N]([O-])=CC(=C3)c2cc(Cl)ccc2NC(=O)OC(C)(C)C)c1F convert to all 0 features\n",
      "rdkit not found this smiles for morgan: COC(=O)Nc1ccc(cc1)-c1cnc(o1)C1(O)CCC2=CC(=C[N](O)=C12)c1c(F)c(Cl)ccc1-n1cnnn1 convert to all 0 features\n",
      "rdkit not found this smiles for morgan: CCCCCCC(=O)NNC(=O)c1c(O)c2c(Cl)cccc2nc1=O convert to all 0 features\n",
      "rdkit not found this smiles for morgan: CCCCCCCCCCC(=O)NNC(=O)c1c(O)c2c(Cl)cccc2nc1=O convert to all 0 features\n",
      "rdkit not found this smiles for morgan: CCCCCCCCCCC(=O)NNC(=O)c1c(O)c2c(F)cccc2nc1=O convert to all 0 features\n",
      "rdkit not found this smiles for morgan: CC[N]1=CC=C(N1)n1nnc2CN([C@@H](C)Cc12)C(=O)c1ccnc(c1Cl)C(F)(F)F convert to all 0 features\n",
      "rdkit not found this smiles for morgan: Cc1[nH]oc(C)c1-c1cnc2c(c1)n(C(c1ccccc1)c1ccccc1)c1cc(ccc21)C(C)(C)O convert to all 0 features\n",
      "rdkit not found this smiles for morgan: CCC(CC)n1c2cc(ccc2c2ncc(cc12)-c1c(C)[nH]oc1C)C(C)(C)O convert to all 0 features\n",
      "rdkit not found this smiles for morgan: COCC(c1ccccc1)n1c2cc(ccc2c2ncc(cc12)-c1c(C)[nH]oc1C)C(C)(C)O convert to all 0 features\n",
      "rdkit not found this smiles for morgan: Cc1[nH]oc(C)c1-c1cnc2c(c1)n(C(CCC(F)(F)F)CCC(F)(F)F)c1cc(ccc21)C(C)(C)O convert to all 0 features\n",
      "rdkit not found this smiles for morgan: COCC(COC)n1c2cc(ccc2c2ncc(cc12)-c1c(C)[nH]oc1C)C(C)(C)O convert to all 0 features\n",
      "rdkit not found this smiles for morgan: CCCC(CCC)n1c2cc(ccc2c2ncc(cc12)-c1c(C)[nH]oc1C)C(C)(C)O convert to all 0 features\n",
      "rdkit not found this smiles for morgan: Cc1[nH]oc(C)c1-c1cnc2c(c1)n([C@@H](CCC(F)(F)F)c1ccccc1)c1cc(ccc21)C(C)(C)O convert to all 0 features\n",
      "rdkit not found this smiles for morgan: Cc1[nH]oc(C)c1-c1cnc2c(c1)n([C@H](CCC(F)(F)F)c1ccccc1)c1cc(ccc21)C(C)(C)O convert to all 0 features\n",
      "rdkit not found this smiles for morgan: Cc1[nH]oc(C)c1-c1cnc2c(c1)n([C@@H](C1CC1)c1ccccc1)c1cc(ccc21)C(C)(C)O convert to all 0 features\n",
      "rdkit not found this smiles for morgan: Cc1[nH]oc(C)c1-c1cnc2c(c1)n([C@H](C1CC1)c1ccccc1)c1cc(ccc21)C(C)(C)O convert to all 0 features\n",
      "rdkit not found this smiles for morgan: Cc1[nH]oc(C)c1-c1cnc2c(c1)n([C@@H](C1CCC1)c1ccccc1)c1cc(ccc21)C(C)(C)O convert to all 0 features\n",
      "rdkit not found this smiles for morgan: Cc1[nH]oc(C)c1-c1cnc2c(c1)n([C@H](C1CCC1)c1ccccc1)c1cc(ccc21)C(C)(C)O convert to all 0 features\n",
      "rdkit not found this smiles for morgan: Cc1[nH]oc(C)c1-c1cnc2c(c1)n([C@@H](C1CCC1)c1ccc(F)cc1)c1cc(ccc21)C(C)(C)O convert to all 0 features\n",
      "rdkit not found this smiles for morgan: Cc1[nH]oc(C)c1-c1cnc2c(c1)n([C@H](C1CCC1)c1ccc(F)cc1)c1cc(ccc21)C(C)(C)O convert to all 0 features\n",
      "rdkit not found this smiles for morgan: Cc1[nH]oc(C)c1-c1cnc2c(c1)n([C@@H](C1CCOC(C)(C)C1)c1ccc(F)cc1)c1cc(ccc21)C(C)(C)O convert to all 0 features\n",
      "rdkit not found this smiles for morgan: Cc1[nH]oc(C)c1-c1cnc2c(c1)n([C@H](C1CCOC(C)(C)C1)c1ccc(F)cc1)c1cc(ccc21)C(C)(C)O convert to all 0 features\n",
      "rdkit not found this smiles for morgan: Cc1[nH]oc(C)c1-c1cnc2c(c1)n([C@H](CCC(F)(F)F)c1cscn1)c1cc(ccc21)C(C)(C)O convert to all 0 features\n",
      "rdkit not found this smiles for morgan: Cc1[nH]oc(C)c1-c1cnc2c(c1)n([C@@H](CCC(F)(F)F)c1cscn1)c1cc(ccc21)C(C)(C)O convert to all 0 features\n",
      "rdkit not found this smiles for morgan: Cc1[nH]oc(C)c1-c1cnc2c(c1)n([C@@H](C1CCOCC1)c1ccccn1)c1cc(ccc21)C(C)(C)O convert to all 0 features\n",
      "rdkit not found this smiles for morgan: Cc1[nH]oc(C)c1-c1cnc2c(c1)n([C@H](C1CCOCC1)c1ccccn1)c1cc(ccc21)C(C)(C)O convert to all 0 features\n",
      "rdkit not found this smiles for morgan: Cc1[nH]oc(C)c1-c1cnc2c(c1)n([C@@H](CCC(F)(F)F)c1ccccn1)c1cc(ccc21)C(C)(C)O convert to all 0 features\n",
      "rdkit not found this smiles for morgan: Cc1[nH]oc(C)c1-c1cnc2c(c1)n([C@H](CCC(F)(F)F)c1ccccn1)c1cc(ccc21)C(C)(C)O convert to all 0 features\n",
      "rdkit not found this smiles for morgan: Cc1n[nH]n(C)c1-c1cnc2c(c1)n([C@@H](C1CCOCC1)c1ccccc1)c1cc(ccc21)C(C)(C)O convert to all 0 features\n",
      "rdkit not found this smiles for morgan: Cc1n[nH]n(C)c1-c1cnc2c(c1)n([C@H](C1CCOCC1)c1ccccc1)c1cc(ccc21)C(C)(C)O convert to all 0 features\n",
      "rdkit not found this smiles for morgan: Cc1n[nH]n(C)c1-c1cnc2c(c1)n(C(CCC(F)(F)F)CCC(F)(F)F)c1cc(ccc21)C(C)(C)O convert to all 0 features\n",
      "rdkit not found this smiles for morgan: Cc1n[nH]n(C)c1-c1cnc2c(c1)n([C@@H](CCC(F)(F)F)c1ccccc1)c1cc(ccc21)C(C)(C)O convert to all 0 features\n",
      "rdkit not found this smiles for morgan: Cc1n[nH]n(C)c1-c1cnc2c(c1)n([C@H](CCC(F)(F)F)c1ccccc1)c1cc(ccc21)C(C)(C)O convert to all 0 features\n",
      "rdkit not found this smiles for morgan: Cc1n[nH]n(C)c1-c1cnc2c(c1)n([C@@H](C1CCOCC1)c1ccc(F)cc1)c1cc(ccc21)C(C)(C)O convert to all 0 features\n",
      "rdkit not found this smiles for morgan: Cc1n[nH]n(C)c1-c1cnc2c(c1)n([C@H](C1CCOCC1)c1ccc(F)cc1)c1cc(ccc21)C(C)(C)O convert to all 0 features\n",
      "rdkit not found this smiles for morgan: CCCC(CCC)n1c2cc(ccc2c2ncc(cc12)-c1c(C)n[nH]n1C)C(C)(C)O convert to all 0 features\n",
      "rdkit not found this smiles for morgan: Cc1n[nH]n(C)c1-c1cnc2c(c1)n([C@@H](C1CCOCC1)c1ccccn1)c1cc(ccc21)C(C)(C)O convert to all 0 features\n",
      "rdkit not found this smiles for morgan: Cc1n[nH]n(C)c1-c1cnc2c(c1)n([C@H](C1CCOCC1)c1ccccn1)c1cc(ccc21)C(C)(C)O convert to all 0 features\n",
      "rdkit not found this smiles for morgan: Cc1n[nH]n(C)c1-c1cnc2c(c1)n([C@@H](C1CCOCC1)c1ccccc1F)c1cc(ccc21)C(C)(C)O convert to all 0 features\n",
      "rdkit not found this smiles for morgan: Cc1n[nH]n(C)c1-c1cnc2c(c1)n([C@H](C1CCOCC1)c1ccccc1F)c1cc(ccc21)C(C)(C)O convert to all 0 features\n",
      "rdkit not found this smiles for morgan: Cc1n[nH]n(C)c1-c1cnc2c(c1)n([C@H](C1CCOCC1)c1ccccc1)c1c(F)c(ccc21)C(C)(C)O convert to all 0 features\n",
      "rdkit not found this smiles for morgan: Cc1n[nH]n(C)c1-c1cnc2c(c1)n([C@@H](C1CCOCC1)c1ccccc1)c1c(F)c(ccc21)C(C)(C)O convert to all 0 features\n",
      "rdkit not found this smiles for morgan: Cc1n[nH]n(C)c1-c1cnc2c(c1)n([C@@H](C1CCOCC1)c1ccc(F)cc1)c1cc(c(F)cc21)C(C)(C)O convert to all 0 features\n",
      "rdkit not found this smiles for morgan: Cc1n[nH]n(C)c1-c1cnc2c(c1)n([C@H](C1CCOCC1)c1ccc(F)cc1)c1cc(c(F)cc21)C(C)(C)O convert to all 0 features\n",
      "rdkit not found this smiles for morgan: Cc1[nH]oc(C)c1-c1cnc2c(c1)n([C@@H](C1CCOCC1)c1ccc(F)cc1)c1c(F)c(ccc21)C(C)(C)O convert to all 0 features\n",
      "rdkit not found this smiles for morgan: Cc1n[nH]n(C)c1-c1cnc2c(c1)n([C@@H](C1CCOCC1)c1cccc(F)c1F)c1cc(ccc21)C(C)(C)O convert to all 0 features\n",
      "rdkit not found this smiles for morgan: Cc1n[nH]n(C)c1-c1cnc2c(c1)n([C@H](C1CCOCC1)c1cccc(F)c1F)c1cc(ccc21)C(C)(C)O convert to all 0 features\n",
      "rdkit not found this smiles for morgan: Cc1n[nH]n(C)c1-c1cnc2c(c1)n([C@@H](C1CCOCC1)c1ccccc1F)c1c(F)c(ccc21)C(C)(O)C1CC1 convert to all 0 features\n",
      "rdkit not found this smiles for morgan: Cc1n[nH]n(C)c1-c1cnc2c(c1)n(C(C1CCOCC1)c1ccccc1F)c1c(F)c(ccc21)C(C)(C)O convert to all 0 features\n",
      "rdkit not found this smiles for morgan: Cc1n[nH]n(C)c1-c1cnc2c(c1)n([C@H](C1CCOCC1)c1cc(F)cc(F)c1)c1cc(ccc21)C(C)(C)O convert to all 0 features\n",
      "rdkit not found this smiles for morgan: Cc1n[nH]n(C)c1-c1cnc2c(c1)n([C@@H](C1CCOCC1)c1cc(F)cc(F)c1)c1cc(ccc21)C(C)(C)O convert to all 0 features\n",
      "rdkit not found this smiles for morgan: Cc1n[nH]n(C)c1-c1cnc2c(c1)n([C@@H](C1CCOCC1)c1cccc(F)c1)c1cc(ccc21)C(C)(C)O convert to all 0 features\n",
      "rdkit not found this smiles for morgan: Cc1n[nH]n(C)c1-c1cnc2c(c1)n([C@H](C1CCOCC1)c1cccc(F)c1)c1cc(ccc21)C(C)(C)O convert to all 0 features\n",
      "rdkit not found this smiles for morgan: Cc1n[nH]n(C)c1-c1cnc2c(c1)n([C@H](C1CCOCC1)c1c(F)cc(F)cc1F)c1cc(ccc21)C(C)(C)O convert to all 0 features\n",
      "rdkit not found this smiles for morgan: Cc1n[nH]n(C)c1-c1cnc2c(c1)n([C@@H](C1CCOCC1)c1c(F)cc(F)cc1F)c1cc(ccc21)C(C)(C)O convert to all 0 features\n",
      "rdkit not found this smiles for morgan: Cc1n[nH]n(C)c1-c1cnc2c(c1)n([C@H](C1CCOCC1)c1ccccc1)c1cc(c(F)cc21)C(C)(O)C1CC1 convert to all 0 features\n",
      "rdkit not found this smiles for morgan: Cc1n[nH]n(C)c1-c1cnc2c(c1)n([C@@H](C1CCOCC1)c1c(F)cc(F)cc1F)c1cc(cc(F)c21)C(C)(C)O convert to all 0 features\n",
      "rdkit not found this smiles for morgan: Cc1n[nH]n(C)c1-c1cnc2c(c1)n([C@H](C1CCOCC1)c1cc(F)ccc1F)c1cc(cc(F)c21)C(C)(C)O convert to all 0 features\n",
      "rdkit not found this smiles for morgan: Cc1n[nH]n(C)c1-c1cnc2c(c1)n([C@@H](C1CCOCC1)c1cc(F)ccc1F)c1cc(cc(F)c21)C(C)(C)O convert to all 0 features\n",
      "rdkit not found this smiles for morgan: Cc1n[nH]n(C)c1-c1cnc2c(c1)n([C@H](C1CCOCC1)c1cccc(F)c1F)c1cc(cc(F)c21)C(C)(C)O convert to all 0 features\n",
      "rdkit not found this smiles for morgan: Cc1n[nH]n(C)c1-c1cnc2c(c1)n([C@@H](C1CCOCC1)c1cccc(F)c1F)c1cc(cc(F)c21)C(C)(C)O convert to all 0 features\n",
      "rdkit not found this smiles for morgan: Cc1n[nH]n(C)c1-c1cnc2c(c1)n([C@H](C1CCOCC1)c1ccc(F)cc1F)c1cc(cc(F)c21)C(C)(C)O convert to all 0 features\n",
      "rdkit not found this smiles for morgan: Cc1n[nH]n(C)c1-c1cnc2c(c1)n([C@@H](C1CCOCC1)c1ccc(F)cc1F)c1cc(cc(F)c21)C(C)(C)O convert to all 0 features\n",
      "rdkit not found this smiles for morgan: Cc1n[nH]n(C)c1-c1cnc2c(c1)n([C@H](C1CCOCC1)c1cccc(F)c1)c1cc(cc(F)c21)C(C)(C)O convert to all 0 features\n",
      "rdkit not found this smiles for morgan: Cc1n[nH]n(C)c1-c1cnc2c(c1)n([C@@H](C1CCOCC1)c1cccc(F)c1)c1cc(cc(F)c21)C(C)(C)O convert to all 0 features\n",
      "rdkit not found this smiles for morgan: Cc1n[nH]n(C)c1-c1cnc2c(c1)n([C@@H](C1CCOCC1)c1cc(F)ccc1F)c1cc(ccc21)C(C)(C)O convert to all 0 features\n",
      "rdkit not found this smiles for morgan: Cc1[nH]oc(C)c1-c1cnc2c(c1)n(C(C1CCOCC1)c1c(F)cccc1F)c1cc(ccc21)C(C)(C)O convert to all 0 features\n",
      "rdkit not found this smiles for morgan: Cc1[nH]oc(C)c1-c1cnc2c(c1)n(C(C1CCOCC1)c1cccc(F)c1F)c1cc(ccc21)C(C)(C)O convert to all 0 features\n",
      "rdkit not found this smiles for morgan: Cc1[nH]oc(C)c1-c1cnc2c(c1)n(C(C1CCOCC1)c1cccc(F)c1)c1cc(ccc21)C(C)(C)O convert to all 0 features\n",
      "rdkit not found this smiles for morgan: Cc1[nH]oc(C)c1-c1cnc2c(c1)n(C(C1CCOCC1)c1ccccc1F)c1cc(ccc21)C(C)(C)O convert to all 0 features\n",
      "rdkit not found this smiles for morgan: Cc1[nH]oc(C)c1-c1cnc2c(c1)n(C(C1CCC(F)(F)CC1)c1ccccc1)c1cc(ccc21)S(C)(=O)=O convert to all 0 features\n",
      "rdkit not found this smiles for morgan: Cc1n[nH]n(C)c1-c1cnc2c(c1)n(C(C1CCC(F)(F)CC1)c1ccccc1)c1cc(ccc21)S(C)(=O)=O convert to all 0 features\n",
      "rdkit not found this smiles for morgan: Cc1n[nH]n(C)c1-c1cnc2c(c1)n(C(C1CCOCC1)c1ccccc1)c1cc(ccc21)C(C)(C)N convert to all 0 features\n",
      "rdkit not found this smiles for morgan: CN(C)CC(=O)NC(C)(C)c1ccc2c(c1)n(C(C1CCOCC1)c1ccccc1)c1cc(cnc21)-c1c(C)n[nH]n1C convert to all 0 features\n",
      "rdkit not found this smiles for morgan: Cc1n[nH]n(C)c1-c1cnc2c(c1)n(C(C1CCC(F)(F)CC1)c1ccccc1)c1cc(ccc21)C(C)(C)O convert to all 0 features\n",
      "rdkit not found this smiles for morgan: COc1cc(cc2n(C(C3CCOCC3)c3ncccc3F)c3cc(cnc3c12)-c1c(C)n[nH]n1C)S(C)(=O)=O convert to all 0 features\n",
      "rdkit not found this smiles for morgan: CCOc1cc(cc2n(C(C3CCC(F)(F)CC3)c3ccccc3)c3cc(cnc3c12)-c1c(C)n[nH]n1C)S(C)(=O)=O convert to all 0 features\n",
      "rdkit not found this smiles for morgan: Cc1n[nH]n(C)c1-c1cnc2c(c1)n(C(C1CCC(F)(F)CC1)c1ncccc1F)c1cc(cc(F)c21)S(C)(=O)=O convert to all 0 features\n",
      "rdkit not found this smiles for morgan: Cc1[nH]nn(C)c1-c1cnc2c(c1)n(C(C1CCOCC1)c1ncccc1F)c1c(ccc(F)c21)S(C)(=O)=O convert to all 0 features\n",
      "rdkit not found this smiles for morgan: Cc1[nH]nn(C)c1-c1cnc2c(c1)n(C(C1CCC(F)(F)CC1)c1ncccc1F)c1cc(ccc21)S(C)(=O)=O convert to all 0 features\n",
      "rdkit not found this smiles for morgan: Cc1[nH]nn(C)c1-c1cnc2c(c1)n(C(C1CCOCC1)c1ncccc1F)c1c(ccc(OCC(F)F)c21)S(C)(=O)=O convert to all 0 features\n",
      "rdkit not found this smiles for morgan: Cc1[nH]nn(C)c1-c1cnc2c(c1)n(C(C1CCOCC1)c1ncccc1F)c1c(ccc(OCC(C)(F)F)c21)S(C)(=O)=O convert to all 0 features\n",
      "rdkit not found this smiles for morgan: COc1ccc(cc1)C(C1CCOCC1)n1c2cc(ccc2c2ncc(cc12)-c1c(C)n[nH]n1C)C(C)(C)O convert to all 0 features\n",
      "rdkit not found this smiles for morgan: Cc1n[nH]n(C)c1-c1cnc2c(c1)n(C(CCC(F)(F)F)c1ccccn1)c1cc(ccc21)C(C)(C)O convert to all 0 features\n"
     ]
    },
    {
     "name": "stdout",
     "output_type": "stream",
     "text": [
      "rdkit not found this smiles for morgan: Cc1n[nH]n(C)c1-c1cnc2c(c1)n([C@@H](C1CCOCC1)c1ccccc1)c1cc(ccc21)S(C)(=N)=O convert to all 0 features\n",
      "rdkit not found this smiles for morgan: Cc1[nH]oc(C)c1-c1cnc2c(c1)n([C@@H](C1CCOCC1)c1ccccc1)c1cc(ccc21)C(O)C[N+]#[C-] convert to all 0 features\n",
      "rdkit not found this smiles for morgan: Cc1[nH]nn(C)c1-c1cnc2c(c1)n(C(CC1CC1)C1CCOCC1)c1cc(ccc21)C(C)(C)O convert to all 0 features\n",
      "rdkit not found this smiles for morgan: COCC(C1CCOCC1)n1c2cc(ccc2c2ncc(cc12)-c1c(C)[nH]nn1C)C(C)(C)O convert to all 0 features\n",
      "rdkit not found this smiles for morgan: Cc1[nH]nn(C)c1-c1cnc2c(c1)n(C(C1CCOCC1)c1ccc(Cl)cc1)c1cc(ccc21)C(C)(C)O convert to all 0 features\n",
      "rdkit not found this smiles for morgan: Cc1[nH]nn(C)c1-c1cnc2c(c1)n(C(C1CCOCC1)c1cccc(Cl)c1)c1cc(ccc21)C(C)(C)O convert to all 0 features\n",
      "rdkit not found this smiles for morgan: Cc1[nH]nn(C)c1-c1cnc2c(c1)n(C(C1CCOCC1)c1ccccc1Cl)c1cc(ccc21)C(C)(C)O convert to all 0 features\n",
      "rdkit not found this smiles for morgan: Cc1[nH]nn(C)c1-c1cnc2c(c1)n([C@@H](C1CCOCC1)c1ccccc1)c1cc(ccc21)C(C)(O)C1CC1 convert to all 0 features\n",
      "rdkit not found this smiles for morgan: Cc1[nH]nn(C)c1-c1cnc2c(c1)n([C@@H](C1CCOCC1)c1ccccc1)c1c(F)c(ccc21)[C@](C)(O)C1CC1 convert to all 0 features\n",
      "rdkit not found this smiles for morgan: Cc1[nH]nn(C)c1-c1cnc2c(c1)n([C@@H](C1CCOCC1)c1ccccc1)c1c(F)c(ccc21)[C@@](C)(O)C1CC1 convert to all 0 features\n",
      "rdkit not found this smiles for morgan: Cc1[nH]nn(C)c1-c1cnc2c(c1)n([C@@H](C1CCOCC1)c1ccccc1F)c1c(F)c(ccc21)C(C)(O)C1CC1 convert to all 0 features\n",
      "rdkit not found this smiles for morgan: Cc1[nH]nn(C)c1-c1cnc2c(c1)n([C@@H](C1CCOCC1)c1ccccc1F)c1c(F)c(ccc21)[C@@](C)(O)C1CC1 convert to all 0 features\n",
      "rdkit not found this smiles for morgan: COc1[nH]nn(C)c1-c1cnc2c(c1)n([C@@H](C1CCOCC1)c1ccccc1)c1c(F)c(ccc21)C(C)(O)C1CC1 convert to all 0 features\n",
      "rdkit not found this smiles for morgan: Cc1[nH]nn(C)c1-c1cnc2c(c1)n([C@@H](C1CCOCC1)c1ccccc1)c1cc(c(F)cc21)C(C)(O)C1CC1 convert to all 0 features\n",
      "rdkit not found this smiles for morgan: Cc1[nH]nn(C)c1-c1cnc2c(c1)n([C@@H](C1CCOCC1)c1ccccc1F)c1cc(c(F)cc21)C(C)(O)C1CC1 convert to all 0 features\n",
      "rdkit not found this smiles for morgan: Cc1[nH]nn(C)c1-c1cnc2c(c1)n([C@@H](C1CCOCC1)c1ccccc1)c1c(F)c(c(F)cc21)C(C)(O)C1CC1 convert to all 0 features\n",
      "rdkit not found this smiles for morgan: CN1C=C(CN2C3CC2CN(C3)c2ccc(cn2)-c2cc(OCC(C)(C)O)cn3ncc(C#N)c23)[N](C)=C1 convert to all 0 features\n",
      "rdkit not found this smiles for morgan: CC(=O)N1CCC(C1)OC1=CC(=C=[N]=C1)n1cc(cn1)-c1cc(ccc1C)C(=O)NC1CC1 convert to all 0 features\n",
      "rdkit not found this smiles for morgan: C[C@@H]1CN(Cc2cc(ccc2C)C(CC(O)=O)C2=CC3N=N[N](C)=C3C=C2)S(=O)(=O)c2ccccc2O1 convert to all 0 features\n",
      "rdkit not found this smiles for morgan: Cc1cc(N)nc(C)c1CNC(=O)c1ccc2C3OC(c4cc(C[N]5(O)CCOCC5)ccc34)c2c1 convert to all 0 features\n",
      "rdkit not found this smiles for morgan: Cc1cc(N)nc(C)c1CNC(=O)c1ccc2[C@H]3O[C@@H](c2c1)c1cc(ccc31)C1=CC=CC=[N]1O convert to all 0 features\n",
      "rdkit not found this smiles for morgan: Cc1cc(N)nc(C)c1CNC(=O)c1ccc2[C@H]3O[C@@H](c2c1)c1cc(ccc31)C1=[N](O)C=C(F)C=C1 convert to all 0 features\n",
      "rdkit not found this smiles for morgan: CC(C)c1cc(N)nc(C)c1CNC(=O)c1ccc2[C@H]3O[C@@H](c2c1)c1cc(ccc31)C1=C(F)C=[N](O)C=C1 convert to all 0 features\n",
      "rdkit not found this smiles for morgan: Cc1nc(N)cc(C2CC2)c1CNC(=O)c1ccc2[C@H]3O[C@@H](c2c1)c1cc(ccc31)C1=C(F)C=[N](O)C=C1 convert to all 0 features\n",
      "rdkit not found this smiles for morgan: CC(C)c1cc(N)nc(C)c1CNC(=O)c1ccc2[C@H]3O[C@@H](c2c1)c1cc(ccc31)C1=C(F)C=CC=[N]1O convert to all 0 features\n",
      "rdkit not found this smiles for morgan: CC(=O)N[C@@H](CC1=CNC=[N]1C)C(=O)Nc1cccc(n1)-c1ccc(Oc2ccc(F)cc2)cc1 convert to all 0 features\n",
      "rdkit not found this smiles for morgan: CC(C)[N]1(O)CCC(CC1)c1ccc(Nc2nc(cnc2C(N)=O)N2CCC[C@H](C2)NC(=O)N(C)C)cc1 convert to all 0 features\n",
      "rdkit not found this smiles for morgan: CC(O)(CS(=O)(=O)c1ccc(F)cc1)[c](=O):c:n-c1ccc(C#N)c(c1)C(F)(F)F convert to all 0 features\n",
      "rdkit not found this smiles for morgan: CCN(C1CCS(=O)CC1)c1cc(cc(C(=O)NCc2c(C)cc(C)nc2=O)c1C)-c1ccc(C[N+]2([O-])CCOCC2)cc1 convert to all 0 features\n",
      "rdkit not found this smiles for morgan: Cn1ccc(C[N]2=CC(C=N2)c2cccc(c2)C(F)(F)F)n1 convert to all 0 features\n",
      "rdkit not found this smiles for morgan: Cc1cc(C[N]2=CC(C=N2)c2ccc(cc2)C(F)(F)F)n(C)n1 convert to all 0 features\n",
      "rdkit not found this smiles for morgan: C[C@@H](Oc1nc(cc2nn(C)c(C)c12)C1=CN[N](=C1)C(C)(C)C)[C@H]1CNC(=O)C1 convert to all 0 features\n",
      "rdkit not found this smiles for morgan: NC(=O)C1=[N](NC=C1NC(=O)c1cnn2ccc(nc12)N1CCNCC1)c1ccncc1 convert to all 0 features\n",
      "rdkit not found this smiles for morgan: CSC1=N[N]2=C(C=CC2C=N1)C(=O)Nc1cn(C)nc1C(N)=O convert to all 0 features\n",
      "rdkit not found this smiles for morgan: COCc1ccc(NC(=O)C2=[N](OC[C@@H]3CCCO3)N(c3ncnc(N)c23)C2(C)CC2)cc1 convert to all 0 features\n",
      "rdkit not found this smiles for morgan: O=C(\\C=C\\c1cnc2NC(=O)CCc2c1)N1C[C@H]2C[N](=C[C@H]2C1)c1ccccc1 convert to all 0 features\n",
      "rdkit not found this smiles for morgan: O=C(\\C=C\\c1cnc2NC(=O)CCc2c1)N1C[C@@H]2C[N](=C[C@@H]2C1)c1ccccc1 convert to all 0 features\n",
      "rdkit not found this smiles for morgan: O=C(\\C=C\\c1cnc2NC(=O)CCc2c1)N1C[C@H]2C[N](=C[C@H]2C1)c1ccncc1 convert to all 0 features\n",
      "rdkit not found this smiles for morgan: C[C@H](c1ccccc1)[N]1=Cc2cc3c(n[nH]c3cc2NC1=O)-c1ccnc(C)c1 convert to all 0 features\n",
      "rdkit not found this smiles for morgan: COc1ncccc1-c1n[nH]c2C(N(C(=O)c12)C1=CC2C(=NN=[N]2C)C(C)=C1)c1ccc(Cl)cc1 convert to all 0 features\n",
      "rdkit not found this smiles for morgan: C[N]1=CC2C=CC(COc3ccnn3-c3cc(ccn3)C(O)=O)=CC2=N1 convert to all 0 features\n",
      "rdkit not found this smiles for morgan: Cc1nnn(C)c1-c1ccc2c(c1)n(C(C1CCOCC1)c1ncccc1F)c1cc(cnc21)-c1c(C)[nH]nn1C convert to all 0 features\n",
      "rdkit not found this smiles for morgan: CC1N=N[N](C)=C1c1cnc2c(c1)n([C@@H](C1CCOCC1)c1ccccc1)c1cc(ccc21)-c1c(C)nnn1C convert to all 0 features\n",
      "rdkit not found this smiles for morgan: Cc1[nH]nn(C)c1-c1cnc2c(c1)n(C(C1CCOCC1)c1ncccc1F)c1c(ccc(N3CCCS3(=O)=O)c21)S(C)(=O)=O convert to all 0 features\n",
      "rdkit not found this smiles for morgan: Cc1n[nH]n(C)c1-c1cnc2c(c1)n([C@@H](C1CCOCC1)c1ccccc1)c1c(F)c(ccc21)C1(C)COC(=O)N1 convert to all 0 features\n",
      "rdkit not found this smiles for morgan: Cc1n[nH]n(C)c1-c1cnc2c(c1)n([C@@H](C1CCOCC1)c1ccccc1)c1c(F)c(ccc21)C1(O)CCOC1 convert to all 0 features\n",
      "rdkit not found this smiles for morgan: Cc1n[nH]n(C)c1-c1cnc2c(c1)n(C(C1CCOCC1)c1ncccc1F)c1cc(ccc21)N1CCC(F)(F)CC1 convert to all 0 features\n",
      "rdkit not found this smiles for morgan: Cc1n[nH]n(C)c1-c1cnc2c(c1)n(C(C1CCOCC1)c1ncccc1F)c1cc(ccc21)N1CCS(=O)(=O)CC1 convert to all 0 features\n",
      "rdkit not found this smiles for morgan: Cc1n[nH]n(C)c1-c1cnc2c(c1)n(C(C1CCOCC1)c1ncccc1F)c1cc(ccc21)N1CCC(CC1)S(C)(=O)=O convert to all 0 features\n",
      "rdkit not found this smiles for morgan: Cc1[nH]nn(C)c1-c1cnc2c(c1)n(C(C1CCC(F)(F)CC1)c1ccccc1)c1c(C)ccc(N3CCC(F)(F)CC3)c21 convert to all 0 features\n",
      "rdkit not found this smiles for morgan: Cc1n[nH]n(C)c1-c1cnc2c(c1)n(C(C1CCC(F)(F)CC1)c1ccccc1)c1cc(ccc21)N1CCC(F)(F)CC1 convert to all 0 features\n",
      "rdkit not found this smiles for morgan: Cc1n[nH]n(C)c1-c1cnc2c(c1)n(C(C1CCC(F)(F)CC1)c1ccccc1)c1cc(ccc21)N1CCC(CC1)C(F)(F)F convert to all 0 features\n",
      "rdkit not found this smiles for morgan: C[N]1=CC(=CN1)c1cc(-c2ccc(nc2)N2CCOCC2)c2c(cnn2c1)C#N convert to all 0 features\n",
      "rdkit not found this smiles for morgan: CCn1c(nc2C(N3CCOCC3)[N](C)(C=Nc12)c1cn[nH]c1)C1CC(CCN1C=O)N1CCOCC1 convert to all 0 features\n",
      "rdkit not found this smiles for morgan: CN1C(C2CN(CCC2N2CCOCC2)C=O)[N](C)(c2cn[nH]c2)c2c1nccc2N1CCOCC1 convert to all 0 features\n",
      "rdkit not found this smiles for morgan: CN1C(C2CN(CCC22COC2)C=O)[N](C)(c2cn[nH]c2)c2c1ncc(F)c2N1CCOCC1 convert to all 0 features\n",
      "rdkit not found this smiles for morgan: CN1C(C2CN(CCC2N2CCOCC2)C=O)[N](C)(c2cn[nH]c2)c2c1ncc(F)c2N1CCOCC1 convert to all 0 features\n",
      "rdkit not found this smiles for morgan: CC(C(=O)Nc1ccc(cc1)C1=N[N](=NN1)C(F)(F)F)n1ccc(cc1=O)-c1cc(Cl)ccc1C#N convert to all 0 features\n",
      "rdkit not found this smiles for morgan: COC[N]1=NNC(=N1)c1ccc(NC(=O)C(C)n2ccc(cc2=O)-c2cc(Cl)ccc2C#N)cc1 convert to all 0 features\n",
      "rdkit not found this smiles for morgan: C[C@@H]1CCC[C@@H]1n1cc(cn1)-c1nc(cn2nccc12)C1=CN[N](C[C@@H](O)CO)=C1 convert to all 0 features\n"
     ]
    },
    {
     "name": "stdout",
     "output_type": "stream",
     "text": [
      "rdkit not found this smiles for morgan: CC(C)n1ncc2c(cc(nc12)-c1ccc(NC(C)=O)cc1)C(=O)NCc1c(C)cc(C)nc1=O convert to all 0 features\n",
      "rdkit not found this smiles for morgan: CC(C)n1ncc2c(cc(nc12)-c1ccc2OCCOc2c1)C(=O)NCc1c(C)cc(C)nc1=O convert to all 0 features\n",
      "rdkit not found this smiles for morgan: CC(C)n1ncc2c(cc(nc12)-c1ccc(cc1)S(C)(=O)=O)C(=O)NCc1c(C)cc(C)nc1=O convert to all 0 features\n",
      "rdkit not found this smiles for morgan: CC(C)n1ncc2c(cc(nc12)-c1ccc2OCOc2c1)C(=O)NCc1c(C)cc(C)nc1=O convert to all 0 features\n",
      "rdkit not found this smiles for morgan: CC(C)n1ncc2c(cc(nc12)-c1ccc(cc1)C(N)=O)C(=O)NCc1c(C)cc(C)nc1=O convert to all 0 features\n",
      "rdkit not found this smiles for morgan: CC(C)n1ncc2c(cc(nc12)-c1cccc(NC(C)=O)c1)C(=O)NCc1c(C)cc(C)nc1=O convert to all 0 features\n",
      "rdkit not found this smiles for morgan: CC(C)n1ncc2c(cc(nc12)-c1ccc(cc1)C#N)C(=O)NCc1c(C)cc(C)nc1=O convert to all 0 features\n",
      "rdkit not found this smiles for morgan: COc1ccc(cc1OC)-c1cc(C(=O)NCc2c(C)cc(C)nc2=O)c2cnn(C(C)C)c2n1 convert to all 0 features\n",
      "rdkit not found this smiles for morgan: CC(C)n1ncc2c(cc(nc12)-c1ccc(cc1)N(C)C)C(=O)NCc1c(C)cc(C)nc1=O convert to all 0 features\n",
      "rdkit not found this smiles for morgan: CC(C)n1ncc2c(cc(nc12)-c1cccc(F)c1)C(=O)NCc1c(C)cc(C)nc1=O convert to all 0 features\n",
      "rdkit not found this smiles for morgan: CC(C)n1ncc2c(cc(nc12)-c1cccc(C)c1)C(=O)NCc1c(C)cc(C)nc1=O convert to all 0 features\n",
      "rdkit not found this smiles for morgan: CC(C)n1ncc2c(cc(nc12)-c1ccc(CO)cc1)C(=O)NCc1c(C)cc(C)nc1=O convert to all 0 features\n",
      "rdkit not found this smiles for morgan: CC(C)n1ncc2c(cc(nc12)-c1cccc(Cl)c1)C(=O)NCc1c(C)cc(C)nc1=O convert to all 0 features\n",
      "rdkit not found this smiles for morgan: CC(C)n1ncc2c(cc(nc12)-c1ccc(C)cc1)C(=O)NCc1c(C)cc(C)nc1=O convert to all 0 features\n",
      "rdkit not found this smiles for morgan: COc1ccccc1-c1cc(C(=O)NCc2c(C)cc(C)nc2=O)c2cnn(C(C)C)c2n1 convert to all 0 features\n",
      "rdkit not found this smiles for morgan: CC(C)n1ncc2c(cc(nc12)-c1ccc(cc1)C(C)(C)C)C(=O)NCc1c(C)cc(C)nc1=O convert to all 0 features\n",
      "rdkit not found this smiles for morgan: Cc1cc(C)c(CNC(=O)c2cc(nc3n(ncc23)C(C)(C)C)-c2ccc3OCCOc3c2)c(=O)n1 convert to all 0 features\n",
      "rdkit not found this smiles for morgan: CCOc1ccc(cc1)-c1cc(C(=O)NCc2c(C)cc(C)nc2=O)c2cnn(C(C)C)c2n1 convert to all 0 features\n",
      "rdkit not found this smiles for morgan: CC(C)n1ncc2c(cc(nc12)-c1ccccc1Cl)C(=O)NCc1c(C)cc(C)nc1=O convert to all 0 features\n",
      "rdkit not found this smiles for morgan: CC(C)n1ncc2c(cc(nc12)-c1ccccc1C)C(=O)NCc1c(C)cc(C)nc1=O convert to all 0 features\n",
      "rdkit not found this smiles for morgan: COc1cccc(c1)-c1cc(C(=O)NCc2c(C)cc(C)nc2=O)c2cnn(C(C)C)c2n1 convert to all 0 features\n",
      "rdkit not found this smiles for morgan: CC(C)n1ncc2c(cc(nc12)-c1ccc(cc1)C(C)=O)C(=O)NCc1c(C)cc(C)nc1=O convert to all 0 features\n",
      "rdkit not found this smiles for morgan: COc1ccc(cc1)-c1cc(C(=O)NCc2c(C)cc(C)nc2=O)c2cnn(C(C)C)c2n1 convert to all 0 features\n",
      "rdkit not found this smiles for morgan: CC(C)n1ncc2c(cc(nc12)-c1cccc(c1)C(C)=O)C(=O)NCc1c(C)cc(C)nc1=O convert to all 0 features\n",
      "rdkit not found this smiles for morgan: CC(C)Oc1ccc(cc1)-c1cc(C(=O)NCc2c(C)cc(C)nc2=O)c2cnn(C(C)C)c2n1 convert to all 0 features\n",
      "rdkit not found this smiles for morgan: CC(C)n1ncc2c(cc(nc12)-c1cccc(c1)N(C)C)C(=O)NCc1c(C)cc(C)nc1=O convert to all 0 features\n",
      "rdkit not found this smiles for morgan: CC(C)n1ncc2c(cc(nc12)-c1cccc(CO)c1)C(=O)NCc1c(C)cc(C)nc1=O convert to all 0 features\n",
      "rdkit not found this smiles for morgan: CC(C)n1ncc2c(cc(nc12)-c1ccc(F)cc1)C(=O)NCc1c(C)cc(C)nc1=O convert to all 0 features\n",
      "rdkit not found this smiles for morgan: CC(C)(O)c1cc(O[C@H]2CC[C@H](CC2)N2C[N](CC#N)(C2)n2cc(cn2)-c2ncnc3[nH]ccc23)nc(c1)C(F)(F)F convert to all 0 features\n",
      "rdkit not found this smiles for morgan: COc1cc(OC)cc(c1)C(\\O)=C1\\CC=c2ncc(cc2=[N]1CCO)-c1cnn(C)c1 convert to all 0 features\n",
      "rdkit not found this smiles for morgan: CCOC(=O)c1cn(-c2ccc(N3CCNC3=O)c(F)c2)c(=O)n(Cc2cccc(c2C)N([O-])=O)c1=O convert to all 0 features\n",
      "rdkit not found this smiles for morgan: Cc1c(Cn2c(=O)c(cn(-c3ccc(N4CCNC4=O)c(F)c3)c2=O)C(O)=O)cccc1N([O-])=O convert to all 0 features\n",
      "rdkit not found this smiles for morgan: Cc1c(Cn2c(=O)c(cn(-c3ccc(cc3)N3CCOC3=O)c2=O)C(O)=O)cccc1N([O-])=O convert to all 0 features\n",
      "rdkit not found this smiles for morgan: CC(Nc1nc(C)nc(N)c1C#N)C1=Nc2cccc(Cl)c2C(=O)[N@@]1(c1ccccc1)c1cc(F)cc(F)c1 convert to all 0 features\n",
      "rdkit not found this smiles for morgan: CC(Nc1nc(N)nc(Cl)c1C#N)C1=Nc2cccc(Cl)c2C(=O)[N@@]1(c1ccccc1)c1cc(F)cc(F)c1 convert to all 0 features\n",
      "rdkit not found this smiles for morgan: C[C@@H]1CC(=O)Nc2cccc(C3=[N](C)c4ccccc4C3)c2O1 convert to all 0 features\n",
      "rdkit not found this smiles for morgan: Cc1cc(F)cc(C)c1C(=O)c1sc2cc([Na]O)ccc2c1-c1ccc(OCCN2CC(C2)C(=O)O[Na])cc1 convert to all 0 features\n",
      "rdkit not found this smiles for morgan: CNC1=NC(c2ccccc2)=[N](S1)c1ccccc1 convert to all 0 features\n",
      "rdkit not found this smiles for morgan: C(NC1=NC(c2ccccc2)=[N](S1)c1ccccc1)c1ccccc1 convert to all 0 features\n",
      "rdkit not found this smiles for morgan: N(C1=NC(c2ccccc2)=[N](S1)c1ccccc1)c1ccccc1 convert to all 0 features\n",
      "rdkit not found this smiles for morgan: COc1cc(Nc2ncc(c(Nc3cc(F)c(C)cc3NC(=O)C=C)n2)C(F)(F)F)c(C)c[nH]1 convert to all 0 features\n",
      "rdkit not found this smiles for morgan: COC1=CC=[N](C=C1)c1nc(COc2cc3ncnc(Nc4ccc(Cl)c(Cl)c4)c3cc2OC)no1 convert to all 0 features\n",
      "rdkit not found this smiles for morgan: COc1cc2c(Nc3ccc(Cl)c(Cl)c3)ncnc2cc1OCC1=N[N](CS(=O)(=O)c2ccccn2)=CO1 convert to all 0 features\n",
      "rdkit not found this smiles for morgan: CN1C=NC=[N]1c1ccccc1NC(=O)[C@@H]1C[C@@H](F)CN1C(=O)Cn1nc(C(N)=O)c2cc(ccc12)-c1ccnnc1 convert to all 0 features\n",
      "rdkit not found this smiles for morgan: C[N]1(CCNCC1)S(=O)(=O)Nc1cccc(c1)-c1ccc(cc1)[C@H]1C[C@@H]1NC1CCC(N)CC1 convert to all 0 features\n",
      "rdkit not found this smiles for morgan: Nc1cc(Cc2ccc(O[F](F)(F)F)cc2)c2nn[nH]c2n1 convert to all 0 features\n",
      "rdkit not found this smiles for morgan: NC1=[O]c2oc3ccc(cc3c(=O)c2C=C1C(=O)Nc1nnn[nH]1)N1CCOCC1 convert to all 0 features\n",
      "rdkit not found this smiles for morgan: Cc1cc(=O)n(C[H]C(F)F)cc1-c1cccc(c1)-c1cc(-c2cnnn2C2CCOCC2)c2c(N)ncnn12 convert to all 0 features\n",
      "rdkit not found this smiles for morgan: C[F]CNC(=O)c1ccc(cc1N1CCN(C(C)=O)C(C)(C)C1=O)-c1cc(c2c(N)ncnn12)C(F)(F)F convert to all 0 features\n",
      "rdkit not found this smiles for morgan: CC(=O)[O]1CCN(CC1(C)C)c1cc(ccc1C#N)-c1c(F)c(Cl)c2c(N)ncnn12 convert to all 0 features\n",
      "rdkit not found this smiles for morgan: COc1cccc(c1)-c1ccc(CNC(=O)[C]234CC2(C3)C4)c2cnccc12 convert to all 0 features\n",
      "rdkit not found this smiles for morgan: CCOc1ccccc1C(=O)N1C[C@@H](CC[C@H]1C)C1=NC(C(C)=[O]1)C(C)(C)O convert to all 0 features\n",
      "rdkit not found this smiles for morgan: C[C@@H]1CC[C@H](CN1[C](=O)(c1ccccc1)c1ccccc1-n1nccn1)c1ncc(o1)-c1ccccc1 convert to all 0 features\n",
      "rdkit not found this smiles for morgan: C[C@@H]1CC[C@H](CN1[C](=O)(C1CCC1)c1ccccc1-n1nccn1)c1ncc(o1)C1CCC1 convert to all 0 features\n",
      "rdkit not found this smiles for morgan: C[C@@H]1CC[C@H](CN1[C](=O)(C1CC1)c1ccccc1-n1nccn1)c1ncc(o1)C1CC1 convert to all 0 features\n",
      "rdkit not found this smiles for morgan: C[N]1(C)CC[C@H](C1)NS(=O)(=O)c1ccc(-c2cccc3[nH]c(N)nc23)c(-c2nn[nH]n2)c1S(N)(=O)=O convert to all 0 features\n",
      "rdkit not found this smiles for morgan: C[N]1(C)CC(C1)NS(=O)(=O)c1ccc(-c2cccc3[nH]c(N)nc23)c(-c2nn[nH]n2)c1S(N)(=O)=O convert to all 0 features\n",
      "rdkit not found this smiles for morgan: C[N]1(CCN)CC[C@@H](C1)NS(=O)(=O)c1ccc(-c2cccc3[nH]c(N)nc23)c(-c2nn[nH]n2)c1S(N)(=O)=O convert to all 0 features\n",
      "rdkit not found this smiles for morgan: Cn1c2nc3[H]N(C(=O)Cn3c2c(=O)n(Cc2ccccn2)c1=O)c1cccc(n1)-c1ccc(F)c(F)c1 convert to all 0 features\n",
      "rdkit not found this smiles for morgan: Cn1c2nc3[H]N(C(=O)Cn3c2c(=O)n(Cc2ccccn2)c1=O)c1cccc(n1)-c1cnc(nc1)N1CCC[C@H]1C(F)(F)F convert to all 0 features\n",
      "rdkit not found this smiles for morgan: Cn1c2nc3[H]N(C(=O)Cn3c2c(=O)n(Cc2ccccn2)c1=O)c1cccc(n1)-c1cnc(nc1)C(F)(F)F convert to all 0 features\n",
      "rdkit not found this smiles for morgan: FC(F)[H]c1ccc(CCN2CCC(Nc3ncnc4[nH]ncc34)C(F)(F)C2)cc1 convert to all 0 features\n",
      "rdkit not found this smiles for morgan: C[F]c1ccc(CCN2CCC(Nc3ncnc4[nH]ncc34)C(F)(F)C2)cc1 convert to all 0 features\n",
      "rdkit not found this smiles for morgan: OC([H]C(F)F)c1ccc2c(NC(=O)c3cc(-c4ncccn4)c(cc3F)C(F)(F)F)n(nc2c1)-c1ccccc1 convert to all 0 features\n",
      "rdkit not found this smiles for morgan: COc1nn2cc(nc2s1)-c1cc2ccc(cc2o1)N([O-])=O convert to all 0 features\n"
     ]
    },
    {
     "name": "stdout",
     "output_type": "stream",
     "text": [
      "rdkit not found this smiles for morgan: COc1cc(OCc2cccc(c2C)-c2ccccc2)cc(OC)c1CN(C)CCN[C](=O)(=O)c1ccc2OC(=O)CCc2c1 convert to all 0 features\n",
      "rdkit not found this smiles for morgan: CN(C)C(=O)CCC([H]C(=O)c1cccn(Cc2ccc(F)c(F)c2)c1=O)c1nc(cs1)-c1c[nH]c2ncccc12 convert to all 0 features\n",
      "rdkit not found this smiles for morgan: NC(CC#N)[N]1=NN=NC1 convert to all 0 features\n",
      "rdkit not found this smiles for morgan: N[C@@H](CC#C)[N]1=NN=NC1 convert to all 0 features\n",
      "rdkit not found this smiles for morgan: Nc1ccc(cn1)C1=[C](c2nn[nH]n2)=[C](=C(C=C1)S(=O)C1CCNCC1)S(N)(=O)=O convert to all 0 features\n",
      "rdkit not found this smiles for morgan: C[N]1=CC(Nc2nccc(n2)-c2ccc3C(CCCCc3c2)NC(=O)c2nnc(s2)C(C)(C)C)=CN1 convert to all 0 features\n",
      "rdkit not found this smiles for morgan: C[N]1(CCOc2ccc(CC(=O)NS(C)(=O)=O)cc2)CC(CN[C@@H]2C[C@H]2c2ccccc2)C1 convert to all 0 features\n",
      "rdkit not found this smiles for morgan: C[N]1(CCOc2ccc(cc2)C(=O)NS(C)(=O)=O)CC(CN[C@@H]2C[C@H]2c2ccccc2)C1 convert to all 0 features\n",
      "rdkit not found this smiles for morgan: CC(C)[C@@H](NC(=O)c1cc(ccc1F)C(F)(F)F)C(=O)N1CCC2(CC1)N(C(=O)N(C)C2=O)C1=CC=[N](O)C=C1 convert to all 0 features\n",
      "rdkit not found this smiles for morgan: C[C@@H](C#[O])n1c2ccc(cc2c(=O)n(C)c1=O)S(=O)(=O)NC1(C)CC1 convert to all 0 features\n",
      "rdkit not found this smiles for morgan: C[C@H](C#[O])n1c2ccc(cc2c(=O)n(C)c1=O)S(=O)(=O)NC1(C)CC1 convert to all 0 features\n",
      "rdkit not found this smiles for morgan: Cc1cc(Cn2c3ccc(cc3c(=O)n(Cc3cnc(C)n3)c2=O)S(=O)(=O)NC2(C)CC2)n(C)n1 convert to all 0 features\n",
      "rdkit not found this smiles for morgan: Cc1cc(Cn2c(=O)n(C)c3ccc(cc3c2=O)S(=O)(=O)NC2(C)CC2)nn1 convert to all 0 features\n",
      "rdkit not found this smiles for morgan: CN[N]1=CN(Cc2cc(C)no2)C(=O)c2cc(ccc12)S(=O)(=O)NC1(C)CC1 convert to all 0 features\n",
      "rdkit not found this smiles for morgan: CC(C)OC[N]1=CN(Cc2cnn(C)c2)C(=O)c2cc(ccc12)S(=O)(=O)NC1(C)CC1 convert to all 0 features\n",
      "rdkit not found this smiles for morgan: Cc1cc(CN2C=[N](C(O)=O)c3ccc(cc3C2=O)S(=O)(=O)NC2(C)CC2)on1 convert to all 0 features\n",
      "rdkit not found this smiles for morgan: Cc1cc(Cn2c3ccc(cc3c(=O)n(Cc3cnn(C)c3)c2=O)S(=O)(=O)NC2(CF)CC2)nn1 convert to all 0 features\n",
      "rdkit not found this smiles for morgan: Cc1ncc(Cn2c3ccc(cc3c(=O)n(Cc3cnn(C)c3)c2=O)S(=O)(=O)NC2(CF)CC2)n1 convert to all 0 features\n",
      "rdkit not found this smiles for morgan: Cn1cc(Cn2c(=O)n(Cc3ncnn3)c3ccc(cc3c2=O)S(=O)(=O)NC2(CF)CC2)cn1 convert to all 0 features\n",
      "rdkit not found this smiles for morgan: CN1c2ncccc2OC[C@H](NC(=O)C2=N[N](Cc3cc(F)cc(c3)C#N)=C=C2F)C1=O convert to all 0 features\n",
      "rdkit not found this smiles for morgan: OC(=O)CCCCCN1C(=O)N\\C(=C/C2=C(NCc3ccco3)N=C3C=CC=C[N]3=[C]2=O)C1=O convert to all 0 features\n",
      "rdkit not found this smiles for morgan: FC(F)[H]c1cccc(CN2CC[C@H](Oc3cc(F)c(cc3Cl)S(=O)(=O)Nc3cscn3)[C@H](F)C2)c1 convert to all 0 features\n",
      "rdkit not found this smiles for morgan: CCOC(=O)N1CCN(CC1)c1ccc(NC(=O)CC2=C[O]=C(C(C)=C2)c2ccnc(C)c2)nc1 convert to all 0 features\n",
      "rdkit not found this smiles for morgan: O=C([H]C1COC1)c1ccc(Nc2ncnc(n2)-c2ccc(OC3CCOCC3)c(c2)C#N)cc1 convert to all 0 features\n",
      "rdkit not found this smiles for morgan: FC(F)[F]c1cc(Oc2cccc(F)c2)nc(n1)N1CCC2(CC1)CNC(=O)CO2 convert to all 0 features\n",
      "rdkit not found this smiles for morgan: FC(F)[F]c1cc(Oc2cccc(F)c2)nc(n1)N1CCC2(CC1)COCCN2 convert to all 0 features\n",
      "rdkit not found this smiles for morgan: C[Cl]c1cccc(CNC(=O)c2ccc3c4ccncc4n(C)c(=O)c3c2)c1 convert to all 0 features\n",
      "rdkit not found this smiles for morgan: Clc1ccc(Cl)c(c1)-c1cc(=O)n(CC(=O)Nc2ccc(cc2)C2=C[C](=O)=NN2)c2CCC(=O)c12 convert to all 0 features\n",
      "rdkit not found this smiles for morgan: CN(C)C(=O)C[N]1=CNc2c1ccc(c2Oc1ccc(F)cc1F)-c1cn(C)c(=O)c2[nH]ccc12 convert to all 0 features\n",
      "rdkit not found this smiles for morgan: C[N]1=CC=[N](C=C1)c1ccc(cc1)-c1nc2c(ncnc2[nH]1)-c1ccc(OC2CCOCC2)c(c1)C#N convert to all 0 features\n",
      "rdkit not found this smiles for morgan: Oc1ccc(cc1)[B]1234[B]567[B]89%10[B]%11%12%13[B]585[B]%118%11[B]%12%12%14[B]9%139[B]16%10[C]2%129[C]38%14[B]475%11 convert to all 0 features\n",
      "rdkit not found this smiles for morgan: Oc1ccc(cc1)[B]1234[B]567[B]89%10[B]%11%12%13[B]%14%15%16[B]%11%11%17[B]8%128[B]159[C]2%118[B]3%14%17[B]46%15[C]7%10%13%16 convert to all 0 features\n",
      "rdkit not found this smiles for morgan: Oc1ccc(cc1)[B]1234[B]567[B]89%10[B]55%11[B]88%12[B]%13%14%15[B]11([B]269[C]%108%131)[B]3%141[B]475[C]%11%12%151 convert to all 0 features\n",
      "rdkit not found this smiles for morgan: Oc1ccc(cc1)[C]1234[B]567[B]89%10[B]55%11[B]%12%13%14[B]%15%16%17[B]88([B]169[B]2%158[B]3%12%16[B]475%13)[C]%10%11%14%17 convert to all 0 features\n",
      "rdkit not found this smiles for morgan: Oc1ccc(cc1)[B]1234[B]567[B]89%10[B]55%11[B]161[B]556[B]211[B]323[B]478[B]922[C]%10%115[C]6132 convert to all 0 features\n",
      "rdkit not found this smiles for morgan: Oc1ccc(cc1)[B]1234[B]567[B]89%10[B]%11%12%13[B]585[B]%118%11[B]%12%12%14[B]9%139[B]16%10[C]2%129[B]38%14[C]475%11 convert to all 0 features\n",
      "rdkit not found this smiles for morgan: Oc1ccc(cc1)[C]1234[B]567[B]89%10[B]55%11[B]88%12[B]99%13[B]16%10[B]291[B]323[B]58([B]47%112)[C]%12%1313 convert to all 0 features\n",
      "rdkit not found this smiles for morgan: Oc1ccc(cc1)[C]1234[B]567[B]89%10[B]%11%12%13[B]585[B]%118%11[B]%12%12%14[B]9%139[B]16%10[B]2%129[C]38%14[B]475%11 convert to all 0 features\n",
      "rdkit not found this smiles for morgan: CC(C)C[C@H](NC(=O)[C@H](CC[C]1234B5B6B5[B--]115[B--]789B%10B%11B%10[C]217[B--]38%11[B--]4659)NC(=O)CNC(=O)[C@H](C)NC(=O)[C@@H](N)Cc1ccc(O)cc1)C(N)=O convert to all 0 features\n",
      "encoding protein...\n",
      "unique target sequence: 5078\n",
      "splitting dataset...\n",
      "Done.\n"
     ]
    }
   ],
   "source": [
    "train, val, test = utils.data_process(X_drugs, X_targets, y, \n",
    "                                drug_encoding, target_encoding, \n",
    "                                split_method='random',frac=[0.7,0.1,0.2])"
   ]
  },
  {
   "cell_type": "markdown",
   "metadata": {},
   "source": [
    "# Model configuration\n",
    "\n",
    "DeepPurpose's model configuration utility is a wrapper for generating neural networks using PyTorch. The list of options for hyperparameters is [here](https://github.com/kexinhuang12345/DeepPurpose/blob/e169e2f550694145077bb2af95a4031abe400a77/DeepPurpose/utils.py#L486). Several types of model architecture are supported including CNNs, RNNs, MPNNs, MLPs, and transformers. I think there is a lot of potential work to be done on hyperparameter optimization here. The hyperparameters used below are suggested defaults that aren't too computationally intensive; they produce a 3 layer MPNN. I would also like to incorporate some models that don't utilize deep learning, as I think with proper input feature engineering we may be able to get good performance with an SVM or ridge regressor, and it would be nice to have a more interpretable model for comparison. "
   ]
  },
  {
   "cell_type": "code",
   "execution_count": 5,
   "metadata": {
    "ExecuteTime": {
     "end_time": "2020-10-08T13:06:47.575710Z",
     "start_time": "2020-10-08T13:06:47.562699Z"
    }
   },
   "outputs": [],
   "source": [
    "config = utils.generate_config(drug_encoding = drug_encoding, \n",
    "                               target_encoding = target_encoding,\n",
    "                         cls_hidden_dims = [1024,1024,512], \n",
    "                         train_epoch = 3, \n",
    "                         LR = 0.001, \n",
    "                         batch_size = 128,\n",
    "                         hidden_dim_drug = 128,\n",
    "                         mpnn_hidden_size = 128,\n",
    "                         mpnn_depth = 3\n",
    "                        )"
   ]
  },
  {
   "cell_type": "code",
   "execution_count": 6,
   "metadata": {
    "ExecuteTime": {
     "end_time": "2020-10-08T13:06:47.995697Z",
     "start_time": "2020-10-08T13:06:47.892698Z"
    }
   },
   "outputs": [],
   "source": [
    "model = models.model_initialize(**config)"
   ]
  },
  {
   "cell_type": "markdown",
   "metadata": {},
   "source": [
    "# Model training and loading\n",
    "\n",
    "Using the hyperparameters above, the model takes about 20 minutes on a GPU (1.5 hours on a laptop CPU) to train on BindingDB. For demo purposes I'm going to just load a model I trained earlier today, but I used the exact same code as above."
   ]
  },
  {
   "cell_type": "code",
   "execution_count": 7,
   "metadata": {
    "ExecuteTime": {
     "end_time": "2020-10-08T13:19:08.060800Z",
     "start_time": "2020-10-08T13:06:48.357700Z"
    }
   },
   "outputs": [
    {
     "name": "stdout",
     "output_type": "stream",
     "text": [
      "Let's use CPU/s!\n",
      "--- Data Preparation ---\n",
      "--- Go for Training ---\n",
      "Training at Epoch 1 iteration 0 with loss 39.1441. Total time 0.00416 hours\n"
     ]
    },
    {
     "ename": "KeyboardInterrupt",
     "evalue": "",
     "output_type": "error",
     "traceback": [
      "\u001b[1;31m---------------------------------------------------------------------------\u001b[0m",
      "\u001b[1;31mKeyboardInterrupt\u001b[0m                         Traceback (most recent call last)",
      "\u001b[1;32m<ipython-input-7-43691180c7af>\u001b[0m in \u001b[0;36m<module>\u001b[1;34m\u001b[0m\n\u001b[0;32m      1\u001b[0m \u001b[1;31m#run this if you want to train a new one\u001b[0m\u001b[1;33m\u001b[0m\u001b[1;33m\u001b[0m\u001b[1;33m\u001b[0m\u001b[0m\n\u001b[1;32m----> 2\u001b[1;33m \u001b[0mmodel\u001b[0m\u001b[1;33m.\u001b[0m\u001b[0mtrain\u001b[0m\u001b[1;33m(\u001b[0m\u001b[0mtrain\u001b[0m\u001b[1;33m,\u001b[0m \u001b[0mval\u001b[0m\u001b[1;33m,\u001b[0m \u001b[0mtest\u001b[0m\u001b[1;33m,\u001b[0m \u001b[0mverbose\u001b[0m \u001b[1;33m=\u001b[0m \u001b[1;32mTrue\u001b[0m\u001b[1;33m)\u001b[0m\u001b[1;33m\u001b[0m\u001b[1;33m\u001b[0m\u001b[0m\n\u001b[0m\u001b[0;32m      3\u001b[0m \u001b[0mmodel\u001b[0m\u001b[1;33m.\u001b[0m\u001b[0msave_model\u001b[0m\u001b[1;33m(\u001b[0m\u001b[1;34m'./model-9-24-cpu'\u001b[0m\u001b[1;33m)\u001b[0m\u001b[1;33m\u001b[0m\u001b[1;33m\u001b[0m\u001b[0m\n",
      "\u001b[1;32m~\\Dropbox\\Work\\insight\\omic\\DeepPurpose-omic\\DeepPurpose\\DTI.py\u001b[0m in \u001b[0;36mtrain\u001b[1;34m(self, train, val, test, verbose)\u001b[0m\n\u001b[0;32m    403\u001b[0m                                         \u001b[1;31m#score = self.model(v_d, v_p.float().to(self.device))\u001b[0m\u001b[1;33m\u001b[0m\u001b[1;33m\u001b[0m\u001b[1;33m\u001b[0m\u001b[0m\n\u001b[0;32m    404\u001b[0m \u001b[1;33m\u001b[0m\u001b[0m\n\u001b[1;32m--> 405\u001b[1;33m                                 \u001b[0mscore\u001b[0m \u001b[1;33m=\u001b[0m \u001b[0mself\u001b[0m\u001b[1;33m.\u001b[0m\u001b[0mmodel\u001b[0m\u001b[1;33m(\u001b[0m\u001b[0mv_d\u001b[0m\u001b[1;33m,\u001b[0m \u001b[0mv_p\u001b[0m\u001b[1;33m)\u001b[0m\u001b[1;33m\u001b[0m\u001b[1;33m\u001b[0m\u001b[0m\n\u001b[0m\u001b[0;32m    406\u001b[0m                                 \u001b[0mlabel\u001b[0m \u001b[1;33m=\u001b[0m \u001b[0mVariable\u001b[0m\u001b[1;33m(\u001b[0m\u001b[0mtorch\u001b[0m\u001b[1;33m.\u001b[0m\u001b[0mfrom_numpy\u001b[0m\u001b[1;33m(\u001b[0m\u001b[0mnp\u001b[0m\u001b[1;33m.\u001b[0m\u001b[0marray\u001b[0m\u001b[1;33m(\u001b[0m\u001b[0mlabel\u001b[0m\u001b[1;33m)\u001b[0m\u001b[1;33m)\u001b[0m\u001b[1;33m.\u001b[0m\u001b[0mfloat\u001b[0m\u001b[1;33m(\u001b[0m\u001b[1;33m)\u001b[0m\u001b[1;33m)\u001b[0m\u001b[1;33m.\u001b[0m\u001b[0mto\u001b[0m\u001b[1;33m(\u001b[0m\u001b[0mself\u001b[0m\u001b[1;33m.\u001b[0m\u001b[0mdevice\u001b[0m\u001b[1;33m)\u001b[0m\u001b[1;33m\u001b[0m\u001b[1;33m\u001b[0m\u001b[0m\n\u001b[0;32m    407\u001b[0m \u001b[1;33m\u001b[0m\u001b[0m\n",
      "\u001b[1;32m~\\anaconda3\\envs\\multiPurpose\\lib\\site-packages\\torch\\nn\\modules\\module.py\u001b[0m in \u001b[0;36m_call_impl\u001b[1;34m(self, *input, **kwargs)\u001b[0m\n\u001b[0;32m    720\u001b[0m             \u001b[0mresult\u001b[0m \u001b[1;33m=\u001b[0m \u001b[0mself\u001b[0m\u001b[1;33m.\u001b[0m\u001b[0m_slow_forward\u001b[0m\u001b[1;33m(\u001b[0m\u001b[1;33m*\u001b[0m\u001b[0minput\u001b[0m\u001b[1;33m,\u001b[0m \u001b[1;33m**\u001b[0m\u001b[0mkwargs\u001b[0m\u001b[1;33m)\u001b[0m\u001b[1;33m\u001b[0m\u001b[1;33m\u001b[0m\u001b[0m\n\u001b[0;32m    721\u001b[0m         \u001b[1;32melse\u001b[0m\u001b[1;33m:\u001b[0m\u001b[1;33m\u001b[0m\u001b[1;33m\u001b[0m\u001b[0m\n\u001b[1;32m--> 722\u001b[1;33m             \u001b[0mresult\u001b[0m \u001b[1;33m=\u001b[0m \u001b[0mself\u001b[0m\u001b[1;33m.\u001b[0m\u001b[0mforward\u001b[0m\u001b[1;33m(\u001b[0m\u001b[1;33m*\u001b[0m\u001b[0minput\u001b[0m\u001b[1;33m,\u001b[0m \u001b[1;33m**\u001b[0m\u001b[0mkwargs\u001b[0m\u001b[1;33m)\u001b[0m\u001b[1;33m\u001b[0m\u001b[1;33m\u001b[0m\u001b[0m\n\u001b[0m\u001b[0;32m    723\u001b[0m         for hook in itertools.chain(\n\u001b[0;32m    724\u001b[0m                 \u001b[0m_global_forward_hooks\u001b[0m\u001b[1;33m.\u001b[0m\u001b[0mvalues\u001b[0m\u001b[1;33m(\u001b[0m\u001b[1;33m)\u001b[0m\u001b[1;33m,\u001b[0m\u001b[1;33m\u001b[0m\u001b[1;33m\u001b[0m\u001b[0m\n",
      "\u001b[1;32m~\\Dropbox\\Work\\insight\\omic\\DeepPurpose-omic\\DeepPurpose\\DTI.py\u001b[0m in \u001b[0;36mforward\u001b[1;34m(self, v_D, v_P)\u001b[0m\n\u001b[0;32m     46\u001b[0m                 \u001b[1;31m# each encoding\u001b[0m\u001b[1;33m\u001b[0m\u001b[1;33m\u001b[0m\u001b[1;33m\u001b[0m\u001b[0m\n\u001b[0;32m     47\u001b[0m                 \u001b[0mv_D\u001b[0m \u001b[1;33m=\u001b[0m \u001b[0mself\u001b[0m\u001b[1;33m.\u001b[0m\u001b[0mmodel_drug\u001b[0m\u001b[1;33m(\u001b[0m\u001b[0mv_D\u001b[0m\u001b[1;33m)\u001b[0m\u001b[1;33m\u001b[0m\u001b[1;33m\u001b[0m\u001b[0m\n\u001b[1;32m---> 48\u001b[1;33m                 \u001b[0mv_P\u001b[0m \u001b[1;33m=\u001b[0m \u001b[0mself\u001b[0m\u001b[1;33m.\u001b[0m\u001b[0mmodel_protein\u001b[0m\u001b[1;33m(\u001b[0m\u001b[0mv_P\u001b[0m\u001b[1;33m)\u001b[0m\u001b[1;33m\u001b[0m\u001b[1;33m\u001b[0m\u001b[0m\n\u001b[0m\u001b[0;32m     49\u001b[0m                 \u001b[1;31m# concatenate and classify\u001b[0m\u001b[1;33m\u001b[0m\u001b[1;33m\u001b[0m\u001b[1;33m\u001b[0m\u001b[0m\n\u001b[0;32m     50\u001b[0m                 \u001b[0mv_f\u001b[0m \u001b[1;33m=\u001b[0m \u001b[0mtorch\u001b[0m\u001b[1;33m.\u001b[0m\u001b[0mcat\u001b[0m\u001b[1;33m(\u001b[0m\u001b[1;33m(\u001b[0m\u001b[0mv_D\u001b[0m\u001b[1;33m,\u001b[0m \u001b[0mv_P\u001b[0m\u001b[1;33m)\u001b[0m\u001b[1;33m,\u001b[0m \u001b[1;36m1\u001b[0m\u001b[1;33m)\u001b[0m\u001b[1;33m\u001b[0m\u001b[1;33m\u001b[0m\u001b[0m\n",
      "\u001b[1;32m~\\anaconda3\\envs\\multiPurpose\\lib\\site-packages\\torch\\nn\\modules\\module.py\u001b[0m in \u001b[0;36m_call_impl\u001b[1;34m(self, *input, **kwargs)\u001b[0m\n\u001b[0;32m    720\u001b[0m             \u001b[0mresult\u001b[0m \u001b[1;33m=\u001b[0m \u001b[0mself\u001b[0m\u001b[1;33m.\u001b[0m\u001b[0m_slow_forward\u001b[0m\u001b[1;33m(\u001b[0m\u001b[1;33m*\u001b[0m\u001b[0minput\u001b[0m\u001b[1;33m,\u001b[0m \u001b[1;33m**\u001b[0m\u001b[0mkwargs\u001b[0m\u001b[1;33m)\u001b[0m\u001b[1;33m\u001b[0m\u001b[1;33m\u001b[0m\u001b[0m\n\u001b[0;32m    721\u001b[0m         \u001b[1;32melse\u001b[0m\u001b[1;33m:\u001b[0m\u001b[1;33m\u001b[0m\u001b[1;33m\u001b[0m\u001b[0m\n\u001b[1;32m--> 722\u001b[1;33m             \u001b[0mresult\u001b[0m \u001b[1;33m=\u001b[0m \u001b[0mself\u001b[0m\u001b[1;33m.\u001b[0m\u001b[0mforward\u001b[0m\u001b[1;33m(\u001b[0m\u001b[1;33m*\u001b[0m\u001b[0minput\u001b[0m\u001b[1;33m,\u001b[0m \u001b[1;33m**\u001b[0m\u001b[0mkwargs\u001b[0m\u001b[1;33m)\u001b[0m\u001b[1;33m\u001b[0m\u001b[1;33m\u001b[0m\u001b[0m\n\u001b[0m\u001b[0;32m    723\u001b[0m         for hook in itertools.chain(\n\u001b[0;32m    724\u001b[0m                 \u001b[0m_global_forward_hooks\u001b[0m\u001b[1;33m.\u001b[0m\u001b[0mvalues\u001b[0m\u001b[1;33m(\u001b[0m\u001b[1;33m)\u001b[0m\u001b[1;33m,\u001b[0m\u001b[1;33m\u001b[0m\u001b[1;33m\u001b[0m\u001b[0m\n",
      "\u001b[1;32m~\\Dropbox\\Work\\insight\\omic\\DeepPurpose-omic\\DeepPurpose\\encoders.py\u001b[0m in \u001b[0;36mforward\u001b[1;34m(self, v)\u001b[0m\n\u001b[0;32m     55\u001b[0m \u001b[1;33m\u001b[0m\u001b[0m\n\u001b[0;32m     56\u001b[0m                 \u001b[0memb\u001b[0m \u001b[1;33m=\u001b[0m \u001b[0mself\u001b[0m\u001b[1;33m.\u001b[0m\u001b[0memb\u001b[0m\u001b[1;33m(\u001b[0m\u001b[0me\u001b[0m\u001b[1;33m)\u001b[0m\u001b[1;33m\u001b[0m\u001b[1;33m\u001b[0m\u001b[0m\n\u001b[1;32m---> 57\u001b[1;33m                 \u001b[0mencoded_layers\u001b[0m \u001b[1;33m=\u001b[0m \u001b[0mself\u001b[0m\u001b[1;33m.\u001b[0m\u001b[0mencoder\u001b[0m\u001b[1;33m(\u001b[0m\u001b[0memb\u001b[0m\u001b[1;33m.\u001b[0m\u001b[0mfloat\u001b[0m\u001b[1;33m(\u001b[0m\u001b[1;33m)\u001b[0m\u001b[1;33m,\u001b[0m \u001b[0mex_e_mask\u001b[0m\u001b[1;33m.\u001b[0m\u001b[0mfloat\u001b[0m\u001b[1;33m(\u001b[0m\u001b[1;33m)\u001b[0m\u001b[1;33m)\u001b[0m\u001b[1;33m\u001b[0m\u001b[1;33m\u001b[0m\u001b[0m\n\u001b[0m\u001b[0;32m     58\u001b[0m                 \u001b[1;32mreturn\u001b[0m \u001b[0mencoded_layers\u001b[0m\u001b[1;33m[\u001b[0m\u001b[1;33m:\u001b[0m\u001b[1;33m,\u001b[0m\u001b[1;36m0\u001b[0m\u001b[1;33m]\u001b[0m\u001b[1;33m\u001b[0m\u001b[1;33m\u001b[0m\u001b[0m\n\u001b[0;32m     59\u001b[0m \u001b[1;33m\u001b[0m\u001b[0m\n",
      "\u001b[1;32m~\\anaconda3\\envs\\multiPurpose\\lib\\site-packages\\torch\\nn\\modules\\module.py\u001b[0m in \u001b[0;36m_call_impl\u001b[1;34m(self, *input, **kwargs)\u001b[0m\n\u001b[0;32m    720\u001b[0m             \u001b[0mresult\u001b[0m \u001b[1;33m=\u001b[0m \u001b[0mself\u001b[0m\u001b[1;33m.\u001b[0m\u001b[0m_slow_forward\u001b[0m\u001b[1;33m(\u001b[0m\u001b[1;33m*\u001b[0m\u001b[0minput\u001b[0m\u001b[1;33m,\u001b[0m \u001b[1;33m**\u001b[0m\u001b[0mkwargs\u001b[0m\u001b[1;33m)\u001b[0m\u001b[1;33m\u001b[0m\u001b[1;33m\u001b[0m\u001b[0m\n\u001b[0;32m    721\u001b[0m         \u001b[1;32melse\u001b[0m\u001b[1;33m:\u001b[0m\u001b[1;33m\u001b[0m\u001b[1;33m\u001b[0m\u001b[0m\n\u001b[1;32m--> 722\u001b[1;33m             \u001b[0mresult\u001b[0m \u001b[1;33m=\u001b[0m \u001b[0mself\u001b[0m\u001b[1;33m.\u001b[0m\u001b[0mforward\u001b[0m\u001b[1;33m(\u001b[0m\u001b[1;33m*\u001b[0m\u001b[0minput\u001b[0m\u001b[1;33m,\u001b[0m \u001b[1;33m**\u001b[0m\u001b[0mkwargs\u001b[0m\u001b[1;33m)\u001b[0m\u001b[1;33m\u001b[0m\u001b[1;33m\u001b[0m\u001b[0m\n\u001b[0m\u001b[0;32m    723\u001b[0m         for hook in itertools.chain(\n\u001b[0;32m    724\u001b[0m                 \u001b[0m_global_forward_hooks\u001b[0m\u001b[1;33m.\u001b[0m\u001b[0mvalues\u001b[0m\u001b[1;33m(\u001b[0m\u001b[1;33m)\u001b[0m\u001b[1;33m,\u001b[0m\u001b[1;33m\u001b[0m\u001b[1;33m\u001b[0m\u001b[0m\n",
      "\u001b[1;32m~\\Dropbox\\Work\\insight\\omic\\DeepPurpose-omic\\DeepPurpose\\model_helper.py\u001b[0m in \u001b[0;36mforward\u001b[1;34m(self, hidden_states, attention_mask, output_all_encoded_layers)\u001b[0m\n\u001b[0;32m    174\u001b[0m         \u001b[0mall_encoder_layers\u001b[0m \u001b[1;33m=\u001b[0m \u001b[1;33m[\u001b[0m\u001b[1;33m]\u001b[0m\u001b[1;33m\u001b[0m\u001b[1;33m\u001b[0m\u001b[0m\n\u001b[0;32m    175\u001b[0m         \u001b[1;32mfor\u001b[0m \u001b[0mlayer_module\u001b[0m \u001b[1;32min\u001b[0m \u001b[0mself\u001b[0m\u001b[1;33m.\u001b[0m\u001b[0mlayer\u001b[0m\u001b[1;33m:\u001b[0m\u001b[1;33m\u001b[0m\u001b[1;33m\u001b[0m\u001b[0m\n\u001b[1;32m--> 176\u001b[1;33m             \u001b[0mhidden_states\u001b[0m \u001b[1;33m=\u001b[0m \u001b[0mlayer_module\u001b[0m\u001b[1;33m(\u001b[0m\u001b[0mhidden_states\u001b[0m\u001b[1;33m,\u001b[0m \u001b[0mattention_mask\u001b[0m\u001b[1;33m)\u001b[0m\u001b[1;33m\u001b[0m\u001b[1;33m\u001b[0m\u001b[0m\n\u001b[0m\u001b[0;32m    177\u001b[0m             \u001b[1;31m#if output_all_encoded_layers:\u001b[0m\u001b[1;33m\u001b[0m\u001b[1;33m\u001b[0m\u001b[1;33m\u001b[0m\u001b[0m\n\u001b[0;32m    178\u001b[0m             \u001b[1;31m#    all_encoder_layers.append(hidden_states)\u001b[0m\u001b[1;33m\u001b[0m\u001b[1;33m\u001b[0m\u001b[1;33m\u001b[0m\u001b[0m\n",
      "\u001b[1;32m~\\anaconda3\\envs\\multiPurpose\\lib\\site-packages\\torch\\nn\\modules\\module.py\u001b[0m in \u001b[0;36m_call_impl\u001b[1;34m(self, *input, **kwargs)\u001b[0m\n\u001b[0;32m    720\u001b[0m             \u001b[0mresult\u001b[0m \u001b[1;33m=\u001b[0m \u001b[0mself\u001b[0m\u001b[1;33m.\u001b[0m\u001b[0m_slow_forward\u001b[0m\u001b[1;33m(\u001b[0m\u001b[1;33m*\u001b[0m\u001b[0minput\u001b[0m\u001b[1;33m,\u001b[0m \u001b[1;33m**\u001b[0m\u001b[0mkwargs\u001b[0m\u001b[1;33m)\u001b[0m\u001b[1;33m\u001b[0m\u001b[1;33m\u001b[0m\u001b[0m\n\u001b[0;32m    721\u001b[0m         \u001b[1;32melse\u001b[0m\u001b[1;33m:\u001b[0m\u001b[1;33m\u001b[0m\u001b[1;33m\u001b[0m\u001b[0m\n\u001b[1;32m--> 722\u001b[1;33m             \u001b[0mresult\u001b[0m \u001b[1;33m=\u001b[0m \u001b[0mself\u001b[0m\u001b[1;33m.\u001b[0m\u001b[0mforward\u001b[0m\u001b[1;33m(\u001b[0m\u001b[1;33m*\u001b[0m\u001b[0minput\u001b[0m\u001b[1;33m,\u001b[0m \u001b[1;33m**\u001b[0m\u001b[0mkwargs\u001b[0m\u001b[1;33m)\u001b[0m\u001b[1;33m\u001b[0m\u001b[1;33m\u001b[0m\u001b[0m\n\u001b[0m\u001b[0;32m    723\u001b[0m         for hook in itertools.chain(\n\u001b[0;32m    724\u001b[0m                 \u001b[0m_global_forward_hooks\u001b[0m\u001b[1;33m.\u001b[0m\u001b[0mvalues\u001b[0m\u001b[1;33m(\u001b[0m\u001b[1;33m)\u001b[0m\u001b[1;33m,\u001b[0m\u001b[1;33m\u001b[0m\u001b[1;33m\u001b[0m\u001b[0m\n",
      "\u001b[1;32m~\\Dropbox\\Work\\insight\\omic\\DeepPurpose-omic\\DeepPurpose\\model_helper.py\u001b[0m in \u001b[0;36mforward\u001b[1;34m(self, hidden_states, attention_mask)\u001b[0m\n\u001b[0;32m    159\u001b[0m \u001b[1;33m\u001b[0m\u001b[0m\n\u001b[0;32m    160\u001b[0m     \u001b[1;32mdef\u001b[0m \u001b[0mforward\u001b[0m\u001b[1;33m(\u001b[0m\u001b[0mself\u001b[0m\u001b[1;33m,\u001b[0m \u001b[0mhidden_states\u001b[0m\u001b[1;33m,\u001b[0m \u001b[0mattention_mask\u001b[0m\u001b[1;33m)\u001b[0m\u001b[1;33m:\u001b[0m\u001b[1;33m\u001b[0m\u001b[1;33m\u001b[0m\u001b[0m\n\u001b[1;32m--> 161\u001b[1;33m         \u001b[0mattention_output\u001b[0m \u001b[1;33m=\u001b[0m \u001b[0mself\u001b[0m\u001b[1;33m.\u001b[0m\u001b[0mattention\u001b[0m\u001b[1;33m(\u001b[0m\u001b[0mhidden_states\u001b[0m\u001b[1;33m,\u001b[0m \u001b[0mattention_mask\u001b[0m\u001b[1;33m)\u001b[0m\u001b[1;33m\u001b[0m\u001b[1;33m\u001b[0m\u001b[0m\n\u001b[0m\u001b[0;32m    162\u001b[0m         \u001b[0mintermediate_output\u001b[0m \u001b[1;33m=\u001b[0m \u001b[0mself\u001b[0m\u001b[1;33m.\u001b[0m\u001b[0mintermediate\u001b[0m\u001b[1;33m(\u001b[0m\u001b[0mattention_output\u001b[0m\u001b[1;33m)\u001b[0m\u001b[1;33m\u001b[0m\u001b[1;33m\u001b[0m\u001b[0m\n\u001b[0;32m    163\u001b[0m         \u001b[0mlayer_output\u001b[0m \u001b[1;33m=\u001b[0m \u001b[0mself\u001b[0m\u001b[1;33m.\u001b[0m\u001b[0moutput\u001b[0m\u001b[1;33m(\u001b[0m\u001b[0mintermediate_output\u001b[0m\u001b[1;33m,\u001b[0m \u001b[0mattention_output\u001b[0m\u001b[1;33m)\u001b[0m\u001b[1;33m\u001b[0m\u001b[1;33m\u001b[0m\u001b[0m\n",
      "\u001b[1;32m~\\anaconda3\\envs\\multiPurpose\\lib\\site-packages\\torch\\nn\\modules\\module.py\u001b[0m in \u001b[0;36m_call_impl\u001b[1;34m(self, *input, **kwargs)\u001b[0m\n\u001b[0;32m    720\u001b[0m             \u001b[0mresult\u001b[0m \u001b[1;33m=\u001b[0m \u001b[0mself\u001b[0m\u001b[1;33m.\u001b[0m\u001b[0m_slow_forward\u001b[0m\u001b[1;33m(\u001b[0m\u001b[1;33m*\u001b[0m\u001b[0minput\u001b[0m\u001b[1;33m,\u001b[0m \u001b[1;33m**\u001b[0m\u001b[0mkwargs\u001b[0m\u001b[1;33m)\u001b[0m\u001b[1;33m\u001b[0m\u001b[1;33m\u001b[0m\u001b[0m\n\u001b[0;32m    721\u001b[0m         \u001b[1;32melse\u001b[0m\u001b[1;33m:\u001b[0m\u001b[1;33m\u001b[0m\u001b[1;33m\u001b[0m\u001b[0m\n\u001b[1;32m--> 722\u001b[1;33m             \u001b[0mresult\u001b[0m \u001b[1;33m=\u001b[0m \u001b[0mself\u001b[0m\u001b[1;33m.\u001b[0m\u001b[0mforward\u001b[0m\u001b[1;33m(\u001b[0m\u001b[1;33m*\u001b[0m\u001b[0minput\u001b[0m\u001b[1;33m,\u001b[0m \u001b[1;33m**\u001b[0m\u001b[0mkwargs\u001b[0m\u001b[1;33m)\u001b[0m\u001b[1;33m\u001b[0m\u001b[1;33m\u001b[0m\u001b[0m\n\u001b[0m\u001b[0;32m    723\u001b[0m         for hook in itertools.chain(\n\u001b[0;32m    724\u001b[0m                 \u001b[0m_global_forward_hooks\u001b[0m\u001b[1;33m.\u001b[0m\u001b[0mvalues\u001b[0m\u001b[1;33m(\u001b[0m\u001b[1;33m)\u001b[0m\u001b[1;33m,\u001b[0m\u001b[1;33m\u001b[0m\u001b[1;33m\u001b[0m\u001b[0m\n",
      "\u001b[1;32m~\\Dropbox\\Work\\insight\\omic\\DeepPurpose-omic\\DeepPurpose\\model_helper.py\u001b[0m in \u001b[0;36mforward\u001b[1;34m(self, input_tensor, attention_mask)\u001b[0m\n\u001b[0;32m    124\u001b[0m \u001b[1;33m\u001b[0m\u001b[0m\n\u001b[0;32m    125\u001b[0m     \u001b[1;32mdef\u001b[0m \u001b[0mforward\u001b[0m\u001b[1;33m(\u001b[0m\u001b[0mself\u001b[0m\u001b[1;33m,\u001b[0m \u001b[0minput_tensor\u001b[0m\u001b[1;33m,\u001b[0m \u001b[0mattention_mask\u001b[0m\u001b[1;33m)\u001b[0m\u001b[1;33m:\u001b[0m\u001b[1;33m\u001b[0m\u001b[1;33m\u001b[0m\u001b[0m\n\u001b[1;32m--> 126\u001b[1;33m         \u001b[0mself_output\u001b[0m \u001b[1;33m=\u001b[0m \u001b[0mself\u001b[0m\u001b[1;33m.\u001b[0m\u001b[0mself\u001b[0m\u001b[1;33m(\u001b[0m\u001b[0minput_tensor\u001b[0m\u001b[1;33m,\u001b[0m \u001b[0mattention_mask\u001b[0m\u001b[1;33m)\u001b[0m\u001b[1;33m\u001b[0m\u001b[1;33m\u001b[0m\u001b[0m\n\u001b[0m\u001b[0;32m    127\u001b[0m         \u001b[0mattention_output\u001b[0m \u001b[1;33m=\u001b[0m \u001b[0mself\u001b[0m\u001b[1;33m.\u001b[0m\u001b[0moutput\u001b[0m\u001b[1;33m(\u001b[0m\u001b[0mself_output\u001b[0m\u001b[1;33m,\u001b[0m \u001b[0minput_tensor\u001b[0m\u001b[1;33m)\u001b[0m\u001b[1;33m\u001b[0m\u001b[1;33m\u001b[0m\u001b[0m\n\u001b[0;32m    128\u001b[0m         \u001b[1;32mreturn\u001b[0m \u001b[0mattention_output\u001b[0m\u001b[1;33m\u001b[0m\u001b[1;33m\u001b[0m\u001b[0m\n",
      "\u001b[1;32m~\\anaconda3\\envs\\multiPurpose\\lib\\site-packages\\torch\\nn\\modules\\module.py\u001b[0m in \u001b[0;36m_call_impl\u001b[1;34m(self, *input, **kwargs)\u001b[0m\n\u001b[0;32m    720\u001b[0m             \u001b[0mresult\u001b[0m \u001b[1;33m=\u001b[0m \u001b[0mself\u001b[0m\u001b[1;33m.\u001b[0m\u001b[0m_slow_forward\u001b[0m\u001b[1;33m(\u001b[0m\u001b[1;33m*\u001b[0m\u001b[0minput\u001b[0m\u001b[1;33m,\u001b[0m \u001b[1;33m**\u001b[0m\u001b[0mkwargs\u001b[0m\u001b[1;33m)\u001b[0m\u001b[1;33m\u001b[0m\u001b[1;33m\u001b[0m\u001b[0m\n\u001b[0;32m    721\u001b[0m         \u001b[1;32melse\u001b[0m\u001b[1;33m:\u001b[0m\u001b[1;33m\u001b[0m\u001b[1;33m\u001b[0m\u001b[0m\n\u001b[1;32m--> 722\u001b[1;33m             \u001b[0mresult\u001b[0m \u001b[1;33m=\u001b[0m \u001b[0mself\u001b[0m\u001b[1;33m.\u001b[0m\u001b[0mforward\u001b[0m\u001b[1;33m(\u001b[0m\u001b[1;33m*\u001b[0m\u001b[0minput\u001b[0m\u001b[1;33m,\u001b[0m \u001b[1;33m**\u001b[0m\u001b[0mkwargs\u001b[0m\u001b[1;33m)\u001b[0m\u001b[1;33m\u001b[0m\u001b[1;33m\u001b[0m\u001b[0m\n\u001b[0m\u001b[0;32m    723\u001b[0m         for hook in itertools.chain(\n\u001b[0;32m    724\u001b[0m                 \u001b[0m_global_forward_hooks\u001b[0m\u001b[1;33m.\u001b[0m\u001b[0mvalues\u001b[0m\u001b[1;33m(\u001b[0m\u001b[1;33m)\u001b[0m\u001b[1;33m,\u001b[0m\u001b[1;33m\u001b[0m\u001b[1;33m\u001b[0m\u001b[0m\n",
      "\u001b[1;32m~\\Dropbox\\Work\\insight\\omic\\DeepPurpose-omic\\DeepPurpose\\model_helper.py\u001b[0m in \u001b[0;36mforward\u001b[1;34m(self, hidden_states, attention_mask)\u001b[0m\n\u001b[0;32m     96\u001b[0m         \u001b[0mattention_probs\u001b[0m \u001b[1;33m=\u001b[0m \u001b[0mself\u001b[0m\u001b[1;33m.\u001b[0m\u001b[0mdropout\u001b[0m\u001b[1;33m(\u001b[0m\u001b[0mattention_probs\u001b[0m\u001b[1;33m)\u001b[0m\u001b[1;33m\u001b[0m\u001b[1;33m\u001b[0m\u001b[0m\n\u001b[0;32m     97\u001b[0m \u001b[1;33m\u001b[0m\u001b[0m\n\u001b[1;32m---> 98\u001b[1;33m         \u001b[0mcontext_layer\u001b[0m \u001b[1;33m=\u001b[0m \u001b[0mtorch\u001b[0m\u001b[1;33m.\u001b[0m\u001b[0mmatmul\u001b[0m\u001b[1;33m(\u001b[0m\u001b[0mattention_probs\u001b[0m\u001b[1;33m,\u001b[0m \u001b[0mvalue_layer\u001b[0m\u001b[1;33m)\u001b[0m\u001b[1;33m\u001b[0m\u001b[1;33m\u001b[0m\u001b[0m\n\u001b[0m\u001b[0;32m     99\u001b[0m         \u001b[0mcontext_layer\u001b[0m \u001b[1;33m=\u001b[0m \u001b[0mcontext_layer\u001b[0m\u001b[1;33m.\u001b[0m\u001b[0mpermute\u001b[0m\u001b[1;33m(\u001b[0m\u001b[1;36m0\u001b[0m\u001b[1;33m,\u001b[0m \u001b[1;36m2\u001b[0m\u001b[1;33m,\u001b[0m \u001b[1;36m1\u001b[0m\u001b[1;33m,\u001b[0m \u001b[1;36m3\u001b[0m\u001b[1;33m)\u001b[0m\u001b[1;33m.\u001b[0m\u001b[0mcontiguous\u001b[0m\u001b[1;33m(\u001b[0m\u001b[1;33m)\u001b[0m\u001b[1;33m\u001b[0m\u001b[1;33m\u001b[0m\u001b[0m\n\u001b[0;32m    100\u001b[0m         \u001b[0mnew_context_layer_shape\u001b[0m \u001b[1;33m=\u001b[0m \u001b[0mcontext_layer\u001b[0m\u001b[1;33m.\u001b[0m\u001b[0msize\u001b[0m\u001b[1;33m(\u001b[0m\u001b[1;33m)\u001b[0m\u001b[1;33m[\u001b[0m\u001b[1;33m:\u001b[0m\u001b[1;33m-\u001b[0m\u001b[1;36m2\u001b[0m\u001b[1;33m]\u001b[0m \u001b[1;33m+\u001b[0m \u001b[1;33m(\u001b[0m\u001b[0mself\u001b[0m\u001b[1;33m.\u001b[0m\u001b[0mall_head_size\u001b[0m\u001b[1;33m,\u001b[0m\u001b[1;33m)\u001b[0m\u001b[1;33m\u001b[0m\u001b[1;33m\u001b[0m\u001b[0m\n",
      "\u001b[1;31mKeyboardInterrupt\u001b[0m: "
     ]
    }
   ],
   "source": [
    "#run this if you want to train a new one\n",
    "model.train(train, val, test, verbose = True)\n",
    "model.save_model('./model-9-24-cpu')"
   ]
  },
  {
   "cell_type": "code",
   "execution_count": 7,
   "metadata": {
    "ExecuteTime": {
     "end_time": "2020-09-29T17:38:26.870268Z",
     "start_time": "2020-09-29T17:38:26.643277Z"
    }
   },
   "outputs": [],
   "source": [
    "#run this if you want to use my trained one\n",
    "model = models.model_pretrained(path_dir = './model-9-24')"
   ]
  },
  {
   "cell_type": "markdown",
   "metadata": {},
   "source": [
    "# Model validation\n",
    "\n",
    "The following code is built in to the DeepPurpose `train` method, I've just pulled it out so I can grab the dataset that was set aside for validation during the data processing step. "
   ]
  },
  {
   "cell_type": "code",
   "execution_count": 13,
   "metadata": {
    "ExecuteTime": {
     "end_time": "2020-09-29T18:03:26.429775Z",
     "start_time": "2020-09-29T18:03:26.408776Z"
    }
   },
   "outputs": [],
   "source": [
    "import torch\n",
    "from torch.utils import data\n",
    "\n",
    "params = {'batch_size': config['batch_size'],\n",
    "    'shuffle': True,\n",
    "    'num_workers': config['num_workers'],\n",
    "    'drop_last': False}\n",
    "\n",
    "validation_generator = data.DataLoader(utils.data_process_loader(val.index.values, val.Label.values, val, **config), **params)"
   ]
  },
  {
   "cell_type": "markdown",
   "metadata": {},
   "source": [
    "The available performance metrics are ROC-AUC, PR-AUC, F1, cross-entropy loss, MSE, Pearson Correlation with p-value, and Concordance Index. I'm displaying the ROC-AUC here for comparison to the DeepIC50 paper. It's not at their level yet, but it's also not bad for a first try?\n",
    "\n",
    "TODO: graph ROC curve, also why does test_ return \"logits\""
   ]
  },
  {
   "cell_type": "code",
   "execution_count": 14,
   "metadata": {
    "ExecuteTime": {
     "end_time": "2020-09-29T18:04:17.515059Z",
     "start_time": "2020-09-29T18:03:30.238061Z"
    }
   },
   "outputs": [
    {
     "name": "stdout",
     "output_type": "stream",
     "text": [
      "0.8197822689413422\n"
     ]
    }
   ],
   "source": [
    "model.binary = False\n",
    "auc, auprc, f1, loss, logits = models.DBTA.test_(model, validation_generator, model.model, test=True)\n",
    "print(auc)"
   ]
  },
  {
   "cell_type": "code",
   "execution_count": 40,
   "metadata": {},
   "outputs": [],
   "source": [
    "#trying to get the ROC curve to actually plot...\n",
    "\n",
    "#import matplotlib.pyplot as plt\n",
    "#import sklearn\n",
    "#from sklearn.metrics import mean_squared_error, roc_auc_score, average_precision_score, f1_score\n",
    "\n",
    "#y_label = []\n",
    "#roc_auc_file = os.path.join(model.result_folder, \"roc-auc.jpg\")\n",
    "#plt.figure(0)\n",
    "#sklearn.metrics.roc_curve(y_pred, y_label, roc_auc_file, model.drug_encoding)\n",
    "#plt.figure(1)\n",
    "#pr_auc_file = os.path.join(model.result_folder, \"pr-auc.jpg\")\n",
    "#sklearn.metrics.prauc_curve(y_pred, y_label, pr_auc_file, model.drug_encoding)"
   ]
  },
  {
   "cell_type": "markdown",
   "metadata": {},
   "source": [
    "# Model usage\n",
    "\n",
    "To predict IC50, run data_process to create a dataset consisting of a single drug-target pair, and then run `predict`, which is just a wrapper on `test_`. The output is in pIC50. \n",
    "\n",
    "TODO: why do I need to include `y` as input?"
   ]
  },
  {
   "cell_type": "code",
   "execution_count": 28,
   "metadata": {},
   "outputs": [
    {
     "name": "stdout",
     "output_type": "stream",
     "text": [
      "Drug Target Interaction Prediction Mode...\n",
      "in total: 1 drug-target pairs\n",
      "encoding drug...\n",
      "unique drugs: 1\n",
      "encoding protein...\n",
      "unique target sequence: 1\n",
      "splitting dataset...\n",
      "do not do train/test split on the data for already splitted data\n",
      "predicting...\n",
      "The predicted score is [7.395412921905518]\n"
     ]
    }
   ],
   "source": [
    "X_drug = ['CC1=C2C=C(C=CC2=NN1)C3=CC(=CN=C3)OCC(CC4=CC=CC=C4)N']\n",
    "X_target = ['MKKFFDSRREQGGSGLGSGSSGGGGSTSGLGSGYIGRVFGIGRQQVTVDEVLAEGGFAIVFLVRTSNGMKCALKRMFVNNEHDLQVCKREIQIMRDLSGHKNIVGYIDSSINNVSSGDVWEVLILMDFCRGGQVVNLMNQRLQTGFTENEVLQIFCDTCEAVARLHQCKTPIIHRDLKVENILLHDRGHYVLCDFGSATNKFQNPQTEGVNAVEDEIKKYTTLSYRAPEMVNLYSGKIITTKADIWALGCLLYKLCYFTLPFGESQVAICDGNFTIPDNSRYSQDMHCLIRYMLEPDPDKRPDIYQVSYFSFKLLKKECPIPNVQNSPIPAKLPEPVKASEAAAKKTQPKARLTDPIPTTETSIAPRQRPKAGQTQPNPGILPIQPALTPRKRATVQPPPQAAGSSNQPGLLASVPQPKPQAPPSQPLPQTQAKQPQAPPTPQQTPSTQAQGLPAQAQATPQHQQQLFLKQQQQQQQPPPAQQQPAGTFYQQQQAQTQQFQAVHPATQKPAIAQFPVVSQGGSQQQLMQNFYQQQQQQQQQQQQQQLATALHQQQLMTQQAALQQKPTMAAGQQPQPQPAAAPQPAPAQEPAIQAPVRQQPKVQTTPPPAVQGQKVGSLTPPSSPKTQRAGHRRILSDVTHSAVFGVPASKSTQLLQAAAAEASLNKSKSATTTPSGSPRTSQQNVYNPSEGSTWNPFDDDNFSKLTAEELLNKDFAKLGEGKHPEKLGGSAESLIPGFQSTQGDAFATTSFSAGTAEKRKGGQTVDSGLPLLSVSDPFIPLQVPDAPEKLIEGLKSPDTSLLLPDLLPMTDPFGSTSDAVIEKADVAVESLIPGLEPPVPQRLPSQTESVTSNRTDSLTGEDSLLDCSLLSNPTTDLLEEFAPTAISAPVHKAAEDSNLISGFDVPEGSDKVAEDEFDPIPVLITKNPQGGHSRNSSGSSESSLPNLARSLLLVDQLIDL']\n",
    "X_pred = utils.data_process(X_drug, X_target, y, \n",
    "                                drug_encoding, target_encoding, \n",
    "                                split_method='no_split')\n",
    "y_pred = model.predict(X_pred)\n",
    "print('The predicted score is ' + str(y_pred))"
   ]
  },
  {
   "cell_type": "code",
   "execution_count": null,
   "metadata": {},
   "outputs": [],
   "source": []
  }
 ],
 "metadata": {
  "hide_input": false,
  "kernelspec": {
   "display_name": "Python 3",
   "language": "python",
   "name": "python3"
  },
  "latex_envs": {
   "LaTeX_envs_menu_present": true,
   "autoclose": false,
   "autocomplete": true,
   "bibliofile": "biblio.bib",
   "cite_by": "apalike",
   "current_citInitial": 1,
   "eqLabelWithNumbers": true,
   "eqNumInitial": 1,
   "hotkeys": {
    "equation": "Ctrl-E",
    "itemize": "Ctrl-I"
   },
   "labels_anchors": false,
   "latex_user_defs": false,
   "report_style_numbering": false,
   "user_envs_cfg": false
  },
  "toc": {
   "base_numbering": 1,
   "nav_menu": {},
   "number_sections": true,
   "sideBar": true,
   "skip_h1_title": false,
   "title_cell": "Table of Contents",
   "title_sidebar": "Contents",
   "toc_cell": false,
   "toc_position": {},
   "toc_section_display": true,
   "toc_window_display": false
  },
  "varInspector": {
   "cols": {
    "lenName": 16,
    "lenType": 16,
    "lenVar": 40
   },
   "kernels_config": {
    "python": {
     "delete_cmd_postfix": "",
     "delete_cmd_prefix": "del ",
     "library": "var_list.py",
     "varRefreshCmd": "print(var_dic_list())"
    },
    "r": {
     "delete_cmd_postfix": ") ",
     "delete_cmd_prefix": "rm(",
     "library": "var_list.r",
     "varRefreshCmd": "cat(var_dic_list()) "
    }
   },
   "types_to_exclude": [
    "module",
    "function",
    "builtin_function_or_method",
    "instance",
    "_Feature"
   ],
   "window_display": false
  }
 },
 "nbformat": 4,
 "nbformat_minor": 4
}
