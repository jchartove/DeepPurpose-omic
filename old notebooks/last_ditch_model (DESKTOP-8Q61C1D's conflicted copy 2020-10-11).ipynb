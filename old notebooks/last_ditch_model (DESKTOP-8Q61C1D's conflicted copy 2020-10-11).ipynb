{
 "cells": [
  {
   "cell_type": "code",
   "execution_count": 1,
   "metadata": {
    "ExecuteTime": {
     "end_time": "2020-10-10T19:34:12.196665Z",
     "start_time": "2020-10-10T19:34:07.503665Z"
    }
   },
   "outputs": [],
   "source": [
    "import numpy as np\n",
    "import pandas as pd\n",
    "from rdkit import Chem, DataStructs\n",
    "from rdkit.Chem import AllChem\n",
    "from rdkit.Chem.Fingerprints import FingerprintMols\n",
    "from DeepPurpose.pybiomed_helper import _GetPseudoAAC, CalculateAADipeptideComposition, \\\n",
    "calcPubChemFingerAll, CalculateConjointTriad, GetQuasiSequenceOrder\n",
    "import torch\n",
    "from torch.utils import data\n",
    "from torch.autograd import Variable\n",
    "try:\n",
    "\tfrom descriptastorus.descriptors import rdDescriptors, rdNormalizedDescriptors\n",
    "except:\n",
    "\traise ImportError(\"Please install pip install git+https://github.com/bp-kelley/descriptastorus.\")\n",
    "from DeepPurpose.chemutils import get_mol, atom_features, bond_features, MAX_NB, ATOM_FDIM, BOND_FDIM\n",
    "from subword_nmt.apply_bpe import BPE\n",
    "import codecs\n",
    "import pickle\n",
    "import wget\n",
    "from zipfile import ZipFile \n",
    "import os\n",
    "import sys\n",
    "\n",
    "from torch.autograd import Variable\n",
    "import torch.nn.functional as F\n",
    "from torch.utils.data import SequentialSampler\n",
    "from torch import nn \n",
    "\n",
    "from tqdm import tqdm\n",
    "import matplotlib.pyplot as plt\n",
    "from time import time\n",
    "from sklearn.metrics import mean_squared_error, roc_auc_score, average_precision_score, f1_score, log_loss\n",
    "from lifelines.utils import concordance_index\n",
    "from scipy.stats import pearsonr\n",
    "import pickle \n",
    "torch.manual_seed(2)\n",
    "np.random.seed(3)\n",
    "import copy\n",
    "from prettytable import PrettyTable\n",
    "\n",
    "import os\n",
    "\n",
    "from DeepPurpose.utils import *\n",
    "from DeepPurpose.model_helper import Encoder_MultipleLayers, Embeddings        \n",
    "from DeepPurpose.encoders import *\n",
    "from DeepPurpose import DTI"
   ]
  },
  {
   "cell_type": "code",
   "execution_count": 2,
   "metadata": {
    "ExecuteTime": {
     "end_time": "2020-10-10T19:34:27.461664Z",
     "start_time": "2020-10-10T19:34:24.556665Z"
    }
   },
   "outputs": [],
   "source": [
    "df = pd.read_pickle(\"./df.pkl\")"
   ]
  },
  {
   "cell_type": "code",
   "execution_count": 3,
   "metadata": {
    "ExecuteTime": {
     "end_time": "2020-10-10T19:34:33.555665Z",
     "start_time": "2020-10-10T19:34:31.866665Z"
    }
   },
   "outputs": [
    {
     "name": "stdout",
     "output_type": "stream",
     "text": [
      "in total: 93309 drug-target pairs\n"
     ]
    },
    {
     "name": "stderr",
     "output_type": "stream",
     "text": [
      "C:\\Users\\Julia\\anaconda3\\envs\\multiPurpose\\lib\\site-packages\\ipykernel_launcher.py:25: SettingWithCopyWarning: \n",
      "A value is trying to be set on a copy of a slice from a DataFrame.\n",
      "Try using .loc[row_indexer,col_indexer] = value instead\n",
      "\n",
      "See the caveats in the documentation: https://pandas.pydata.org/pandas-docs/stable/user_guide/indexing.html#returning-a-view-versus-a-copy\n",
      "C:\\Users\\Julia\\anaconda3\\envs\\multiPurpose\\lib\\site-packages\\ipykernel_launcher.py:27: SettingWithCopyWarning: \n",
      "A value is trying to be set on a copy of a slice from a DataFrame.\n",
      "Try using .loc[row_indexer,col_indexer] = value instead\n",
      "\n",
      "See the caveats in the documentation: https://pandas.pydata.org/pandas-docs/stable/user_guide/indexing.html#returning-a-view-versus-a-copy\n"
     ]
    },
    {
     "data": {
      "text/html": [
       "<div>\n",
       "<style scoped>\n",
       "    .dataframe tbody tr th:only-of-type {\n",
       "        vertical-align: middle;\n",
       "    }\n",
       "\n",
       "    .dataframe tbody tr th {\n",
       "        vertical-align: top;\n",
       "    }\n",
       "\n",
       "    .dataframe thead th {\n",
       "        text-align: right;\n",
       "    }\n",
       "</style>\n",
       "<table border=\"1\" class=\"dataframe\">\n",
       "  <thead>\n",
       "    <tr style=\"text-align: right;\">\n",
       "      <th></th>\n",
       "      <th>IC50</th>\n",
       "      <th>Temp</th>\n",
       "      <th>pH</th>\n",
       "      <th>SMILES</th>\n",
       "      <th>Target Sequence</th>\n",
       "      <th>Organism</th>\n",
       "    </tr>\n",
       "  </thead>\n",
       "  <tbody>\n",
       "    <tr>\n",
       "      <th>180</th>\n",
       "      <td>8.5</td>\n",
       "      <td>37.0</td>\n",
       "      <td>6.0</td>\n",
       "      <td>CC(C)[C@H](NC(C)=O)C(=O)N[C@@H](Cc1ccccc1)[C@@...</td>\n",
       "      <td>PQITLWQRPLVTIKIGGQLKEALLDTGADDTVLEEMNLPGRWKPKM...</td>\n",
       "      <td>Human immunodeficiency virus 1</td>\n",
       "    </tr>\n",
       "    <tr>\n",
       "      <th>181</th>\n",
       "      <td>177.0</td>\n",
       "      <td>37.0</td>\n",
       "      <td>6.0</td>\n",
       "      <td>CCOC(=O)N[C@@H](C(C)C)C(=O)N[C@@H](Cc1ccccc1)[...</td>\n",
       "      <td>PQITLWQRPLVTIKIGGQLKEALLDTGADDTVLEEMNLPGRWKPKM...</td>\n",
       "      <td>Human immunodeficiency virus 1</td>\n",
       "    </tr>\n",
       "    <tr>\n",
       "      <th>183</th>\n",
       "      <td>164.0</td>\n",
       "      <td>37.0</td>\n",
       "      <td>6.0</td>\n",
       "      <td>COCCOC(=O)N[C@@H](C(C)C)C(=O)N[C@@H](Cc1ccccc1...</td>\n",
       "      <td>PQITLWQRPLVTIKIGGQLKEALLDTGADDTVLEEMNLPGRWKPKM...</td>\n",
       "      <td>Human immunodeficiency virus 1</td>\n",
       "    </tr>\n",
       "    <tr>\n",
       "      <th>184</th>\n",
       "      <td>67.0</td>\n",
       "      <td>37.0</td>\n",
       "      <td>6.0</td>\n",
       "      <td>COCCOCCOC(=O)N[C@@H](C(C)C)C(=O)N[C@@H](Cc1ccc...</td>\n",
       "      <td>PQITLWQRPLVTIKIGGQLKEALLDTGADDTVLEEMNLPGRWKPKM...</td>\n",
       "      <td>Human immunodeficiency virus 1</td>\n",
       "    </tr>\n",
       "    <tr>\n",
       "      <th>185</th>\n",
       "      <td>27.0</td>\n",
       "      <td>37.0</td>\n",
       "      <td>6.0</td>\n",
       "      <td>COC(=O)N[C@@H](C(C)C)C(=O)NN(C[C@H](O)[C@H](Cc...</td>\n",
       "      <td>PQITLWQRPLVTIKIGGQLKEALLDTGADDTVLEEMNLPGRWKPKM...</td>\n",
       "      <td>Human immunodeficiency virus 1</td>\n",
       "    </tr>\n",
       "    <tr>\n",
       "      <th>...</th>\n",
       "      <td>...</td>\n",
       "      <td>...</td>\n",
       "      <td>...</td>\n",
       "      <td>...</td>\n",
       "      <td>...</td>\n",
       "      <td>...</td>\n",
       "    </tr>\n",
       "    <tr>\n",
       "      <th>1062791</th>\n",
       "      <td>29.5</td>\n",
       "      <td>22.0</td>\n",
       "      <td>7.5</td>\n",
       "      <td>CN(CCCCCCn1c(O)c2Cc3ccccc3Cn2c1=O)CCc1ccccc1</td>\n",
       "      <td>MQWAVGRRWAWAALLLAVAAVLTQVVWLWLGTQSFVFQREEIAQLA...</td>\n",
       "      <td>Homo sapiens</td>\n",
       "    </tr>\n",
       "    <tr>\n",
       "      <th>1751877</th>\n",
       "      <td>8.9</td>\n",
       "      <td>25.0</td>\n",
       "      <td>2.5</td>\n",
       "      <td>CCC1OC(=O)C(C)C(O[C@H]2C[C@@](C)(OC)[C@@H](O)C...</td>\n",
       "      <td>MGSPWNGSDGPEDAREPPWAALPPCDERRCSPFPLGTLVPVTAVCL...</td>\n",
       "      <td>NaN</td>\n",
       "    </tr>\n",
       "    <tr>\n",
       "      <th>1751879</th>\n",
       "      <td>71.0</td>\n",
       "      <td>25.0</td>\n",
       "      <td>2.5</td>\n",
       "      <td>CCC1OC(=O)C(C)C(O[C@H]2C[C@@](C)(OC)[C@@H](O)C...</td>\n",
       "      <td>MGSPWNGSDGPEDAREPPWAALPPCDERRCSPFPLGTLVPVTAVCL...</td>\n",
       "      <td>NaN</td>\n",
       "    </tr>\n",
       "    <tr>\n",
       "      <th>1751880</th>\n",
       "      <td>224.0</td>\n",
       "      <td>25.0</td>\n",
       "      <td>2.5</td>\n",
       "      <td>CC[C@H]1OC(=O)[C@H](C)[C@@H](O[C@H]2C[C@@](C)(...</td>\n",
       "      <td>MGSPWNGSDGPEDAREPPWAALPPCDERRCSPFPLGTLVPVTAVCL...</td>\n",
       "      <td>NaN</td>\n",
       "    </tr>\n",
       "    <tr>\n",
       "      <th>1751881</th>\n",
       "      <td>7.9</td>\n",
       "      <td>25.0</td>\n",
       "      <td>2.5</td>\n",
       "      <td>CCC1OC(=O)C(C)C(O[C@H]2C[C@@](C)(OC)[C@@H](O)C...</td>\n",
       "      <td>MGSPWNGSDGPEDAREPPWAALPPCDERRCSPFPLGTLVPVTAVCL...</td>\n",
       "      <td>NaN</td>\n",
       "    </tr>\n",
       "  </tbody>\n",
       "</table>\n",
       "<p>93309 rows × 6 columns</p>\n",
       "</div>"
      ],
      "text/plain": [
       "          IC50  Temp   pH                                             SMILES  \\\n",
       "180        8.5  37.0  6.0  CC(C)[C@H](NC(C)=O)C(=O)N[C@@H](Cc1ccccc1)[C@@...   \n",
       "181      177.0  37.0  6.0  CCOC(=O)N[C@@H](C(C)C)C(=O)N[C@@H](Cc1ccccc1)[...   \n",
       "183      164.0  37.0  6.0  COCCOC(=O)N[C@@H](C(C)C)C(=O)N[C@@H](Cc1ccccc1...   \n",
       "184       67.0  37.0  6.0  COCCOCCOC(=O)N[C@@H](C(C)C)C(=O)N[C@@H](Cc1ccc...   \n",
       "185       27.0  37.0  6.0  COC(=O)N[C@@H](C(C)C)C(=O)NN(C[C@H](O)[C@H](Cc...   \n",
       "...        ...   ...  ...                                                ...   \n",
       "1062791   29.5  22.0  7.5       CN(CCCCCCn1c(O)c2Cc3ccccc3Cn2c1=O)CCc1ccccc1   \n",
       "1751877    8.9  25.0  2.5  CCC1OC(=O)C(C)C(O[C@H]2C[C@@](C)(OC)[C@@H](O)C...   \n",
       "1751879   71.0  25.0  2.5  CCC1OC(=O)C(C)C(O[C@H]2C[C@@](C)(OC)[C@@H](O)C...   \n",
       "1751880  224.0  25.0  2.5  CC[C@H]1OC(=O)[C@H](C)[C@@H](O[C@H]2C[C@@](C)(...   \n",
       "1751881    7.9  25.0  2.5  CCC1OC(=O)C(C)C(O[C@H]2C[C@@](C)(OC)[C@@H](O)C...   \n",
       "\n",
       "                                           Target Sequence  \\\n",
       "180      PQITLWQRPLVTIKIGGQLKEALLDTGADDTVLEEMNLPGRWKPKM...   \n",
       "181      PQITLWQRPLVTIKIGGQLKEALLDTGADDTVLEEMNLPGRWKPKM...   \n",
       "183      PQITLWQRPLVTIKIGGQLKEALLDTGADDTVLEEMNLPGRWKPKM...   \n",
       "184      PQITLWQRPLVTIKIGGQLKEALLDTGADDTVLEEMNLPGRWKPKM...   \n",
       "185      PQITLWQRPLVTIKIGGQLKEALLDTGADDTVLEEMNLPGRWKPKM...   \n",
       "...                                                    ...   \n",
       "1062791  MQWAVGRRWAWAALLLAVAAVLTQVVWLWLGTQSFVFQREEIAQLA...   \n",
       "1751877  MGSPWNGSDGPEDAREPPWAALPPCDERRCSPFPLGTLVPVTAVCL...   \n",
       "1751879  MGSPWNGSDGPEDAREPPWAALPPCDERRCSPFPLGTLVPVTAVCL...   \n",
       "1751880  MGSPWNGSDGPEDAREPPWAALPPCDERRCSPFPLGTLVPVTAVCL...   \n",
       "1751881  MGSPWNGSDGPEDAREPPWAALPPCDERRCSPFPLGTLVPVTAVCL...   \n",
       "\n",
       "                               Organism  \n",
       "180      Human immunodeficiency virus 1  \n",
       "181      Human immunodeficiency virus 1  \n",
       "183      Human immunodeficiency virus 1  \n",
       "184      Human immunodeficiency virus 1  \n",
       "185      Human immunodeficiency virus 1  \n",
       "...                                 ...  \n",
       "1062791                    Homo sapiens  \n",
       "1751877                             NaN  \n",
       "1751879                             NaN  \n",
       "1751880                             NaN  \n",
       "1751881                             NaN  \n",
       "\n",
       "[93309 rows x 6 columns]"
      ]
     },
     "execution_count": 3,
     "metadata": {},
     "output_type": "execute_result"
    }
   ],
   "source": [
    "idx_str = ['IC50','Temp']\n",
    "df_want = df\n",
    "\n",
    "# have at least uniprot or pubchem ID\n",
    "df_want = df_want[df_want.PubChem_ID.notnull() | df_want.UniProt_ID.notnull()]\n",
    "df_want = df_want[df_want.InChI.notnull()]\n",
    "df_want = df_want[df_want['Temp'].notnull()]\n",
    "df_want = df_want[df_want['pH'].notnull()]\n",
    "df_want = df_want[df_want['IC50'].notnull()]\n",
    "\n",
    "for label in idx_str:\n",
    "#    print(df_want.size)\n",
    "    df_want[label] = df_want[label].str.replace('>', '')\n",
    "    df_want[label] = df_want[label].str.replace('<', '')\n",
    "    #df_want[label] = df_want[label].astype(float)\n",
    "#    df_want = df_want[df_want[label] <= 10000000.0]\n",
    "\n",
    "y = df_want[idx_str]\n",
    "for label in idx_str:\n",
    "    y[label] = df_want[label].values\n",
    "\n",
    "y['pH'] = df_want['pH']\n",
    "y['pIC50'] = -np.log10(y['IC50'].astype(np.float32)*1e-9 + 1e-10)\n",
    "X_drugs = df_want.SMILES.values\n",
    "X_targets = df_want['Target Sequence'].values\n",
    "X_org = df_want['Organism']\n",
    "y = y.apply(pd.to_numeric, errors='coerce')\n",
    "df_data = y\n",
    "df_data['SMILES'] = X_drugs\n",
    "df_data['Target Sequence'] = X_targets\n",
    "df_data['Organism'] = X_org\n",
    "\n",
    "print('in total: ' + str(len(df_data)) + ' drug-target pairs')\n",
    "df_data"
   ]
  },
  {
   "cell_type": "code",
   "execution_count": 4,
   "metadata": {
    "ExecuteTime": {
     "end_time": "2020-10-10T19:38:05.564222Z",
     "start_time": "2020-10-10T19:34:53.521665Z"
    }
   },
   "outputs": [
    {
     "name": "stdout",
     "output_type": "stream",
     "text": [
      "30.554558992385864\n",
      "rdkit not found this smiles: CSc1ccc(cc1)C1=C(C=C[N]([O-])=C1)[C@@H]1CCC(F)(F)C[C@H]1C(=O)NCC#N convert to all 0 features\n",
      "rdkit not found this smiles: O=C1NC(=O)c2c1c1c3ccccc3n3[Ru](C#[O])[n+]4cccc2c4c13 convert to all 0 features\n",
      "rdkit not found this smiles: CN1C(=O)c2c(C1=O)c1cc(F)c[n+]3[Ru](C#[O])n4c5ccc(O)cc5c2c4c13 convert to all 0 features\n",
      "rdkit not found this smiles: NOOSc1ccc(CC[N]23CC4=CC=CC=[N]4[Re+]2[N]2=C(C3)C=CC=C2)cc1 convert to all 0 features\n",
      "rdkit not found this smiles: NOOSc1ccc(CC[N@@]23CC(=O)O[Re]2[N]2=C(C3)C=CC=C2)cc1 convert to all 0 features\n",
      "rdkit not found this smiles: CN1C=C[N]2=C1C[N]1(CCc3ccc(SOON)cc3)CC3=[N](C=CN3C)[Re+]21 convert to all 0 features\n",
      "rdkit not found this smiles: NOOSc1ccc(NC(=S)NCCCCCCCC[N]23CC4=CC=CC=[N]4[Re+]2[N]2=C(C3)C=CC=C2)cc1 convert to all 0 features\n",
      "rdkit not found this smiles: NOOSc1ccc(NC(=S)NCCOCCOCC[N]23CC4=CC=CC=[N]4[Re+]2[N]2=C(C3)C=CC=C2)cc1 convert to all 0 features\n",
      "rdkit not found this smiles: NOOSc1ccc(NC(=S)NCCCCC[N]23CC4=CC=CC=[N]4[Re+]2[N]2=C(C3)C=CC=C2)cc1 convert to all 0 features\n",
      "rdkit not found this smiles: NOOSc1ccc(NC(=S)NCCCCCCCC[N@@]23CC(=O)O[Re]2[N]2=C(C3)C=CC=C2)cc1 convert to all 0 features\n",
      "rdkit not found this smiles: CN1C=C[N]2=C1C[N]1(CCCCCCCCCCNC(=S)Nc3ccc(SOON)cc3)CC3=[N](C=CN3C)[Re+]21 convert to all 0 features\n",
      "rdkit not found this smiles: Cn1c(Nc2c(Cl)ccc(CNC(=O)C3=CC=CC=[N]3O)c2Cl)nc2cc(C(=O)NCCC(F)(F)F)c(cc12)N1CCC(CC1)C(F)(F)F convert to all 0 features\n",
      "rdkit not found this smiles: CC[N]1(CC)CCN(CCOc2ccc3[nH]c(=O)c4CCCNc4c3c2)CC1 convert to all 0 features\n",
      "rdkit not found this smiles: COc1cc(C[N](C)(C)C2CCCC2)cc2[nH]c(=O)c3CCCNc3c12 convert to all 0 features\n",
      "rdkit not found this smiles: CC1=C2C(N(C(=O)C2=[N](N1)C1CC1)c1cc(C)c(=O)n(C)c1)c1ccc(Cl)cc1 convert to all 0 features\n",
      "rdkit not found this smiles: CC1=N[N](C)=C(C)C1N[S+]([O-])(=O)c1c(Cl)cc(cc1Cl)-c1cccc2CNCCc12 convert to all 0 features\n",
      "rdkit not found this smiles: CNC(=O)C1=CC(CCCN2CCOCC2)[N](=C1C)c1ccccc1 convert to all 0 features\n",
      "rdkit not found this smiles: O=C(N1N=C(CC1c1ccccc1)c1cnc2ccccc12)c1ccccc1 convert to all 0 features\n",
      "rdkit not found this smiles: CCOC(=O)CCc1c(CC(=O)OCC)cnc1\\C=N\\O convert to all 0 features\n",
      "rdkit not found this smiles: CC(C)(O)c1nc(ncc1F)N1C[C@H]2CSC(N)=[N]([C@H]2C1)c1cnccn1 convert to all 0 features\n",
      "rdkit not found this smiles: CC(C)NC(=O)[C@@H]1C[C@H]2C[C@H]2N1C(=O)C[N]1#[N]=C(C(C)=O)c2cc(OCc3ncccn3)ccc12 convert to all 0 features\n",
      "rdkit not found this smiles: CC(C)(c1nc(nc2N3CCOC[C@H]3COc12)[N]1=C(N)Nc2ccccc12)S(C)(=O)=O convert to all 0 features\n",
      "rdkit not found this smiles: CC(C)(c1nc(nc2N3CCOC[C@H]3COc12)[N]1=C(Nc2ccccc12)N1CCOCC1)S(C)(=O)=O convert to all 0 features\n",
      "rdkit not found this smiles: Clc1ccc(CNc2cc(nn2)-c2cccn(Cc3ccccc3Cl)c2=O)s1 convert to all 0 features\n",
      "rdkit not found this smiles: Clc1ccc(CNc2cc(nn2)-c2cccn(Cc3cccc(Cl)c3)c2=O)s1 convert to all 0 features\n",
      "rdkit not found this smiles: Clc1ccc(CNc2cc(nn2)-c2cccn(Cc3ccc(Cl)cc3)c2=O)s1 convert to all 0 features\n",
      "rdkit not found this smiles: Clc1ccc(CNc2cc(nn2)-c2cccn(Cc3ccc(Cl)s3)c2=O)s1 convert to all 0 features\n",
      "rdkit not found this smiles: Clc1ccc(CNc2cc(nn2)-c2cccn(Cc3ccccc3)c2=O)s1 convert to all 0 features\n",
      "rdkit not found this smiles: OC(=O)n1cccc(-c2cc(NCc3ccc(Cl)s3)nn2)c1=O convert to all 0 features\n",
      "rdkit not found this smiles: Clc1ccc(CNc2cc(nn2)-c2cccn(CC#N)c2=O)s1 convert to all 0 features\n",
      "rdkit not found this smiles: Clc1ccc(CNc2cc(nn2)-c2cccn(Cc3nnn[nH]3)c2=O)s1 convert to all 0 features\n",
      "rdkit not found this smiles: COCCn1cccc(-c2cc(NCc3ccc(Cl)s3)nn2)c1=O convert to all 0 features\n",
      "rdkit not found this smiles: Clc1ccc(CNc2cc(nn2)-c2cccn(CCc3ccccc3)c2=O)s1 convert to all 0 features\n",
      "rdkit not found this smiles: Clc1ccc(CNc2cc(nn2)-c2cccn(Cc3ccco3)c2=O)s1 convert to all 0 features\n",
      "rdkit not found this smiles: Clc1ccc(CNc2cc(nn2)-c2cccn(Cc3ccoc3)c2=O)s1 convert to all 0 features\n",
      "rdkit not found this smiles: Clc1ccc(CNc2cc(nn2)-c2cccn(Cc3cccc4ccccc34)c2=O)s1 convert to all 0 features\n",
      "rdkit not found this smiles: Clc1ccc(CNc2cc(nn2)-c2cccn(Cc3ccc4ccccc4c3)c2=O)s1 convert to all 0 features\n",
      "rdkit not found this smiles: Clc1ccc(CNc2cc(nn2)-c2cccn(Cc3cccnn3)c2=O)s1 convert to all 0 features\n",
      "rdkit not found this smiles: Clc1ccc(CNc2cc(nn2)-c2cccn(Cc3ccccn3)c2=O)s1 convert to all 0 features\n",
      "rdkit not found this smiles: Clc1ccc(CNc2cc(nn2)-c2cccn(Cc3cccnc3)c2=O)s1 convert to all 0 features\n",
      "rdkit not found this smiles: Clc1ccc(CNc2cc(nn2)-c2cccn(Cc3ccncc3)c2=O)s1 convert to all 0 features\n",
      "rdkit not found this smiles: Clc1ccc(CNc2cc(nn2)-c2cccn(Cc3ncccn3)c2=O)s1 convert to all 0 features\n",
      "rdkit not found this smiles: Clc1ccc(CNc2cc(nn2)-c2cccn(Cc3cccs3)c2=O)s1 convert to all 0 features\n",
      "rdkit not found this smiles: Clc1ccc(CNc2cc(nn2)-c2cccn(Cc3ccsc3)c2=O)s1 convert to all 0 features\n",
      "rdkit not found this smiles: Clc1ccc(CNc2cc(nn2)-c2cccn(CC(=O)N3CCOCC3)c2=O)s1 convert to all 0 features\n",
      "rdkit not found this smiles: Clc1ccc(CNc2cc(nn2)-c2cccn(CCN3CCOCC3)c2=O)s1 convert to all 0 features\n",
      "rdkit not found this smiles: Clc1ccc(CNc2cc(nn2)-c2cccn(CCc3ccccn3)c2=O)s1 convert to all 0 features\n",
      "rdkit not found this smiles: Cn1cccc(-c2cc(NCc3ccc(Cl)s3)nn2)c1=O convert to all 0 features\n",
      "rdkit not found this smiles: CCOC(=O)Cn1cccc(-c2cc(NCc3ccc(Cl)s3)nn2)c1=O convert to all 0 features\n",
      "rdkit not found this smiles: CC(C)(C)OC(=O)Cn1cccc(-c2cc(NCc3ccc(Cl)s3)nn2)c1=O convert to all 0 features\n",
      "rdkit not found this smiles: Clc1cccc(Cl)c1NC(=O)N1CCN(CC1)c1ccc(cc1)-c1ncnn1 convert to all 0 features\n",
      "rdkit not found this smiles: Cc1ccc(cc1)-c1nc([nH]o1)-c1ccc(cc1)N1CCN(CC1)C(=O)Nc1ccccc1Cl convert to all 0 features\n",
      "rdkit not found this smiles: Cc1cc(nn1)-c1cc(C(=O)Nc2ccc(F)cn2)c2ncnn2c1 convert to all 0 features\n",
      "rdkit not found this smiles: C[N]1=C(OC(=C1)c1cccc(Nc2nccc(n2)-c2cccnc2)c1)N1CCNC(=O)C11CC1 convert to all 0 features\n",
      "rdkit not found this smiles: Cc1ccnc(Nc2cccc(C3=C[N](C)=C(O3)N3CCNC(=O)C33CC3)c2C)n1 convert to all 0 features\n",
      "rdkit not found this smiles: CN1C=[N](C)C=C1c1ccc(C[C@H](NC(=O)[C@H]2N[C@@H]3CC[C@H]2C3)C#N)c(F)c1 convert to all 0 features\n",
      "rdkit not found this smiles: Oc1cnc(Cn2cnc(c(Oc3cc(Cl)cc(c3)C#N)c2=O)C(F)(F)F)c[nH]1 convert to all 0 features\n",
      "192.0225682258606\n"
     ]
    }
   ],
   "source": [
    "import time\n",
    "\n",
    "drug_func_list= [drug2emb_encoder,smiles2daylight]\n",
    "#try including pubchem fings\n",
    "column_name = 'SMILES'\n",
    "start = time.time()\n",
    "\n",
    "for func in drug_func_list:\n",
    "    save_column_name = func.__name__\n",
    "    unique = pd.Series(df_data[column_name].unique()).apply(func)\n",
    "    unique_dict = dict(zip(df_data[column_name].unique(), unique))\n",
    "    df_data[save_column_name] = [unique_dict[i] for i in df_data[column_name]]\n",
    "    end = time.time()\n",
    "    print(end - start)"
   ]
  },
  {
   "cell_type": "code",
   "execution_count": 5,
   "metadata": {
    "ExecuteTime": {
     "end_time": "2020-10-10T19:38:50.066234Z",
     "start_time": "2020-10-10T19:38:21.235234Z"
    }
   },
   "outputs": [
    {
     "name": "stdout",
     "output_type": "stream",
     "text": [
      "21.058010816574097\n",
      "28.821008920669556\n"
     ]
    }
   ],
   "source": [
    "prot_func_list = [CalculateConjointTriad, protein2emb_encoder]\n",
    "#TODO: target2quasi\n",
    "start = time.time()\n",
    "\n",
    "for func in prot_func_list:\n",
    "    save_column_name = func.__name__\n",
    "    AA = pd.Series(df_data[column_name].unique()).apply(func)\n",
    "    AA_dict = dict(zip(df_data[column_name].unique(), AA))\n",
    "    df_data[save_column_name] = [AA_dict[i] for i in df_data[column_name]]\n",
    "    end = time.time()\n",
    "    print(end - start)"
   ]
  },
  {
   "cell_type": "code",
   "execution_count": 6,
   "metadata": {
    "ExecuteTime": {
     "end_time": "2020-10-10T19:41:22.125758Z",
     "start_time": "2020-10-10T19:41:22.023760Z"
    }
   },
   "outputs": [],
   "source": [
    "cat_list = pd.get_dummies(df_data['Organism'], prefix='var')\n",
    "df_data=df_data.join(cat_list)\n",
    "discard=['SMILES','Target Sequence','Organism']\n",
    "df_vars=df_data.columns.values.tolist()\n",
    "to_keep=[i for i in df_vars if i not in discard]\n",
    "df_final=df_data[to_keep]\n",
    "X = df_final.drop([\"IC50\"], axis=1)"
   ]
  },
  {
   "cell_type": "code",
   "execution_count": 7,
   "metadata": {
    "ExecuteTime": {
     "end_time": "2020-10-10T19:41:23.807029Z",
     "start_time": "2020-10-10T19:41:23.798029Z"
    }
   },
   "outputs": [],
   "source": [
    "import collections\n",
    "\n",
    "def flattener(x):\n",
    "    if isinstance(x, collections.Iterable):\n",
    "        return [a for i in x for a in flattener(i)]\n",
    "    else:\n",
    "        return [x]"
   ]
  },
  {
   "cell_type": "code",
   "execution_count": 54,
   "metadata": {
    "ExecuteTime": {
     "end_time": "2020-10-08T18:19:58.055099Z",
     "start_time": "2020-10-08T18:19:58.042091Z"
    }
   },
   "outputs": [
    {
     "ename": "NameError",
     "evalue": "name 'df_data' is not defined",
     "output_type": "error",
     "traceback": [
      "\u001b[1;31m---------------------------------------------------------------------------\u001b[0m",
      "\u001b[1;31mNameError\u001b[0m                                 Traceback (most recent call last)",
      "\u001b[1;32m<ipython-input-54-664fb6625c82>\u001b[0m in \u001b[0;36m<module>\u001b[1;34m\u001b[0m\n\u001b[0;32m      1\u001b[0m \u001b[1;31m#del df\u001b[0m\u001b[1;33m\u001b[0m\u001b[1;33m\u001b[0m\u001b[1;33m\u001b[0m\u001b[0m\n\u001b[1;32m----> 2\u001b[1;33m \u001b[1;32mdel\u001b[0m \u001b[0mdf_data\u001b[0m\u001b[1;33m\u001b[0m\u001b[1;33m\u001b[0m\u001b[0m\n\u001b[0m\u001b[0;32m      3\u001b[0m \u001b[1;31m#del X_test\u001b[0m\u001b[1;33m\u001b[0m\u001b[1;33m\u001b[0m\u001b[1;33m\u001b[0m\u001b[0m\n\u001b[0;32m      4\u001b[0m \u001b[1;31m#del test_scaled\u001b[0m\u001b[1;33m\u001b[0m\u001b[1;33m\u001b[0m\u001b[1;33m\u001b[0m\u001b[0m\n\u001b[0;32m      5\u001b[0m \u001b[1;31m#del X_train\u001b[0m\u001b[1;33m\u001b[0m\u001b[1;33m\u001b[0m\u001b[1;33m\u001b[0m\u001b[0m\n",
      "\u001b[1;31mNameError\u001b[0m: name 'df_data' is not defined"
     ]
    }
   ],
   "source": [
    "#del df\n",
    "del df_data\n",
    "#del X_test\n",
    "#del test_scaled\n",
    "#del X_train\n",
    "#del train_scaled"
   ]
  },
  {
   "cell_type": "code",
   "execution_count": 8,
   "metadata": {
    "ExecuteTime": {
     "end_time": "2020-10-10T19:47:10.560155Z",
     "start_time": "2020-10-10T19:42:02.052784Z"
    }
   },
   "outputs": [
    {
     "name": "stderr",
     "output_type": "stream",
     "text": [
      "C:\\Users\\Julia\\anaconda3\\envs\\multiPurpose\\lib\\site-packages\\ipykernel_launcher.py:4: DeprecationWarning: Using or importing the ABCs from 'collections' instead of from 'collections.abc' is deprecated since Python 3.3,and in 3.9 it will stop working\n",
      "  after removing the cwd from sys.path.\n"
     ]
    }
   ],
   "source": [
    "Z = np.empty(shape=[len(X),len(flattener(X.iloc[0]))])\n",
    "for n in range(len(X)):\n",
    "    Z[n] = flattener(X.iloc[n])"
   ]
  },
  {
   "cell_type": "code",
   "execution_count": 9,
   "metadata": {
    "ExecuteTime": {
     "end_time": "2020-10-10T20:00:52.160861Z",
     "start_time": "2020-10-10T20:00:52.139858Z"
    }
   },
   "outputs": [
    {
     "name": "stdout",
     "output_type": "stream",
     "text": [
      "Temp : <class 'numpy.float64'>\n",
      "pH : <class 'numpy.float64'>\n",
      "drug2emb_encoder : <class 'tuple'>\n",
      "50\n",
      "50\n",
      "smiles2daylight : <class 'numpy.ndarray'>\n",
      "2048\n",
      "CalculateConjointTriad : <class 'numpy.ndarray'>\n",
      "343\n",
      "protein2emb_encoder : <class 'tuple'>\n",
      "545\n",
      "545\n",
      "var_Abelson murine leukemia virus : <class 'numpy.uint8'>\n",
      "var_Agaricus bisporus : <class 'numpy.uint8'>\n",
      "var_Aspergillus fumigatiaffinis : <class 'numpy.uint8'>\n",
      "var_Avian sarcoma virus : <class 'numpy.uint8'>\n",
      "var_Bacillus anthracis : <class 'numpy.uint8'>\n",
      "var_Bacillus cereus (strain ATCC 14579 / DSM 31) : <class 'numpy.uint8'>\n",
      "var_Bombyx mori : <class 'numpy.uint8'>\n",
      "var_Borrelia burgdorferi : <class 'numpy.uint8'>\n",
      "var_Bos taurus : <class 'numpy.uint8'>\n",
      "var_Caenorhabditis elegans : <class 'numpy.uint8'>\n",
      "var_Canavalia ensiformis : <class 'numpy.uint8'>\n",
      "var_Candida albicans : <class 'numpy.uint8'>\n",
      "var_Canis lupus dingo : <class 'numpy.uint8'>\n",
      "var_Clostridium botulinum : <class 'numpy.uint8'>\n",
      "var_Crithidia fasciculata : <class 'numpy.uint8'>\n",
      "var_Cryptosporidium hominis : <class 'numpy.uint8'>\n",
      "var_Cryptosporidium parvum : <class 'numpy.uint8'>\n",
      "var_Drosophila melanogaster : <class 'numpy.uint8'>\n",
      "var_Electrophorus electricus : <class 'numpy.uint8'>\n",
      "var_Enterobacteria phage T4 : <class 'numpy.uint8'>\n",
      "var_Enterococcus faecalis : <class 'numpy.uint8'>\n",
      "var_Escherichia coli : <class 'numpy.uint8'>\n",
      "var_Gallus gallus : <class 'numpy.uint8'>\n",
      "var_Glycine max : <class 'numpy.uint8'>\n",
      "var_Haemophilus influenzae : <class 'numpy.uint8'>\n",
      "var_Helicobacter pylori : <class 'numpy.uint8'>\n",
      "var_Helicobacter pylori (strain G27) : <class 'numpy.uint8'>\n",
      "var_Hepatitis C virus : <class 'numpy.uint8'>\n",
      "var_Hepatitis C virus genotype 1a (isolate H) : <class 'numpy.uint8'>\n",
      "var_Hepatitis C virus genotype 1b (isolate BK) : <class 'numpy.uint8'>\n",
      "var_Hepatitis C virus genotype 1b (isolate Taiwan) : <class 'numpy.uint8'>\n",
      "var_Homo sapiens : <class 'numpy.uint8'>\n",
      "var_Human SARS coronavirus : <class 'numpy.uint8'>\n",
      "var_Human SARS coronavirus (isolate Tor2) : <class 'numpy.uint8'>\n",
      "var_Human herpesvirus 1 : <class 'numpy.uint8'>\n",
      "var_Human herpesvirus 8 : <class 'numpy.uint8'>\n",
      "var_Human immunodeficiency virus : <class 'numpy.uint8'>\n",
      "var_Human immunodeficiency virus 1 : <class 'numpy.uint8'>\n",
      "var_Human immunodeficiency virus 2 : <class 'numpy.uint8'>\n",
      "var_Influenza A virus (A/Puerto Rico/8/34/Mount Sinai/Wi(H1N1)) : <class 'numpy.uint8'>\n",
      "var_Influenza A virus (A/Shangdong/9/1993(H3N2)) : <class 'numpy.uint8'>\n",
      "var_Influenza A virus (A/ruddy turnstone/NJ/60/1985(N9)) : <class 'numpy.uint8'>\n",
      "var_Influenza A virus (strain A/Singapore/1/1957 H2N2) : <class 'numpy.uint8'>\n",
      "var_Influenza B virus : <class 'numpy.uint8'>\n",
      "var_Influenza B virus (B/Victoria/517/2005) : <class 'numpy.uint8'>\n",
      "var_Influenza B virus (strain B/Lee/1940) : <class 'numpy.uint8'>\n",
      "var_Influenza B virus (strain B/Memphis/3/1989) : <class 'numpy.uint8'>\n",
      "var_Lactobacillus casei : <class 'numpy.uint8'>\n",
      "var_Mus musculus : <class 'numpy.uint8'>\n",
      "var_Mycobacterium avium : <class 'numpy.uint8'>\n",
      "var_Mycobacterium tuberculosis : <class 'numpy.uint8'>\n",
      "var_Neosartorya fumigata : <class 'numpy.uint8'>\n",
      "var_Oryctolagus cuniculus : <class 'numpy.uint8'>\n",
      "var_Ovis aries : <class 'numpy.uint8'>\n",
      "var_Plasmodium falciparum : <class 'numpy.uint8'>\n",
      "var_Plasmodium falciparum (isolate 3D7) : <class 'numpy.uint8'>\n",
      "var_Plasmodium falciparum (isolate K1 / Thailand) : <class 'numpy.uint8'>\n",
      "var_Plasmodium vivax : <class 'numpy.uint8'>\n",
      "var_Pneumocystis carinii : <class 'numpy.uint8'>\n",
      "var_Porcellium fiumanum : <class 'numpy.uint8'>\n",
      "var_Pseudomonas aeruginosa : <class 'numpy.uint8'>\n",
      "var_Rattus : <class 'numpy.uint8'>\n",
      "var_Rattus norvegicus : <class 'numpy.uint8'>\n",
      "var_Saccharomyces cerevisiae : <class 'numpy.uint8'>\n",
      "var_Schistosoma mansoni : <class 'numpy.uint8'>\n",
      "var_Staphylococcus aureus : <class 'numpy.uint8'>\n",
      "var_Staphylococcus aureus (strain NCTC 8325) : <class 'numpy.uint8'>\n",
      "var_Streptococcus pneumoniae : <class 'numpy.uint8'>\n",
      "var_Streptococcus pneumoniae (strain ATCC BAA-255 / R6) : <class 'numpy.uint8'>\n",
      "var_Streptococcus pyogenes : <class 'numpy.uint8'>\n",
      "var_Sus scrofa : <class 'numpy.uint8'>\n",
      "var_Torpedo marmorata : <class 'numpy.uint8'>\n",
      "var_Trichomonas vaginalis G3 : <class 'numpy.uint8'>\n",
      "var_Trypanosoma brucei : <class 'numpy.uint8'>\n",
      "var_Trypanosoma brucei brucei : <class 'numpy.uint8'>\n",
      "var_Trypanosoma cruzi : <class 'numpy.uint8'>\n",
      "var_Vibrio proteolyticus : <class 'numpy.uint8'>\n",
      "var_Xenopus laevis : <class 'numpy.uint8'>\n",
      "var_Yersinia pestis : <class 'numpy.uint8'>\n",
      "var_[Bacteroides] pectinophilus ATCC 43243 : <class 'numpy.uint8'>\n"
     ]
    }
   ],
   "source": [
    "typelist = []\n",
    "for i in list(X):\n",
    "    print(i, ':', type(X[i].iloc[0]))#, ':', X[i].iloc[1])\n",
    "    if isinstance(X[i].iloc[0],np.ndarray):\n",
    "        print(len(X[i].iloc[0]))\n",
    "        typelist.extend([i]*len(X[i].iloc[0]))\n",
    "    elif isinstance(X[i].iloc[0],tuple):\n",
    "        for n in X[i].iloc[0]:\n",
    "            if isinstance(n,np.ndarray):\n",
    "                print(len(n))\n",
    "                typelist.extend([i]*len(n))\n",
    "    elif i[:4] == 'var_':\n",
    "        typelist.append('organism')\n",
    "    else:\n",
    "        typelist.append(i)"
   ]
  },
  {
   "cell_type": "code",
   "execution_count": null,
   "metadata": {
    "ExecuteTime": {
     "end_time": "2020-10-08T17:35:56.934213Z",
     "start_time": "2020-10-08T17:29:23.571Z"
    }
   },
   "outputs": [],
   "source": [
    "model = DTI.model_pretrained(path_dir = './model-9-24')"
   ]
  },
  {
   "cell_type": "code",
   "execution_count": 10,
   "metadata": {
    "ExecuteTime": {
     "end_time": "2020-10-10T20:01:04.725988Z",
     "start_time": "2020-10-10T20:01:03.397996Z"
    }
   },
   "outputs": [],
   "source": [
    "test_ypred = np.load(\"y_pred.csv.gz.npy\")\n",
    "idxlist = df_want.index\n",
    "ye = test_ypred[idxlist[idxlist<1100000]]\n",
    "Z_df = pd.DataFrame(data=Z)\n",
    "Z_df.drop(Z_df.tail(4).index,inplace=True)\n",
    "Z_df[len(Z_df.columns)] = ye"
   ]
  },
  {
   "cell_type": "code",
   "execution_count": 30,
   "metadata": {
    "ExecuteTime": {
     "end_time": "2020-10-10T20:12:42.982605Z",
     "start_time": "2020-10-10T20:12:42.975615Z"
    }
   },
   "outputs": [
    {
     "data": {
      "text/plain": [
       "array([5.52256584, 4.84850216, 7.14850712, ..., 5.05835819, 5.13278675,\n",
       "       5.70269632])"
      ]
     },
     "execution_count": 30,
     "metadata": {},
     "output_type": "execute_result"
    }
   ],
   "source": [
    "test_ypred"
   ]
  },
  {
   "cell_type": "code",
   "execution_count": 42,
   "metadata": {
    "ExecuteTime": {
     "end_time": "2020-10-10T20:27:42.249621Z",
     "start_time": "2020-10-10T20:27:42.230612Z"
    }
   },
   "outputs": [
    {
     "data": {
      "text/plain": [
       "93309"
      ]
     },
     "execution_count": 42,
     "metadata": {},
     "output_type": "execute_result"
    }
   ],
   "source": [
    "len(Z)"
   ]
  },
  {
   "cell_type": "code",
   "execution_count": 11,
   "metadata": {
    "ExecuteTime": {
     "end_time": "2020-10-10T20:01:07.558836Z",
     "start_time": "2020-10-10T20:01:07.525836Z"
    }
   },
   "outputs": [],
   "source": [
    "# tag each index with probabilities to True & False\n",
    "tag = np.random.binomial(n=1, p=.8, size=len(Z_df)) == 1\n",
    "\n",
    "# assign True indices to idx1 and False indices to index 2\n",
    "idx = np.array( range( len(Z_df) ) )\n",
    "idx1, idx2 = idx[ tag ], idx[ np.logical_not( tag ) ]\n",
    "\n",
    "# sample from idx1 and idx2\n",
    "i1, i2 = np.random.choice( idx1, size=10000 ), np.random.choice( idx2, size=10000 )"
   ]
  },
  {
   "cell_type": "code",
   "execution_count": 12,
   "metadata": {
    "ExecuteTime": {
     "end_time": "2020-10-10T20:01:11.285665Z",
     "start_time": "2020-10-10T20:01:11.194665Z"
    }
   },
   "outputs": [
    {
     "data": {
      "text/plain": [
       "182"
      ]
     },
     "execution_count": 12,
     "metadata": {},
     "output_type": "execute_result"
    }
   ],
   "source": [
    "import gc\n",
    "gc.collect()"
   ]
  },
  {
   "cell_type": "code",
   "execution_count": 43,
   "metadata": {
    "ExecuteTime": {
     "end_time": "2020-10-10T20:28:41.387594Z",
     "start_time": "2020-10-10T20:27:47.746414Z"
    }
   },
   "outputs": [],
   "source": [
    "X_train = Z_df.iloc[idx1].to_numpy(dtype = object)\n",
    "X_test = Z_df.iloc[idx2].to_numpy(dtype = object)\n",
    "y_train =df_want['IC50'].iloc[idx1].to_numpy(dtype = object)\n",
    "y_test = df_want['IC50'].iloc[idx2].to_numpy(dtype = object)"
   ]
  },
  {
   "cell_type": "code",
   "execution_count": 25,
   "metadata": {
    "ExecuteTime": {
     "end_time": "2020-10-10T20:04:57.037515Z",
     "start_time": "2020-10-10T20:04:29.468994Z"
    }
   },
   "outputs": [],
   "source": [
    "from sklearn.model_selection import train_test_split\n",
    "foo2 = Z_df.to_numpy(dtype = object)\n",
    "y = df_final[\"IC50\"]"
   ]
  },
  {
   "cell_type": "code",
   "execution_count": null,
   "metadata": {
    "ExecuteTime": {
     "start_time": "2020-10-08T18:46:02.710Z"
    }
   },
   "outputs": [],
   "source": [
    "y.drop(y.tail(4).index,inplace=True)\n",
    "X_train2, X_test2, y_train2, y_test2 = train_test_split(foo2, y, test_size=0.2)"
   ]
  },
  {
   "cell_type": "code",
   "execution_count": 44,
   "metadata": {
    "ExecuteTime": {
     "end_time": "2020-10-10T20:31:13.864334Z",
     "start_time": "2020-10-10T20:28:56.954080Z"
    }
   },
   "outputs": [],
   "source": [
    "test_list = pd.isnull(y_train)\n",
    "res = [i for i, val in enumerate(test_list) if val] \n",
    "y_train = np.delete(y_train,res,0)\n",
    "X_train = np.delete(X_train,res,0)\n",
    "\n",
    "test_list = pd.isnull(y_test)\n",
    "res = [i for i, val in enumerate(test_list) if val] \n",
    "y_test = np.delete(y_test,res,0)\n",
    "X_test = np.delete(X_test,res,0)\n",
    "\n",
    "pic50_train = -np.log10(y_train.astype(np.float32)*1e-9 + 1e-10)\n",
    "pic50_test = -np.log10(y_test.astype(np.float32)*1e-9 + 1e-10)"
   ]
  },
  {
   "cell_type": "code",
   "execution_count": null,
   "metadata": {},
   "outputs": [],
   "source": [
    "test_list = pd.isnull(y_train2)\n",
    "res = [i for i, val in enumerate(test_list) if val] \n",
    "y_train2 = np.delete(y_train2,res,0)\n",
    "X_train2 = np.delete(X_train2,res,0)\n",
    "\n",
    "test_list = pd.isnull(y_test2)\n",
    "res = [i for i, val in enumerate(test_list) if val] \n",
    "y_test2 = np.delete(y_test2,res,0)\n",
    "X_test2 = np.delete(X_test2,res,0)\n",
    "\n",
    "pic50_train2 = -np.log10(y_train2.astype(np.float32)*1e-9 + 1e-10)\n",
    "pic50_test2 = -np.log10(y_test2.astype(np.float32)*1e-9 + 1e-10)"
   ]
  },
  {
   "cell_type": "code",
   "execution_count": 45,
   "metadata": {
    "ExecuteTime": {
     "end_time": "2020-10-10T20:33:34.870664Z",
     "start_time": "2020-10-10T20:31:38.473297Z"
    }
   },
   "outputs": [],
   "source": [
    "from sklearn.preprocessing import StandardScaler\n",
    "scaler = StandardScaler()\n",
    "train_scaled = scaler.fit_transform(X_train)\n",
    "test_scaled = scaler.transform(X_test)\n",
    "\n",
    "from sklearn.tree import DecisionTreeRegressor\n",
    "from sklearn.ensemble import RandomForestRegressor\n",
    "tree_model = DecisionTreeRegressor()"
   ]
  },
  {
   "cell_type": "code",
   "execution_count": 46,
   "metadata": {
    "ExecuteTime": {
     "end_time": "2020-10-10T20:34:39.643237Z",
     "start_time": "2020-10-10T20:33:42.777238Z"
    }
   },
   "outputs": [
    {
     "name": "stdout",
     "output_type": "stream",
     "text": [
      "Decision Tree train r =  (0.999716851852413, 0.0)\n",
      "Decision Tree test r =  (0.736691598358595, 0.0)\n"
     ]
    }
   ],
   "source": [
    "tree_model.fit(train_scaled, pic50_train)\n",
    "a = pearsonr(pic50_train.astype(np.float32), tree_model.predict(train_scaled.astype(np.float32)))\n",
    "b = pearsonr(pic50_test.astype(np.float32), tree_model.predict(test_scaled.astype(np.float32)))\n",
    "print(\"Decision Tree train r = \",a)\n",
    "print(\"Decision Tree test r = \",b)"
   ]
  },
  {
   "cell_type": "code",
   "execution_count": 48,
   "metadata": {
    "ExecuteTime": {
     "end_time": "2020-10-10T20:40:50.842244Z",
     "start_time": "2020-10-10T20:40:50.730775Z"
    }
   },
   "outputs": [
    {
     "data": {
      "text/html": [
       "<div>\n",
       "<style scoped>\n",
       "    .dataframe tbody tr th:only-of-type {\n",
       "        vertical-align: middle;\n",
       "    }\n",
       "\n",
       "    .dataframe tbody tr th {\n",
       "        vertical-align: top;\n",
       "    }\n",
       "\n",
       "    .dataframe thead th {\n",
       "        text-align: right;\n",
       "    }\n",
       "</style>\n",
       "<table border=\"1\" class=\"dataframe\">\n",
       "  <thead>\n",
       "    <tr style=\"text-align: right;\">\n",
       "      <th></th>\n",
       "      <th>importance</th>\n",
       "    </tr>\n",
       "    <tr>\n",
       "      <th>Type</th>\n",
       "      <th></th>\n",
       "    </tr>\n",
       "  </thead>\n",
       "  <tbody>\n",
       "    <tr>\n",
       "      <th>smiles2daylight</th>\n",
       "      <td>0.443</td>\n",
       "    </tr>\n",
       "    <tr>\n",
       "      <th>drug2emb_encoder</th>\n",
       "      <td>0.197</td>\n",
       "    </tr>\n",
       "    <tr>\n",
       "      <th>organism</th>\n",
       "      <td>0.068</td>\n",
       "    </tr>\n",
       "    <tr>\n",
       "      <th>pH</th>\n",
       "      <td>0.016</td>\n",
       "    </tr>\n",
       "    <tr>\n",
       "      <th>Temp</th>\n",
       "      <td>0.010</td>\n",
       "    </tr>\n",
       "    <tr>\n",
       "      <th>CalculateConjointTriad</th>\n",
       "      <td>0.009</td>\n",
       "    </tr>\n",
       "    <tr>\n",
       "      <th>protein2emb_encoder</th>\n",
       "      <td>0.000</td>\n",
       "    </tr>\n",
       "  </tbody>\n",
       "</table>\n",
       "</div>"
      ],
      "text/plain": [
       "                        importance\n",
       "Type                              \n",
       "smiles2daylight              0.443\n",
       "drug2emb_encoder             0.197\n",
       "organism                     0.068\n",
       "pH                           0.016\n",
       "Temp                         0.010\n",
       "CalculateConjointTriad       0.009\n",
       "protein2emb_encoder          0.000"
      ]
     },
     "execution_count": 48,
     "metadata": {},
     "output_type": "execute_result"
    }
   ],
   "source": [
    "importances = pd.DataFrame({'importance':np.round(tree_model.feature_importances_,3)})\n",
    "out = importances.sort_values('importance',ascending=False)\n",
    "for i in range(len(importances)-len(typelist)):\n",
    "        typelist.append('organism')\n",
    "\n",
    "importances[\"Type\"] = typelist\n",
    "type_importance = importances.groupby(by=['Type']).sum()\n",
    "type_importance.sort_values('importance',ascending=False)"
   ]
  },
  {
   "cell_type": "code",
   "execution_count": 47,
   "metadata": {
    "ExecuteTime": {
     "end_time": "2020-10-10T20:40:27.075978Z",
     "start_time": "2020-10-10T20:34:51.534980Z"
    }
   },
   "outputs": [
    {
     "data": {
      "text/plain": [
       "RandomForestRegressor(n_estimators=10)"
      ]
     },
     "execution_count": 47,
     "metadata": {},
     "output_type": "execute_result"
    }
   ],
   "source": [
    "rf_model = RandomForestRegressor(n_estimators=10)\n",
    "rf_model.fit(train_scaled, pic50_train)"
   ]
  },
  {
   "cell_type": "code",
   "execution_count": 49,
   "metadata": {
    "ExecuteTime": {
     "end_time": "2020-10-10T20:41:24.833977Z",
     "start_time": "2020-10-10T20:41:23.218975Z"
    }
   },
   "outputs": [
    {
     "name": "stdout",
     "output_type": "stream",
     "text": [
      "Random Forest train r =  (0.972225604806669, 0.0)\n",
      "Random Forest test r =  (0.834242973828851, 0.0)\n"
     ]
    }
   ],
   "source": [
    "a = pearsonr(pic50_train, rf_model.predict(train_scaled))\n",
    "b = pearsonr(pic50_test, rf_model.predict(test_scaled))\n",
    "print(\"Random Forest train r = \",a)\n",
    "print(\"Random Forest test r = \",b)"
   ]
  },
  {
   "cell_type": "code",
   "execution_count": 22,
   "metadata": {
    "ExecuteTime": {
     "end_time": "2020-10-10T20:03:59.452531Z",
     "start_time": "2020-10-10T20:03:57.805539Z"
    }
   },
   "outputs": [
    {
     "name": "stderr",
     "output_type": "stream",
     "text": [
      "C:\\Users\\Julia\\anaconda3\\envs\\multiPurpose\\lib\\site-packages\\pandas\\core\\frame.py:4170: SettingWithCopyWarning: \n",
      "A value is trying to be set on a copy of a slice from a DataFrame\n",
      "\n",
      "See the caveats in the documentation: https://pandas.pydata.org/pandas-docs/stable/user_guide/indexing.html#returning-a-view-versus-a-copy\n",
      "  errors=errors,\n"
     ]
    }
   ],
   "source": [
    "df_final.drop(df_final.tail(4).index,inplace=True)"
   ]
  },
  {
   "cell_type": "code",
   "execution_count": 182,
   "metadata": {
    "ExecuteTime": {
     "end_time": "2020-10-11T03:30:42.259830Z",
     "start_time": "2020-10-11T03:30:42.196834Z"
    }
   },
   "outputs": [],
   "source": [
    "true_pIC50 = -np.log10(df_final['IC50'].values.astype(np.float32)*1e-9 + 1e-10)"
   ]
  },
  {
   "cell_type": "code",
   "execution_count": 59,
   "metadata": {
    "ExecuteTime": {
     "end_time": "2020-10-10T20:55:03.524922Z",
     "start_time": "2020-10-10T20:55:03.503922Z"
    }
   },
   "outputs": [],
   "source": [
    "error1 = abs(true_pIC50 - ye)"
   ]
  },
  {
   "cell_type": "code",
   "execution_count": 50,
   "metadata": {
    "ExecuteTime": {
     "end_time": "2020-10-10T20:42:45.605851Z",
     "start_time": "2020-10-10T20:41:41.783642Z"
    }
   },
   "outputs": [],
   "source": [
    "predict2 = rf_model.predict(foo2)"
   ]
  },
  {
   "cell_type": "code",
   "execution_count": 34,
   "metadata": {
    "ExecuteTime": {
     "end_time": "2020-10-10T20:18:02.861729Z",
     "start_time": "2020-10-10T20:18:02.852730Z"
    }
   },
   "outputs": [
    {
     "data": {
      "text/plain": [
       "array([6.92377357, 6.71820865, 6.75220351, ..., 6.55249681, 6.98661113,\n",
       "       6.67949719])"
      ]
     },
     "execution_count": 34,
     "metadata": {},
     "output_type": "execute_result"
    }
   ],
   "source": [
    "predict2"
   ]
  },
  {
   "cell_type": "code",
   "execution_count": 35,
   "metadata": {
    "ExecuteTime": {
     "end_time": "2020-10-10T20:18:30.494224Z",
     "start_time": "2020-10-10T20:18:30.481224Z"
    }
   },
   "outputs": [
    {
     "data": {
      "text/plain": [
       "array([7.23099852, 7.51918411, 7.87143517, ..., 6.60698128, 6.97881603,\n",
       "       7.66758728])"
      ]
     },
     "execution_count": 35,
     "metadata": {},
     "output_type": "execute_result"
    }
   ],
   "source": [
    "ye"
   ]
  },
  {
   "cell_type": "code",
   "execution_count": 60,
   "metadata": {
    "ExecuteTime": {
     "end_time": "2020-10-10T20:55:10.833034Z",
     "start_time": "2020-10-10T20:55:10.827024Z"
    }
   },
   "outputs": [],
   "source": [
    "error2 = abs(true_pIC50 - predict2)"
   ]
  },
  {
   "cell_type": "code",
   "execution_count": 61,
   "metadata": {
    "ExecuteTime": {
     "end_time": "2020-10-10T20:55:15.667497Z",
     "start_time": "2020-10-10T20:55:15.597486Z"
    }
   },
   "outputs": [
    {
     "name": "stdout",
     "output_type": "stream",
     "text": [
      "0.06813549\n",
      "10.0\n"
     ]
    }
   ],
   "source": [
    "print(min(true_pIC50))\n",
    "print(max(true_pIC50))\n",
    "predict_rand = np.random.uniform(min(true_pIC50), max(true_pIC50), size=len(true_pIC50))\n",
    "error3 = abs(true_pIC50-predict_rand)"
   ]
  },
  {
   "cell_type": "code",
   "execution_count": 172,
   "metadata": {
    "ExecuteTime": {
     "end_time": "2020-10-11T03:22:41.826309Z",
     "start_time": "2020-10-11T03:19:45.815625Z"
    }
   },
   "outputs": [],
   "source": [
    "predict4 = mid_model.predict(foo2)"
   ]
  },
  {
   "cell_type": "code",
   "execution_count": 173,
   "metadata": {
    "ExecuteTime": {
     "end_time": "2020-10-11T03:23:25.738855Z",
     "start_time": "2020-10-11T03:23:25.714856Z"
    }
   },
   "outputs": [],
   "source": [
    "error4 =abs(true_pIC50 - predict4)"
   ]
  },
  {
   "cell_type": "code",
   "execution_count": 175,
   "metadata": {
    "ExecuteTime": {
     "end_time": "2020-10-11T03:24:22.046878Z",
     "start_time": "2020-10-11T03:24:22.013880Z"
    }
   },
   "outputs": [],
   "source": [
    "predict5 = (predict2 + predict4)/2\n",
    "error5 =abs(true_pIC50 - predict5)"
   ]
  },
  {
   "cell_type": "code",
   "execution_count": 176,
   "metadata": {
    "ExecuteTime": {
     "end_time": "2020-10-11T03:24:34.387299Z",
     "start_time": "2020-10-11T03:24:34.365293Z"
    }
   },
   "outputs": [
    {
     "name": "stdout",
     "output_type": "stream",
     "text": [
      "1.4869860068576277\n",
      "1.2039183079652647\n",
      "3.0221232637572695\n",
      "1.0858522119117757\n",
      "1.1055903697055867\n"
     ]
    }
   ],
   "source": [
    "print(np.nanmean(error1))\n",
    "print(np.nanmean(error2))\n",
    "print(np.nanmean(error3))\n",
    "print(np.nanmean(error4))\n",
    "print(np.nanmean(error5))"
   ]
  },
  {
   "cell_type": "code",
   "execution_count": 171,
   "metadata": {
    "ExecuteTime": {
     "end_time": "2020-10-11T03:19:09.262968Z",
     "start_time": "2020-10-11T03:19:09.239968Z"
    }
   },
   "outputs": [
    {
     "data": {
      "text/plain": [
       "0.8717079116104075"
      ]
     },
     "execution_count": 171,
     "metadata": {},
     "output_type": "execute_result"
    }
   ],
   "source": [
    "sum(abs(error4)<2)/len(error4)"
   ]
  },
  {
   "cell_type": "code",
   "execution_count": 170,
   "metadata": {
    "ExecuteTime": {
     "end_time": "2020-10-11T03:19:06.342578Z",
     "start_time": "2020-10-11T03:19:06.060578Z"
    }
   },
   "outputs": [
    {
     "name": "stderr",
     "output_type": "stream",
     "text": [
      "C:\\Users\\Julia\\anaconda3\\envs\\multiPurpose\\lib\\site-packages\\ipykernel_launcher.py:1: RuntimeWarning: invalid value encountered in less\n",
      "  \"\"\"Entry point for launching an IPython kernel.\n"
     ]
    },
    {
     "data": {
      "text/plain": [
       "0.8020041798403087"
      ]
     },
     "execution_count": 170,
     "metadata": {},
     "output_type": "execute_result"
    }
   ],
   "source": [
    "sum(abs(error2)<2)/len(error2)"
   ]
  },
  {
   "cell_type": "code",
   "execution_count": 65,
   "metadata": {
    "ExecuteTime": {
     "end_time": "2020-10-10T20:57:24.351783Z",
     "start_time": "2020-10-10T20:57:24.342781Z"
    }
   },
   "outputs": [
    {
     "data": {
      "text/plain": [
       "93305"
      ]
     },
     "execution_count": 65,
     "metadata": {},
     "output_type": "execute_result"
    }
   ],
   "source": [
    "len(error2)"
   ]
  },
  {
   "cell_type": "code",
   "execution_count": 69,
   "metadata": {
    "ExecuteTime": {
     "end_time": "2020-10-10T21:00:25.921623Z",
     "start_time": "2020-10-10T21:00:25.736623Z"
    }
   },
   "outputs": [
    {
     "data": {
      "text/plain": [
       "(array([3.7835e+04, 2.6170e+04, 1.3478e+04, 7.9990e+03, 5.4620e+03,\n",
       "        1.8400e+03, 3.1800e+02, 9.5000e+01, 7.3000e+01, 2.7000e+01]),\n",
       " array([3.95774841e-05, 7.24979616e-01, 1.44991965e+00, 2.17485969e+00,\n",
       "        2.89979973e+00, 3.62473977e+00, 4.34967981e+00, 5.07461985e+00,\n",
       "        5.79955989e+00, 6.52449992e+00, 7.24943996e+00]),\n",
       " <BarContainer object of 10 artists>)"
      ]
     },
     "execution_count": 69,
     "metadata": {},
     "output_type": "execute_result"
    },
    {
     "data": {
      "image/png": "[encoded data removed]",
      "text/plain": [
       "<Figure size 432x288 with 1 Axes>"
      ]
     },
     "metadata": {
      "needs_background": "light"
     },
     "output_type": "display_data"
    }
   ],
   "source": [
    "bad_indices = np.isnan(error2)\n",
    "good_indices = ~bad_indices\n",
    "good_x = error2[good_indices]\n",
    "plt.hist(good_x)"
   ]
  },
  {
   "cell_type": "code",
   "execution_count": 70,
   "metadata": {
    "ExecuteTime": {
     "end_time": "2020-10-10T21:00:58.290314Z",
     "start_time": "2020-10-10T21:00:58.155311Z"
    }
   },
   "outputs": [
    {
     "data": {
      "text/plain": [
       "(array([3.3145e+04, 2.6357e+04, 1.7093e+04, 1.0150e+04, 4.4310e+03,\n",
       "        1.5710e+03, 3.5800e+02, 1.6500e+02, 2.6000e+01, 1.0000e+00]),\n",
       " array([8.58306885e-06, 8.46661545e-01, 1.69331451e+00, 2.53996747e+00,\n",
       "        3.38662043e+00, 4.23327339e+00, 5.07992635e+00, 5.92657931e+00,\n",
       "        6.77323228e+00, 7.61988524e+00, 8.46653820e+00]),\n",
       " <BarContainer object of 10 artists>)"
      ]
     },
     "execution_count": 70,
     "metadata": {},
     "output_type": "execute_result"
    },
    {
     "data": {
      "image/png": "[encoded data removed]",
      "text/plain": [
       "<Figure size 432x288 with 1 Axes>"
      ]
     },
     "metadata": {
      "needs_background": "light"
     },
     "output_type": "display_data"
    }
   ],
   "source": [
    "bad_indices = np.isnan(error1)\n",
    "good_indices = ~bad_indices\n",
    "good_x = error1[good_indices]\n",
    "plt.hist(good_x)"
   ]
  },
  {
   "cell_type": "code",
   "execution_count": 53,
   "metadata": {
    "ExecuteTime": {
     "end_time": "2020-10-10T20:43:23.997344Z",
     "start_time": "2020-10-10T20:43:23.975715Z"
    }
   },
   "outputs": [
    {
     "name": "stdout",
     "output_type": "stream",
     "text": [
      "-0.2488201590457351\n"
     ]
    }
   ],
   "source": [
    "error_est = (error1+error2)/2\n",
    "print(np.nanmean(error_est))"
   ]
  },
  {
   "cell_type": "code",
   "execution_count": 54,
   "metadata": {
    "ExecuteTime": {
     "end_time": "2020-10-10T20:45:29.720153Z",
     "start_time": "2020-10-10T20:45:29.465140Z"
    }
   },
   "outputs": [],
   "source": [
    "filename = 'best_rf_model.sav'\n",
    "pickle.dump(rf_model, open(filename, 'wb'))"
   ]
  },
  {
   "cell_type": "code",
   "execution_count": 55,
   "metadata": {
    "ExecuteTime": {
     "end_time": "2020-10-10T20:46:47.389966Z",
     "start_time": "2020-10-10T20:46:46.732762Z"
    }
   },
   "outputs": [
    {
     "data": {
      "image/png": "[encoded data removed]",
      "text/plain": [
       "<Figure size 432x288 with 1 Axes>"
      ]
     },
     "metadata": {
      "needs_background": "light"
     },
     "output_type": "display_data"
    }
   ],
   "source": [
    "from matplotlib import pyplot as plt\n",
    "\n",
    "plt.scatter(true_pIC50, ye)\n",
    "#plt.plot([5, 45], [5, 45], 'k--')\n",
    "plt.xlabel('Reported MPG')\n",
    "plt.ylabel('Predicted MPG')\n",
    "plt.show()"
   ]
  },
  {
   "cell_type": "code",
   "execution_count": 120,
   "metadata": {
    "ExecuteTime": {
     "end_time": "2020-10-10T22:06:36.621567Z",
     "start_time": "2020-10-10T22:05:03.235558Z"
    }
   },
   "outputs": [],
   "source": [
    "import forestci as fci\n",
    "\n",
    "fci.calc_inbag(len(X_train), rf_model)\n",
    "mpg_V_IJ_unbiased = fci.random_forest_error(rf_model, X_train,\n",
    "                                            X_test, memory_constrained = True,\n",
    "                                           memory_limit = 100)"
   ]
  },
  {
   "cell_type": "code",
   "execution_count": 121,
   "metadata": {
    "ExecuteTime": {
     "end_time": "2020-10-10T22:08:58.548194Z",
     "start_time": "2020-10-10T22:08:54.664351Z"
    }
   },
   "outputs": [],
   "source": [
    "x_plot = rf_model.predict(X_test)\n",
    "yerr=np.sqrt(mpg_V_IJ_unbiased)"
   ]
  },
  {
   "cell_type": "code",
   "execution_count": 81,
   "metadata": {
    "ExecuteTime": {
     "end_time": "2020-10-10T21:20:15.577403Z",
     "start_time": "2020-10-10T21:20:15.562405Z"
    }
   },
   "outputs": [
    {
     "name": "stdout",
     "output_type": "stream",
     "text": [
      "<class 'numpy.ndarray'>\n",
      "<class 'numpy.ndarray'>\n",
      "<class 'numpy.ndarray'>\n"
     ]
    }
   ],
   "source": [
    "print(type(x_plot))\n",
    "print(type(y_test))\n",
    "print(type(yerr))"
   ]
  },
  {
   "cell_type": "code",
   "execution_count": 123,
   "metadata": {
    "ExecuteTime": {
     "end_time": "2020-10-10T22:09:50.950405Z",
     "start_time": "2020-10-10T22:09:50.934265Z"
    }
   },
   "outputs": [
    {
     "data": {
      "text/plain": [
       "array([17.17566004, 17.17354823, 17.17026987, ..., 17.17093174,\n",
       "       17.18098396, 17.16387713])"
      ]
     },
     "execution_count": 123,
     "metadata": {},
     "output_type": "execute_result"
    }
   ],
   "source": [
    "yerr"
   ]
  },
  {
   "cell_type": "code",
   "execution_count": 122,
   "metadata": {
    "ExecuteTime": {
     "end_time": "2020-10-10T22:09:35.811775Z",
     "start_time": "2020-10-10T22:09:34.744782Z"
    }
   },
   "outputs": [
    {
     "data": {
      "image/png": "[encoded data removed]",
      "text/plain": [
       "<Figure size 432x288 with 1 Axes>"
      ]
     },
     "metadata": {
      "needs_background": "light"
     },
     "output_type": "display_data"
    }
   ],
   "source": [
    "# Plot error bars for predicted MPG using unbiased variance\n",
    "plt.errorbar(x_plot.astype(np.float), pic50_test.astype(np.float), yerr) #yerr=[err_up, err_down]\n",
    "#plt.plot([5, 45], [5, 45], 'k--')\n",
    "plt.xlabel('Reported MPG')\n",
    "plt.ylabel('Predicted MPG')\n",
    "plt.show()"
   ]
  },
  {
   "cell_type": "code",
   "execution_count": null,
   "metadata": {},
   "outputs": [],
   "source": [
    "# Plot error bars for predicted MPG using unbiased variance\n",
    "plt.errorbar(x_plot.astype(np.float), pic50_test.astype(np.float), yerr) #yerr=[err_up, err_down]\n",
    "#plt.plot([5, 45], [5, 45], 'k--')\n",
    "plt.xlabel('Reported MPG')\n",
    "plt.ylabel('Predicted MPG')\n",
    "plt.show()"
   ]
  },
  {
   "cell_type": "code",
   "execution_count": 92,
   "metadata": {
    "ExecuteTime": {
     "end_time": "2020-10-10T21:31:31.171458Z",
     "start_time": "2020-10-10T21:31:31.165472Z"
    }
   },
   "outputs": [],
   "source": [
    "def pred_ints(model, X, percentile=95):\n",
    "    err_down = []\n",
    "    err_up = []\n",
    "    for x in range(len(X)):\n",
    "        preds = []\n",
    "        for pred in model.estimators_:\n",
    "            preds.append(pred.predict(X[x].reshape(1, -1))[0])\n",
    "        err_down.append(np.percentile(preds, (100 - percentile) / 2. ))\n",
    "        err_up.append(np.percentile(preds, 100 - (100 - percentile) / 2.))\n",
    "    return err_down, err_up"
   ]
  },
  {
   "cell_type": "code",
   "execution_count": 112,
   "metadata": {
    "ExecuteTime": {
     "end_time": "2020-10-10T21:57:12.920858Z",
     "start_time": "2020-10-10T21:56:30.351623Z"
    }
   },
   "outputs": [],
   "source": [
    "err_down, err_up = pred_ints(rf_model, X_test, percentile=95)"
   ]
  },
  {
   "cell_type": "code",
   "execution_count": 164,
   "metadata": {
    "ExecuteTime": {
     "end_time": "2020-10-11T03:11:13.804045Z",
     "start_time": "2020-10-11T03:11:13.393056Z"
    }
   },
   "outputs": [
    {
     "name": "stdout",
     "output_type": "stream",
     "text": [
      "0.8019712786815749\n"
     ]
    }
   ],
   "source": [
    "correct = 0.\n",
    "for i in predictions[\"actual\"].index:\n",
    "    if predictions[\"lower\"][i] <= predictions[\"actual\"][i] <= predictions[\"upper\"][i]:\n",
    "        correct += 1\n",
    "print(correct/len(truth))"
   ]
  },
  {
   "cell_type": "code",
   "execution_count": 131,
   "metadata": {
    "ExecuteTime": {
     "end_time": "2020-10-11T00:01:49.698418Z",
     "start_time": "2020-10-11T00:01:49.642422Z"
    }
   },
   "outputs": [],
   "source": [
    "from sklearn.ensemble import GradientBoostingRegressor\n",
    "# Set lower and upper quantile\n",
    "LOWER_ALPHA = 0.1\n",
    "UPPER_ALPHA = 0.9\n",
    "# Each model has to be separate\n",
    "lower_model = GradientBoostingRegressor(loss=\"quantile\",                   \n",
    "                                        alpha=LOWER_ALPHA, n_estimators = 10)\n",
    "# The mid model will use the default loss\n",
    "mid_model = GradientBoostingRegressor(loss=\"ls\", n_estimators = 10)\n",
    "upper_model = GradientBoostingRegressor(loss=\"quantile\",\n",
    "                                        alpha=UPPER_ALPHA, n_estimators = 10)"
   ]
  },
  {
   "cell_type": "code",
   "execution_count": 139,
   "metadata": {
    "ExecuteTime": {
     "end_time": "2020-10-11T02:16:13.286102Z",
     "start_time": "2020-10-11T02:11:45.049861Z"
    }
   },
   "outputs": [
    {
     "data": {
      "text/plain": [
       "GradientBoostingRegressor(alpha=0.1, loss='quantile', n_estimators=10)"
      ]
     },
     "execution_count": 139,
     "metadata": {},
     "output_type": "execute_result"
    }
   ],
   "source": [
    "# Fit models\n",
    "lower_model.fit(X_train, pic50_train)"
   ]
  },
  {
   "cell_type": "code",
   "execution_count": 140,
   "metadata": {
    "ExecuteTime": {
     "end_time": "2020-10-11T02:24:39.985370Z",
     "start_time": "2020-10-11T02:21:05.227460Z"
    }
   },
   "outputs": [
    {
     "data": {
      "text/plain": [
       "GradientBoostingRegressor(n_estimators=10)"
      ]
     },
     "execution_count": 140,
     "metadata": {},
     "output_type": "execute_result"
    }
   ],
   "source": [
    "mid_model.fit(X_train, pic50_train)"
   ]
  },
  {
   "cell_type": "code",
   "execution_count": 142,
   "metadata": {
    "ExecuteTime": {
     "end_time": "2020-10-11T02:36:05.839621Z",
     "start_time": "2020-10-11T02:32:24.089067Z"
    }
   },
   "outputs": [
    {
     "data": {
      "text/plain": [
       "GradientBoostingRegressor(loss='quantile', n_estimators=10)"
      ]
     },
     "execution_count": 142,
     "metadata": {},
     "output_type": "execute_result"
    }
   ],
   "source": [
    "upper_model.fit(X_train, pic50_train)"
   ]
  },
  {
   "cell_type": "code",
   "execution_count": 143,
   "metadata": {
    "ExecuteTime": {
     "end_time": "2020-10-11T02:45:56.541982Z",
     "start_time": "2020-10-11T02:45:56.534981Z"
    }
   },
   "outputs": [],
   "source": [
    "# Record actual values on test set\n",
    "predictions = pd.DataFrame(pic50_test)\n",
    "# Predict"
   ]
  },
  {
   "cell_type": "code",
   "execution_count": 144,
   "metadata": {
    "ExecuteTime": {
     "end_time": "2020-10-11T02:50:59.131621Z",
     "start_time": "2020-10-11T02:50:42.331478Z"
    }
   },
   "outputs": [],
   "source": [
    "predictions['lower'] = lower_model.predict(X_test)\n",
    "predictions['mid'] = mid_model.predict(X_test)\n",
    "predictions['upper'] = upper_model.predict(X_test)"
   ]
  },
  {
   "cell_type": "code",
   "execution_count": 152,
   "metadata": {
    "ExecuteTime": {
     "end_time": "2020-10-11T02:56:38.423843Z",
     "start_time": "2020-10-11T02:56:38.404833Z"
    }
   },
   "outputs": [
    {
     "data": {
      "text/html": [
       "<div>\n",
       "<style scoped>\n",
       "    .dataframe tbody tr th:only-of-type {\n",
       "        vertical-align: middle;\n",
       "    }\n",
       "\n",
       "    .dataframe tbody tr th {\n",
       "        vertical-align: top;\n",
       "    }\n",
       "\n",
       "    .dataframe thead th {\n",
       "        text-align: right;\n",
       "    }\n",
       "</style>\n",
       "<table border=\"1\" class=\"dataframe\">\n",
       "  <thead>\n",
       "    <tr style=\"text-align: right;\">\n",
       "      <th></th>\n",
       "      <th>actual</th>\n",
       "      <th>lower</th>\n",
       "      <th>mid</th>\n",
       "      <th>upper</th>\n",
       "    </tr>\n",
       "  </thead>\n",
       "  <tbody>\n",
       "    <tr>\n",
       "      <th>0</th>\n",
       "      <td>7.567031</td>\n",
       "      <td>5.028039</td>\n",
       "      <td>6.979146</td>\n",
       "      <td>8.660341</td>\n",
       "    </tr>\n",
       "    <tr>\n",
       "      <th>1</th>\n",
       "      <td>7.251037</td>\n",
       "      <td>4.428586</td>\n",
       "      <td>6.734513</td>\n",
       "      <td>8.471084</td>\n",
       "    </tr>\n",
       "    <tr>\n",
       "      <th>2</th>\n",
       "      <td>7.759451</td>\n",
       "      <td>4.905871</td>\n",
       "      <td>6.911438</td>\n",
       "      <td>8.465665</td>\n",
       "    </tr>\n",
       "    <tr>\n",
       "      <th>3</th>\n",
       "      <td>8.309804</td>\n",
       "      <td>4.905871</td>\n",
       "      <td>6.911438</td>\n",
       "      <td>8.465665</td>\n",
       "    </tr>\n",
       "    <tr>\n",
       "      <th>4</th>\n",
       "      <td>6.623240</td>\n",
       "      <td>4.905871</td>\n",
       "      <td>6.904193</td>\n",
       "      <td>8.465665</td>\n",
       "    </tr>\n",
       "    <tr>\n",
       "      <th>...</th>\n",
       "      <td>...</td>\n",
       "      <td>...</td>\n",
       "      <td>...</td>\n",
       "      <td>...</td>\n",
       "    </tr>\n",
       "    <tr>\n",
       "      <th>18866</th>\n",
       "      <td>7.454693</td>\n",
       "      <td>5.158600</td>\n",
       "      <td>7.000660</td>\n",
       "      <td>8.441400</td>\n",
       "    </tr>\n",
       "    <tr>\n",
       "      <th>18867</th>\n",
       "      <td>6.892451</td>\n",
       "      <td>5.158600</td>\n",
       "      <td>6.915130</td>\n",
       "      <td>8.260393</td>\n",
       "    </tr>\n",
       "    <tr>\n",
       "      <th>18868</th>\n",
       "      <td>7.696804</td>\n",
       "      <td>5.158600</td>\n",
       "      <td>6.970782</td>\n",
       "      <td>8.471271</td>\n",
       "    </tr>\n",
       "    <tr>\n",
       "      <th>18869</th>\n",
       "      <td>8.602060</td>\n",
       "      <td>5.153856</td>\n",
       "      <td>6.943945</td>\n",
       "      <td>8.611005</td>\n",
       "    </tr>\n",
       "    <tr>\n",
       "      <th>18870</th>\n",
       "      <td>7.528708</td>\n",
       "      <td>4.890816</td>\n",
       "      <td>6.748793</td>\n",
       "      <td>8.611005</td>\n",
       "    </tr>\n",
       "  </tbody>\n",
       "</table>\n",
       "<p>18871 rows × 4 columns</p>\n",
       "</div>"
      ],
      "text/plain": [
       "         actual     lower       mid     upper\n",
       "0      7.567031  5.028039  6.979146  8.660341\n",
       "1      7.251037  4.428586  6.734513  8.471084\n",
       "2      7.759451  4.905871  6.911438  8.465665\n",
       "3      8.309804  4.905871  6.911438  8.465665\n",
       "4      6.623240  4.905871  6.904193  8.465665\n",
       "...         ...       ...       ...       ...\n",
       "18866  7.454693  5.158600  7.000660  8.441400\n",
       "18867  6.892451  5.158600  6.915130  8.260393\n",
       "18868  7.696804  5.158600  6.970782  8.471271\n",
       "18869  8.602060  5.153856  6.943945  8.611005\n",
       "18870  7.528708  4.890816  6.748793  8.611005\n",
       "\n",
       "[18871 rows x 4 columns]"
      ]
     },
     "execution_count": 152,
     "metadata": {},
     "output_type": "execute_result"
    }
   ],
   "source": [
    "predictions.columns = ['actual','lower','mid','upper']\n",
    "predictions"
   ]
  },
  {
   "cell_type": "code",
   "execution_count": 147,
   "metadata": {
    "ExecuteTime": {
     "end_time": "2020-10-11T02:53:38.679705Z",
     "start_time": "2020-10-11T02:53:38.656707Z"
    }
   },
   "outputs": [],
   "source": [
    "def calculate_error(predictions):\n",
    "    \"\"\"\n",
    "    Calculate the absolute error associated with prediction intervals\n",
    "    \n",
    "    :param predictions: dataframe of predictions\n",
    "    :return: None, modifies the prediction dataframe\n",
    "    \n",
    "    \"\"\"\n",
    "    predictions['absolute_error_lower'] = (predictions['lower'] - predictions[\"actual\"]).abs()\n",
    "    predictions['absolute_error_upper'] = (predictions['upper'] - predictions[\"actual\"]).abs()\n",
    "    \n",
    "    predictions['absolute_error_interval'] = (predictions['absolute_error_lower'] + predictions['absolute_error_upper']) / 2\n",
    "    predictions['absolute_error_mid'] = (predictions['mid'] - predictions[\"actual\"]).abs()\n",
    "    \n",
    "    predictions['in_bounds'] = predictions[\"actual\"].between(left=predictions['lower'], right=predictions['upper'])"
   ]
  },
  {
   "cell_type": "code",
   "execution_count": 153,
   "metadata": {
    "ExecuteTime": {
     "end_time": "2020-10-11T02:56:42.574203Z",
     "start_time": "2020-10-11T02:56:42.433215Z"
    }
   },
   "outputs": [
    {
     "data": {
      "text/html": [
       "<div>\n",
       "<style scoped>\n",
       "    .dataframe tbody tr th:only-of-type {\n",
       "        vertical-align: middle;\n",
       "    }\n",
       "\n",
       "    .dataframe tbody tr th {\n",
       "        vertical-align: top;\n",
       "    }\n",
       "\n",
       "    .dataframe thead th {\n",
       "        text-align: right;\n",
       "    }\n",
       "</style>\n",
       "<table border=\"1\" class=\"dataframe\">\n",
       "  <thead>\n",
       "    <tr style=\"text-align: right;\">\n",
       "      <th></th>\n",
       "      <th>absolute_error_lower</th>\n",
       "      <th>absolute_error_upper</th>\n",
       "      <th>absolute_error_interval</th>\n",
       "      <th>absolute_error_mid</th>\n",
       "    </tr>\n",
       "  </thead>\n",
       "  <tbody>\n",
       "    <tr>\n",
       "      <th>count</th>\n",
       "      <td>18871.000000</td>\n",
       "      <td>1.887100e+04</td>\n",
       "      <td>18871.000000</td>\n",
       "      <td>18871.000000</td>\n",
       "    </tr>\n",
       "    <tr>\n",
       "      <th>mean</th>\n",
       "      <td>2.056358</td>\n",
       "      <td>1.779561e+00</td>\n",
       "      <td>1.917959</td>\n",
       "      <td>1.081270</td>\n",
       "    </tr>\n",
       "    <tr>\n",
       "      <th>std</th>\n",
       "      <td>1.220995</td>\n",
       "      <td>1.314551e+00</td>\n",
       "      <td>0.312736</td>\n",
       "      <td>0.763057</td>\n",
       "    </tr>\n",
       "    <tr>\n",
       "      <th>min</th>\n",
       "      <td>0.000008</td>\n",
       "      <td>2.208324e-07</td>\n",
       "      <td>1.451865</td>\n",
       "      <td>0.000044</td>\n",
       "    </tr>\n",
       "    <tr>\n",
       "      <th>25%</th>\n",
       "      <td>1.032209</td>\n",
       "      <td>6.666804e-01</td>\n",
       "      <td>1.734638</td>\n",
       "      <td>0.457411</td>\n",
       "    </tr>\n",
       "    <tr>\n",
       "      <th>50%</th>\n",
       "      <td>2.067821</td>\n",
       "      <td>1.517488e+00</td>\n",
       "      <td>1.843775</td>\n",
       "      <td>0.965185</td>\n",
       "    </tr>\n",
       "    <tr>\n",
       "      <th>75%</th>\n",
       "      <td>3.002779</td>\n",
       "      <td>2.633394e+00</td>\n",
       "      <td>2.000082</td>\n",
       "      <td>1.587836</td>\n",
       "    </tr>\n",
       "    <tr>\n",
       "      <th>max</th>\n",
       "      <td>5.694345</td>\n",
       "      <td>7.718717e+00</td>\n",
       "      <td>5.903441</td>\n",
       "      <td>6.074375</td>\n",
       "    </tr>\n",
       "  </tbody>\n",
       "</table>\n",
       "</div>"
      ],
      "text/plain": [
       "       absolute_error_lower  absolute_error_upper  absolute_error_interval  \\\n",
       "count          18871.000000          1.887100e+04             18871.000000   \n",
       "mean               2.056358          1.779561e+00                 1.917959   \n",
       "std                1.220995          1.314551e+00                 0.312736   \n",
       "min                0.000008          2.208324e-07                 1.451865   \n",
       "25%                1.032209          6.666804e-01                 1.734638   \n",
       "50%                2.067821          1.517488e+00                 1.843775   \n",
       "75%                3.002779          2.633394e+00                 2.000082   \n",
       "max                5.694345          7.718717e+00                 5.903441   \n",
       "\n",
       "       absolute_error_mid  \n",
       "count        18871.000000  \n",
       "mean             1.081270  \n",
       "std              0.763057  \n",
       "min              0.000044  \n",
       "25%              0.457411  \n",
       "50%              0.965185  \n",
       "75%              1.587836  \n",
       "max              6.074375  "
      ]
     },
     "execution_count": 153,
     "metadata": {},
     "output_type": "execute_result"
    }
   ],
   "source": [
    "calculate_error(predictions)\n",
    "metrics = predictions[['absolute_error_lower', 'absolute_error_upper', 'absolute_error_interval', 'absolute_error_mid', 'in_bounds']].copy()\n",
    "metrics.describe()"
   ]
  },
  {
   "cell_type": "code",
   "execution_count": 183,
   "metadata": {
    "ExecuteTime": {
     "end_time": "2020-10-11T03:30:52.084612Z",
     "start_time": "2020-10-11T03:30:52.070624Z"
    }
   },
   "outputs": [
    {
     "name": "stdout",
     "output_type": "stream",
     "text": [
      "Random Forest train r =  (0.2621982783397316, 0.0)\n"
     ]
    }
   ],
   "source": [
    "#a = pearsonr(pic50_train, mid_model.predict(X_train))\n",
    "#b = pearsonr(predictions[\"actual\"], predictions[\"mid\"])\n",
    "test_list = pd.isnull(true_pIC50)\n",
    "res = [i for i, val in enumerate(test_list) if val] \n",
    "true_pIC50 = np.delete(true_pIC50,res,0)\n",
    "predict2 = np.delete(predict2,res,0)\n",
    "\n",
    "a = pearsonr(true_pIC50,predict2)\n",
    "print(\"Random Forest train r = \",a)\n",
    "#print(\"Random Forest test r = \",b)"
   ]
  },
  {
   "cell_type": "code",
   "execution_count": 184,
   "metadata": {
    "ExecuteTime": {
     "end_time": "2020-10-11T03:31:31.172767Z",
     "start_time": "2020-10-11T03:31:31.152775Z"
    }
   },
   "outputs": [
    {
     "data": {
      "text/plain": [
       "array([7.80670171, 7.76558509, 7.41173172, ..., 6.44735746, 6.55673323,\n",
       "       6.69063387])"
      ]
     },
     "execution_count": 184,
     "metadata": {},
     "output_type": "execute_result"
    }
   ],
   "source": [
    "predict2"
   ]
  },
  {
   "cell_type": "code",
   "execution_count": 160,
   "metadata": {
    "ExecuteTime": {
     "end_time": "2020-10-11T03:03:24.106667Z",
     "start_time": "2020-10-11T03:03:23.913655Z"
    }
   },
   "outputs": [
    {
     "data": {
      "image/png": "[encoded data removed]",
      "text/plain": [
       "<Figure size 432x288 with 1 Axes>"
      ]
     },
     "metadata": {
      "needs_background": "light"
     },
     "output_type": "display_data"
    }
   ],
   "source": [
    "# Plot error bars for predicted MPG using unbiased variance\n",
    "plt.scatter(predictions[\"actual\"].astype(np.float), predictions[\"mid\"].astype(np.float))#, yerr=[(predictions[\"upper\"]-predictions[\"mid\"]), (predictions[\"mid\"]-predictions[\"lower\"])])\n",
    "#plt.plot([5, 45], [5, 45], 'k--')\n",
    "plt.xlabel('Reported MPG')\n",
    "plt.ylabel('Predicted MPG')\n",
    "plt.show()"
   ]
  },
  {
   "cell_type": "code",
   "execution_count": 185,
   "metadata": {
    "ExecuteTime": {
     "end_time": "2020-10-11T03:33:46.248865Z",
     "start_time": "2020-10-11T03:33:46.209877Z"
    }
   },
   "outputs": [
    {
     "ename": "TypeError",
     "evalue": "write() argument must be str, not bytes",
     "output_type": "error",
     "traceback": [
      "\u001b[1;31m---------------------------------------------------------------------------\u001b[0m",
      "\u001b[1;31mTypeError\u001b[0m                                 Traceback (most recent call last)",
      "\u001b[1;32m<ipython-input-185-44e9f42df1f7>\u001b[0m in \u001b[0;36m<module>\u001b[1;34m\u001b[0m\n\u001b[0;32m      1\u001b[0m \u001b[1;32mwith\u001b[0m \u001b[0mopen\u001b[0m\u001b[1;33m(\u001b[0m\u001b[1;34m'quantiles.pkl'\u001b[0m\u001b[1;33m,\u001b[0m \u001b[1;34m'w'\u001b[0m\u001b[1;33m)\u001b[0m \u001b[1;32mas\u001b[0m \u001b[0mf\u001b[0m\u001b[1;33m:\u001b[0m  \u001b[1;31m# Python 3: open(..., 'wb')\u001b[0m\u001b[1;33m\u001b[0m\u001b[1;33m\u001b[0m\u001b[0m\n\u001b[1;32m----> 2\u001b[1;33m     \u001b[0mpickle\u001b[0m\u001b[1;33m.\u001b[0m\u001b[0mdump\u001b[0m\u001b[1;33m(\u001b[0m\u001b[1;33m[\u001b[0m\u001b[0mupper_model\u001b[0m\u001b[1;33m,\u001b[0m \u001b[0mmid_model\u001b[0m\u001b[1;33m,\u001b[0m \u001b[0mlower_model\u001b[0m\u001b[1;33m]\u001b[0m\u001b[1;33m,\u001b[0m \u001b[0mf\u001b[0m\u001b[1;33m)\u001b[0m\u001b[1;33m\u001b[0m\u001b[1;33m\u001b[0m\u001b[0m\n\u001b[0m",
      "\u001b[1;31mTypeError\u001b[0m: write() argument must be str, not bytes"
     ]
    }
   ],
   "source": [
    "with open('quantiles.pkl', 'w') as f:  # Python 3: open(..., 'wb')\n",
    "    pickle.dump([upper_model, mid_model, lower_model], f)"
   ]
  },
  {
   "cell_type": "code",
   "execution_count": 128,
   "metadata": {
    "ExecuteTime": {
     "end_time": "2020-10-10T23:48:04.163460Z",
     "start_time": "2020-10-10T23:48:03.919461Z"
    }
   },
   "outputs": [],
   "source": [
    "import matplotlib.pyplot as plt\n",
    "import numpy as np\n",
    "from sklearn.datasets import load_boston\n",
    "from sklearn.model_selection import train_test_split\n",
    "from sklearn.model_selection import KFold\n",
    "from skgarden import RandomForestQuantileRegressor\n",
    "\n",
    "rfqr = RandomForestQuantileRegressor(n_estimators=10)"
   ]
  },
  {
   "cell_type": "code",
   "execution_count": 129,
   "metadata": {
    "ExecuteTime": {
     "end_time": "2020-10-10T23:53:35.524219Z",
     "start_time": "2020-10-10T23:48:09.077107Z"
    }
   },
   "outputs": [
    {
     "name": "stderr",
     "output_type": "stream",
     "text": [
      "C:\\Users\\Julia\\anaconda3\\envs\\multiPurpose\\lib\\site-packages\\sklearn\\tree\\_classes.py:327: FutureWarning: The parameter 'presort' is deprecated and has no effect. It will be removed in v0.24. You can suppress this warning by not passing any value to the 'presort' parameter.\n",
      "  FutureWarning)\n",
      "C:\\Users\\Julia\\anaconda3\\envs\\multiPurpose\\lib\\site-packages\\sklearn\\tree\\_classes.py:327: FutureWarning: The parameter 'presort' is deprecated and has no effect. It will be removed in v0.24. You can suppress this warning by not passing any value to the 'presort' parameter.\n",
      "  FutureWarning)\n",
      "C:\\Users\\Julia\\anaconda3\\envs\\multiPurpose\\lib\\site-packages\\sklearn\\tree\\_classes.py:327: FutureWarning: The parameter 'presort' is deprecated and has no effect. It will be removed in v0.24. You can suppress this warning by not passing any value to the 'presort' parameter.\n",
      "  FutureWarning)\n",
      "C:\\Users\\Julia\\anaconda3\\envs\\multiPurpose\\lib\\site-packages\\sklearn\\tree\\_classes.py:327: FutureWarning: The parameter 'presort' is deprecated and has no effect. It will be removed in v0.24. You can suppress this warning by not passing any value to the 'presort' parameter.\n",
      "  FutureWarning)\n",
      "C:\\Users\\Julia\\anaconda3\\envs\\multiPurpose\\lib\\site-packages\\sklearn\\tree\\_classes.py:327: FutureWarning: The parameter 'presort' is deprecated and has no effect. It will be removed in v0.24. You can suppress this warning by not passing any value to the 'presort' parameter.\n",
      "  FutureWarning)\n",
      "C:\\Users\\Julia\\anaconda3\\envs\\multiPurpose\\lib\\site-packages\\sklearn\\tree\\_classes.py:327: FutureWarning: The parameter 'presort' is deprecated and has no effect. It will be removed in v0.24. You can suppress this warning by not passing any value to the 'presort' parameter.\n",
      "  FutureWarning)\n",
      "C:\\Users\\Julia\\anaconda3\\envs\\multiPurpose\\lib\\site-packages\\sklearn\\tree\\_classes.py:327: FutureWarning: The parameter 'presort' is deprecated and has no effect. It will be removed in v0.24. You can suppress this warning by not passing any value to the 'presort' parameter.\n",
      "  FutureWarning)\n",
      "C:\\Users\\Julia\\anaconda3\\envs\\multiPurpose\\lib\\site-packages\\sklearn\\tree\\_classes.py:327: FutureWarning: The parameter 'presort' is deprecated and has no effect. It will be removed in v0.24. You can suppress this warning by not passing any value to the 'presort' parameter.\n",
      "  FutureWarning)\n",
      "C:\\Users\\Julia\\anaconda3\\envs\\multiPurpose\\lib\\site-packages\\sklearn\\tree\\_classes.py:327: FutureWarning: The parameter 'presort' is deprecated and has no effect. It will be removed in v0.24. You can suppress this warning by not passing any value to the 'presort' parameter.\n",
      "  FutureWarning)\n",
      "C:\\Users\\Julia\\anaconda3\\envs\\multiPurpose\\lib\\site-packages\\sklearn\\tree\\_classes.py:327: FutureWarning: The parameter 'presort' is deprecated and has no effect. It will be removed in v0.24. You can suppress this warning by not passing any value to the 'presort' parameter.\n",
      "  FutureWarning)\n"
     ]
    },
    {
     "ename": "AttributeError",
     "evalue": "'DecisionTreeQuantileRegressor' object has no attribute 'y_train_leaves_'",
     "output_type": "error",
     "traceback": [
      "\u001b[1;31m---------------------------------------------------------------------------\u001b[0m",
      "\u001b[1;31mAttributeError\u001b[0m                            Traceback (most recent call last)",
      "\u001b[1;32m<ipython-input-129-3e75eefa72d4>\u001b[0m in \u001b[0;36m<module>\u001b[1;34m\u001b[0m\n\u001b[0;32m      4\u001b[0m \u001b[1;33m\u001b[0m\u001b[0m\n\u001b[0;32m      5\u001b[0m \u001b[0mrfqr\u001b[0m\u001b[1;33m.\u001b[0m\u001b[0mset_params\u001b[0m\u001b[1;33m(\u001b[0m\u001b[0mmax_features\u001b[0m\u001b[1;33m=\u001b[0m\u001b[0mX_train\u001b[0m\u001b[1;33m.\u001b[0m\u001b[0mshape\u001b[0m\u001b[1;33m[\u001b[0m\u001b[1;36m1\u001b[0m\u001b[1;33m]\u001b[0m \u001b[1;33m//\u001b[0m \u001b[1;36m3\u001b[0m\u001b[1;33m)\u001b[0m\u001b[1;33m\u001b[0m\u001b[1;33m\u001b[0m\u001b[0m\n\u001b[1;32m----> 6\u001b[1;33m \u001b[0mrfqr\u001b[0m\u001b[1;33m.\u001b[0m\u001b[0mfit\u001b[0m\u001b[1;33m(\u001b[0m\u001b[0mX_train\u001b[0m\u001b[1;33m,\u001b[0m \u001b[0my_train\u001b[0m\u001b[1;33m)\u001b[0m\u001b[1;33m\u001b[0m\u001b[1;33m\u001b[0m\u001b[0m\n\u001b[0m",
      "\u001b[1;32m~\\anaconda3\\envs\\multiPurpose\\lib\\site-packages\\skgarden\\quantile\\ensemble.py\u001b[0m in \u001b[0;36mfit\u001b[1;34m(self, X, y)\u001b[0m\n\u001b[0;32m     92\u001b[0m \u001b[1;33m\u001b[0m\u001b[0m\n\u001b[0;32m     93\u001b[0m             \u001b[0mest_weights\u001b[0m \u001b[1;33m=\u001b[0m \u001b[0mnp\u001b[0m\u001b[1;33m.\u001b[0m\u001b[0mbincount\u001b[0m\u001b[1;33m(\u001b[0m\u001b[0mbootstrap_indices\u001b[0m\u001b[1;33m,\u001b[0m \u001b[0mminlength\u001b[0m\u001b[1;33m=\u001b[0m\u001b[0mlen\u001b[0m\u001b[1;33m(\u001b[0m\u001b[0my\u001b[0m\u001b[1;33m)\u001b[0m\u001b[1;33m)\u001b[0m\u001b[1;33m\u001b[0m\u001b[1;33m\u001b[0m\u001b[0m\n\u001b[1;32m---> 94\u001b[1;33m             \u001b[0my_train_leaves\u001b[0m \u001b[1;33m=\u001b[0m \u001b[0mest\u001b[0m\u001b[1;33m.\u001b[0m\u001b[0my_train_leaves_\u001b[0m\u001b[1;33m\u001b[0m\u001b[1;33m\u001b[0m\u001b[0m\n\u001b[0m\u001b[0;32m     95\u001b[0m             \u001b[1;32mfor\u001b[0m \u001b[0mcurr_leaf\u001b[0m \u001b[1;32min\u001b[0m \u001b[0mnp\u001b[0m\u001b[1;33m.\u001b[0m\u001b[0munique\u001b[0m\u001b[1;33m(\u001b[0m\u001b[0my_train_leaves\u001b[0m\u001b[1;33m)\u001b[0m\u001b[1;33m:\u001b[0m\u001b[1;33m\u001b[0m\u001b[1;33m\u001b[0m\u001b[0m\n\u001b[0;32m     96\u001b[0m                 \u001b[0my_ind\u001b[0m \u001b[1;33m=\u001b[0m \u001b[0my_train_leaves\u001b[0m \u001b[1;33m==\u001b[0m \u001b[0mcurr_leaf\u001b[0m\u001b[1;33m\u001b[0m\u001b[1;33m\u001b[0m\u001b[0m\n",
      "\u001b[1;31mAttributeError\u001b[0m: 'DecisionTreeQuantileRegressor' object has no attribute 'y_train_leaves_'"
     ]
    }
   ],
   "source": [
    "y_true_all = []\n",
    "lower = []\n",
    "upper = []\n",
    "\n",
    "rfqr.set_params(max_features=X_train.shape[1] // 3)\n",
    "rfqr.fit(X_train, y_train)"
   ]
  },
  {
   "cell_type": "code",
   "execution_count": null,
   "metadata": {},
   "outputs": [],
   "source": [
    "y_true_all = np.concatenate((y_true_all, y_test))\n",
    "upper = np.concatenate((upper, rfqr.predict(X_test, quantile=98.5)))\n",
    "lower = np.concatenate((lower, rfqr.predict(X_test, quantile=2.5)))\n",
    "\n",
    "interval = upper - lower\n",
    "sort_ind = np.argsort(interval)\n",
    "y_true_all = y_true_all[sort_ind]\n",
    "upper = upper[sort_ind]\n",
    "lower = lower[sort_ind]\n",
    "mean = (upper + lower) / 2\n",
    "\n",
    "# Center such that the mean of the prediction interval is at 0.0\n",
    "y_true_all -= mean\n",
    "upper -= mean\n",
    "lower -= mean"
   ]
  },
  {
   "cell_type": "code",
   "execution_count": 111,
   "metadata": {
    "ExecuteTime": {
     "end_time": "2020-10-10T21:56:05.044841Z",
     "start_time": "2020-10-10T21:56:04.840831Z"
    },
    "cell_style": "center"
   },
   "outputs": [
    {
     "data": {
      "text/plain": [
       "(array([   7.,    0.,  273., 1678., 2326., 5085., 6269., 2076.,  990.,\n",
       "         167.]),\n",
       " array([2.58448049, 3.19783829, 3.81119609, 4.42455389, 5.03791168,\n",
       "        5.65126948, 6.26462728, 6.87798508, 7.49134287, 8.10470067,\n",
       "        8.71805847]),\n",
       " <BarContainer object of 10 artists>)"
      ]
     },
     "execution_count": 111,
     "metadata": {},
     "output_type": "execute_result"
    },
    {
     "data": {
      "image/png": "[encoded data removed]",
      "text/plain": [
       "<Figure size 432x288 with 1 Axes>"
      ]
     },
     "metadata": {
      "needs_background": "light"
     },
     "output_type": "display_data"
    }
   ],
   "source": [
    "plt.hist(err_down)"
   ]
  },
  {
   "cell_type": "code",
   "execution_count": 102,
   "metadata": {
    "ExecuteTime": {
     "end_time": "2020-10-10T21:39:30.039138Z",
     "start_time": "2020-10-10T21:39:30.020140Z"
    }
   },
   "outputs": [
    {
     "data": {
      "text/plain": [
       "array([False, False, False, ..., False, False, False])"
      ]
     },
     "execution_count": 102,
     "metadata": {},
     "output_type": "execute_result"
    }
   ],
   "source": [
    "np.array(err_up)<8"
   ]
  },
  {
   "cell_type": "code",
   "execution_count": 108,
   "metadata": {
    "ExecuteTime": {
     "end_time": "2020-10-10T21:44:04.543848Z",
     "start_time": "2020-10-10T21:44:04.370837Z"
    }
   },
   "outputs": [
    {
     "data": {
      "text/plain": [
       "<AxesSubplot:ylabel='Count'>"
      ]
     },
     "execution_count": 108,
     "metadata": {},
     "output_type": "execute_result"
    },
    {
     "data": {
      "image/png": "[encoded data removed]",
      "text/plain": [
       "<Figure size 432x288 with 1 Axes>"
      ]
     },
     "metadata": {
      "needs_background": "light"
     },
     "output_type": "display_data"
    }
   ],
   "source": [
    "import seaborn as sns\n",
    "sns.histplot(pic50_test[np.array(err_down)<5])"
   ]
  },
  {
   "cell_type": "code",
   "execution_count": 105,
   "metadata": {
    "ExecuteTime": {
     "end_time": "2020-10-10T21:43:21.805911Z",
     "start_time": "2020-10-10T21:43:21.793922Z"
    }
   },
   "outputs": [
    {
     "name": "stdout",
     "output_type": "stream",
     "text": [
      " 0.110\n",
      "9220\n"
     ]
    }
   ],
   "source": [
    "print(min(y_test[np.array(err_up)<8]))\n",
    "print(max(y_test[np.array(err_up)<8]))"
   ]
  },
  {
   "cell_type": "code",
   "execution_count": null,
   "metadata": {},
   "outputs": [],
   "source": [
    "from DeepPurpose import utils, dataset, CompoundPred\n",
    "from DeepPurpose import DTI as models\n",
    "\n",
    "data_path = './data//BindingDB_All.tsv'\n",
    "X_drugs, X_targets, y = dataset.process_BindingDB(path = data_path, df = None, y = 'IC50', binary = False, convert_to_log = True, threshold = 0)\n",
    "drug_encoding, target_encoding = 'Morgan', 'Conjoint_triad'\n",
    "train_all, val, test = utils.data_process(X_drugs, X_targets, y, \n",
    "                                drug_encoding, target_encoding, \n",
    "                                split_method='random',frac=[1,0,0])"
   ]
  },
  {
   "cell_type": "code",
   "execution_count": null,
   "metadata": {},
   "outputs": [],
   "source": [
    "idxlist = df_want.index\n",
    "train_true = train_all.iloc[idxlist[idxlist<len(train_all)]]"
   ]
  },
  {
   "cell_type": "code",
   "execution_count": null,
   "metadata": {},
   "outputs": [],
   "source": [
    "from IPython.display import clear_output\n",
    "\n",
    "y_pred = train_all\n",
    "y_pred['pred'] = 0\n",
    "for i in train_true.index:\n",
    "    print(i)\n",
    "    clear_output(wait=True)\n",
    "    try:\n",
    "        y_pred['pred'].iloc[i:i+1] = model.predict(train_all.loc[i:i+1])\n",
    "    except:\n",
    "        y_pred['pred'].iloc[i] = 0"
   ]
  }
 ],
 "metadata": {
  "hide_input": false,
  "kernelspec": {
   "display_name": "Python 3",
   "language": "python",
   "name": "python3"
  },
  "language_info": {
   "codemirror_mode": {
    "name": "ipython",
    "version": 3
   },
   "file_extension": ".py",
   "mimetype": "text/x-python",
   "name": "python",
   "nbconvert_exporter": "python",
   "pygments_lexer": "ipython3",
   "version": "3.7.8"
  },
  "latex_envs": {
   "LaTeX_envs_menu_present": true,
   "autoclose": false,
   "autocomplete": true,
   "bibliofile": "biblio.bib",
   "cite_by": "apalike",
   "current_citInitial": 1,
   "eqLabelWithNumbers": true,
   "eqNumInitial": 1,
   "hotkeys": {
    "equation": "Ctrl-E",
    "itemize": "Ctrl-I"
   },
   "labels_anchors": false,
   "latex_user_defs": false,
   "report_style_numbering": false,
   "user_envs_cfg": false
  },
  "toc": {
   "base_numbering": 1,
   "nav_menu": {},
   "number_sections": true,
   "sideBar": true,
   "skip_h1_title": false,
   "title_cell": "Table of Contents",
   "title_sidebar": "Contents",
   "toc_cell": false,
   "toc_position": {},
   "toc_section_display": true,
   "toc_window_display": false
  },
  "varInspector": {
   "cols": {
    "lenName": 16,
    "lenType": 16,
    "lenVar": 40
   },
   "kernels_config": {
    "python": {
     "delete_cmd_postfix": "",
     "delete_cmd_prefix": "del ",
     "library": "var_list.py",
     "varRefreshCmd": "print(var_dic_list())"
    },
    "r": {
     "delete_cmd_postfix": ") ",
     "delete_cmd_prefix": "rm(",
     "library": "var_list.r",
     "varRefreshCmd": "cat(var_dic_list()) "
    }
   },
   "position": {
    "height": "273.719px",
    "left": "796.625px",
    "right": "20px",
    "top": "156px",
    "width": "350px"
   },
   "types_to_exclude": [
    "module",
    "function",
    "builtin_function_or_method",
    "instance",
    "_Feature"
   ],
   "window_display": false
  }
 },
 "nbformat": 4,
 "nbformat_minor": 4
}
