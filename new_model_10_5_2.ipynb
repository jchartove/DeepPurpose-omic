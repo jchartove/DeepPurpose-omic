{
 "cells": [
  {
   "cell_type": "code",
   "execution_count": 49,
   "metadata": {
    "ExecuteTime": {
     "end_time": "2020-10-05T19:58:25.522856Z",
     "start_time": "2020-10-05T19:58:25.477869Z"
    }
   },
   "outputs": [],
   "source": [
    "import numpy as np\n",
    "import pandas as pd\n",
    "from rdkit import Chem, DataStructs\n",
    "from rdkit.Chem import AllChem\n",
    "from rdkit.Chem.Fingerprints import FingerprintMols\n",
    "from DeepPurpose.pybiomed_helper import _GetPseudoAAC, CalculateAADipeptideComposition, \\\n",
    "calcPubChemFingerAll, CalculateConjointTriad, GetQuasiSequenceOrder\n",
    "import torch\n",
    "from torch.utils import data\n",
    "from torch.autograd import Variable\n",
    "try:\n",
    "\tfrom descriptastorus.descriptors import rdDescriptors, rdNormalizedDescriptors\n",
    "except:\n",
    "\traise ImportError(\"Please install pip install git+https://github.com/bp-kelley/descriptastorus.\")\n",
    "from DeepPurpose.chemutils import get_mol, atom_features, bond_features, MAX_NB, ATOM_FDIM, BOND_FDIM\n",
    "from subword_nmt.apply_bpe import BPE\n",
    "import codecs\n",
    "import pickle\n",
    "import wget\n",
    "from zipfile import ZipFile \n",
    "import os\n",
    "import sys\n",
    "\n",
    "from torch.autograd import Variable\n",
    "import torch.nn.functional as F\n",
    "from torch.utils.data import SequentialSampler\n",
    "from torch import nn \n",
    "\n",
    "from tqdm import tqdm\n",
    "import matplotlib.pyplot as plt\n",
    "from time import time\n",
    "from sklearn.metrics import mean_squared_error, roc_auc_score, average_precision_score, f1_score, log_loss\n",
    "from lifelines.utils import concordance_index\n",
    "from scipy.stats import pearsonr\n",
    "import pickle \n",
    "torch.manual_seed(2)\n",
    "np.random.seed(3)\n",
    "import copy\n",
    "from prettytable import PrettyTable\n",
    "\n",
    "import os\n",
    "\n",
    "from DeepPurpose.utils import *\n",
    "from DeepPurpose.model_helper import Encoder_MultipleLayers, Embeddings        \n",
    "from DeepPurpose.encoders import *\n",
    "from DeepPurpose import DTI\n",
    "\n",
    "import collections"
   ]
  },
  {
   "cell_type": "code",
   "execution_count": 84,
   "metadata": {
    "ExecuteTime": {
     "end_time": "2020-10-05T23:46:14.678296Z",
     "start_time": "2020-10-05T23:45:51.788842Z"
    }
   },
   "outputs": [
    {
     "name": "stderr",
     "output_type": "stream",
     "text": [
      "C:\\ProgramData\\Anaconda3\\envs\\multiPurpose\\lib\\site-packages\\ipykernel_launcher.py:21: SettingWithCopyWarning: \n",
      "A value is trying to be set on a copy of a slice from a DataFrame.\n",
      "Try using .loc[row_indexer,col_indexer] = value instead\n",
      "\n",
      "See the caveats in the documentation: https://pandas.pydata.org/pandas-docs/stable/user_guide/indexing.html#returning-a-view-versus-a-copy\n",
      "C:\\ProgramData\\Anaconda3\\envs\\multiPurpose\\lib\\site-packages\\ipykernel_launcher.py:23: SettingWithCopyWarning: \n",
      "A value is trying to be set on a copy of a slice from a DataFrame.\n",
      "Try using .loc[row_indexer,col_indexer] = value instead\n",
      "\n",
      "See the caveats in the documentation: https://pandas.pydata.org/pandas-docs/stable/user_guide/indexing.html#returning-a-view-versus-a-copy\n"
     ]
    }
   ],
   "source": [
    "df = pd.read_pickle(\"./df.pkl\")\n",
    "\n",
    "idx_str = ['Kd', 'IC50', 'Ki','EC50','Temp']\n",
    "df_want = df\n",
    "convert_to_log = 0\n",
    "\n",
    "# have at least uniprot or pubchem ID\n",
    "df_want = df_want[df_want.PubChem_ID.notnull() | df_want.UniProt_ID.notnull()]\n",
    "df_want = df_want[df_want.InChI.notnull()]\n",
    "\n",
    "for label in idx_str:\n",
    "    df_want[label] = df_want[label].str.replace('>', '')\n",
    "    df_want[label] = df_want[label].str.replace('<', '')\n",
    "\n",
    "y = df_want[idx_str]\n",
    "for label in idx_str:\n",
    "    if convert_to_log:\n",
    "            print('Default set to logspace (nM -> p) for easier regression')\n",
    "            y[label] = convert_y_unit(df_want[label].values, 'nM', 'p') \n",
    "    else:\n",
    "            y[label] = df_want[label].values\n",
    "\n",
    "y['pH'] = df_want['pH']\n",
    "X_drugs = df_want.SMILES.values\n",
    "X_targets = df_want['Target Sequence'].values\n",
    "y = y.apply(pd.to_numeric, errors='coerce')\n",
    "X_org = df_want['Organism']"
   ]
  },
  {
   "cell_type": "code",
   "execution_count": null,
   "metadata": {
    "ExecuteTime": {
     "end_time": "2020-10-05T19:58:36.880953Z",
     "start_time": "2020-10-05T19:58:29.264Z"
    }
   },
   "outputs": [],
   "source": [
    "y"
   ]
  },
  {
   "cell_type": "code",
   "execution_count": 85,
   "metadata": {
    "ExecuteTime": {
     "end_time": "2020-10-05T23:46:35.241538Z",
     "start_time": "2020-10-05T23:46:35.162537Z"
    }
   },
   "outputs": [],
   "source": [
    "df_backup = df_data\n",
    "df_data = df_data.sample(10000)"
   ]
  },
  {
   "cell_type": "code",
   "execution_count": null,
   "metadata": {
    "ExecuteTime": {
     "end_time": "2020-10-05T19:58:36.930950Z",
     "start_time": "2020-10-05T19:58:30.030Z"
    }
   },
   "outputs": [],
   "source": [
    "import numpy as np\n",
    "from sklearn.impute import SimpleImputer, KNNImputer\n",
    "\n",
    "imputer = SimpleImputer() #TODO: better imputer\n",
    "y_i = imputer.fit_transform(y)\n",
    "y_i = pd.DataFrame(data=y_i,columns=idx_str+['pH'])\n",
    "\n",
    "df_data = y_i\n",
    "df_data['SMILES'] = X_drugs\n",
    "df_data['Target Sequence'] = X_targets\n",
    "df_data['Organism'] = X_org\n",
    "df_data = df_data.join(y, rsuffix='_raw')\n",
    "df_data.head()"
   ]
  },
  {
   "cell_type": "code",
   "execution_count": 52,
   "metadata": {
    "ExecuteTime": {
     "end_time": "2020-10-05T19:59:55.161178Z",
     "start_time": "2020-10-05T19:59:55.137459Z"
    }
   },
   "outputs": [],
   "source": [
    "df_data = df_backup"
   ]
  },
  {
   "cell_type": "code",
   "execution_count": 54,
   "metadata": {
    "ExecuteTime": {
     "end_time": "2020-10-05T20:00:17.808720Z",
     "start_time": "2020-10-05T20:00:17.771717Z"
    }
   },
   "outputs": [],
   "source": [
    "import math\n",
    "def magnitude(x):\n",
    "    if x > 0:\n",
    "        return int(math.floor(math.log10(x)))\n",
    "    else:\n",
    "        return 0\n",
    "\n",
    "df_data['magic50'] = df_data['IC50'].apply(magnitude)"
   ]
  },
  {
   "cell_type": "code",
   "execution_count": 55,
   "metadata": {
    "ExecuteTime": {
     "end_time": "2020-10-05T20:03:18.984540Z",
     "start_time": "2020-10-05T20:00:21.780479Z"
    }
   },
   "outputs": [
    {
     "name": "stdout",
     "output_type": "stream",
     "text": [
      "rdkit not found this smiles for morgan: Cc1n[nH]n(C)c1-c1cnc2c(c1)n([C@H](C1CCOCC1)c1ccccc1)c1cc(ccc21)C(C)(C)O convert to all 0 features\n",
      "rdkit not found this smiles for morgan: COc1ccc2C[C@@H]3[C@]45CC[C@](OC)([C@@H]6Oc1c2[C@]46CC[N]3(C)CC1CC1)[C@@H](COCc1cc2ccccc2o1)C5 convert to all 0 features\n",
      "rdkit not found this smiles for morgan: COc1ccc(cc1OC)-c1cc(C(=O)NCc2c(C)cc(C)nc2=O)c2cnn(C(C)C)c2n1 convert to all 0 features\n",
      "7.282987356185913\n",
      "7.7704432010650635\n",
      "8.568466424942017\n",
      "92.0403687953949\n",
      "Molecules not found and change to zero vectors..\n",
      "Molecules not found and change to zero vectors..\n",
      "Molecules not found and change to zero vectors..\n",
      "147.95095109939575\n",
      "rdkit not found this smiles: Cc1n[nH]n(C)c1-c1cnc2c(c1)n([C@H](C1CCOCC1)c1ccccc1)c1cc(ccc21)C(C)(C)O convert to all 0 features\n",
      "rdkit not found this smiles: COc1ccc2C[C@@H]3[C@]45CC[C@](OC)([C@@H]6Oc1c2[C@]46CC[N]3(C)CC1CC1)[C@@H](COCc1cc2ccccc2o1)C5 convert to all 0 features\n",
      "rdkit not found this smiles: [I-] convert to all 0 features\n",
      "rdkit not found this smiles: COc1ccc(cc1OC)-c1cc(C(=O)NCc2c(C)cc(C)nc2=O)c2cnn(C(C)C)c2n1 convert to all 0 features\n",
      "177.18704223632812\n"
     ]
    }
   ],
   "source": [
    "import time\n",
    "\n",
    "drug_func_list= [smiles2morgan,trans_drug,drug2emb_encoder,calcPubChemFingerAll,smiles2mpnnfeature, smiles2daylight]\n",
    "column_name = 'SMILES'\n",
    "start = time.time()\n",
    "\n",
    "for func in drug_func_list:\n",
    "    save_column_name = func.__name__\n",
    "    unique = pd.Series(df_data[column_name].unique()).apply(func)\n",
    "    unique_dict = dict(zip(df_data[column_name].unique(), unique))\n",
    "    df_data[save_column_name] = [unique_dict[i] for i in df_data[column_name]]\n",
    "    end = time.time()\n",
    "    print(end - start)"
   ]
  },
  {
   "cell_type": "code",
   "execution_count": 56,
   "metadata": {
    "ExecuteTime": {
     "end_time": "2020-10-05T20:05:50.890815Z",
     "start_time": "2020-10-05T20:04:10.829099Z"
    }
   },
   "outputs": [
    {
     "name": "stdout",
     "output_type": "stream",
     "text": [
      "2.031992197036743\n",
      "2.7403295040130615\n",
      "3.2397186756134033\n",
      "Quasi-seq fingerprint not working for smiles: pqitlwkrplvtikiggqlkealldtgaddtvieemslpgrwkpkmiggiggfikvrqydqiiieiaghkaigtvlvgptpvniigrnlltqigatlnf convert to 0 vectors\n",
      "Quasi-seq fingerprint not working for smiles: MKAFLGALEFQENEYEELKELYESLKTKQKPHTLFISCVDSRVVPNLITGTKPGELYVIRNMGNVIPPKTSHKESLSTMASIEYAIVHVGVQNLIICGHSDCGACGSTHLINDGXTKAKTPYIADWIQFLEPIKEELKNHPQFSNHFAKRSWLTERLNVRLQLNNLLSYDFIQERVVNNELKIFGWHYIIETGRIYNYNFESHFFEPIXETXKQRKSHENF convert to 0 vectors\n",
      "Quasi-seq fingerprint not working for smiles: MSKSKVDNQFYSVEVGDSTFTVLKRYQNLKPIGSGAQGIVCAAYDAVLDRNVAIKKLSRPFQNQTHAKRAYRELVLMKCVNHKNIISLLNVFTPQKTLEEFQDVYLVMELMDANLCQVIQMELDHERMSYLLYQMLCGIKHLHSAGIIHRDLKPSNIVVKSDCTLKILDFGLARTAGTSFMMTPYVVTRYYRAPEVILGMGYKENVDIWSVGCIMGEMVRHKILFPGRDYIDQWNKVIEQLGTPCPEFMKKLQPTVRNYVENRPKYAGLTFPKLFPDSLFPADSEHNKLKASQARDLLSKMLVIDPAKRISVDDALQHPYINVWYDPAXXXXXDEREHTIEEWKELIYKEVMNSE convert to 0 vectors\n",
      "Quasi-seq fingerprint not working for smiles: pqitlwkrplvtikiggqlkealldtgaddtvleemnlpgrwkpkmiggiggfikvrqydqilieicghkaigtvlvgptpvniigrnlltqigctlnf convert to 0 vectors\n",
      "Quasi-seq fingerprint not working for smiles: mnpnqkiitigsvsltiatvcflmqiailvttvtlhfkqhecdspasnqvmpcepiiierniteivylnnttiekeicpkvveyrnwskpqcqitgfapfskdnsirlsaggdiwvtrepyvscdpvkcyqfalgqgttldnkhsndtvhdriphrtllmnelgvpfhlgtrqvciawsssschdgkawlhvcitgddknatasfiydgrlvdsigswsqnilrtqesecvcingtctvvmtdgsasgradtrilfieegkivhisplagsaqhveecscyprypgvrcicrdnwkgsnrpvvdinmedysidssyvcsglvgdtprnddrssnsncrnpnnergtqgvkgwafdngndlwmgrtiskdlrsgyetfkviggwstpnsksqinrqvivdsdnrsgysgifsvegkscinrcfyvelirgrkqetrvwwtsnsivvfcgtsgtygtgswpdganinfmpi convert to 0 vectors\n",
      "Quasi-seq fingerprint not working for smiles: malkslvllsllvlvlllvrvqpslgketaaakferqhmdsstsaasssnycnqmmksrnltkdrckpvntfvhesladvqavcsqknvackngqtncyqsystmsitdcretgsskypncaykttqankhiivacegnpyvpvhfdasv convert to 0 vectors\n",
      "Quasi-seq fingerprint not working for smiles: MRMATPSSAPSVRNTEKRKNKKASSKASVSFGAPSPLSSESEDEINYMTPPEQEAQPGALAALHAEGPLAGLPVTRSDARVLIFNEWEERKKSDPWLRLDMSDKAIFRRYPHLRPKEDRPDAPSHAEDAMDAKEPVIGSILEQDDHKFYHYSVYIGGGLVMGVNNPSAAVCQATIDVEKLHLWWRPVWEPRXPLDSAELRKCVGMTVPYVATTVNCYQVCCWIVGIKDTWLKRAKISRDLPFYSPVQDWNVDPQEPFIPSKLRMVSDGILVALSAVIGRPIKNLLASVKPLNILNIVLSCDWTFSGIVNALILLAELFDIFWTPPDVTNWMISIFGEWQAEGPFDLALDVVPTLLGGIGMAFGLTSETIGRKLASTNSALKAAQEMGKFAIEVFKQIMAWIWPSEDPVPALLSNMEQAIIKNECQLENQLTAMLRDRNAGAEFLRSLDEEEQEVRKIAAKCGNSATTGTTNALLARISMARAAFEKARAEQTSRVRPVVIMVSGRPGIGKTCFCQNLAKRIAASLGDETSVGIIPRADVDHWDAYKGARVVLWDDFGMDNVVKDALRLQMLADTCPVTLNCDRIENKGKMFDSQVIIITTNQQTPVPLDYVNLEAVCRRIDFLVYAESPVVDDARARAPGDVNAVKAAMRPDYSHINFILAPQGGFDRQGNTPYGKGVTKIIGATALCARAVALVHERHDDFGLQNKVYDFDAGKVTAFKAMAADAGIPWYKMAAIGCKAMGCTCVEEAMHLLKDYEVAPCQVIYNGATYNVSCIKGAPMVEKVKEPELPKTLVNCVRRIKEARLRCYCRMAADVITSILQAAGTAFSIYHQIEKRSRPSFYWDXGYTYRDGPGSFDIFEDDDDGWYHSEGKKGKNKKGRGRPGVFRTRGLTDEEYDEFKKRRESRGGKYSIDDYLADREREEELLERDEEEAIFGDGFGLKATRRSRKAERAKLGLVSGGDIRARKPIDWNVVGPSWADDDRQVDYGEKINFEAPVSIWSRVVQFGTGWGFWVSGHVFITAKHVAPPKGTEIFGRKPGDFTVTSSGDFLKYYFTSAVRPDIPAMVLENGCQEGVVASVLVKRASGEMLALAVRMGSQAAIKIGSAVVHGQTGMLLTGSNAKAQDLGTIPGDCGCPYVYKKGNTWVVIGVHVAATRSGNTVIAATHGEPTLEALEFQGPPMLPRPSGTYAGLPIADYGDAPPLSTKTMFWRTSPEKLPPGAWEPAYLGSKDERVDGPSLQQVMRDQLKPYSEPRGLLPPQEILDAVCDAIENRLENTLEPQKPWTFKKACESLDKNTSSGYPYHKQKSKDWTGSAFIGDLGDQATHANNMYEMGKSMRPIYTAALKDELVKPDKIYGKIKKRLLWGSDLGTMIRAARAFGPFCDALKETCIFNPIRVGMSMNEDGPFIFARHANFRYHMDADYTRWDSTQQRAILKRAGDIMVRLSPEPDLARVVMDDLLAPSLLDVGDYKIVVEEGLPSGCPCTTQLNSLAHWILTLCAMVEVTRVDPDIVMQESEFSFYGDDEVVSTNLELDMVKYTMALRRYGLLPTRADKEEGPLERRQTLQGISFLRRAIVGDQFGWYGRLDRASIDRQLLWTKGPNHQNPFETLPGHAQRPSQLMALLGEAAMHGEKYYRTVASRVSKEAAQSGIEMVVPRHRSVLRWVRFGTMDAETPQERSAVFVNEDE convert to 0 vectors\n",
      "100.03868007659912\n"
     ]
    }
   ],
   "source": [
    "prot_func_list = [CalculateConjointTriad, trans_protein, protein2emb_encoder,target2quasi]\n",
    "column_name = 'Target Sequence'\n",
    "start = time.time()\n",
    "\n",
    "for func in prot_func_list:\n",
    "    save_column_name = func.__name__\n",
    "    AA = pd.Series(df_data[column_name].unique()).apply(func)\n",
    "    AA_dict = dict(zip(df_data[column_name].unique(), AA))\n",
    "    df_data[save_column_name] = [AA_dict[i] for i in df_data[column_name]]\n",
    "    end = time.time()\n",
    "    print(end - start)"
   ]
  },
  {
   "cell_type": "code",
   "execution_count": 57,
   "metadata": {
    "ExecuteTime": {
     "end_time": "2020-10-05T20:32:45.621493Z",
     "start_time": "2020-10-05T20:14:12.456751Z"
    }
   },
   "outputs": [],
   "source": [
    "import sys\n",
    "np.set_printoptions(threshold = sys.maxsize)\n",
    "\n",
    "df_data.to_pickle(\"./df_data_small3.pkl\")\n",
    "df_data.to_csv('df_data_small3.csv.gz'\n",
    "         , sep='|'\n",
    "         , header=True\n",
    "         , index=False\n",
    "         , chunksize=1000\n",
    "         , compression='gzip'\n",
    "         , encoding='utf-8')"
   ]
  },
  {
   "cell_type": "code",
   "execution_count": 152,
   "metadata": {
    "ExecuteTime": {
     "end_time": "2020-10-06T02:44:48.468256Z",
     "start_time": "2020-10-06T02:44:48.398296Z"
    }
   },
   "outputs": [
    {
     "ename": "FileNotFoundError",
     "evalue": "[Errno 2] No such file or directory: './df_data_small4.csv.gz'",
     "output_type": "error",
     "traceback": [
      "\u001b[1;31m---------------------------------------------------------------------------\u001b[0m",
      "\u001b[1;31mFileNotFoundError\u001b[0m                         Traceback (most recent call last)",
      "\u001b[1;32m<ipython-input-152-3a192f3c8b68>\u001b[0m in \u001b[0;36m<module>\u001b[1;34m\u001b[0m\n\u001b[0;32m      2\u001b[0m          \u001b[1;33m,\u001b[0m \u001b[0msep\u001b[0m\u001b[1;33m=\u001b[0m\u001b[1;34m'|'\u001b[0m\u001b[1;33m\u001b[0m\u001b[1;33m\u001b[0m\u001b[0m\n\u001b[0;32m      3\u001b[0m          \u001b[1;33m,\u001b[0m \u001b[0mcompression\u001b[0m\u001b[1;33m=\u001b[0m\u001b[1;34m'gzip'\u001b[0m\u001b[1;33m\u001b[0m\u001b[1;33m\u001b[0m\u001b[0m\n\u001b[1;32m----> 4\u001b[1;33m          , encoding='utf-8')\n\u001b[0m\u001b[0;32m      5\u001b[0m                          \u001b[1;31m#dtype =  {'smiles2morgan': np.ndarray, 'drug2emb_encoder': np.ndarray, 'CalculateConjointTriad': np.ndarray, 'protein2emb_encoder': np.ndarray} )\u001b[0m\u001b[1;33m\u001b[0m\u001b[1;33m\u001b[0m\u001b[1;33m\u001b[0m\u001b[0m\n",
      "\u001b[1;32mC:\\ProgramData\\Anaconda3\\envs\\multiPurpose\\lib\\site-packages\\pandas\\io\\parsers.py\u001b[0m in \u001b[0;36mread_csv\u001b[1;34m(filepath_or_buffer, sep, delimiter, header, names, index_col, usecols, squeeze, prefix, mangle_dupe_cols, dtype, engine, converters, true_values, false_values, skipinitialspace, skiprows, skipfooter, nrows, na_values, keep_default_na, na_filter, verbose, skip_blank_lines, parse_dates, infer_datetime_format, keep_date_col, date_parser, dayfirst, cache_dates, iterator, chunksize, compression, thousands, decimal, lineterminator, quotechar, quoting, doublequote, escapechar, comment, encoding, dialect, error_bad_lines, warn_bad_lines, delim_whitespace, low_memory, memory_map, float_precision)\u001b[0m\n\u001b[0;32m    684\u001b[0m     )\n\u001b[0;32m    685\u001b[0m \u001b[1;33m\u001b[0m\u001b[0m\n\u001b[1;32m--> 686\u001b[1;33m     \u001b[1;32mreturn\u001b[0m \u001b[0m_read\u001b[0m\u001b[1;33m(\u001b[0m\u001b[0mfilepath_or_buffer\u001b[0m\u001b[1;33m,\u001b[0m \u001b[0mkwds\u001b[0m\u001b[1;33m)\u001b[0m\u001b[1;33m\u001b[0m\u001b[1;33m\u001b[0m\u001b[0m\n\u001b[0m\u001b[0;32m    687\u001b[0m \u001b[1;33m\u001b[0m\u001b[0m\n\u001b[0;32m    688\u001b[0m \u001b[1;33m\u001b[0m\u001b[0m\n",
      "\u001b[1;32mC:\\ProgramData\\Anaconda3\\envs\\multiPurpose\\lib\\site-packages\\pandas\\io\\parsers.py\u001b[0m in \u001b[0;36m_read\u001b[1;34m(filepath_or_buffer, kwds)\u001b[0m\n\u001b[0;32m    450\u001b[0m \u001b[1;33m\u001b[0m\u001b[0m\n\u001b[0;32m    451\u001b[0m     \u001b[1;31m# Create the parser.\u001b[0m\u001b[1;33m\u001b[0m\u001b[1;33m\u001b[0m\u001b[1;33m\u001b[0m\u001b[0m\n\u001b[1;32m--> 452\u001b[1;33m     \u001b[0mparser\u001b[0m \u001b[1;33m=\u001b[0m \u001b[0mTextFileReader\u001b[0m\u001b[1;33m(\u001b[0m\u001b[0mfp_or_buf\u001b[0m\u001b[1;33m,\u001b[0m \u001b[1;33m**\u001b[0m\u001b[0mkwds\u001b[0m\u001b[1;33m)\u001b[0m\u001b[1;33m\u001b[0m\u001b[1;33m\u001b[0m\u001b[0m\n\u001b[0m\u001b[0;32m    453\u001b[0m \u001b[1;33m\u001b[0m\u001b[0m\n\u001b[0;32m    454\u001b[0m     \u001b[1;32mif\u001b[0m \u001b[0mchunksize\u001b[0m \u001b[1;32mor\u001b[0m \u001b[0miterator\u001b[0m\u001b[1;33m:\u001b[0m\u001b[1;33m\u001b[0m\u001b[1;33m\u001b[0m\u001b[0m\n",
      "\u001b[1;32mC:\\ProgramData\\Anaconda3\\envs\\multiPurpose\\lib\\site-packages\\pandas\\io\\parsers.py\u001b[0m in \u001b[0;36m__init__\u001b[1;34m(self, f, engine, **kwds)\u001b[0m\n\u001b[0;32m    934\u001b[0m             \u001b[0mself\u001b[0m\u001b[1;33m.\u001b[0m\u001b[0moptions\u001b[0m\u001b[1;33m[\u001b[0m\u001b[1;34m\"has_index_names\"\u001b[0m\u001b[1;33m]\u001b[0m \u001b[1;33m=\u001b[0m \u001b[0mkwds\u001b[0m\u001b[1;33m[\u001b[0m\u001b[1;34m\"has_index_names\"\u001b[0m\u001b[1;33m]\u001b[0m\u001b[1;33m\u001b[0m\u001b[1;33m\u001b[0m\u001b[0m\n\u001b[0;32m    935\u001b[0m \u001b[1;33m\u001b[0m\u001b[0m\n\u001b[1;32m--> 936\u001b[1;33m         \u001b[0mself\u001b[0m\u001b[1;33m.\u001b[0m\u001b[0m_make_engine\u001b[0m\u001b[1;33m(\u001b[0m\u001b[0mself\u001b[0m\u001b[1;33m.\u001b[0m\u001b[0mengine\u001b[0m\u001b[1;33m)\u001b[0m\u001b[1;33m\u001b[0m\u001b[1;33m\u001b[0m\u001b[0m\n\u001b[0m\u001b[0;32m    937\u001b[0m \u001b[1;33m\u001b[0m\u001b[0m\n\u001b[0;32m    938\u001b[0m     \u001b[1;32mdef\u001b[0m \u001b[0mclose\u001b[0m\u001b[1;33m(\u001b[0m\u001b[0mself\u001b[0m\u001b[1;33m)\u001b[0m\u001b[1;33m:\u001b[0m\u001b[1;33m\u001b[0m\u001b[1;33m\u001b[0m\u001b[0m\n",
      "\u001b[1;32mC:\\ProgramData\\Anaconda3\\envs\\multiPurpose\\lib\\site-packages\\pandas\\io\\parsers.py\u001b[0m in \u001b[0;36m_make_engine\u001b[1;34m(self, engine)\u001b[0m\n\u001b[0;32m   1166\u001b[0m     \u001b[1;32mdef\u001b[0m \u001b[0m_make_engine\u001b[0m\u001b[1;33m(\u001b[0m\u001b[0mself\u001b[0m\u001b[1;33m,\u001b[0m \u001b[0mengine\u001b[0m\u001b[1;33m=\u001b[0m\u001b[1;34m\"c\"\u001b[0m\u001b[1;33m)\u001b[0m\u001b[1;33m:\u001b[0m\u001b[1;33m\u001b[0m\u001b[1;33m\u001b[0m\u001b[0m\n\u001b[0;32m   1167\u001b[0m         \u001b[1;32mif\u001b[0m \u001b[0mengine\u001b[0m \u001b[1;33m==\u001b[0m \u001b[1;34m\"c\"\u001b[0m\u001b[1;33m:\u001b[0m\u001b[1;33m\u001b[0m\u001b[1;33m\u001b[0m\u001b[0m\n\u001b[1;32m-> 1168\u001b[1;33m             \u001b[0mself\u001b[0m\u001b[1;33m.\u001b[0m\u001b[0m_engine\u001b[0m \u001b[1;33m=\u001b[0m \u001b[0mCParserWrapper\u001b[0m\u001b[1;33m(\u001b[0m\u001b[0mself\u001b[0m\u001b[1;33m.\u001b[0m\u001b[0mf\u001b[0m\u001b[1;33m,\u001b[0m \u001b[1;33m**\u001b[0m\u001b[0mself\u001b[0m\u001b[1;33m.\u001b[0m\u001b[0moptions\u001b[0m\u001b[1;33m)\u001b[0m\u001b[1;33m\u001b[0m\u001b[1;33m\u001b[0m\u001b[0m\n\u001b[0m\u001b[0;32m   1169\u001b[0m         \u001b[1;32melse\u001b[0m\u001b[1;33m:\u001b[0m\u001b[1;33m\u001b[0m\u001b[1;33m\u001b[0m\u001b[0m\n\u001b[0;32m   1170\u001b[0m             \u001b[1;32mif\u001b[0m \u001b[0mengine\u001b[0m \u001b[1;33m==\u001b[0m \u001b[1;34m\"python\"\u001b[0m\u001b[1;33m:\u001b[0m\u001b[1;33m\u001b[0m\u001b[1;33m\u001b[0m\u001b[0m\n",
      "\u001b[1;32mC:\\ProgramData\\Anaconda3\\envs\\multiPurpose\\lib\\site-packages\\pandas\\io\\parsers.py\u001b[0m in \u001b[0;36m__init__\u001b[1;34m(self, src, **kwds)\u001b[0m\n\u001b[0;32m   1996\u001b[0m         \u001b[0mkwds\u001b[0m\u001b[1;33m[\u001b[0m\u001b[1;34m\"usecols\"\u001b[0m\u001b[1;33m]\u001b[0m \u001b[1;33m=\u001b[0m \u001b[0mself\u001b[0m\u001b[1;33m.\u001b[0m\u001b[0musecols\u001b[0m\u001b[1;33m\u001b[0m\u001b[1;33m\u001b[0m\u001b[0m\n\u001b[0;32m   1997\u001b[0m \u001b[1;33m\u001b[0m\u001b[0m\n\u001b[1;32m-> 1998\u001b[1;33m         \u001b[0mself\u001b[0m\u001b[1;33m.\u001b[0m\u001b[0m_reader\u001b[0m \u001b[1;33m=\u001b[0m \u001b[0mparsers\u001b[0m\u001b[1;33m.\u001b[0m\u001b[0mTextReader\u001b[0m\u001b[1;33m(\u001b[0m\u001b[0msrc\u001b[0m\u001b[1;33m,\u001b[0m \u001b[1;33m**\u001b[0m\u001b[0mkwds\u001b[0m\u001b[1;33m)\u001b[0m\u001b[1;33m\u001b[0m\u001b[1;33m\u001b[0m\u001b[0m\n\u001b[0m\u001b[0;32m   1999\u001b[0m         \u001b[0mself\u001b[0m\u001b[1;33m.\u001b[0m\u001b[0munnamed_cols\u001b[0m \u001b[1;33m=\u001b[0m \u001b[0mself\u001b[0m\u001b[1;33m.\u001b[0m\u001b[0m_reader\u001b[0m\u001b[1;33m.\u001b[0m\u001b[0munnamed_cols\u001b[0m\u001b[1;33m\u001b[0m\u001b[1;33m\u001b[0m\u001b[0m\n\u001b[0;32m   2000\u001b[0m \u001b[1;33m\u001b[0m\u001b[0m\n",
      "\u001b[1;32mpandas\\_libs\\parsers.pyx\u001b[0m in \u001b[0;36mpandas._libs.parsers.TextReader.__cinit__\u001b[1;34m()\u001b[0m\n",
      "\u001b[1;32mpandas\\_libs\\parsers.pyx\u001b[0m in \u001b[0;36mpandas._libs.parsers.TextReader._setup_parser_source\u001b[1;34m()\u001b[0m\n",
      "\u001b[1;32mC:\\ProgramData\\Anaconda3\\envs\\multiPurpose\\lib\\gzip.py\u001b[0m in \u001b[0;36m__init__\u001b[1;34m(self, filename, mode, compresslevel, fileobj, mtime)\u001b[0m\n\u001b[0;32m    166\u001b[0m             \u001b[0mmode\u001b[0m \u001b[1;33m+=\u001b[0m \u001b[1;34m'b'\u001b[0m\u001b[1;33m\u001b[0m\u001b[1;33m\u001b[0m\u001b[0m\n\u001b[0;32m    167\u001b[0m         \u001b[1;32mif\u001b[0m \u001b[0mfileobj\u001b[0m \u001b[1;32mis\u001b[0m \u001b[1;32mNone\u001b[0m\u001b[1;33m:\u001b[0m\u001b[1;33m\u001b[0m\u001b[1;33m\u001b[0m\u001b[0m\n\u001b[1;32m--> 168\u001b[1;33m             \u001b[0mfileobj\u001b[0m \u001b[1;33m=\u001b[0m \u001b[0mself\u001b[0m\u001b[1;33m.\u001b[0m\u001b[0mmyfileobj\u001b[0m \u001b[1;33m=\u001b[0m \u001b[0mbuiltins\u001b[0m\u001b[1;33m.\u001b[0m\u001b[0mopen\u001b[0m\u001b[1;33m(\u001b[0m\u001b[0mfilename\u001b[0m\u001b[1;33m,\u001b[0m \u001b[0mmode\u001b[0m \u001b[1;32mor\u001b[0m \u001b[1;34m'rb'\u001b[0m\u001b[1;33m)\u001b[0m\u001b[1;33m\u001b[0m\u001b[1;33m\u001b[0m\u001b[0m\n\u001b[0m\u001b[0;32m    169\u001b[0m         \u001b[1;32mif\u001b[0m \u001b[0mfilename\u001b[0m \u001b[1;32mis\u001b[0m \u001b[1;32mNone\u001b[0m\u001b[1;33m:\u001b[0m\u001b[1;33m\u001b[0m\u001b[1;33m\u001b[0m\u001b[0m\n\u001b[0;32m    170\u001b[0m             \u001b[0mfilename\u001b[0m \u001b[1;33m=\u001b[0m \u001b[0mgetattr\u001b[0m\u001b[1;33m(\u001b[0m\u001b[0mfileobj\u001b[0m\u001b[1;33m,\u001b[0m \u001b[1;34m'name'\u001b[0m\u001b[1;33m,\u001b[0m \u001b[1;34m''\u001b[0m\u001b[1;33m)\u001b[0m\u001b[1;33m\u001b[0m\u001b[1;33m\u001b[0m\u001b[0m\n",
      "\u001b[1;31mFileNotFoundError\u001b[0m: [Errno 2] No such file or directory: './df_data_small4.csv.gz'"
     ]
    }
   ],
   "source": [
    "df_data_out = pd.read_csv(\"./df_data_small4.csv.gz\"\n",
    "         , sep='|'\n",
    "         , compression='gzip'\n",
    "         , encoding='utf-8')\n",
    "                         #dtype =  {'smiles2morgan': np.ndarray, 'drug2emb_encoder': np.ndarray, 'CalculateConjointTriad': np.ndarray, 'protein2emb_encoder': np.ndarray} )"
   ]
  },
  {
   "cell_type": "code",
   "execution_count": 151,
   "metadata": {
    "ExecuteTime": {
     "end_time": "2020-10-06T02:44:37.385086Z",
     "start_time": "2020-10-06T02:44:37.354085Z"
    }
   },
   "outputs": [
    {
     "data": {
      "text/plain": [
       "\"['F', 'C', '(', 'F', ')', '(', 'F', ')', 'c', '1', 'c', 'c', 'c', '2', 'N', '=', 'C', '(', 'C', 'C', '(', '=', 'O', ')', 'N', 'c', '2', 'c', '1', ')', 'c', '1', 'c', 'c', 'c', 'c', '(', 'c', '1', ')', '-', 'n', '1', 'c', 'c', 'n', 'c', '1', '?', '?', '?', '?', '?', '?', '?', '?', '?', '?', '?', '?', '?', '?', '?', '?', '?', '?', '?', '?', '?', '?', '?', '?', '?', '?', '?', '?', '?', '?', '?', '?', '?', '?', '?', '?', '?', '?', '?', '?', '?', '?', '?', '?', '?', '?', '?', '?', '?', '?', '?', '?']\""
      ]
     },
     "execution_count": 151,
     "metadata": {},
     "output_type": "execute_result"
    }
   ],
   "source": [
    "df_data_out['trans_drug'].iloc[1]"
   ]
  },
  {
   "cell_type": "code",
   "execution_count": 87,
   "metadata": {
    "ExecuteTime": {
     "end_time": "2020-10-05T23:47:48.453258Z",
     "start_time": "2020-10-05T23:47:48.382223Z"
    }
   },
   "outputs": [],
   "source": [
    "#turn categorical variables into numerical dummy variables for modeling\n",
    "\n",
    "cat_list = pd.get_dummies(df_data['Organism'], prefix='var')\n",
    "df_data1=df_data.join(cat_list)"
   ]
  },
  {
   "cell_type": "code",
   "execution_count": 88,
   "metadata": {
    "ExecuteTime": {
     "end_time": "2020-10-05T23:47:50.919923Z",
     "start_time": "2020-10-05T23:47:50.860893Z"
    }
   },
   "outputs": [
    {
     "data": {
      "text/html": [
       "<div>\n",
       "<style scoped>\n",
       "    .dataframe tbody tr th:only-of-type {\n",
       "        vertical-align: middle;\n",
       "    }\n",
       "\n",
       "    .dataframe tbody tr th {\n",
       "        vertical-align: top;\n",
       "    }\n",
       "\n",
       "    .dataframe thead th {\n",
       "        text-align: right;\n",
       "    }\n",
       "</style>\n",
       "<table border=\"1\" class=\"dataframe\">\n",
       "  <thead>\n",
       "    <tr style=\"text-align: right;\">\n",
       "      <th></th>\n",
       "      <th>Kd</th>\n",
       "      <th>IC50</th>\n",
       "      <th>Ki</th>\n",
       "      <th>EC50</th>\n",
       "      <th>Temp</th>\n",
       "      <th>pH</th>\n",
       "      <th>SMILES</th>\n",
       "      <th>Target Sequence</th>\n",
       "      <th>Organism</th>\n",
       "      <th>Kd_raw</th>\n",
       "      <th>...</th>\n",
       "      <th>var_Trypanosoma brucei brucei</th>\n",
       "      <th>var_Trypanosoma brucei rhodesiense</th>\n",
       "      <th>var_Trypanosoma cruzi</th>\n",
       "      <th>var_Vibrio fischeri</th>\n",
       "      <th>var_Vibrio harveyi</th>\n",
       "      <th>var_Woolly monkey sarcoma virus</th>\n",
       "      <th>var_Xenopus sp.</th>\n",
       "      <th>var_Yersinia enterocolitica</th>\n",
       "      <th>var_Zea mays</th>\n",
       "      <th>var_sequence</th>\n",
       "    </tr>\n",
       "  </thead>\n",
       "  <tbody>\n",
       "    <tr>\n",
       "      <th>177623</th>\n",
       "      <td>872669.450093</td>\n",
       "      <td>1.264663e+08</td>\n",
       "      <td>1.000000e+04</td>\n",
       "      <td>362878.629538</td>\n",
       "      <td>27.936324</td>\n",
       "      <td>7.242816</td>\n",
       "      <td>NC(CCS(O)(=O)=O)C(O)=O</td>\n",
       "      <td>MLLWVQQALLALLLPTLLAQGEARRSRNTTRPALLRLSDYLLTNYR...</td>\n",
       "      <td>Homo sapiens</td>\n",
       "      <td>NaN</td>\n",
       "      <td>...</td>\n",
       "      <td>0</td>\n",
       "      <td>0</td>\n",
       "      <td>0</td>\n",
       "      <td>0</td>\n",
       "      <td>0</td>\n",
       "      <td>0</td>\n",
       "      <td>0</td>\n",
       "      <td>0</td>\n",
       "      <td>0</td>\n",
       "      <td>0</td>\n",
       "    </tr>\n",
       "    <tr>\n",
       "      <th>1172701</th>\n",
       "      <td>872669.450093</td>\n",
       "      <td>2.600000e+04</td>\n",
       "      <td>1.941028e+06</td>\n",
       "      <td>362878.629538</td>\n",
       "      <td>27.936324</td>\n",
       "      <td>7.242816</td>\n",
       "      <td>CCCc1ccc(Br)cc1S(=O)(=O)Nc1onc(C)c1C</td>\n",
       "      <td>MQPPPSLCGRALVALVLACGLSRIWGEERGFPPDRATPLLQTAEIM...</td>\n",
       "      <td>Homo sapiens</td>\n",
       "      <td>NaN</td>\n",
       "      <td>...</td>\n",
       "      <td>0</td>\n",
       "      <td>0</td>\n",
       "      <td>0</td>\n",
       "      <td>0</td>\n",
       "      <td>0</td>\n",
       "      <td>0</td>\n",
       "      <td>0</td>\n",
       "      <td>0</td>\n",
       "      <td>0</td>\n",
       "      <td>0</td>\n",
       "    </tr>\n",
       "    <tr>\n",
       "      <th>153956</th>\n",
       "      <td>872669.450093</td>\n",
       "      <td>1.264663e+08</td>\n",
       "      <td>1.413000e+02</td>\n",
       "      <td>362878.629538</td>\n",
       "      <td>27.936324</td>\n",
       "      <td>7.242816</td>\n",
       "      <td>Oc1ccc2C[C@H]3N(CC=C)CC[C@@]45[C@@H](Oc1c24)C(...</td>\n",
       "      <td>MEPAPSAGAELQPPLFANASDAYPSACPSAGANASGPPGARSASSL...</td>\n",
       "      <td>NaN</td>\n",
       "      <td>NaN</td>\n",
       "      <td>...</td>\n",
       "      <td>0</td>\n",
       "      <td>0</td>\n",
       "      <td>0</td>\n",
       "      <td>0</td>\n",
       "      <td>0</td>\n",
       "      <td>0</td>\n",
       "      <td>0</td>\n",
       "      <td>0</td>\n",
       "      <td>0</td>\n",
       "      <td>0</td>\n",
       "    </tr>\n",
       "    <tr>\n",
       "      <th>850382</th>\n",
       "      <td>872669.450093</td>\n",
       "      <td>1.264663e+08</td>\n",
       "      <td>5.600000e+01</td>\n",
       "      <td>362878.629538</td>\n",
       "      <td>27.936324</td>\n",
       "      <td>7.242816</td>\n",
       "      <td>Cc1cc(O)cc(C)c1C[C@H](N)C(=O)NCCCCc1nc(C)c(CCc...</td>\n",
       "      <td>MEPAPSAGAELQPPLFANASDAYPSACPSAGANASGPPGARSASSL...</td>\n",
       "      <td>NaN</td>\n",
       "      <td>NaN</td>\n",
       "      <td>...</td>\n",
       "      <td>0</td>\n",
       "      <td>0</td>\n",
       "      <td>0</td>\n",
       "      <td>0</td>\n",
       "      <td>0</td>\n",
       "      <td>0</td>\n",
       "      <td>0</td>\n",
       "      <td>0</td>\n",
       "      <td>0</td>\n",
       "      <td>0</td>\n",
       "    </tr>\n",
       "    <tr>\n",
       "      <th>1145273</th>\n",
       "      <td>872669.450093</td>\n",
       "      <td>3.000000e+04</td>\n",
       "      <td>1.941028e+06</td>\n",
       "      <td>362878.629538</td>\n",
       "      <td>27.936324</td>\n",
       "      <td>7.242816</td>\n",
       "      <td>CNc1nc(NC(=O)Nc2ccccc2)n2nc(nc2n1)-c1ccco1</td>\n",
       "      <td>MLLETQDALYVALELVIAALSVAGNVLVCAAVGTANTLQTPTNYFL...</td>\n",
       "      <td>Homo sapiens</td>\n",
       "      <td>NaN</td>\n",
       "      <td>...</td>\n",
       "      <td>0</td>\n",
       "      <td>0</td>\n",
       "      <td>0</td>\n",
       "      <td>0</td>\n",
       "      <td>0</td>\n",
       "      <td>0</td>\n",
       "      <td>0</td>\n",
       "      <td>0</td>\n",
       "      <td>0</td>\n",
       "      <td>0</td>\n",
       "    </tr>\n",
       "  </tbody>\n",
       "</table>\n",
       "<p>5 rows × 127 columns</p>\n",
       "</div>"
      ],
      "text/plain": [
       "                    Kd          IC50            Ki           EC50       Temp  \\\n",
       "177623   872669.450093  1.264663e+08  1.000000e+04  362878.629538  27.936324   \n",
       "1172701  872669.450093  2.600000e+04  1.941028e+06  362878.629538  27.936324   \n",
       "153956   872669.450093  1.264663e+08  1.413000e+02  362878.629538  27.936324   \n",
       "850382   872669.450093  1.264663e+08  5.600000e+01  362878.629538  27.936324   \n",
       "1145273  872669.450093  3.000000e+04  1.941028e+06  362878.629538  27.936324   \n",
       "\n",
       "               pH                                             SMILES  \\\n",
       "177623   7.242816                             NC(CCS(O)(=O)=O)C(O)=O   \n",
       "1172701  7.242816               CCCc1ccc(Br)cc1S(=O)(=O)Nc1onc(C)c1C   \n",
       "153956   7.242816  Oc1ccc2C[C@H]3N(CC=C)CC[C@@]45[C@@H](Oc1c24)C(...   \n",
       "850382   7.242816  Cc1cc(O)cc(C)c1C[C@H](N)C(=O)NCCCCc1nc(C)c(CCc...   \n",
       "1145273  7.242816         CNc1nc(NC(=O)Nc2ccccc2)n2nc(nc2n1)-c1ccco1   \n",
       "\n",
       "                                           Target Sequence      Organism  \\\n",
       "177623   MLLWVQQALLALLLPTLLAQGEARRSRNTTRPALLRLSDYLLTNYR...  Homo sapiens   \n",
       "1172701  MQPPPSLCGRALVALVLACGLSRIWGEERGFPPDRATPLLQTAEIM...  Homo sapiens   \n",
       "153956   MEPAPSAGAELQPPLFANASDAYPSACPSAGANASGPPGARSASSL...           NaN   \n",
       "850382   MEPAPSAGAELQPPLFANASDAYPSACPSAGANASGPPGARSASSL...           NaN   \n",
       "1145273  MLLETQDALYVALELVIAALSVAGNVLVCAAVGTANTLQTPTNYFL...  Homo sapiens   \n",
       "\n",
       "         Kd_raw  ...  var_Trypanosoma brucei brucei  \\\n",
       "177623      NaN  ...                              0   \n",
       "1172701     NaN  ...                              0   \n",
       "153956      NaN  ...                              0   \n",
       "850382      NaN  ...                              0   \n",
       "1145273     NaN  ...                              0   \n",
       "\n",
       "         var_Trypanosoma brucei rhodesiense  var_Trypanosoma cruzi  \\\n",
       "177623                                    0                      0   \n",
       "1172701                                   0                      0   \n",
       "153956                                    0                      0   \n",
       "850382                                    0                      0   \n",
       "1145273                                   0                      0   \n",
       "\n",
       "         var_Vibrio fischeri  var_Vibrio harveyi  \\\n",
       "177623                     0                   0   \n",
       "1172701                    0                   0   \n",
       "153956                     0                   0   \n",
       "850382                     0                   0   \n",
       "1145273                    0                   0   \n",
       "\n",
       "         var_Woolly monkey sarcoma virus var_Xenopus sp.  \\\n",
       "177623                                 0               0   \n",
       "1172701                                0               0   \n",
       "153956                                 0               0   \n",
       "850382                                 0               0   \n",
       "1145273                                0               0   \n",
       "\n",
       "        var_Yersinia enterocolitica var_Zea mays var_sequence  \n",
       "177623                            0            0            0  \n",
       "1172701                           0            0            0  \n",
       "153956                            0            0            0  \n",
       "850382                            0            0            0  \n",
       "1145273                           0            0            0  \n",
       "\n",
       "[5 rows x 127 columns]"
      ]
     },
     "execution_count": 88,
     "metadata": {},
     "output_type": "execute_result"
    }
   ],
   "source": [
    "df_data1.head()"
   ]
  },
  {
   "cell_type": "code",
   "execution_count": 62,
   "metadata": {
    "ExecuteTime": {
     "end_time": "2020-10-05T23:10:35.284357Z",
     "start_time": "2020-10-05T23:10:35.203766Z"
    }
   },
   "outputs": [
    {
     "data": {
      "text/html": [
       "<div>\n",
       "<style scoped>\n",
       "    .dataframe tbody tr th:only-of-type {\n",
       "        vertical-align: middle;\n",
       "    }\n",
       "\n",
       "    .dataframe tbody tr th {\n",
       "        vertical-align: top;\n",
       "    }\n",
       "\n",
       "    .dataframe thead th {\n",
       "        text-align: right;\n",
       "    }\n",
       "</style>\n",
       "<table border=\"1\" class=\"dataframe\">\n",
       "  <thead>\n",
       "    <tr style=\"text-align: right;\">\n",
       "      <th></th>\n",
       "      <th>Kd</th>\n",
       "      <th>IC50</th>\n",
       "      <th>Ki</th>\n",
       "      <th>EC50</th>\n",
       "      <th>Temp</th>\n",
       "      <th>pH</th>\n",
       "      <th>magic50</th>\n",
       "      <th>smiles2morgan</th>\n",
       "      <th>drug2emb_encoder</th>\n",
       "      <th>calcPubChemFingerAll</th>\n",
       "      <th>...</th>\n",
       "      <th>var_Trypanosoma brucei brucei</th>\n",
       "      <th>var_Trypanosoma brucei rhodesiense</th>\n",
       "      <th>var_Trypanosoma cruzi</th>\n",
       "      <th>var_Vibrio fischeri</th>\n",
       "      <th>var_Vibrio harveyi</th>\n",
       "      <th>var_Woolly monkey sarcoma virus</th>\n",
       "      <th>var_Xenopus sp.</th>\n",
       "      <th>var_Yersinia enterocolitica</th>\n",
       "      <th>var_Zea mays</th>\n",
       "      <th>var_sequence</th>\n",
       "    </tr>\n",
       "  </thead>\n",
       "  <tbody>\n",
       "    <tr>\n",
       "      <th>1264617</th>\n",
       "      <td>872669.450093</td>\n",
       "      <td>2600.0</td>\n",
       "      <td>1.941028e+06</td>\n",
       "      <td>362878.629538</td>\n",
       "      <td>27.936324</td>\n",
       "      <td>7.242816</td>\n",
       "      <td>3</td>\n",
       "      <td>[0.0, 0.0, 0.0, 0.0, 0.0, 0.0, 0.0, 0.0, 0.0, ...</td>\n",
       "      <td>([1529, 838, 1701, 973, 517, 482, 587, 403, 16...</td>\n",
       "      <td>[0, 0, 0, 0, 0, 0, 0, 0, 0, 1, 1, 1, 1, 0, 0, ...</td>\n",
       "      <td>...</td>\n",
       "      <td>0</td>\n",
       "      <td>0</td>\n",
       "      <td>0</td>\n",
       "      <td>0</td>\n",
       "      <td>0</td>\n",
       "      <td>0</td>\n",
       "      <td>0</td>\n",
       "      <td>0</td>\n",
       "      <td>0</td>\n",
       "      <td>0</td>\n",
       "    </tr>\n",
       "    <tr>\n",
       "      <th>1533686</th>\n",
       "      <td>872669.450093</td>\n",
       "      <td>43.0</td>\n",
       "      <td>1.941028e+06</td>\n",
       "      <td>362878.629538</td>\n",
       "      <td>27.936324</td>\n",
       "      <td>7.242816</td>\n",
       "      <td>1</td>\n",
       "      <td>[0.0, 0.0, 0.0, 0.0, 0.0, 0.0, 0.0, 0.0, 0.0, ...</td>\n",
       "      <td>([450, 205, 221, 538, 2068, 290, 37, 35, 168, ...</td>\n",
       "      <td>[0, 0, 0, 0, 0, 0, 0, 0, 0, 1, 1, 0, 0, 0, 1, ...</td>\n",
       "      <td>...</td>\n",
       "      <td>0</td>\n",
       "      <td>0</td>\n",
       "      <td>0</td>\n",
       "      <td>0</td>\n",
       "      <td>0</td>\n",
       "      <td>0</td>\n",
       "      <td>0</td>\n",
       "      <td>0</td>\n",
       "      <td>0</td>\n",
       "      <td>0</td>\n",
       "    </tr>\n",
       "    <tr>\n",
       "      <th>1125111</th>\n",
       "      <td>872669.450093</td>\n",
       "      <td>9700.0</td>\n",
       "      <td>1.941028e+06</td>\n",
       "      <td>362878.629538</td>\n",
       "      <td>27.936324</td>\n",
       "      <td>7.242816</td>\n",
       "      <td>3</td>\n",
       "      <td>[0.0, 0.0, 0.0, 0.0, 0.0, 0.0, 0.0, 0.0, 0.0, ...</td>\n",
       "      <td>([54, 32, 200, 35, 295, 370, 246, 646, 123, 99...</td>\n",
       "      <td>[0, 0, 0, 0, 0, 0, 0, 0, 0, 0, 0, 0, 0, 0, 0, ...</td>\n",
       "      <td>...</td>\n",
       "      <td>0</td>\n",
       "      <td>0</td>\n",
       "      <td>0</td>\n",
       "      <td>0</td>\n",
       "      <td>0</td>\n",
       "      <td>0</td>\n",
       "      <td>0</td>\n",
       "      <td>0</td>\n",
       "      <td>0</td>\n",
       "      <td>0</td>\n",
       "    </tr>\n",
       "    <tr>\n",
       "      <th>225474</th>\n",
       "      <td>872669.450093</td>\n",
       "      <td>6.3</td>\n",
       "      <td>1.941028e+06</td>\n",
       "      <td>362878.629538</td>\n",
       "      <td>27.936324</td>\n",
       "      <td>7.400000</td>\n",
       "      <td>0</td>\n",
       "      <td>[0.0, 0.0, 0.0, 0.0, 0.0, 0.0, 0.0, 0.0, 0.0, ...</td>\n",
       "      <td>([43, 517, 164, 106, 168, 381, 266, 381, 343, ...</td>\n",
       "      <td>[0, 0, 0, 0, 0, 0, 0, 0, 0, 1, 1, 1, 0, 0, 1, ...</td>\n",
       "      <td>...</td>\n",
       "      <td>0</td>\n",
       "      <td>0</td>\n",
       "      <td>0</td>\n",
       "      <td>0</td>\n",
       "      <td>0</td>\n",
       "      <td>0</td>\n",
       "      <td>0</td>\n",
       "      <td>0</td>\n",
       "      <td>0</td>\n",
       "      <td>0</td>\n",
       "    </tr>\n",
       "    <tr>\n",
       "      <th>652860</th>\n",
       "      <td>872669.450093</td>\n",
       "      <td>100.0</td>\n",
       "      <td>1.941028e+06</td>\n",
       "      <td>362878.629538</td>\n",
       "      <td>27.936324</td>\n",
       "      <td>7.242816</td>\n",
       "      <td>2</td>\n",
       "      <td>[1.0, 0.0, 0.0, 0.0, 1.0, 1.0, 0.0, 0.0, 0.0, ...</td>\n",
       "      <td>([1043, 343, 158, 78, 97, 133, 99, 1074, 139, ...</td>\n",
       "      <td>[0, 0, 0, 0, 0, 0, 0, 0, 0, 1, 1, 1, 0, 0, 1, ...</td>\n",
       "      <td>...</td>\n",
       "      <td>0</td>\n",
       "      <td>0</td>\n",
       "      <td>0</td>\n",
       "      <td>0</td>\n",
       "      <td>0</td>\n",
       "      <td>0</td>\n",
       "      <td>0</td>\n",
       "      <td>0</td>\n",
       "      <td>0</td>\n",
       "      <td>0</td>\n",
       "    </tr>\n",
       "  </tbody>\n",
       "</table>\n",
       "<p>5 rows × 116 columns</p>\n",
       "</div>"
      ],
      "text/plain": [
       "                    Kd    IC50            Ki           EC50       Temp  \\\n",
       "1264617  872669.450093  2600.0  1.941028e+06  362878.629538  27.936324   \n",
       "1533686  872669.450093    43.0  1.941028e+06  362878.629538  27.936324   \n",
       "1125111  872669.450093  9700.0  1.941028e+06  362878.629538  27.936324   \n",
       "225474   872669.450093     6.3  1.941028e+06  362878.629538  27.936324   \n",
       "652860   872669.450093   100.0  1.941028e+06  362878.629538  27.936324   \n",
       "\n",
       "               pH  magic50                                      smiles2morgan  \\\n",
       "1264617  7.242816        3  [0.0, 0.0, 0.0, 0.0, 0.0, 0.0, 0.0, 0.0, 0.0, ...   \n",
       "1533686  7.242816        1  [0.0, 0.0, 0.0, 0.0, 0.0, 0.0, 0.0, 0.0, 0.0, ...   \n",
       "1125111  7.242816        3  [0.0, 0.0, 0.0, 0.0, 0.0, 0.0, 0.0, 0.0, 0.0, ...   \n",
       "225474   7.400000        0  [0.0, 0.0, 0.0, 0.0, 0.0, 0.0, 0.0, 0.0, 0.0, ...   \n",
       "652860   7.242816        2  [1.0, 0.0, 0.0, 0.0, 1.0, 1.0, 0.0, 0.0, 0.0, ...   \n",
       "\n",
       "                                          drug2emb_encoder  \\\n",
       "1264617  ([1529, 838, 1701, 973, 517, 482, 587, 403, 16...   \n",
       "1533686  ([450, 205, 221, 538, 2068, 290, 37, 35, 168, ...   \n",
       "1125111  ([54, 32, 200, 35, 295, 370, 246, 646, 123, 99...   \n",
       "225474   ([43, 517, 164, 106, 168, 381, 266, 381, 343, ...   \n",
       "652860   ([1043, 343, 158, 78, 97, 133, 99, 1074, 139, ...   \n",
       "\n",
       "                                      calcPubChemFingerAll  ...  \\\n",
       "1264617  [0, 0, 0, 0, 0, 0, 0, 0, 0, 1, 1, 1, 1, 0, 0, ...  ...   \n",
       "1533686  [0, 0, 0, 0, 0, 0, 0, 0, 0, 1, 1, 0, 0, 0, 1, ...  ...   \n",
       "1125111  [0, 0, 0, 0, 0, 0, 0, 0, 0, 0, 0, 0, 0, 0, 0, ...  ...   \n",
       "225474   [0, 0, 0, 0, 0, 0, 0, 0, 0, 1, 1, 1, 0, 0, 1, ...  ...   \n",
       "652860   [0, 0, 0, 0, 0, 0, 0, 0, 0, 1, 1, 1, 0, 0, 1, ...  ...   \n",
       "\n",
       "        var_Trypanosoma brucei brucei var_Trypanosoma brucei rhodesiense  \\\n",
       "1264617                             0                                  0   \n",
       "1533686                             0                                  0   \n",
       "1125111                             0                                  0   \n",
       "225474                              0                                  0   \n",
       "652860                              0                                  0   \n",
       "\n",
       "        var_Trypanosoma cruzi var_Vibrio fischeri var_Vibrio harveyi  \\\n",
       "1264617                     0                   0                  0   \n",
       "1533686                     0                   0                  0   \n",
       "1125111                     0                   0                  0   \n",
       "225474                      0                   0                  0   \n",
       "652860                      0                   0                  0   \n",
       "\n",
       "         var_Woolly monkey sarcoma virus  var_Xenopus sp.  \\\n",
       "1264617                                0                0   \n",
       "1533686                                0                0   \n",
       "1125111                                0                0   \n",
       "225474                                 0                0   \n",
       "652860                                 0                0   \n",
       "\n",
       "         var_Yersinia enterocolitica  var_Zea mays  var_sequence  \n",
       "1264617                            0             0             0  \n",
       "1533686                            0             0             0  \n",
       "1125111                            0             0             0  \n",
       "225474                             0             0             0  \n",
       "652860                             0             0             0  \n",
       "\n",
       "[5 rows x 116 columns]"
      ]
     },
     "execution_count": 62,
     "metadata": {},
     "output_type": "execute_result"
    }
   ],
   "source": [
    "discard=['SMILES','Target Sequence','Organism','trans_drug','trans_protein','pH_raw','Kd_raw','IC50_raw','Ki_raw','EC50_raw','Temp_raw']\n",
    "df_vars=df_data1.columns.values.tolist()\n",
    "to_keep=[i for i in df_vars if i not in discard]\n",
    "df_final=df_data1[to_keep]\n",
    "df_final.head()"
   ]
  },
  {
   "cell_type": "code",
   "execution_count": 86,
   "metadata": {
    "ExecuteTime": {
     "end_time": "2020-10-05T23:47:05.754767Z",
     "start_time": "2020-10-05T23:46:58.397583Z"
    }
   },
   "outputs": [
    {
     "data": {
      "text/html": [
       "<div>\n",
       "<style scoped>\n",
       "    .dataframe tbody tr th:only-of-type {\n",
       "        vertical-align: middle;\n",
       "    }\n",
       "\n",
       "    .dataframe tbody tr th {\n",
       "        vertical-align: top;\n",
       "    }\n",
       "\n",
       "    .dataframe thead th {\n",
       "        text-align: right;\n",
       "    }\n",
       "</style>\n",
       "<table border=\"1\" class=\"dataframe\">\n",
       "  <thead>\n",
       "    <tr style=\"text-align: right;\">\n",
       "      <th></th>\n",
       "      <th>Kd</th>\n",
       "      <th>IC50</th>\n",
       "      <th>Ki</th>\n",
       "      <th>EC50</th>\n",
       "      <th>Temp</th>\n",
       "      <th>pH</th>\n",
       "      <th>SMILES</th>\n",
       "      <th>Target Sequence</th>\n",
       "      <th>Organism</th>\n",
       "      <th>Kd_raw</th>\n",
       "      <th>...</th>\n",
       "      <th>smiles2morgan</th>\n",
       "      <th>trans_drug</th>\n",
       "      <th>drug2emb_encoder</th>\n",
       "      <th>calcPubChemFingerAll</th>\n",
       "      <th>smiles2mpnnfeature</th>\n",
       "      <th>smiles2daylight</th>\n",
       "      <th>CalculateConjointTriad</th>\n",
       "      <th>trans_protein</th>\n",
       "      <th>protein2emb_encoder</th>\n",
       "      <th>target2quasi</th>\n",
       "    </tr>\n",
       "  </thead>\n",
       "  <tbody>\n",
       "    <tr>\n",
       "      <th>177623</th>\n",
       "      <td>872669.450093</td>\n",
       "      <td>1.264663e+08</td>\n",
       "      <td>1.000000e+04</td>\n",
       "      <td>362878.629538</td>\n",
       "      <td>27.936324</td>\n",
       "      <td>7.242816</td>\n",
       "      <td>NC(CCS(O)(=O)=O)C(O)=O</td>\n",
       "      <td>MLLWVQQALLALLLPTLLAQGEARRSRNTTRPALLRLSDYLLTNYR...</td>\n",
       "      <td>Homo sapiens</td>\n",
       "      <td>NaN</td>\n",
       "      <td>...</td>\n",
       "      <td>[0.0, 1.0, 0.0, 0.0, 0.0, 0.0, 0.0, 0.0, 0.0, ...</td>\n",
       "      <td>[N, C, (, C, C, S, (, O, ), (, =, O, ), =, O, ...</td>\n",
       "      <td>([117, 80, 22, 96, 1049, 43, 96, 180, 0, 0, 0,...</td>\n",
       "      <td>[0, 0, 0, 0, 0, 0, 0, 0, 0, 1, 1, 0, 0, 0, 1, ...</td>\n",
       "      <td>[[[tensor(0.), tensor(1.), tensor(0.), tensor(...</td>\n",
       "      <td>[1.0, 0.0, 0.0, 0.0, 1.0, 0.0, 0.0, 0.0, 0.0, ...</td>\n",
       "      <td>[0, 5, 4, 0, 3, 0, 2, 4, 8, 4, 1, 1, 3, 0, 5, ...</td>\n",
       "      <td>[M, L, L, W, V, Q, Q, A, L, L, A, L, L, L, P, ...</td>\n",
       "      <td>([780, 23, 1062, 176, 1066, 231, 2689, 180, 48...</td>\n",
       "      <td>[0.000103, 0.000139, 7.1e-05, 0.000107, 3.6e-0...</td>\n",
       "    </tr>\n",
       "    <tr>\n",
       "      <th>1172701</th>\n",
       "      <td>872669.450093</td>\n",
       "      <td>2.600000e+04</td>\n",
       "      <td>1.941028e+06</td>\n",
       "      <td>362878.629538</td>\n",
       "      <td>27.936324</td>\n",
       "      <td>7.242816</td>\n",
       "      <td>CCCc1ccc(Br)cc1S(=O)(=O)Nc1onc(C)c1C</td>\n",
       "      <td>MQPPPSLCGRALVALVLACGLSRIWGEERGFPPDRATPLLQTAEIM...</td>\n",
       "      <td>Homo sapiens</td>\n",
       "      <td>NaN</td>\n",
       "      <td>...</td>\n",
       "      <td>[0.0, 0.0, 0.0, 0.0, 0.0, 0.0, 0.0, 0.0, 0.0, ...</td>\n",
       "      <td>[C, C, C, c, 1, c, c, c, (, B, r, ), c, c, 1, ...</td>\n",
       "      <td>([103, 95, 1816, 195, 1144, 574, 445, 0, 0, 0,...</td>\n",
       "      <td>[0, 0, 0, 0, 0, 0, 0, 0, 0, 1, 1, 0, 0, 0, 1, ...</td>\n",
       "      <td>[[[tensor(1.), tensor(0.), tensor(0.), tensor(...</td>\n",
       "      <td>[1.0, 0.0, 1.0, 1.0, 0.0, 1.0, 0.0, 1.0, 1.0, ...</td>\n",
       "      <td>[1, 5, 4, 0, 1, 2, 0, 9, 6, 7, 3, 2, 4, 2, 2, ...</td>\n",
       "      <td>[M, Q, P, P, P, S, L, C, G, R, A, L, V, A, L, ...</td>\n",
       "      <td>([300, 715, 31, 152, 401, 356, 28, 173, 367, 1...</td>\n",
       "      <td>[0.000168, 0.000108, 9.8e-05, 7.7e-05, 0.00010...</td>\n",
       "    </tr>\n",
       "    <tr>\n",
       "      <th>153956</th>\n",
       "      <td>872669.450093</td>\n",
       "      <td>1.264663e+08</td>\n",
       "      <td>1.413000e+02</td>\n",
       "      <td>362878.629538</td>\n",
       "      <td>27.936324</td>\n",
       "      <td>7.242816</td>\n",
       "      <td>Oc1ccc2C[C@H]3N(CC=C)CC[C@@]45[C@@H](Oc1c24)C(...</td>\n",
       "      <td>MEPAPSAGAELQPPLFANASDAYPSACPSAGANASGPPGARSASSL...</td>\n",
       "      <td>NaN</td>\n",
       "      <td>NaN</td>\n",
       "      <td>...</td>\n",
       "      <td>[0.0, 0.0, 0.0, 0.0, 0.0, 0.0, 0.0, 0.0, 0.0, ...</td>\n",
       "      <td>[O, c, 1, c, c, c, 2, C, [, C, ?, H, ], 3, N, ...</td>\n",
       "      <td>([54, 856, 269, 261, 85, 284, 526, 6, 459, 785...</td>\n",
       "      <td>[0, 0, 0, 0, 0, 0, 0, 0, 0, 1, 1, 1, 0, 0, 1, ...</td>\n",
       "      <td>[[[tensor(0.), tensor(0.), tensor(1.), tensor(...</td>\n",
       "      <td>[1.0, 0.0, 1.0, 0.0, 0.0, 0.0, 0.0, 1.0, 1.0, ...</td>\n",
       "      <td>[9, 6, 1, 1, 1, 1, 4, 12, 7, 6, 1, 0, 1, 0, 6,...</td>\n",
       "      <td>[M, E, P, A, P, S, A, G, A, E, L, Q, P, P, L, ...</td>\n",
       "      <td>([3426, 404, 41, 233, 163, 47, 1470, 763, 114,...</td>\n",
       "      <td>[0.000399, 0.000196, 8.5e-05, 0.00012, 0.00012...</td>\n",
       "    </tr>\n",
       "    <tr>\n",
       "      <th>850382</th>\n",
       "      <td>872669.450093</td>\n",
       "      <td>1.264663e+08</td>\n",
       "      <td>5.600000e+01</td>\n",
       "      <td>362878.629538</td>\n",
       "      <td>27.936324</td>\n",
       "      <td>7.242816</td>\n",
       "      <td>Cc1cc(O)cc(C)c1C[C@H](N)C(=O)NCCCCc1nc(C)c(CCc...</td>\n",
       "      <td>MEPAPSAGAELQPPLFANASDAYPSACPSAGANASGPPGARSASSL...</td>\n",
       "      <td>NaN</td>\n",
       "      <td>NaN</td>\n",
       "      <td>...</td>\n",
       "      <td>[0.0, 1.0, 0.0, 0.0, 0.0, 0.0, 0.0, 0.0, 0.0, ...</td>\n",
       "      <td>[C, c, 1, c, c, (, O, ), c, c, (, C, ), c, 1, ...</td>\n",
       "      <td>([457, 225, 72, 445, 664, 2581, 1548, 1685, 26...</td>\n",
       "      <td>[0, 0, 0, 0, 0, 0, 0, 0, 0, 1, 1, 1, 0, 0, 1, ...</td>\n",
       "      <td>[[[tensor(1.), tensor(0.), tensor(0.), tensor(...</td>\n",
       "      <td>[1.0, 0.0, 0.0, 0.0, 1.0, 1.0, 1.0, 0.0, 1.0, ...</td>\n",
       "      <td>[9, 6, 1, 1, 1, 1, 4, 12, 7, 6, 1, 0, 1, 0, 6,...</td>\n",
       "      <td>[M, E, P, A, P, S, A, G, A, E, L, Q, P, P, L, ...</td>\n",
       "      <td>([3426, 404, 41, 233, 163, 47, 1470, 763, 114,...</td>\n",
       "      <td>[0.000399, 0.000196, 8.5e-05, 0.00012, 0.00012...</td>\n",
       "    </tr>\n",
       "    <tr>\n",
       "      <th>1145273</th>\n",
       "      <td>872669.450093</td>\n",
       "      <td>3.000000e+04</td>\n",
       "      <td>1.941028e+06</td>\n",
       "      <td>362878.629538</td>\n",
       "      <td>27.936324</td>\n",
       "      <td>7.242816</td>\n",
       "      <td>CNc1nc(NC(=O)Nc2ccccc2)n2nc(nc2n1)-c1ccco1</td>\n",
       "      <td>MLLETQDALYVALELVIAALSVAGNVLVCAAVGTANTLQTPTNYFL...</td>\n",
       "      <td>Homo sapiens</td>\n",
       "      <td>NaN</td>\n",
       "      <td>...</td>\n",
       "      <td>[0.0, 0.0, 0.0, 0.0, 0.0, 0.0, 0.0, 0.0, 0.0, ...</td>\n",
       "      <td>[C, N, c, 1, n, c, (, N, C, (, =, O, ), N, c, ...</td>\n",
       "      <td>([2275, 249, 265, 1460, 187, 593, 35, 127, 27,...</td>\n",
       "      <td>[0, 0, 0, 0, 0, 0, 0, 0, 0, 1, 0, 0, 0, 0, 1, ...</td>\n",
       "      <td>[[[tensor(1.), tensor(0.), tensor(0.), tensor(...</td>\n",
       "      <td>[1.0, 0.0, 1.0, 0.0, 1.0, 1.0, 1.0, 1.0, 0.0, ...</td>\n",
       "      <td>[7, 8, 1, 4, 1, 2, 1, 7, 6, 7, 1, 0, 1, 3, 3, ...</td>\n",
       "      <td>[M, L, L, E, T, Q, D, A, L, Y, V, A, L, E, L, ...</td>\n",
       "      <td>([780, 263, 156, 1376, 356, 30, 57, 183, 290, ...</td>\n",
       "      <td>[0.000416, 0.000139, 0.000185, 0.000104, 0.000...</td>\n",
       "    </tr>\n",
       "  </tbody>\n",
       "</table>\n",
       "<p>5 rows × 26 columns</p>\n",
       "</div>"
      ],
      "text/plain": [
       "                    Kd          IC50            Ki           EC50       Temp  \\\n",
       "177623   872669.450093  1.264663e+08  1.000000e+04  362878.629538  27.936324   \n",
       "1172701  872669.450093  2.600000e+04  1.941028e+06  362878.629538  27.936324   \n",
       "153956   872669.450093  1.264663e+08  1.413000e+02  362878.629538  27.936324   \n",
       "850382   872669.450093  1.264663e+08  5.600000e+01  362878.629538  27.936324   \n",
       "1145273  872669.450093  3.000000e+04  1.941028e+06  362878.629538  27.936324   \n",
       "\n",
       "               pH                                             SMILES  \\\n",
       "177623   7.242816                             NC(CCS(O)(=O)=O)C(O)=O   \n",
       "1172701  7.242816               CCCc1ccc(Br)cc1S(=O)(=O)Nc1onc(C)c1C   \n",
       "153956   7.242816  Oc1ccc2C[C@H]3N(CC=C)CC[C@@]45[C@@H](Oc1c24)C(...   \n",
       "850382   7.242816  Cc1cc(O)cc(C)c1C[C@H](N)C(=O)NCCCCc1nc(C)c(CCc...   \n",
       "1145273  7.242816         CNc1nc(NC(=O)Nc2ccccc2)n2nc(nc2n1)-c1ccco1   \n",
       "\n",
       "                                           Target Sequence      Organism  \\\n",
       "177623   MLLWVQQALLALLLPTLLAQGEARRSRNTTRPALLRLSDYLLTNYR...  Homo sapiens   \n",
       "1172701  MQPPPSLCGRALVALVLACGLSRIWGEERGFPPDRATPLLQTAEIM...  Homo sapiens   \n",
       "153956   MEPAPSAGAELQPPLFANASDAYPSACPSAGANASGPPGARSASSL...           NaN   \n",
       "850382   MEPAPSAGAELQPPLFANASDAYPSACPSAGANASGPPGARSASSL...           NaN   \n",
       "1145273  MLLETQDALYVALELVIAALSVAGNVLVCAAVGTANTLQTPTNYFL...  Homo sapiens   \n",
       "\n",
       "         Kd_raw  ...                                      smiles2morgan  \\\n",
       "177623      NaN  ...  [0.0, 1.0, 0.0, 0.0, 0.0, 0.0, 0.0, 0.0, 0.0, ...   \n",
       "1172701     NaN  ...  [0.0, 0.0, 0.0, 0.0, 0.0, 0.0, 0.0, 0.0, 0.0, ...   \n",
       "153956      NaN  ...  [0.0, 0.0, 0.0, 0.0, 0.0, 0.0, 0.0, 0.0, 0.0, ...   \n",
       "850382      NaN  ...  [0.0, 1.0, 0.0, 0.0, 0.0, 0.0, 0.0, 0.0, 0.0, ...   \n",
       "1145273     NaN  ...  [0.0, 0.0, 0.0, 0.0, 0.0, 0.0, 0.0, 0.0, 0.0, ...   \n",
       "\n",
       "                                                trans_drug  \\\n",
       "177623   [N, C, (, C, C, S, (, O, ), (, =, O, ), =, O, ...   \n",
       "1172701  [C, C, C, c, 1, c, c, c, (, B, r, ), c, c, 1, ...   \n",
       "153956   [O, c, 1, c, c, c, 2, C, [, C, ?, H, ], 3, N, ...   \n",
       "850382   [C, c, 1, c, c, (, O, ), c, c, (, C, ), c, 1, ...   \n",
       "1145273  [C, N, c, 1, n, c, (, N, C, (, =, O, ), N, c, ...   \n",
       "\n",
       "                                          drug2emb_encoder  \\\n",
       "177623   ([117, 80, 22, 96, 1049, 43, 96, 180, 0, 0, 0,...   \n",
       "1172701  ([103, 95, 1816, 195, 1144, 574, 445, 0, 0, 0,...   \n",
       "153956   ([54, 856, 269, 261, 85, 284, 526, 6, 459, 785...   \n",
       "850382   ([457, 225, 72, 445, 664, 2581, 1548, 1685, 26...   \n",
       "1145273  ([2275, 249, 265, 1460, 187, 593, 35, 127, 27,...   \n",
       "\n",
       "                                      calcPubChemFingerAll  \\\n",
       "177623   [0, 0, 0, 0, 0, 0, 0, 0, 0, 1, 1, 0, 0, 0, 1, ...   \n",
       "1172701  [0, 0, 0, 0, 0, 0, 0, 0, 0, 1, 1, 0, 0, 0, 1, ...   \n",
       "153956   [0, 0, 0, 0, 0, 0, 0, 0, 0, 1, 1, 1, 0, 0, 1, ...   \n",
       "850382   [0, 0, 0, 0, 0, 0, 0, 0, 0, 1, 1, 1, 0, 0, 1, ...   \n",
       "1145273  [0, 0, 0, 0, 0, 0, 0, 0, 0, 1, 0, 0, 0, 0, 1, ...   \n",
       "\n",
       "                                        smiles2mpnnfeature  \\\n",
       "177623   [[[tensor(0.), tensor(1.), tensor(0.), tensor(...   \n",
       "1172701  [[[tensor(1.), tensor(0.), tensor(0.), tensor(...   \n",
       "153956   [[[tensor(0.), tensor(0.), tensor(1.), tensor(...   \n",
       "850382   [[[tensor(1.), tensor(0.), tensor(0.), tensor(...   \n",
       "1145273  [[[tensor(1.), tensor(0.), tensor(0.), tensor(...   \n",
       "\n",
       "                                           smiles2daylight  \\\n",
       "177623   [1.0, 0.0, 0.0, 0.0, 1.0, 0.0, 0.0, 0.0, 0.0, ...   \n",
       "1172701  [1.0, 0.0, 1.0, 1.0, 0.0, 1.0, 0.0, 1.0, 1.0, ...   \n",
       "153956   [1.0, 0.0, 1.0, 0.0, 0.0, 0.0, 0.0, 1.0, 1.0, ...   \n",
       "850382   [1.0, 0.0, 0.0, 0.0, 1.0, 1.0, 1.0, 0.0, 1.0, ...   \n",
       "1145273  [1.0, 0.0, 1.0, 0.0, 1.0, 1.0, 1.0, 1.0, 0.0, ...   \n",
       "\n",
       "                                    CalculateConjointTriad  \\\n",
       "177623   [0, 5, 4, 0, 3, 0, 2, 4, 8, 4, 1, 1, 3, 0, 5, ...   \n",
       "1172701  [1, 5, 4, 0, 1, 2, 0, 9, 6, 7, 3, 2, 4, 2, 2, ...   \n",
       "153956   [9, 6, 1, 1, 1, 1, 4, 12, 7, 6, 1, 0, 1, 0, 6,...   \n",
       "850382   [9, 6, 1, 1, 1, 1, 4, 12, 7, 6, 1, 0, 1, 0, 6,...   \n",
       "1145273  [7, 8, 1, 4, 1, 2, 1, 7, 6, 7, 1, 0, 1, 3, 3, ...   \n",
       "\n",
       "                                             trans_protein  \\\n",
       "177623   [M, L, L, W, V, Q, Q, A, L, L, A, L, L, L, P, ...   \n",
       "1172701  [M, Q, P, P, P, S, L, C, G, R, A, L, V, A, L, ...   \n",
       "153956   [M, E, P, A, P, S, A, G, A, E, L, Q, P, P, L, ...   \n",
       "850382   [M, E, P, A, P, S, A, G, A, E, L, Q, P, P, L, ...   \n",
       "1145273  [M, L, L, E, T, Q, D, A, L, Y, V, A, L, E, L, ...   \n",
       "\n",
       "                                       protein2emb_encoder  \\\n",
       "177623   ([780, 23, 1062, 176, 1066, 231, 2689, 180, 48...   \n",
       "1172701  ([300, 715, 31, 152, 401, 356, 28, 173, 367, 1...   \n",
       "153956   ([3426, 404, 41, 233, 163, 47, 1470, 763, 114,...   \n",
       "850382   ([3426, 404, 41, 233, 163, 47, 1470, 763, 114,...   \n",
       "1145273  ([780, 263, 156, 1376, 356, 30, 57, 183, 290, ...   \n",
       "\n",
       "                                              target2quasi  \n",
       "177623   [0.000103, 0.000139, 7.1e-05, 0.000107, 3.6e-0...  \n",
       "1172701  [0.000168, 0.000108, 9.8e-05, 7.7e-05, 0.00010...  \n",
       "153956   [0.000399, 0.000196, 8.5e-05, 0.00012, 0.00012...  \n",
       "850382   [0.000399, 0.000196, 8.5e-05, 0.00012, 0.00012...  \n",
       "1145273  [0.000416, 0.000139, 0.000185, 0.000104, 0.000...  \n",
       "\n",
       "[5 rows x 26 columns]"
      ]
     },
     "execution_count": 86,
     "metadata": {},
     "output_type": "execute_result"
    }
   ],
   "source": [
    "#X[\"smiles2morgan\"].iloc[1]\n",
    "df_data.head()"
   ]
  },
  {
   "cell_type": "code",
   "execution_count": 75,
   "metadata": {
    "ExecuteTime": {
     "end_time": "2020-10-05T23:22:04.063045Z",
     "start_time": "2020-10-05T23:22:04.050510Z"
    }
   },
   "outputs": [],
   "source": [
    "def flattener(x):\n",
    "    if isinstance(x, collections.Iterable):\n",
    "        if isinstance(x,torch.Tensor):\n",
    "            y = x.numpy()\n",
    "            return [a for i in y for a in flattener(i)]\n",
    "        else:\n",
    "            return [a for i in x for a in flattener(i)]\n",
    "    else:\n",
    "        return [x] "
   ]
  },
  {
   "cell_type": "code",
   "execution_count": 95,
   "metadata": {
    "ExecuteTime": {
     "end_time": "2020-10-05T23:53:44.409241Z",
     "start_time": "2020-10-05T23:53:44.379200Z"
    }
   },
   "outputs": [],
   "source": [
    "X = df_final.drop([\"IC50\",\"magic50\",\"smiles2mpnnfeature\",\"Kd\",\"Ki\",\"EC50\"], axis=1)"
   ]
  },
  {
   "cell_type": "code",
   "execution_count": 96,
   "metadata": {
    "ExecuteTime": {
     "end_time": "2020-10-05T23:53:47.050381Z",
     "start_time": "2020-10-05T23:53:46.928129Z"
    }
   },
   "outputs": [
    {
     "data": {
      "text/html": [
       "<div>\n",
       "<style scoped>\n",
       "    .dataframe tbody tr th:only-of-type {\n",
       "        vertical-align: middle;\n",
       "    }\n",
       "\n",
       "    .dataframe tbody tr th {\n",
       "        vertical-align: top;\n",
       "    }\n",
       "\n",
       "    .dataframe thead th {\n",
       "        text-align: right;\n",
       "    }\n",
       "</style>\n",
       "<table border=\"1\" class=\"dataframe\">\n",
       "  <thead>\n",
       "    <tr style=\"text-align: right;\">\n",
       "      <th></th>\n",
       "      <th>Temp</th>\n",
       "      <th>pH</th>\n",
       "      <th>smiles2morgan</th>\n",
       "      <th>drug2emb_encoder</th>\n",
       "      <th>calcPubChemFingerAll</th>\n",
       "      <th>smiles2daylight</th>\n",
       "      <th>CalculateConjointTriad</th>\n",
       "      <th>protein2emb_encoder</th>\n",
       "      <th>target2quasi</th>\n",
       "      <th>var_Agaricus bisporus</th>\n",
       "      <th>...</th>\n",
       "      <th>var_Trypanosoma brucei brucei</th>\n",
       "      <th>var_Trypanosoma brucei rhodesiense</th>\n",
       "      <th>var_Trypanosoma cruzi</th>\n",
       "      <th>var_Vibrio fischeri</th>\n",
       "      <th>var_Vibrio harveyi</th>\n",
       "      <th>var_Woolly monkey sarcoma virus</th>\n",
       "      <th>var_Xenopus sp.</th>\n",
       "      <th>var_Yersinia enterocolitica</th>\n",
       "      <th>var_Zea mays</th>\n",
       "      <th>var_sequence</th>\n",
       "    </tr>\n",
       "  </thead>\n",
       "  <tbody>\n",
       "    <tr>\n",
       "      <th>1264617</th>\n",
       "      <td>27.936324</td>\n",
       "      <td>7.242816</td>\n",
       "      <td>[0.0, 0.0, 0.0, 0.0, 0.0, 0.0, 0.0, 0.0, 0.0, ...</td>\n",
       "      <td>([1529, 838, 1701, 973, 517, 482, 587, 403, 16...</td>\n",
       "      <td>[0, 0, 0, 0, 0, 0, 0, 0, 0, 1, 1, 1, 1, 0, 0, ...</td>\n",
       "      <td>[1.0, 0.0, 0.0, 0.0, 0.0, 0.0, 0.0, 0.0, 0.0, ...</td>\n",
       "      <td>[4, 13, 9, 2, 7, 6, 1, 11, 11, 7, 6, 7, 15, 2,...</td>\n",
       "      <td>([1560, 1452, 100, 3437, 45, 252, 448, 624, 70...</td>\n",
       "      <td>[3.6e-05, 2.4e-05, 2.5e-05, 4.4e-05, 1.3e-05, ...</td>\n",
       "      <td>0</td>\n",
       "      <td>...</td>\n",
       "      <td>0</td>\n",
       "      <td>0</td>\n",
       "      <td>0</td>\n",
       "      <td>0</td>\n",
       "      <td>0</td>\n",
       "      <td>0</td>\n",
       "      <td>0</td>\n",
       "      <td>0</td>\n",
       "      <td>0</td>\n",
       "      <td>0</td>\n",
       "    </tr>\n",
       "    <tr>\n",
       "      <th>1533686</th>\n",
       "      <td>27.936324</td>\n",
       "      <td>7.242816</td>\n",
       "      <td>[0.0, 0.0, 0.0, 0.0, 0.0, 0.0, 0.0, 0.0, 0.0, ...</td>\n",
       "      <td>([450, 205, 221, 538, 2068, 290, 37, 35, 168, ...</td>\n",
       "      <td>[0, 0, 0, 0, 0, 0, 0, 0, 0, 1, 1, 0, 0, 0, 1, ...</td>\n",
       "      <td>[1.0, 0.0, 0.0, 1.0, 1.0, 1.0, 0.0, 1.0, 1.0, ...</td>\n",
       "      <td>[10, 15, 11, 6, 6, 5, 1, 14, 14, 9, 3, 2, 8, 3...</td>\n",
       "      <td>([1426, 25, 176, 176, 25, 224, 39, 345, 14, 30...</td>\n",
       "      <td>[0.000127, 8.2e-05, 3.5e-05, 4.4e-05, 4.1e-05,...</td>\n",
       "      <td>0</td>\n",
       "      <td>...</td>\n",
       "      <td>0</td>\n",
       "      <td>0</td>\n",
       "      <td>0</td>\n",
       "      <td>0</td>\n",
       "      <td>0</td>\n",
       "      <td>0</td>\n",
       "      <td>0</td>\n",
       "      <td>0</td>\n",
       "      <td>0</td>\n",
       "      <td>0</td>\n",
       "    </tr>\n",
       "    <tr>\n",
       "      <th>1125111</th>\n",
       "      <td>27.936324</td>\n",
       "      <td>7.242816</td>\n",
       "      <td>[0.0, 0.0, 0.0, 0.0, 0.0, 0.0, 0.0, 0.0, 0.0, ...</td>\n",
       "      <td>([54, 32, 200, 35, 295, 370, 246, 646, 123, 99...</td>\n",
       "      <td>[0, 0, 0, 0, 0, 0, 0, 0, 0, 0, 0, 0, 0, 0, 0, ...</td>\n",
       "      <td>[1.0, 1.0, 0.0, 1.0, 1.0, 1.0, 1.0, 0.0, 1.0, ...</td>\n",
       "      <td>[4, 5, 3, 3, 2, 2, 0, 1, 3, 5, 3, 4, 1, 0, 3, ...</td>\n",
       "      <td>([186, 44, 133, 109, 1152, 143, 83, 589, 39, 8...</td>\n",
       "      <td>[0.000147, 0.000111, 8e-05, 0.000123, 3.6e-05,...</td>\n",
       "      <td>0</td>\n",
       "      <td>...</td>\n",
       "      <td>0</td>\n",
       "      <td>0</td>\n",
       "      <td>0</td>\n",
       "      <td>0</td>\n",
       "      <td>0</td>\n",
       "      <td>0</td>\n",
       "      <td>0</td>\n",
       "      <td>0</td>\n",
       "      <td>0</td>\n",
       "      <td>0</td>\n",
       "    </tr>\n",
       "    <tr>\n",
       "      <th>225474</th>\n",
       "      <td>27.936324</td>\n",
       "      <td>7.400000</td>\n",
       "      <td>[0.0, 0.0, 0.0, 0.0, 0.0, 0.0, 0.0, 0.0, 0.0, ...</td>\n",
       "      <td>([43, 517, 164, 106, 168, 381, 266, 381, 343, ...</td>\n",
       "      <td>[0, 0, 0, 0, 0, 0, 0, 0, 0, 1, 1, 1, 0, 0, 1, ...</td>\n",
       "      <td>[1.0, 1.0, 1.0, 0.0, 0.0, 1.0, 0.0, 1.0, 1.0, ...</td>\n",
       "      <td>[4, 5, 3, 1, 1, 1, 1, 1, 7, 1, 2, 3, 5, 0, 2, ...</td>\n",
       "      <td>([874, 240, 125, 284, 43, 67, 58, 556, 1765, 8...</td>\n",
       "      <td>[0.000232, 0.000242, 7.3e-05, 0.000178, 4.1e-0...</td>\n",
       "      <td>0</td>\n",
       "      <td>...</td>\n",
       "      <td>0</td>\n",
       "      <td>0</td>\n",
       "      <td>0</td>\n",
       "      <td>0</td>\n",
       "      <td>0</td>\n",
       "      <td>0</td>\n",
       "      <td>0</td>\n",
       "      <td>0</td>\n",
       "      <td>0</td>\n",
       "      <td>0</td>\n",
       "    </tr>\n",
       "    <tr>\n",
       "      <th>652860</th>\n",
       "      <td>27.936324</td>\n",
       "      <td>7.242816</td>\n",
       "      <td>[1.0, 0.0, 0.0, 0.0, 1.0, 1.0, 0.0, 0.0, 0.0, ...</td>\n",
       "      <td>([1043, 343, 158, 78, 97, 133, 99, 1074, 139, ...</td>\n",
       "      <td>[0, 0, 0, 0, 0, 0, 0, 0, 0, 1, 1, 1, 0, 0, 1, ...</td>\n",
       "      <td>[1.0, 1.0, 0.0, 1.0, 0.0, 1.0, 1.0, 0.0, 0.0, ...</td>\n",
       "      <td>[5, 10, 2, 0, 4, 0, 2, 4, 4, 6, 0, 4, 2, 0, 4,...</td>\n",
       "      <td>([550, 487, 189, 920, 1121, 98, 44, 946, 47, 2...</td>\n",
       "      <td>[6e-05, 7.1e-05, 4.8e-05, 5.6e-05, 2.4e-05, 0....</td>\n",
       "      <td>0</td>\n",
       "      <td>...</td>\n",
       "      <td>0</td>\n",
       "      <td>0</td>\n",
       "      <td>0</td>\n",
       "      <td>0</td>\n",
       "      <td>0</td>\n",
       "      <td>0</td>\n",
       "      <td>0</td>\n",
       "      <td>0</td>\n",
       "      <td>0</td>\n",
       "      <td>0</td>\n",
       "    </tr>\n",
       "  </tbody>\n",
       "</table>\n",
       "<p>5 rows × 110 columns</p>\n",
       "</div>"
      ],
      "text/plain": [
       "              Temp        pH  \\\n",
       "1264617  27.936324  7.242816   \n",
       "1533686  27.936324  7.242816   \n",
       "1125111  27.936324  7.242816   \n",
       "225474   27.936324  7.400000   \n",
       "652860   27.936324  7.242816   \n",
       "\n",
       "                                             smiles2morgan  \\\n",
       "1264617  [0.0, 0.0, 0.0, 0.0, 0.0, 0.0, 0.0, 0.0, 0.0, ...   \n",
       "1533686  [0.0, 0.0, 0.0, 0.0, 0.0, 0.0, 0.0, 0.0, 0.0, ...   \n",
       "1125111  [0.0, 0.0, 0.0, 0.0, 0.0, 0.0, 0.0, 0.0, 0.0, ...   \n",
       "225474   [0.0, 0.0, 0.0, 0.0, 0.0, 0.0, 0.0, 0.0, 0.0, ...   \n",
       "652860   [1.0, 0.0, 0.0, 0.0, 1.0, 1.0, 0.0, 0.0, 0.0, ...   \n",
       "\n",
       "                                          drug2emb_encoder  \\\n",
       "1264617  ([1529, 838, 1701, 973, 517, 482, 587, 403, 16...   \n",
       "1533686  ([450, 205, 221, 538, 2068, 290, 37, 35, 168, ...   \n",
       "1125111  ([54, 32, 200, 35, 295, 370, 246, 646, 123, 99...   \n",
       "225474   ([43, 517, 164, 106, 168, 381, 266, 381, 343, ...   \n",
       "652860   ([1043, 343, 158, 78, 97, 133, 99, 1074, 139, ...   \n",
       "\n",
       "                                      calcPubChemFingerAll  \\\n",
       "1264617  [0, 0, 0, 0, 0, 0, 0, 0, 0, 1, 1, 1, 1, 0, 0, ...   \n",
       "1533686  [0, 0, 0, 0, 0, 0, 0, 0, 0, 1, 1, 0, 0, 0, 1, ...   \n",
       "1125111  [0, 0, 0, 0, 0, 0, 0, 0, 0, 0, 0, 0, 0, 0, 0, ...   \n",
       "225474   [0, 0, 0, 0, 0, 0, 0, 0, 0, 1, 1, 1, 0, 0, 1, ...   \n",
       "652860   [0, 0, 0, 0, 0, 0, 0, 0, 0, 1, 1, 1, 0, 0, 1, ...   \n",
       "\n",
       "                                           smiles2daylight  \\\n",
       "1264617  [1.0, 0.0, 0.0, 0.0, 0.0, 0.0, 0.0, 0.0, 0.0, ...   \n",
       "1533686  [1.0, 0.0, 0.0, 1.0, 1.0, 1.0, 0.0, 1.0, 1.0, ...   \n",
       "1125111  [1.0, 1.0, 0.0, 1.0, 1.0, 1.0, 1.0, 0.0, 1.0, ...   \n",
       "225474   [1.0, 1.0, 1.0, 0.0, 0.0, 1.0, 0.0, 1.0, 1.0, ...   \n",
       "652860   [1.0, 1.0, 0.0, 1.0, 0.0, 1.0, 1.0, 0.0, 0.0, ...   \n",
       "\n",
       "                                    CalculateConjointTriad  \\\n",
       "1264617  [4, 13, 9, 2, 7, 6, 1, 11, 11, 7, 6, 7, 15, 2,...   \n",
       "1533686  [10, 15, 11, 6, 6, 5, 1, 14, 14, 9, 3, 2, 8, 3...   \n",
       "1125111  [4, 5, 3, 3, 2, 2, 0, 1, 3, 5, 3, 4, 1, 0, 3, ...   \n",
       "225474   [4, 5, 3, 1, 1, 1, 1, 1, 7, 1, 2, 3, 5, 0, 2, ...   \n",
       "652860   [5, 10, 2, 0, 4, 0, 2, 4, 4, 6, 0, 4, 2, 0, 4,...   \n",
       "\n",
       "                                       protein2emb_encoder  \\\n",
       "1264617  ([1560, 1452, 100, 3437, 45, 252, 448, 624, 70...   \n",
       "1533686  ([1426, 25, 176, 176, 25, 224, 39, 345, 14, 30...   \n",
       "1125111  ([186, 44, 133, 109, 1152, 143, 83, 589, 39, 8...   \n",
       "225474   ([874, 240, 125, 284, 43, 67, 58, 556, 1765, 8...   \n",
       "652860   ([550, 487, 189, 920, 1121, 98, 44, 946, 47, 2...   \n",
       "\n",
       "                                              target2quasi  \\\n",
       "1264617  [3.6e-05, 2.4e-05, 2.5e-05, 4.4e-05, 1.3e-05, ...   \n",
       "1533686  [0.000127, 8.2e-05, 3.5e-05, 4.4e-05, 4.1e-05,...   \n",
       "1125111  [0.000147, 0.000111, 8e-05, 0.000123, 3.6e-05,...   \n",
       "225474   [0.000232, 0.000242, 7.3e-05, 0.000178, 4.1e-0...   \n",
       "652860   [6e-05, 7.1e-05, 4.8e-05, 5.6e-05, 2.4e-05, 0....   \n",
       "\n",
       "         var_Agaricus bisporus  ...  var_Trypanosoma brucei brucei  \\\n",
       "1264617                      0  ...                              0   \n",
       "1533686                      0  ...                              0   \n",
       "1125111                      0  ...                              0   \n",
       "225474                       0  ...                              0   \n",
       "652860                       0  ...                              0   \n",
       "\n",
       "         var_Trypanosoma brucei rhodesiense  var_Trypanosoma cruzi  \\\n",
       "1264617                                   0                      0   \n",
       "1533686                                   0                      0   \n",
       "1125111                                   0                      0   \n",
       "225474                                    0                      0   \n",
       "652860                                    0                      0   \n",
       "\n",
       "         var_Vibrio fischeri  var_Vibrio harveyi  \\\n",
       "1264617                    0                   0   \n",
       "1533686                    0                   0   \n",
       "1125111                    0                   0   \n",
       "225474                     0                   0   \n",
       "652860                     0                   0   \n",
       "\n",
       "         var_Woolly monkey sarcoma virus  var_Xenopus sp.  \\\n",
       "1264617                                0                0   \n",
       "1533686                                0                0   \n",
       "1125111                                0                0   \n",
       "225474                                 0                0   \n",
       "652860                                 0                0   \n",
       "\n",
       "         var_Yersinia enterocolitica  var_Zea mays  var_sequence  \n",
       "1264617                            0             0             0  \n",
       "1533686                            0             0             0  \n",
       "1125111                            0             0             0  \n",
       "225474                             0             0             0  \n",
       "652860                             0             0             0  \n",
       "\n",
       "[5 rows x 110 columns]"
      ]
     },
     "execution_count": 96,
     "metadata": {},
     "output_type": "execute_result"
    }
   ],
   "source": [
    "X.head()\n",
    "#dtype =  {'smiles2morgan': np.ndarray, 'drug2emb_encoder': np.ndarray, 'CalculateConjointTriad': np.ndarray, 'protein2emb_encoder': np.ndarray} \n"
   ]
  },
  {
   "cell_type": "code",
   "execution_count": 97,
   "metadata": {
    "ExecuteTime": {
     "end_time": "2020-10-05T23:53:54.269561Z",
     "start_time": "2020-10-05T23:53:53.966592Z"
    }
   },
   "outputs": [
    {
     "name": "stdout",
     "output_type": "stream",
     "text": [
      "Temp : <class 'numpy.float64'>\n",
      "pH : <class 'numpy.float64'>\n",
      "smiles2morgan : <class 'numpy.ndarray'>\n",
      "1024\n",
      "drug2emb_encoder : <class 'tuple'>\n",
      "50\n",
      "50\n",
      "calcPubChemFingerAll : <class 'numpy.ndarray'>\n",
      "881\n",
      "smiles2daylight : <class 'numpy.ndarray'>\n",
      "2048\n",
      "CalculateConjointTriad : <class 'numpy.ndarray'>\n",
      "343\n",
      "protein2emb_encoder : <class 'tuple'>\n",
      "545\n",
      "545\n",
      "target2quasi : <class 'numpy.ndarray'>\n",
      "100\n",
      "var_Agaricus bisporus : <class 'numpy.uint8'>\n",
      "var_Aquifex aeolicus : <class 'numpy.uint8'>\n",
      "var_Arabidopsis thaliana : <class 'numpy.uint8'>\n",
      "var_Bacillus anthracis : <class 'numpy.uint8'>\n",
      "var_Bacillus lentus : <class 'numpy.uint8'>\n",
      "var_Bacillus subtilis : <class 'numpy.uint8'>\n",
      "var_Bacillus thermoproteolyticus : <class 'numpy.uint8'>\n",
      "var_Bison bison : <class 'numpy.uint8'>\n",
      "var_Bos taurus : <class 'numpy.uint8'>\n",
      "var_Brucella suis : <class 'numpy.uint8'>\n",
      "var_Caenorhabditis elegans : <class 'numpy.uint8'>\n",
      "var_Caleucoela sp. 2 MB402 : <class 'numpy.uint8'>\n",
      "var_Canavalia ensiformis : <class 'numpy.uint8'>\n",
      "var_Candida albicans : <class 'numpy.uint8'>\n",
      "var_Canis familiaris : <class 'numpy.uint8'>\n",
      "var_Canis lupus dingo : <class 'numpy.uint8'>\n",
      "var_Carica papaya : <class 'numpy.uint8'>\n",
      "var_Cavia cutleri : <class 'numpy.uint8'>\n",
      "var_Cavia porcellus : <class 'numpy.uint8'>\n",
      "var_Clostridium botulinum : <class 'numpy.uint8'>\n",
      "var_Clostridium perfringens : <class 'numpy.uint8'>\n",
      "var_Cryptococcus neoformans : <class 'numpy.uint8'>\n",
      "var_Cryptosporidium parvum : <class 'numpy.uint8'>\n",
      "var_Dengue virus 2 : <class 'numpy.uint8'>\n",
      "var_Drosophila melanogaster : <class 'numpy.uint8'>\n",
      "var_Eimeria tenella : <class 'numpy.uint8'>\n",
      "var_Electrophorus electricus : <class 'numpy.uint8'>\n",
      "var_Enterococcus faecalis : <class 'numpy.uint8'>\n",
      "var_Epstein-Barr virus (strain B95-8) : <class 'numpy.uint8'>\n",
      "var_Escherichia coli : <class 'numpy.uint8'>\n",
      "var_Escherichia coli str. K-12 substr. MG1655 : <class 'numpy.uint8'>\n",
      "var_Gallus gallus : <class 'numpy.uint8'>\n",
      "var_Glycine max : <class 'numpy.uint8'>\n",
      "var_Helicobacter pylori : <class 'numpy.uint8'>\n",
      "var_Hepatitis C virus : <class 'numpy.uint8'>\n",
      "var_Hepatitis C virus genotype 1a (isolate H) : <class 'numpy.uint8'>\n",
      "var_Hepatitis C virus genotype 2b (isolate HC-J8) : <class 'numpy.uint8'>\n",
      "var_Hepatitis GB virus B : <class 'numpy.uint8'>\n",
      "var_Homo sapiens : <class 'numpy.uint8'>\n",
      "var_Human SARS coronavirus : <class 'numpy.uint8'>\n",
      "var_Human cytomegalovirus (strain AD169) : <class 'numpy.uint8'>\n",
      "var_Human herpesvirus 1 (strain 17) : <class 'numpy.uint8'>\n",
      "var_Human herpesvirus 4 type 2 : <class 'numpy.uint8'>\n",
      "var_Human herpesvirus 6A (strain Uganda-1102) : <class 'numpy.uint8'>\n",
      "var_Human herpesvirus 8 : <class 'numpy.uint8'>\n",
      "var_Human immunodeficiency virus 1 : <class 'numpy.uint8'>\n",
      "var_Human immunodeficiency virus type 1 group M subtype B (isolate YU-2) : <class 'numpy.uint8'>\n",
      "var_Human rhinovirus B : <class 'numpy.uint8'>\n",
      "var_Influenza A virus : <class 'numpy.uint8'>\n",
      "var_Influenza A virus (strain A/Singapore/1/1957 H2N2) : <class 'numpy.uint8'>\n",
      "var_Influenza B virus (strain B/Lee/1940) : <class 'numpy.uint8'>\n",
      "var_Ixodes ricinus : <class 'numpy.uint8'>\n",
      "var_Klebsiella pneumoniae : <class 'numpy.uint8'>\n",
      "var_Lactobacillus casei : <class 'numpy.uint8'>\n",
      "var_Leishmania major : <class 'numpy.uint8'>\n",
      "var_Magnaporthe grisea : <class 'numpy.uint8'>\n",
      "var_Mus musculus : <class 'numpy.uint8'>\n",
      "var_Musca domestica : <class 'numpy.uint8'>\n",
      "var_Mycobacterium avium : <class 'numpy.uint8'>\n",
      "var_Mycobacterium tuberculosis : <class 'numpy.uint8'>\n",
      "var_Mycobacterium tuberculosis H37Rv : <class 'numpy.uint8'>\n",
      "var_Onchocerca volvulus : <class 'numpy.uint8'>\n",
      "var_Oryctolagus cuniculus : <class 'numpy.uint8'>\n",
      "var_Oryza sativa subsp. japonica : <class 'numpy.uint8'>\n",
      "var_Ovis aries : <class 'numpy.uint8'>\n",
      "var_Pisum sativum : <class 'numpy.uint8'>\n",
      "var_Plasmodium falciparum : <class 'numpy.uint8'>\n",
      "var_Plasmodium falciparum (isolate 3D7) : <class 'numpy.uint8'>\n",
      "var_Plasmodium falciparum (isolate FcB1 / Columbia) : <class 'numpy.uint8'>\n",
      "var_Plasmodium vivax : <class 'numpy.uint8'>\n",
      "var_Pneumocystis carinii : <class 'numpy.uint8'>\n",
      "var_Porcellium fiumanum : <class 'numpy.uint8'>\n",
      "var_Pseudomonas aeruginosa : <class 'numpy.uint8'>\n",
      "var_Rattus : <class 'numpy.uint8'>\n",
      "var_Rattus norvegicus : <class 'numpy.uint8'>\n",
      "var_Saccharomyces cerevisiae : <class 'numpy.uint8'>\n",
      "var_Saccharomyces cerevisiae (strain ATCC 204508 / S288c) : <class 'numpy.uint8'>\n",
      "var_Salmonella choleraesuis (strain SC-B67) : <class 'numpy.uint8'>\n",
      "var_Schistosoma mansoni : <class 'numpy.uint8'>\n",
      "var_Simian virus 40 : <class 'numpy.uint8'>\n",
      "var_Staphylococcus aureus : <class 'numpy.uint8'>\n",
      "var_Staphylococcus aureus (strain MRSA252) : <class 'numpy.uint8'>\n",
      "var_Staphylococcus epidermidis (strain ATCC 35984 / RP62A) : <class 'numpy.uint8'>\n",
      "var_Streptococcus pneumoniae : <class 'numpy.uint8'>\n",
      "var_Streptococcus pneumoniae serotype 2 (strain D39 / NCTC 7466) : <class 'numpy.uint8'>\n",
      "var_Streptococcus pyogenes M1 GAS : <class 'numpy.uint8'>\n",
      "var_Streptococcus pyogenes serotype M18 : <class 'numpy.uint8'>\n",
      "var_Stylophora pistillata : <class 'numpy.uint8'>\n",
      "var_Sus scrofa : <class 'numpy.uint8'>\n",
      "var_Thermus aquaticus : <class 'numpy.uint8'>\n",
      "var_Trypanosoma brucei : <class 'numpy.uint8'>\n",
      "var_Trypanosoma brucei brucei : <class 'numpy.uint8'>\n",
      "var_Trypanosoma brucei rhodesiense : <class 'numpy.uint8'>\n",
      "var_Trypanosoma cruzi : <class 'numpy.uint8'>\n",
      "var_Vibrio fischeri : <class 'numpy.uint8'>\n",
      "var_Vibrio harveyi : <class 'numpy.uint8'>\n",
      "var_Woolly monkey sarcoma virus : <class 'numpy.uint8'>\n",
      "var_Xenopus sp. : <class 'numpy.uint8'>\n",
      "var_Yersinia enterocolitica : <class 'numpy.uint8'>\n",
      "var_Zea mays : <class 'numpy.uint8'>\n",
      "var_sequence : <class 'numpy.uint8'>\n"
     ]
    }
   ],
   "source": [
    "typelist = []\n",
    "for i in list(X):\n",
    "    print(i, ':', type(X[i].iloc[1]))#, ':', X[i].iloc[1])\n",
    "    if isinstance(X[i].iloc[1],np.ndarray):\n",
    "        print(len(X[i].iloc[1]))\n",
    "        typelist.extend([i]*len(X[i].iloc[1]))\n",
    "    elif isinstance(X[i].iloc[1],tuple):\n",
    "        for n in X[i].iloc[1]:\n",
    "            if isinstance(n,np.ndarray):\n",
    "                print(len(n))\n",
    "                typelist.extend([i]*len(n))\n",
    "    elif i[:4] == 'var_':\n",
    "        typelist.append('organism')\n",
    "    else:\n",
    "        typelist.append(i)"
   ]
  },
  {
   "cell_type": "code",
   "execution_count": 70,
   "metadata": {
    "ExecuteTime": {
     "end_time": "2020-10-05T23:15:47.236717Z",
     "start_time": "2020-10-05T23:15:47.206129Z"
    }
   },
   "outputs": [
    {
     "data": {
      "text/plain": [
       "[tensor([[0., 0., 0.,  ..., 0., 0., 0.],\n",
       "         [1., 0., 0.,  ..., 0., 0., 0.],\n",
       "         [0., 0., 0.,  ..., 0., 0., 0.],\n",
       "         ...,\n",
       "         [1., 0., 0.,  ..., 0., 0., 1.],\n",
       "         [0., 1., 0.,  ..., 0., 0., 1.],\n",
       "         [1., 0., 0.,  ..., 0., 0., 1.]]),\n",
       " tensor([[0., 0., 0.,  ..., 0., 0., 0.],\n",
       "         [0., 0., 0.,  ..., 0., 0., 0.],\n",
       "         [1., 0., 0.,  ..., 0., 0., 0.],\n",
       "         ...,\n",
       "         [0., 1., 0.,  ..., 0., 0., 0.],\n",
       "         [1., 0., 0.,  ..., 0., 0., 0.],\n",
       "         [1., 0., 0.,  ..., 0., 0., 0.]]),\n",
       " tensor([[ 2.,  0.,  0.,  0.,  0.,  0.],\n",
       "         [ 1.,  4.,  6.,  8.,  0.,  0.],\n",
       "         [ 3.,  0.,  0.,  0.,  0.,  0.],\n",
       "         [ 5.,  0.,  0.,  0.,  0.,  0.],\n",
       "         [ 7., 10., 53.,  0.,  0.,  0.],\n",
       "         [ 9., 12.,  0.,  0.,  0.,  0.],\n",
       "         [11., 14.,  0.,  0.,  0.,  0.],\n",
       "         [13., 16., 59.,  0.,  0.,  0.],\n",
       "         [15., 18.,  0.,  0.,  0.,  0.],\n",
       "         [17., 20., 32.,  0.,  0.,  0.],\n",
       "         [19., 22.,  0.,  0.,  0.,  0.],\n",
       "         [21., 24., 26.,  0.,  0.,  0.],\n",
       "         [23.,  0.,  0.,  0.,  0.,  0.],\n",
       "         [25., 28.,  0.,  0.,  0.,  0.],\n",
       "         [27., 30., 60.,  0.,  0.,  0.],\n",
       "         [29., 54.,  0.,  0.,  0.,  0.],\n",
       "         [31., 34., 55.,  0.,  0.,  0.],\n",
       "         [33., 36.,  0.,  0.,  0.,  0.],\n",
       "         [35., 38.,  0.,  0.,  0.,  0.],\n",
       "         [37., 40.,  0.,  0.,  0.,  0.],\n",
       "         [39., 42., 44.,  0.,  0.,  0.],\n",
       "         [41., 56.,  0.,  0.,  0.,  0.],\n",
       "         [43., 46., 57.,  0.,  0.,  0.],\n",
       "         [45., 48.,  0.,  0.,  0.,  0.],\n",
       "         [47., 50.,  0.,  0.,  0.,  0.],\n",
       "         [49., 52.,  0.,  0.,  0.,  0.],\n",
       "         [51., 58.,  0.,  0.,  0.,  0.]]),\n",
       " tensor([[ 0.,  0.,  0.,  0.,  0.,  0.],\n",
       "         [ 0.,  0.,  0.,  0.,  0.,  0.],\n",
       "         [ 0.,  4.,  6.,  8.,  0.,  0.],\n",
       "         [ 1.,  0.,  6.,  8.,  0.,  0.],\n",
       "         [ 0.,  0.,  0.,  0.,  0.,  0.],\n",
       "         [ 1.,  4.,  0.,  8.,  0.,  0.],\n",
       "         [ 0.,  0.,  0.,  0.,  0.,  0.],\n",
       "         [ 1.,  4.,  6.,  0.,  0.,  0.],\n",
       "         [ 0., 10., 53.,  0.,  0.,  0.],\n",
       "         [ 7.,  0., 53.,  0.,  0.,  0.],\n",
       "         [ 0., 12.,  0.,  0.,  0.,  0.],\n",
       "         [ 9.,  0.,  0.,  0.,  0.,  0.],\n",
       "         [ 0., 14.,  0.,  0.,  0.,  0.],\n",
       "         [11.,  0.,  0.,  0.,  0.,  0.],\n",
       "         [ 0., 16., 59.,  0.,  0.,  0.],\n",
       "         [13.,  0., 59.,  0.,  0.,  0.],\n",
       "         [ 0., 18.,  0.,  0.,  0.,  0.],\n",
       "         [15.,  0.,  0.,  0.,  0.,  0.],\n",
       "         [ 0., 20., 32.,  0.,  0.,  0.],\n",
       "         [17.,  0., 32.,  0.,  0.,  0.],\n",
       "         [ 0., 22.,  0.,  0.,  0.,  0.],\n",
       "         [19.,  0.,  0.,  0.,  0.,  0.],\n",
       "         [ 0., 24., 26.,  0.,  0.,  0.],\n",
       "         [21.,  0., 26.,  0.,  0.,  0.],\n",
       "         [ 0.,  0.,  0.,  0.,  0.,  0.],\n",
       "         [21., 24.,  0.,  0.,  0.,  0.],\n",
       "         [ 0., 28.,  0.,  0.,  0.,  0.],\n",
       "         [25.,  0.,  0.,  0.,  0.,  0.],\n",
       "         [ 0., 30., 60.,  0.,  0.,  0.],\n",
       "         [27.,  0., 60.,  0.,  0.,  0.],\n",
       "         [ 0., 54.,  0.,  0.,  0.,  0.],\n",
       "         [17., 20.,  0.,  0.,  0.,  0.],\n",
       "         [ 0., 34., 55.,  0.,  0.,  0.],\n",
       "         [31.,  0., 55.,  0.,  0.,  0.],\n",
       "         [ 0., 36.,  0.,  0.,  0.,  0.],\n",
       "         [33.,  0.,  0.,  0.,  0.,  0.],\n",
       "         [ 0., 38.,  0.,  0.,  0.,  0.],\n",
       "         [35.,  0.,  0.,  0.,  0.,  0.],\n",
       "         [ 0., 40.,  0.,  0.,  0.,  0.],\n",
       "         [37.,  0.,  0.,  0.,  0.,  0.],\n",
       "         [ 0., 42., 44.,  0.,  0.,  0.],\n",
       "         [39.,  0., 44.,  0.,  0.,  0.],\n",
       "         [ 0., 56.,  0.,  0.,  0.,  0.],\n",
       "         [39., 42.,  0.,  0.,  0.,  0.],\n",
       "         [ 0., 46., 57.,  0.,  0.,  0.],\n",
       "         [43.,  0., 57.,  0.,  0.,  0.],\n",
       "         [ 0., 48.,  0.,  0.,  0.,  0.],\n",
       "         [45.,  0.,  0.,  0.,  0.,  0.],\n",
       "         [ 0., 50.,  0.,  0.,  0.,  0.],\n",
       "         [47.,  0.,  0.,  0.,  0.,  0.],\n",
       "         [ 0., 52.,  0.,  0.,  0.,  0.],\n",
       "         [49.,  0.,  0.,  0.,  0.,  0.],\n",
       "         [ 0., 58.,  0.,  0.,  0.,  0.],\n",
       "         [29.,  0.,  0.,  0.,  0.,  0.],\n",
       "         [ 7., 10.,  0.,  0.,  0.,  0.],\n",
       "         [41.,  0.,  0.,  0.,  0.,  0.],\n",
       "         [31., 34.,  0.,  0.,  0.,  0.],\n",
       "         [51.,  0.,  0.,  0.,  0.,  0.],\n",
       "         [43., 46.,  0.,  0.,  0.,  0.],\n",
       "         [27., 30.,  0.,  0.,  0.,  0.],\n",
       "         [13., 16.,  0.,  0.,  0.,  0.]]),\n",
       " tensor([[27., 61.]])]"
      ]
     },
     "execution_count": 70,
     "metadata": {},
     "output_type": "execute_result"
    }
   ],
   "source": [
    "X['smiles2mpnnfeature'].iloc[1]\n",
    "Z = X['smiles2mpnnfeature']"
   ]
  },
  {
   "cell_type": "code",
   "execution_count": 98,
   "metadata": {
    "ExecuteTime": {
     "end_time": "2020-10-05T23:55:20.002580Z",
     "start_time": "2020-10-05T23:54:02.040071Z"
    }
   },
   "outputs": [],
   "source": [
    "vec = X.apply(flattener,axis=1)\n",
    "foo = vec.to_numpy(dtype = object)\n",
    "foo2 = np.vstack(foo)"
   ]
  },
  {
   "cell_type": "code",
   "execution_count": null,
   "metadata": {
    "ExecuteTime": {
     "end_time": "2020-10-06T00:41:52.957493Z",
     "start_time": "2020-10-06T00:41:48.299Z"
    }
   },
   "outputs": [],
   "source": [
    "from sklearn.model_selection import train_test_split\n",
    "y = df_final[\"IC50\"]\n",
    "X_train, X_test, y_train, y_test = train_test_split(foo2, y, test_size=0.2)\n",
    "\n",
    "from sklearn.preprocessing import StandardScaler\n",
    "scaler = StandardScaler()\n",
    "train_scaled = scaler.fit_transform(X_train)\n",
    "test_scaled = scaler.transform(X_test)\n",
    "\n",
    "from sklearn.tree import DecisionTreeRegressor\n",
    "from sklearn.ensemble import RandomForestRegressor\n",
    "tree_model = DecisionTreeRegressor()"
   ]
  },
  {
   "cell_type": "code",
   "execution_count": 102,
   "metadata": {
    "ExecuteTime": {
     "end_time": "2020-10-05T23:57:23.810325Z",
     "start_time": "2020-10-05T23:56:44.560649Z"
    }
   },
   "outputs": [
    {
     "name": "stdout",
     "output_type": "stream",
     "text": [
      "Decision Tree training mse =  999607184856.336  & mae =  15808.434643801334  & rmse =  999803.5731364116\n",
      "Decision Tree test mse =  4031680966584584.5  & mae =  31858931.08447345  & rmse =  63495519.263839275\n",
      "Decision Tree train r =  (0.9998672684848211, 0.0)\n",
      "Decision Tree test r =  (0.4696651336365103, 2.856528750729771e-110)\n"
     ]
    }
   ],
   "source": [
    "tree_model.fit(train_scaled, y_train)\n",
    "from sklearn.metrics import mean_squared_error\n",
    "from sklearn.metrics import mean_absolute_error\n",
    "from sklearn.metrics import average_precision_score\n",
    "tree_mse = mean_squared_error(y_train, tree_model.predict(train_scaled))\n",
    "tree_mae = mean_absolute_error(y_train, tree_model.predict(train_scaled))\n",
    "from math import sqrt\n",
    "print(\"Decision Tree training mse = \",tree_mse,\" & mae = \",tree_mae,\" & rmse = \", sqrt(tree_mse))\n",
    "tree_test_mse = mean_squared_error(y_test, tree_model.predict(test_scaled))\n",
    "tree_test_mae = mean_absolute_error(y_test, tree_model.predict(test_scaled))\n",
    "print(\"Decision Tree test mse = \",tree_test_mse,\" & mae = \",tree_test_mae,\" & rmse = \", sqrt(tree_test_mse))\n",
    "a = pearsonr(y_train, tree_model.predict(train_scaled))\n",
    "b = pearsonr(y_test, tree_model.predict(test_scaled))\n",
    "print(\"Decision Tree train r = \",a)\n",
    "print(\"Decision Tree test r = \",b)"
   ]
  },
  {
   "cell_type": "code",
   "execution_count": 103,
   "metadata": {
    "ExecuteTime": {
     "end_time": "2020-10-05T23:59:57.160760Z",
     "start_time": "2020-10-05T23:59:57.110030Z"
    }
   },
   "outputs": [
    {
     "data": {
      "text/html": [
       "<div>\n",
       "<style scoped>\n",
       "    .dataframe tbody tr th:only-of-type {\n",
       "        vertical-align: middle;\n",
       "    }\n",
       "\n",
       "    .dataframe tbody tr th {\n",
       "        vertical-align: top;\n",
       "    }\n",
       "\n",
       "    .dataframe thead th {\n",
       "        text-align: right;\n",
       "    }\n",
       "</style>\n",
       "<table border=\"1\" class=\"dataframe\">\n",
       "  <thead>\n",
       "    <tr style=\"text-align: right;\">\n",
       "      <th></th>\n",
       "      <th>importance</th>\n",
       "    </tr>\n",
       "    <tr>\n",
       "      <th>Type</th>\n",
       "      <th></th>\n",
       "    </tr>\n",
       "  </thead>\n",
       "  <tbody>\n",
       "    <tr>\n",
       "      <th>target2quasi</th>\n",
       "      <td>0.233</td>\n",
       "    </tr>\n",
       "    <tr>\n",
       "      <th>smiles2daylight</th>\n",
       "      <td>0.215</td>\n",
       "    </tr>\n",
       "    <tr>\n",
       "      <th>smiles2morgan</th>\n",
       "      <td>0.202</td>\n",
       "    </tr>\n",
       "    <tr>\n",
       "      <th>protein2emb_encoder</th>\n",
       "      <td>0.181</td>\n",
       "    </tr>\n",
       "    <tr>\n",
       "      <th>CalculateConjointTriad</th>\n",
       "      <td>0.076</td>\n",
       "    </tr>\n",
       "    <tr>\n",
       "      <th>calcPubChemFingerAll</th>\n",
       "      <td>0.035</td>\n",
       "    </tr>\n",
       "    <tr>\n",
       "      <th>drug2emb_encoder</th>\n",
       "      <td>0.028</td>\n",
       "    </tr>\n",
       "    <tr>\n",
       "      <th>organism</th>\n",
       "      <td>0.001</td>\n",
       "    </tr>\n",
       "    <tr>\n",
       "      <th>pH</th>\n",
       "      <td>0.001</td>\n",
       "    </tr>\n",
       "    <tr>\n",
       "      <th>Temp</th>\n",
       "      <td>0.000</td>\n",
       "    </tr>\n",
       "  </tbody>\n",
       "</table>\n",
       "</div>"
      ],
      "text/plain": [
       "                        importance\n",
       "Type                              \n",
       "target2quasi                 0.233\n",
       "smiles2daylight              0.215\n",
       "smiles2morgan                0.202\n",
       "protein2emb_encoder          0.181\n",
       "CalculateConjointTriad       0.076\n",
       "calcPubChemFingerAll         0.035\n",
       "drug2emb_encoder             0.028\n",
       "organism                     0.001\n",
       "pH                           0.001\n",
       "Temp                         0.000"
      ]
     },
     "execution_count": 103,
     "metadata": {},
     "output_type": "execute_result"
    }
   ],
   "source": [
    "importances = pd.DataFrame({'importance':np.round(tree_model.feature_importances_,3)})\n",
    "out = importances.sort_values('importance',ascending=False)\n",
    "importances[\"Type\"] = typelist\n",
    "type_importance = importances.groupby(by=['Type']).sum()\n",
    "type_importance.sort_values('importance',ascending=False)"
   ]
  },
  {
   "cell_type": "code",
   "execution_count": 121,
   "metadata": {
    "ExecuteTime": {
     "end_time": "2020-10-06T00:46:57.568453Z",
     "start_time": "2020-10-06T00:42:50.160978Z"
    }
   },
   "outputs": [
    {
     "data": {
      "text/plain": [
       "RandomForestRegressor(n_estimators=10)"
      ]
     },
     "execution_count": 121,
     "metadata": {},
     "output_type": "execute_result"
    }
   ],
   "source": [
    "rf_model = RandomForestRegressor(n_estimators=10)\n",
    "rf_model.fit(train_scaled, y_train)"
   ]
  },
  {
   "cell_type": "code",
   "execution_count": 122,
   "metadata": {
    "ExecuteTime": {
     "end_time": "2020-10-06T00:47:16.211243Z",
     "start_time": "2020-10-06T00:47:15.250058Z"
    }
   },
   "outputs": [
    {
     "name": "stdout",
     "output_type": "stream",
     "text": [
      "Random Forest training mse =  423815254928228.75  & mae =  13340291.9462728  & rmse =  20586773.78629854\n",
      "Random Forest test mse =  2464060344209559.0  & mae =  36863545.149093814  & rmse =  49639302.41461456\n",
      "Random Forest train r =  (0.9518525611786604, 0.0)\n",
      "Random Forest test r =  (0.5974091923873439, 8.844622493480001e-194)\n"
     ]
    }
   ],
   "source": [
    "rf_mse = mean_squared_error(y_train, rf_model.predict(train_scaled))\n",
    "rf_mae = mean_absolute_error(y_train, rf_model.predict(train_scaled))\n",
    "\n",
    "print(\"Random Forest training mse = \",rf_mse,\" & mae = \",rf_mae,\" & rmse = \", sqrt(rf_mse))\n",
    "rf_test_mse = mean_squared_error(y_test, rf_model.predict(test_scaled))\n",
    "rf_test_mae = mean_absolute_error(y_test, rf_model.predict(test_scaled))\n",
    "print(\"Random Forest test mse = \",rf_test_mse,\" & mae = \",rf_test_mae,\" & rmse = \", sqrt(rf_test_mse))\n",
    "a = pearsonr(y_train, rf_model.predict(train_scaled))\n",
    "b = pearsonr(y_test, rf_model.predict(test_scaled))\n",
    "print(\"Random Forest train r = \",a)\n",
    "print(\"Random Forest test r = \",b)"
   ]
  },
  {
   "cell_type": "code",
   "execution_count": 130,
   "metadata": {
    "ExecuteTime": {
     "end_time": "2020-10-06T01:34:06.818761Z",
     "start_time": "2020-10-06T01:34:06.763760Z"
    }
   },
   "outputs": [
    {
     "data": {
      "text/html": [
       "<div>\n",
       "<style scoped>\n",
       "    .dataframe tbody tr th:only-of-type {\n",
       "        vertical-align: middle;\n",
       "    }\n",
       "\n",
       "    .dataframe tbody tr th {\n",
       "        vertical-align: top;\n",
       "    }\n",
       "\n",
       "    .dataframe thead th {\n",
       "        text-align: right;\n",
       "    }\n",
       "</style>\n",
       "<table border=\"1\" class=\"dataframe\">\n",
       "  <thead>\n",
       "    <tr style=\"text-align: right;\">\n",
       "      <th></th>\n",
       "      <th>importance</th>\n",
       "    </tr>\n",
       "    <tr>\n",
       "      <th>Type</th>\n",
       "      <th></th>\n",
       "    </tr>\n",
       "  </thead>\n",
       "  <tbody>\n",
       "    <tr>\n",
       "      <th>protein2emb_encoder</th>\n",
       "      <td>0.214</td>\n",
       "    </tr>\n",
       "    <tr>\n",
       "      <th>target2quasi</th>\n",
       "      <td>0.150</td>\n",
       "    </tr>\n",
       "    <tr>\n",
       "      <th>smiles2daylight</th>\n",
       "      <td>0.105</td>\n",
       "    </tr>\n",
       "    <tr>\n",
       "      <th>CalculateConjointTriad</th>\n",
       "      <td>0.082</td>\n",
       "    </tr>\n",
       "    <tr>\n",
       "      <th>smiles2morgan</th>\n",
       "      <td>0.051</td>\n",
       "    </tr>\n",
       "    <tr>\n",
       "      <th>drug2emb_encoder</th>\n",
       "      <td>0.036</td>\n",
       "    </tr>\n",
       "    <tr>\n",
       "      <th>calcPubChemFingerAll</th>\n",
       "      <td>0.011</td>\n",
       "    </tr>\n",
       "    <tr>\n",
       "      <th>Temp</th>\n",
       "      <td>0.004</td>\n",
       "    </tr>\n",
       "    <tr>\n",
       "      <th>pH</th>\n",
       "      <td>0.004</td>\n",
       "    </tr>\n",
       "    <tr>\n",
       "      <th>organism</th>\n",
       "      <td>0.001</td>\n",
       "    </tr>\n",
       "  </tbody>\n",
       "</table>\n",
       "</div>"
      ],
      "text/plain": [
       "                        importance\n",
       "Type                              \n",
       "protein2emb_encoder          0.214\n",
       "target2quasi                 0.150\n",
       "smiles2daylight              0.105\n",
       "CalculateConjointTriad       0.082\n",
       "smiles2morgan                0.051\n",
       "drug2emb_encoder             0.036\n",
       "calcPubChemFingerAll         0.011\n",
       "Temp                         0.004\n",
       "pH                           0.004\n",
       "organism                     0.001"
      ]
     },
     "execution_count": 130,
     "metadata": {},
     "output_type": "execute_result"
    }
   ],
   "source": [
    "importances = pd.DataFrame({'importance':np.round(rf_model2.feature_importances_,3)})\n",
    "out = importances.sort_values('importance',ascending=False)\n",
    "importances[\"Type\"] = typelist\n",
    "type_importance = importances.groupby(by=['Type']).sum()\n",
    "type_importance.sort_values('importance',ascending=False)"
   ]
  },
  {
   "cell_type": "markdown",
   "metadata": {},
   "source": [
    "target2quasi\t0.208\n",
    "\n",
    "protein2emb_encoder\t0.196\n",
    "\n",
    "smiles2morgan\t0.067\n",
    "\n",
    "CalculateConjointTriad\t0.060\n",
    "\n",
    "drug2emb_encoder\t0.037\n",
    "\n",
    "smiles2daylight\t0.024\n",
    "\n",
    "pH\t0.003\n",
    "\n",
    "calcPubChemFingerAll\t0.002\n",
    "\n",
    "Temp\t0.001\n",
    "\n",
    "organism\t0.001\n",
    "\n",
    "\n",
    "target2quasi\t0.208\n",
    "protein2emb_encoder\t0.193\n",
    "smiles2morgan\t0.088\n",
    "smiles2daylight\t0.079\n",
    "CalculateConjointTriad\t0.069\n",
    "drug2emb_encoder\t0.041\n",
    "calcPubChemFingerAll\t0.006\n",
    "pH\t0.003\n",
    "Temp\t0.001\n",
    "organism\t0.000\n",
    "\n",
    "protein2emb_encoder\t0.212\n",
    "target2quasi\t0.198\n",
    "smiles2morgan\t0.093\n",
    "smiles2daylight\t0.064\n",
    "CalculateConjointTriad\t0.060\n",
    "drug2emb_encoder\t0.035\n",
    "calcPubChemFingerAll\t0.009\n",
    "pH\t0.003\n",
    "organism\t0.002\n",
    "Temp\t0.001\n",
    "\n",
    "protein2emb_encoder\t0.214\n",
    "target2quasi\t0.150\n",
    "smiles2daylight\t0.105\n",
    "CalculateConjointTriad\t0.082\n",
    "smiles2morgan\t0.051\n",
    "drug2emb_encoder\t0.036\n",
    "calcPubChemFingerAll\t0.011\n",
    "Temp\t0.004\n",
    "pH\t0.004\n",
    "organism\t0.001"
   ]
  },
  {
   "cell_type": "code",
   "execution_count": 111,
   "metadata": {
    "ExecuteTime": {
     "end_time": "2020-10-06T00:23:16.339893Z",
     "start_time": "2020-10-06T00:23:13.695132Z"
    }
   },
   "outputs": [],
   "source": [
    "y2 = df_final[\"magic50\"]\n",
    "X2_train, X2_test, y2_train, y2_test = train_test_split(foo2, y2, test_size=0.2)\n",
    "train2_scaled = scaler.fit_transform(X2_train)\n",
    "test2_scaled = scaler.transform(X2_test)"
   ]
  },
  {
   "cell_type": "code",
   "execution_count": 125,
   "metadata": {
    "ExecuteTime": {
     "end_time": "2020-10-06T00:50:13.894983Z",
     "start_time": "2020-10-06T00:49:57.564112Z"
    }
   },
   "outputs": [
    {
     "data": {
      "text/plain": [
       "DecisionTreeRegressor()"
      ]
     },
     "execution_count": 125,
     "metadata": {},
     "output_type": "execute_result"
    }
   ],
   "source": [
    "tree_model_mag = DecisionTreeRegressor()\n",
    "tree_model_mag.fit(train2_scaled, y2_train)"
   ]
  },
  {
   "cell_type": "code",
   "execution_count": 126,
   "metadata": {
    "ExecuteTime": {
     "end_time": "2020-10-06T01:02:04.646211Z",
     "start_time": "2020-10-06T00:55:47.242758Z"
    }
   },
   "outputs": [
    {
     "name": "stdout",
     "output_type": "stream",
     "text": [
      "Decision Tree train r =  (0.9998263059892019, 0.0)\n",
      "Decision Tree test r =  (0.42169792391724403, 4.706595176419894e-87)\n"
     ]
    }
   ],
   "source": [
    "a = pearsonr(y2_train, tree_model_mag.predict(train2_scaled))\n",
    "b = pearsonr(y2_test, tree_model_mag.predict(test2_scaled))\n",
    "print(\"Decision Tree train r = \",a)\n",
    "print(\"Decision Tree test r = \",b)"
   ]
  },
  {
   "cell_type": "code",
   "execution_count": 127,
   "metadata": {
    "ExecuteTime": {
     "end_time": "2020-10-06T01:33:37.555322Z",
     "start_time": "2020-10-06T01:31:47.113798Z"
    }
   },
   "outputs": [
    {
     "data": {
      "text/plain": [
       "RandomForestRegressor(n_estimators=10)"
      ]
     },
     "execution_count": 127,
     "metadata": {},
     "output_type": "execute_result"
    }
   ],
   "source": [
    "rf_model2 = RandomForestRegressor(n_estimators=10)\n",
    "rf_model2.fit(train2_scaled, y2_train)"
   ]
  },
  {
   "cell_type": "code",
   "execution_count": 128,
   "metadata": {
    "ExecuteTime": {
     "end_time": "2020-10-06T01:33:42.861175Z",
     "start_time": "2020-10-06T01:33:42.570121Z"
    }
   },
   "outputs": [
    {
     "name": "stdout",
     "output_type": "stream",
     "text": [
      "Random Forest train r =  (0.9492116114851832, 0.0)\n",
      "Random Forest test r =  (0.5703802084905281, 5.688247814058485e-173)\n"
     ]
    }
   ],
   "source": [
    "a = pearsonr(y2_train, rf_model2.predict(train2_scaled))\n",
    "b = pearsonr(y2_test, rf_model2.predict(test2_scaled))\n",
    "print(\"Random Forest train r = \",a)\n",
    "print(\"Random Forest test r = \",b)"
   ]
  },
  {
   "cell_type": "code",
   "execution_count": 114,
   "metadata": {
    "ExecuteTime": {
     "end_time": "2020-10-06T00:25:06.752498Z",
     "start_time": "2020-10-06T00:24:34.402624Z"
    }
   },
   "outputs": [
    {
     "data": {
      "text/plain": [
       "DecisionTreeClassifier()"
      ]
     },
     "execution_count": 114,
     "metadata": {},
     "output_type": "execute_result"
    }
   ],
   "source": [
    "from sklearn.tree import DecisionTreeClassifier\n",
    "tree_cat = DecisionTreeClassifier()\n",
    "tree_cat.fit(train2_scaled, y2_train)"
   ]
  },
  {
   "cell_type": "code",
   "execution_count": 115,
   "metadata": {
    "ExecuteTime": {
     "end_time": "2020-10-06T00:25:12.579922Z",
     "start_time": "2020-10-06T00:25:12.118025Z"
    }
   },
   "outputs": [
    {
     "ename": "ValueError",
     "evalue": "multi_class must be in ('ovo', 'ovr')",
     "output_type": "error",
     "traceback": [
      "\u001b[1;31m---------------------------------------------------------------------------\u001b[0m",
      "\u001b[1;31mValueError\u001b[0m                                Traceback (most recent call last)",
      "\u001b[1;32m<ipython-input-115-058b46fc3377>\u001b[0m in \u001b[0;36m<module>\u001b[1;34m\u001b[0m\n\u001b[0;32m      1\u001b[0m \u001b[1;32mfrom\u001b[0m \u001b[0msklearn\u001b[0m\u001b[1;33m.\u001b[0m\u001b[0mmetrics\u001b[0m \u001b[1;32mimport\u001b[0m \u001b[0mroc_auc_score\u001b[0m\u001b[1;33m\u001b[0m\u001b[1;33m\u001b[0m\u001b[0m\n\u001b[1;32m----> 2\u001b[1;33m \u001b[0ma\u001b[0m \u001b[1;33m=\u001b[0m \u001b[0mroc_auc_score\u001b[0m\u001b[1;33m(\u001b[0m\u001b[0my2_train\u001b[0m\u001b[1;33m,\u001b[0m \u001b[0mtree_cat\u001b[0m\u001b[1;33m.\u001b[0m\u001b[0mpredict\u001b[0m\u001b[1;33m(\u001b[0m\u001b[0mtrain2_scaled\u001b[0m\u001b[1;33m)\u001b[0m\u001b[1;33m)\u001b[0m\u001b[1;33m\u001b[0m\u001b[1;33m\u001b[0m\u001b[0m\n\u001b[0m\u001b[0;32m      3\u001b[0m \u001b[0mb\u001b[0m \u001b[1;33m=\u001b[0m \u001b[0mroc_auc_score\u001b[0m\u001b[1;33m(\u001b[0m\u001b[0my2_test\u001b[0m\u001b[1;33m,\u001b[0m \u001b[0mtree_cat\u001b[0m\u001b[1;33m.\u001b[0m\u001b[0mpredict\u001b[0m\u001b[1;33m(\u001b[0m\u001b[0mtest2_scaled\u001b[0m\u001b[1;33m)\u001b[0m\u001b[1;33m)\u001b[0m\u001b[1;33m\u001b[0m\u001b[1;33m\u001b[0m\u001b[0m\n\u001b[0;32m      4\u001b[0m \u001b[0mprint\u001b[0m\u001b[1;33m(\u001b[0m\u001b[1;34m\"Decision Tree train r = \"\u001b[0m\u001b[1;33m,\u001b[0m\u001b[0ma\u001b[0m\u001b[1;33m)\u001b[0m\u001b[1;33m\u001b[0m\u001b[1;33m\u001b[0m\u001b[0m\n\u001b[0;32m      5\u001b[0m \u001b[0mprint\u001b[0m\u001b[1;33m(\u001b[0m\u001b[1;34m\"Decision Tree test r = \"\u001b[0m\u001b[1;33m,\u001b[0m\u001b[0mb\u001b[0m\u001b[1;33m)\u001b[0m\u001b[1;33m\u001b[0m\u001b[1;33m\u001b[0m\u001b[0m\n",
      "\u001b[1;32mC:\\ProgramData\\Anaconda3\\envs\\multiPurpose\\lib\\site-packages\\sklearn\\utils\\validation.py\u001b[0m in \u001b[0;36minner_f\u001b[1;34m(*args, **kwargs)\u001b[0m\n\u001b[0;32m     70\u001b[0m                           FutureWarning)\n\u001b[0;32m     71\u001b[0m         \u001b[0mkwargs\u001b[0m\u001b[1;33m.\u001b[0m\u001b[0mupdate\u001b[0m\u001b[1;33m(\u001b[0m\u001b[1;33m{\u001b[0m\u001b[0mk\u001b[0m\u001b[1;33m:\u001b[0m \u001b[0marg\u001b[0m \u001b[1;32mfor\u001b[0m \u001b[0mk\u001b[0m\u001b[1;33m,\u001b[0m \u001b[0marg\u001b[0m \u001b[1;32min\u001b[0m \u001b[0mzip\u001b[0m\u001b[1;33m(\u001b[0m\u001b[0msig\u001b[0m\u001b[1;33m.\u001b[0m\u001b[0mparameters\u001b[0m\u001b[1;33m,\u001b[0m \u001b[0margs\u001b[0m\u001b[1;33m)\u001b[0m\u001b[1;33m}\u001b[0m\u001b[1;33m)\u001b[0m\u001b[1;33m\u001b[0m\u001b[1;33m\u001b[0m\u001b[0m\n\u001b[1;32m---> 72\u001b[1;33m         \u001b[1;32mreturn\u001b[0m \u001b[0mf\u001b[0m\u001b[1;33m(\u001b[0m\u001b[1;33m**\u001b[0m\u001b[0mkwargs\u001b[0m\u001b[1;33m)\u001b[0m\u001b[1;33m\u001b[0m\u001b[1;33m\u001b[0m\u001b[0m\n\u001b[0m\u001b[0;32m     73\u001b[0m     \u001b[1;32mreturn\u001b[0m \u001b[0minner_f\u001b[0m\u001b[1;33m\u001b[0m\u001b[1;33m\u001b[0m\u001b[0m\n\u001b[0;32m     74\u001b[0m \u001b[1;33m\u001b[0m\u001b[0m\n",
      "\u001b[1;32mC:\\ProgramData\\Anaconda3\\envs\\multiPurpose\\lib\\site-packages\\sklearn\\metrics\\_ranking.py\u001b[0m in \u001b[0;36mroc_auc_score\u001b[1;34m(y_true, y_score, average, sample_weight, max_fpr, multi_class, labels)\u001b[0m\n\u001b[0;32m    382\u001b[0m                              \"instead\".format(max_fpr))\n\u001b[0;32m    383\u001b[0m         \u001b[1;32mif\u001b[0m \u001b[0mmulti_class\u001b[0m \u001b[1;33m==\u001b[0m \u001b[1;34m'raise'\u001b[0m\u001b[1;33m:\u001b[0m\u001b[1;33m\u001b[0m\u001b[1;33m\u001b[0m\u001b[0m\n\u001b[1;32m--> 384\u001b[1;33m             \u001b[1;32mraise\u001b[0m \u001b[0mValueError\u001b[0m\u001b[1;33m(\u001b[0m\u001b[1;34m\"multi_class must be in ('ovo', 'ovr')\"\u001b[0m\u001b[1;33m)\u001b[0m\u001b[1;33m\u001b[0m\u001b[1;33m\u001b[0m\u001b[0m\n\u001b[0m\u001b[0;32m    385\u001b[0m         return _multiclass_roc_auc_score(y_true, y_score, labels,\n\u001b[0;32m    386\u001b[0m                                          multi_class, average, sample_weight)\n",
      "\u001b[1;31mValueError\u001b[0m: multi_class must be in ('ovo', 'ovr')"
     ]
    }
   ],
   "source": [
    "from sklearn.metrics import roc_auc_score\n",
    "a = roc_auc_score(y2_train, tree_cat.predict(train2_scaled))\n",
    "b = roc_auc_score(y2_test, tree_cat.predict(test2_scaled))\n",
    "print(\"Decision Tree train r = \",a)\n",
    "print(\"Decision Tree test r = \",b)"
   ]
  },
  {
   "cell_type": "code",
   "execution_count": 132,
   "metadata": {
    "ExecuteTime": {
     "end_time": "2020-10-06T01:47:37.722913Z",
     "start_time": "2020-10-06T01:47:26.000353Z"
    }
   },
   "outputs": [
    {
     "data": {
      "text/plain": [
       "Pipeline(steps=[('standardscaler', StandardScaler()),\n",
       "                ('sgdregressor', SGDRegressor())])"
      ]
     },
     "execution_count": 132,
     "metadata": {},
     "output_type": "execute_result"
    }
   ],
   "source": [
    "from sklearn.linear_model import SGDRegressor\n",
    "from sklearn.pipeline import make_pipeline\n",
    "\n",
    "# Always scale the input. The most convenient way is to use a pipeline.\n",
    "reg = make_pipeline(StandardScaler(), SGDRegressor(max_iter=1000, tol=1e-3))\n",
    "reg.fit(X_train, y_train)\n"
   ]
  },
  {
   "cell_type": "code",
   "execution_count": 133,
   "metadata": {
    "ExecuteTime": {
     "end_time": "2020-10-06T01:48:49.034295Z",
     "start_time": "2020-10-06T01:48:48.620259Z"
    }
   },
   "outputs": [
    {
     "data": {
      "text/plain": [
       "-494628951.62132967"
      ]
     },
     "execution_count": 133,
     "metadata": {},
     "output_type": "execute_result"
    }
   ],
   "source": [
    "reg.score(X_test,y_test)"
   ]
  },
  {
   "cell_type": "code",
   "execution_count": 134,
   "metadata": {
    "ExecuteTime": {
     "end_time": "2020-10-06T02:12:12.094918Z",
     "start_time": "2020-10-06T02:02:50.102553Z"
    }
   },
   "outputs": [
    {
     "name": "stdout",
     "output_type": "stream",
     "text": [
      "Random Forest train r =  (-0.08219424044243488, 1.7983828615846871e-13)\n",
      "Random Forest test r =  (-0.03611986779394279, 0.10634390878949515)\n"
     ]
    }
   ],
   "source": [
    "a = pearsonr(y_train, reg.predict(train_scaled))\n",
    "b = pearsonr(y_test, reg.predict(test_scaled))\n",
    "print(\"Random Forest train r = \",a)\n",
    "print(\"Random Forest test r = \",b)"
   ]
  },
  {
   "cell_type": "code",
   "execution_count": 154,
   "metadata": {
    "ExecuteTime": {
     "end_time": "2020-10-06T02:48:15.123129Z",
     "start_time": "2020-10-06T02:48:14.966444Z"
    }
   },
   "outputs": [],
   "source": [
    "from DeepPurpose import DTI as models\n",
    "#run this if you want to use my trained one\n",
    "model_9_24 = models.model_pretrained(path_dir = './model-9-24')"
   ]
  },
  {
   "cell_type": "code",
   "execution_count": 155,
   "metadata": {
    "ExecuteTime": {
     "end_time": "2020-10-06T02:48:19.437021Z",
     "start_time": "2020-10-06T02:48:19.401988Z"
    }
   },
   "outputs": [
    {
     "data": {
      "text/plain": [
       "<DeepPurpose.DTI.DBTA at 0x2321ee03248>"
      ]
     },
     "execution_count": 155,
     "metadata": {},
     "output_type": "execute_result"
    }
   ],
   "source": [
    "model"
   ]
  },
  {
   "cell_type": "code",
   "execution_count": 143,
   "metadata": {
    "ExecuteTime": {
     "end_time": "2020-10-06T02:36:48.225840Z",
     "start_time": "2020-10-06T02:36:48.138840Z"
    }
   },
   "outputs": [],
   "source": [
    "state_dict = torch.load(r'C:\\Users\\Julia\\Dropbox\\Work\\insight\\omic\\DeepPurpose-omic\\model-9-24\\model.pt')\n",
    "#state_dict = torch.load('./model-9-24', map_location = torch.device('cpu'))"
   ]
  },
  {
   "cell_type": "code",
   "execution_count": 144,
   "metadata": {
    "ExecuteTime": {
     "end_time": "2020-10-06T02:37:01.163349Z",
     "start_time": "2020-10-06T02:37:00.918346Z"
    }
   },
   "outputs": [
    {
     "data": {
      "text/plain": [
       "OrderedDict([('model_drug.predictor.0.weight',\n",
       "              tensor([[ 0.0867,  0.1223,  0.1496,  ..., -0.2063,  0.0726, -0.0682],\n",
       "                      [-0.1626, -0.1736, -0.2029,  ..., -0.1643,  0.0638, -0.2519],\n",
       "                      [-0.0012,  0.0083, -0.1177,  ..., -0.0029, -0.1655,  0.0157],\n",
       "                      ...,\n",
       "                      [ 0.1376,  0.0517, -0.1924,  ...,  0.1951, -0.0767,  0.0975],\n",
       "                      [-0.1610,  0.0434,  0.0504,  ...,  0.1538, -0.2475, -0.0231],\n",
       "                      [-0.1537, -0.0240,  0.0892,  ...,  0.2453,  0.0534, -0.2827]])),\n",
       "             ('model_drug.predictor.0.bias',\n",
       "              tensor([-0.1856, -0.1796, -0.0606,  ..., -0.1561, -0.2625, -0.2159])),\n",
       "             ('model_drug.predictor.1.weight',\n",
       "              tensor([[-0.0469, -0.0254, -0.0642,  ..., -0.0838,  0.0239, -0.0942],\n",
       "                      [-0.0219,  0.0886, -0.0970,  ..., -0.0333, -0.0350,  0.0058],\n",
       "                      [ 0.1033, -0.0467, -0.1647,  ..., -0.0916, -0.0458, -0.0412],\n",
       "                      ...,\n",
       "                      [ 0.0059, -0.0336, -0.0125,  ..., -0.0133, -0.0012, -0.0105],\n",
       "                      [-0.1124, -0.0833, -0.0715,  ...,  0.0016,  0.0384, -0.0428],\n",
       "                      [-0.0130,  0.0308, -0.0356,  ..., -0.0696, -0.0072,  0.0369]])),\n",
       "             ('model_drug.predictor.1.bias',\n",
       "              tensor([-0.1127, -0.0134, -0.1555,  0.0422, -0.0457, -0.0439, -0.0160, -0.0389,\n",
       "                       0.0027, -0.0622, -0.0179, -0.0134, -0.0560, -0.0296,  0.0345, -0.0777,\n",
       "                      -0.0462, -0.0427, -0.0217,  0.0095, -0.0452, -0.0417, -0.0585, -0.0441,\n",
       "                      -0.0125, -0.0213,  0.0639,  0.0047, -0.0285, -0.0793, -0.0491,  0.0151,\n",
       "                      -0.0259,  0.0029, -0.0389, -0.0197, -0.0322,  0.0102, -0.0818, -0.0444,\n",
       "                       0.0288, -0.0912, -0.1234, -0.0266,  0.0335, -0.0401, -0.0735, -0.0799,\n",
       "                      -0.0608, -0.0344, -0.0700, -0.0643, -0.0290, -0.0617,  0.0122, -0.1217,\n",
       "                      -0.0331,  0.0435, -0.0170,  0.0089,  0.0111, -0.0655, -0.0341, -0.0768,\n",
       "                      -0.0750, -0.0274, -0.0187, -0.0758, -0.0157, -0.0009, -0.0673, -0.1096,\n",
       "                       0.0636, -0.0330, -0.1984, -0.0284, -0.0611,  0.0078, -0.1671, -0.0503,\n",
       "                      -0.0228, -0.0067, -0.0103, -0.0406, -0.0447, -0.0581, -0.0143, -0.0426,\n",
       "                      -0.0644, -0.0086, -0.0508, -0.0271, -0.0926,  0.0110, -0.0504,  0.0003,\n",
       "                      -0.0767, -0.0389, -0.0252, -0.0431, -0.0124, -0.0603, -0.0802, -0.0483,\n",
       "                      -0.0887, -0.0651,  0.1743, -0.0858, -0.0045, -0.1109, -0.0275, -0.0532,\n",
       "                      -0.0656, -0.1301, -0.0892, -0.0034,  0.0318, -0.0259, -0.0170, -0.0457,\n",
       "                      -0.0166, -0.1130, -0.1382, -0.0076, -0.0253, -0.0104, -0.0743, -0.0572,\n",
       "                      -0.0274, -0.0653, -0.0604, -0.0532, -0.0185,  0.0459, -0.0363, -0.0376,\n",
       "                      -0.0009, -0.0648, -0.1109,  0.0379, -0.2020, -0.0437, -0.0155, -0.0286,\n",
       "                      -0.0846, -0.0147, -0.0327, -0.0507, -0.0090, -0.0101, -0.0288, -0.0610,\n",
       "                      -0.0329, -0.1021, -0.0404, -0.0283, -0.0506, -0.1453, -0.0558, -0.0796,\n",
       "                      -0.1238, -0.0588, -0.0214, -0.0014, -0.0702, -0.0767, -0.0257, -0.0373,\n",
       "                      -0.0702, -0.0187, -0.0544, -0.1047, -0.0590, -0.0275, -0.0590, -0.0137,\n",
       "                      -0.0642, -0.0605, -0.0665, -0.0420, -0.0456,  0.0198, -0.0624,  0.0195,\n",
       "                      -0.0385, -0.1488, -0.0460, -0.0588, -0.0626, -0.0282, -0.0241,  0.0022,\n",
       "                      -0.0757, -0.0474, -0.0741,  0.0094, -0.0958, -0.0539, -0.0752, -0.0581,\n",
       "                      -0.0506, -0.2199, -0.0733, -0.0777, -0.0326, -0.1427, -0.0186, -0.0192,\n",
       "                      -0.0479,  0.0468, -0.0721, -0.1264, -0.0247,  0.0179, -0.0211, -0.0170,\n",
       "                      -0.0158, -0.0709, -0.0426,  0.0037, -0.0396, -0.0154,  0.0036, -0.0303,\n",
       "                      -0.0455, -0.0540, -0.0300, -0.0299, -0.0769, -0.0504, -0.0956, -0.0391,\n",
       "                      -0.0232,  0.0193, -0.0155, -0.0178,  0.0018, -0.1701,  0.0017, -0.0426,\n",
       "                      -0.1293, -0.0840, -0.0006, -0.0384, -0.0190,  0.0492, -0.0283, -0.1931,\n",
       "                      -0.0279, -0.0109,  0.0489, -0.0655, -0.0876, -0.0219, -0.0838, -0.0922])),\n",
       "             ('model_drug.predictor.2.weight',\n",
       "              tensor([[-0.0538, -0.0045, -0.0436,  ..., -0.0382,  0.0489,  0.0569],\n",
       "                      [-0.0229, -0.0163, -0.0429,  ..., -0.0306,  0.0254, -0.0561],\n",
       "                      [-0.0220,  0.0936, -0.0882,  ...,  0.0434,  0.0815, -0.0272],\n",
       "                      ...,\n",
       "                      [ 0.0316, -0.1759, -0.1012,  ...,  0.0146,  0.0103,  0.1521],\n",
       "                      [-0.0646, -0.0333, -0.0453,  ..., -0.0129, -0.0472, -0.0308],\n",
       "                      [-0.0561,  0.0607, -0.0454,  ...,  0.0481,  0.0301, -0.0392]])),\n",
       "             ('model_drug.predictor.2.bias',\n",
       "              tensor([-1.8777e-01, -7.0642e-02,  2.5679e-01, -8.9678e-02,  1.3840e-01,\n",
       "                      -1.4899e-01,  2.8649e-01, -4.4967e-02, -1.8657e-01, -1.7997e-01,\n",
       "                       1.2854e-01, -9.4496e-02,  3.0426e-01, -1.0660e-01,  4.8609e-02,\n",
       "                      -4.4879e-02,  1.3459e-01, -1.8442e-01, -2.3510e-01,  1.4035e-01,\n",
       "                      -8.3544e-02, -1.8983e-01,  1.1702e-01, -2.4191e-01, -3.9974e-02,\n",
       "                      -7.7807e-02, -1.4549e-01, -7.9085e-02, -5.1175e-02,  3.1025e-01,\n",
       "                      -2.6182e-01, -1.8277e-01, -9.9070e-02,  3.0016e-01, -1.2663e-01,\n",
       "                      -8.9481e-02,  2.7798e-01, -1.6219e-01,  2.5182e-01, -2.0595e-01,\n",
       "                      -1.0695e-01, -1.7433e-01, -2.1293e-01,  9.3230e-03,  4.9085e-05,\n",
       "                      -1.8844e-01, -1.6063e-01, -8.0796e-02, -8.4871e-02,  1.4659e-01,\n",
       "                       1.6087e-01, -9.9226e-02,  1.9676e-01, -8.9763e-02, -4.2941e-02,\n",
       "                      -2.1076e-01, -4.7861e-02,  3.7805e-02, -3.7782e-02, -1.2218e-01,\n",
       "                      -6.2168e-02, -1.4077e-01, -1.8003e-01,  3.8360e-01])),\n",
       "             ('model_drug.predictor.3.weight',\n",
       "              tensor([[ 0.0477, -0.0314, -0.2339,  ...,  0.0484, -0.0725, -0.0185],\n",
       "                      [-0.0126, -0.0606, -0.0607,  ..., -0.1223, -0.1102, -0.1858],\n",
       "                      [-0.0964,  0.0640,  0.0977,  ..., -0.1139, -0.0120, -0.0977],\n",
       "                      ...,\n",
       "                      [-0.0564,  0.0714, -0.0051,  ..., -0.0056, -0.0764, -0.0901],\n",
       "                      [ 0.0630, -0.0067, -0.1703,  ..., -0.1127, -0.1025, -0.0530],\n",
       "                      [-0.1071,  0.0732, -0.1023,  ...,  0.0398, -0.0443, -0.2187]])),\n",
       "             ('model_drug.predictor.3.bias',\n",
       "              tensor([-0.0376, -0.0876, -0.1561,  0.0139, -0.0729, -0.1069, -0.1156, -0.1456,\n",
       "                       0.1053, -0.1286, -0.0179, -0.1444, -0.1313, -0.0687, -0.1649, -0.1842,\n",
       "                       0.0049, -0.1050, -0.1060, -0.0134, -0.2379, -0.1776, -0.1498, -0.0512,\n",
       "                      -0.0031, -0.0996, -0.2444, -0.0191,  0.0748, -0.0310, -0.0868,  0.0354,\n",
       "                      -0.1361, -0.0441, -0.2063, -0.1610,  0.2945, -0.0823, -0.1435, -0.1672,\n",
       "                      -0.1084, -0.1198, -0.1638,  0.0283, -0.1096,  0.0312, -0.1380,  0.0504,\n",
       "                      -0.0779, -0.2056, -0.0041, -0.0714, -0.1324,  0.1941, -0.0317,  0.1223,\n",
       "                       0.1299, -0.0034, -0.1767, -0.0268, -0.2631,  0.0188, -0.2103, -0.0019,\n",
       "                      -0.1075, -0.1066, -0.1487, -0.0059, -0.1556,  0.0013, -0.0283, -0.0280,\n",
       "                      -0.1270, -0.0906, -0.2823, -0.1381, -0.0142, -0.0227, -0.1206, -0.1371,\n",
       "                      -0.2299, -0.1540, -0.0063, -0.0497, -0.0469,  0.1396, -0.2320, -0.0411,\n",
       "                       0.0565, -0.2723, -0.0357,  0.1046, -0.1109,  0.0018, -0.0024, -0.0118,\n",
       "                      -0.1434, -0.2182,  0.1226, -0.0670, -0.0812, -0.1967, -0.2370, -0.2436,\n",
       "                       0.0447,  0.0226, -0.0021, -0.0503, -0.0686,  0.0145, -0.0888, -0.0257,\n",
       "                      -0.1456,  0.2260, -0.2499,  0.0675, -0.1166, -0.1162, -0.0619, -0.1153,\n",
       "                       0.1625, -0.2369, -0.0668, -0.1178, -0.0620, -0.2525, -0.1338, -0.0740])),\n",
       "             ('model_protein.predictor.0.weight',\n",
       "              tensor([[-0.0422, -0.0022,  0.0453,  ..., -0.0823, -0.0623, -0.0812],\n",
       "                      [ 0.0198, -0.0007,  0.0187,  ...,  0.0280,  0.0343,  0.0205],\n",
       "                      [-0.1232, -0.0619, -0.1358,  ..., -0.0074, -0.1956,  0.0044],\n",
       "                      ...,\n",
       "                      [ 0.1591,  0.0024, -0.0143,  ...,  0.0278, -0.0732, -0.1134],\n",
       "                      [-0.0180,  0.0199, -0.0425,  ..., -0.0280,  0.1565,  0.1200],\n",
       "                      [-0.0712, -0.0122, -0.0324,  ..., -0.0029,  0.0667, -0.0623]])),\n",
       "             ('model_protein.predictor.0.bias',\n",
       "              tensor([-0.0069, -0.0100,  0.0670,  ...,  0.0140, -0.0114, -0.0291])),\n",
       "             ('model_protein.predictor.1.weight',\n",
       "              tensor([[-0.0651, -0.0254, -0.0414,  ...,  0.0041, -0.0299, -0.0255],\n",
       "                      [ 0.0647, -0.0497,  0.0435,  ...,  0.0519, -0.0300, -0.0038],\n",
       "                      [-0.0205,  0.0747, -0.0442,  ..., -0.0388, -0.0111, -0.0582],\n",
       "                      ...,\n",
       "                      [-0.0049,  0.0253, -0.0151,  ...,  0.0036,  0.0334,  0.0055],\n",
       "                      [ 0.0334, -0.0120,  0.0436,  ..., -0.0010,  0.0206,  0.0532],\n",
       "                      [ 0.0456,  0.0131, -0.0590,  ..., -0.0384,  0.0162, -0.0373]])),\n",
       "             ('model_protein.predictor.1.bias',\n",
       "              tensor([-0.2067, -0.1607,  0.0544,  0.1418, -0.1497, -0.0831,  0.0101, -0.0876,\n",
       "                      -0.0765, -0.1110, -0.1123, -0.1259, -0.1286, -0.0559,  0.0563, -0.2671,\n",
       "                      -0.0652, -0.1001, -0.2050, -0.1192, -0.0108, -0.0939, -0.1238, -0.1052,\n",
       "                       0.0919, -0.1290,  0.0443,  0.0214, -0.0542,  0.0143, -0.0755, -0.1589,\n",
       "                      -0.1240, -0.1477, -0.0295, -0.1527,  0.2125, -0.0774, -0.1764,  0.2724,\n",
       "                      -0.1784, -0.0470, -0.0413,  0.1044, -0.2205, -0.1885, -0.1375, -0.1129,\n",
       "                      -0.1509, -0.1402,  0.0212, -0.1792, -0.1220, -0.1132,  0.0459, -0.1676,\n",
       "                      -0.1337, -0.0333, -0.0829, -0.0308, -0.0858, -0.0936, -0.0976, -0.1472,\n",
       "                      -0.1342, -0.0529, -0.1984, -0.2014, -0.0103, -0.1142, -0.1582, -0.0335,\n",
       "                      -0.1342, -0.1344, -0.1182, -0.2069, -0.0347, -0.0797, -0.2116, -0.1712,\n",
       "                      -0.1519, -0.0878, -0.1679, -0.0811, -0.1259,  0.0100, -0.1230, -0.0457,\n",
       "                      -0.1854,  0.0077, -0.0518, -0.1780, -0.0222, -0.1506, -0.0137, -0.2430,\n",
       "                      -0.0882,  0.1005, -0.0899, -0.0848,  0.0663, -0.0053, -0.1592,  0.0073,\n",
       "                      -0.1522, -0.1171, -0.0745,  0.0391, -0.1172, -0.1266, -0.1279, -0.0983,\n",
       "                       0.1072, -0.1099, -0.0881, -0.1075, -0.0522, -0.0705, -0.0655, -0.1415,\n",
       "                      -0.1629, -0.1000, -0.1250, -0.1690, -0.1307, -0.1580, -0.0999, -0.1992,\n",
       "                      -0.0637, -0.1156,  0.0325, -0.1853, -0.0637, -0.1829, -0.0398, -0.1041,\n",
       "                      -0.1497, -0.0567, -0.0929, -0.0681, -0.1704, -0.1557,  0.0807, -0.0620,\n",
       "                      -0.0460, -0.1484, -0.1082, -0.0785, -0.0311, -0.1208, -0.0789, -0.0706,\n",
       "                      -0.1233,  0.0304,  0.0320, -0.1469,  0.0379,  0.1336, -0.2563, -0.1789,\n",
       "                      -0.1224, -0.2280, -0.0799, -0.2298, -0.1160, -0.1528,  0.0550, -0.0974,\n",
       "                      -0.1221, -0.0530, -0.0836, -0.1054, -0.1849, -0.1396, -0.1573, -0.0952,\n",
       "                      -0.1456,  0.0639, -0.1071, -0.0779, -0.2544, -0.1027,  0.0218, -0.1044,\n",
       "                      -0.0368, -0.1261, -0.1052, -0.0860,  0.1319,  0.0207,  0.0161,  0.0018,\n",
       "                      -0.2501, -0.1194, -0.1112, -0.1593, -0.0957,  0.0538, -0.1281, -0.1017,\n",
       "                      -0.1637, -0.0745, -0.1184, -0.1320, -0.0637, -0.0210, -0.0037, -0.1446,\n",
       "                      -0.1693, -0.1375, -0.0226, -0.0290, -0.1688, -0.1536,  0.1971, -0.0839,\n",
       "                      -0.1285, -0.0380, -0.1117, -0.1967, -0.1492, -0.0172, -0.1479, -0.0192,\n",
       "                      -0.1848, -0.1149, -0.0671, -0.1155, -0.0088, -0.0502, -0.1262, -0.0869,\n",
       "                      -0.1196, -0.0101, -0.1291, -0.0615, -0.0900, -0.1649,  0.1287, -0.1231,\n",
       "                      -0.0463, -0.1086, -0.0499, -0.0430,  0.0047, -0.2006, -0.1416, -0.1437,\n",
       "                      -0.1195, -0.1682, -0.0810, -0.0957, -0.1224, -0.0997, -0.0767, -0.0917])),\n",
       "             ('model_protein.predictor.2.weight',\n",
       "              tensor([[ 0.0986,  0.0010, -0.0199,  ...,  0.0242, -0.0493, -0.1389],\n",
       "                      [-0.0006,  0.0852, -0.0628,  ..., -0.1399, -0.1111, -0.0046],\n",
       "                      [ 0.0509,  0.0115,  0.0440,  ..., -0.0760, -0.0077, -0.1142],\n",
       "                      ...,\n",
       "                      [-0.0322, -0.0793,  0.0566,  ..., -0.1074, -0.0721,  0.1507],\n",
       "                      [-0.0059,  0.1557,  0.0215,  ...,  0.0491,  0.0315, -0.0953],\n",
       "                      [ 0.0146,  0.0468,  0.0430,  ..., -0.0312, -0.1446,  0.0215]])),\n",
       "             ('model_protein.predictor.2.bias',\n",
       "              tensor([-0.1356, -0.1810, -0.2240, -0.0230, -0.0125, -0.2042, -0.0295, -0.1195,\n",
       "                      -0.0216, -0.1174, -0.0546, -0.1419, -0.0172, -0.1457,  0.0194,  0.0896,\n",
       "                      -0.1101, -0.0789, -0.1002, -0.1145, -0.1692, -0.0957,  0.1204, -0.1708,\n",
       "                      -0.1177, -0.1622,  0.0454, -0.0745, -0.0277, -0.0867,  0.0049,  0.0405,\n",
       "                      -0.0265,  0.0029, -0.0713, -0.0824,  0.0282, -0.0837,  0.0576, -0.0700,\n",
       "                       0.0956, -0.1549, -0.0309, -0.0632, -0.0398, -0.1333, -0.2227,  0.1664,\n",
       "                      -0.1030, -0.0519, -0.0788, -0.1068, -0.1691, -0.1313, -0.1903, -0.1008,\n",
       "                       0.1318, -0.0365, -0.1623, -0.0782, -0.0638, -0.1788, -0.1236,  0.0531])),\n",
       "             ('model_protein.predictor.3.weight',\n",
       "              tensor([[-0.0099, -0.0199, -0.1613,  ..., -0.0337, -0.1411, -0.0042],\n",
       "                      [ 0.2130, -0.0938,  0.0457,  ..., -0.0870, -0.1257,  0.0873],\n",
       "                      [ 0.0702,  0.0761,  0.2324,  ..., -0.1186,  0.0749, -0.0605],\n",
       "                      ...,\n",
       "                      [ 0.0112, -0.0523,  0.0092,  ...,  0.0985, -0.0587,  0.0437],\n",
       "                      [-0.0014,  0.1144, -0.0043,  ..., -0.0264,  0.0307, -0.1880],\n",
       "                      [ 0.0132,  0.0570,  0.0365,  ...,  0.1184, -0.1360,  0.0286]])),\n",
       "             ('model_protein.predictor.3.bias',\n",
       "              tensor([-0.0389, -0.0516, -0.2025, -0.0314, -0.0575, -0.2087,  0.1247, -0.1088,\n",
       "                      -0.0620, -0.1404, -0.0357, -0.2077, -0.1687, -0.0876, -0.1384, -0.1412,\n",
       "                      -0.0772,  0.0975, -0.1818, -0.2433, -0.1654,  0.0043, -0.0463, -0.0192,\n",
       "                       0.0996, -0.1324,  0.0356,  0.1242, -0.2094, -0.2044,  0.0807, -0.1471,\n",
       "                      -0.0997, -0.2966, -0.1330, -0.1590, -0.2742, -0.0897, -0.1214, -0.0885,\n",
       "                      -0.2349, -0.0360, -0.3396, -0.0012, -0.2003, -0.2210, -0.1888, -0.3438,\n",
       "                      -0.0247, -0.0660, -0.1337, -0.2260, -0.0375, -0.2355, -0.1861, -0.1303,\n",
       "                      -0.1896, -0.0850, -0.0495, -0.0028, -0.0216, -0.2655, -0.0967, -0.0571,\n",
       "                       0.0407, -0.2044,  0.0147, -0.1690, -0.0584, -0.0208, -0.0709,  0.0205,\n",
       "                      -0.1887, -0.2252, -0.0872, -0.2277, -0.0286, -0.1145, -0.1220, -0.1132,\n",
       "                      -0.2471, -0.0718,  0.0212, -0.1343, -0.2351, -0.2109,  0.0344, -0.2243,\n",
       "                      -0.1631, -0.1419, -0.1300, -0.0094,  0.0319,  0.0593, -0.2768, -0.2484,\n",
       "                      -0.1876, -0.1396, -0.1428, -0.1929, -0.2167, -0.0317, -0.0705, -0.0639,\n",
       "                      -0.2456, -0.2370, -0.1680, -0.1367, -0.1238, -0.2264,  0.0610, -0.2417,\n",
       "                      -0.1410, -0.0796, -0.0472, -0.0463, -0.1239, -0.2320, -0.1544, -0.1836,\n",
       "                      -0.0219,  0.1002, -0.1195, -0.2315, -0.2000, -0.1684, -0.0378, -0.0918,\n",
       "                      -0.0903, -0.0868, -0.0313, -0.1334, -0.0174, -0.0340, -0.1505, -0.1155,\n",
       "                      -0.0794, -0.1094, -0.1587, -0.1953, -0.2879, -0.1536, -0.0806, -0.1583,\n",
       "                      -0.1709, -0.1747, -0.2841, -0.1711,  0.0052, -0.0880, -0.0703, -0.2194,\n",
       "                      -0.2386, -0.0181,  0.0438, -0.2157, -0.2439, -0.2264, -0.2078, -0.1804,\n",
       "                      -0.1350, -0.1887,  0.1916,  0.1468, -0.2163, -0.0550,  0.0419, -0.1631,\n",
       "                       0.0406, -0.0464, -0.0460, -0.1192, -0.0892, -0.0680, -0.2438, -0.0068,\n",
       "                      -0.1324, -0.2249, -0.0784, -0.0379, -0.1781, -0.2686, -0.0679, -0.2278,\n",
       "                       0.1132, -0.1190, -0.1071, -0.2292, -0.1012, -0.0127, -0.2106, -0.1950,\n",
       "                       0.0857, -0.0867, -0.1981, -0.2048, -0.2645, -0.1753, -0.1584, -0.0110,\n",
       "                      -0.0132, -0.2114, -0.0950, -0.2132, -0.1114, -0.1945,  0.2285, -0.0863,\n",
       "                      -0.2277, -0.0123, -0.1684, -0.1294, -0.1390,  0.0112, -0.1407, -0.0920,\n",
       "                      -0.1740, -0.1471,  0.0967, -0.1887, -0.0534, -0.2490, -0.1967, -0.0014,\n",
       "                       0.1316, -0.2084, -0.1433, -0.1258, -0.2366, -0.0977, -0.1061, -0.0984,\n",
       "                      -0.1393, -0.0197, -0.2289, -0.3104, -0.0718, -0.2579,  0.1522, -0.0280,\n",
       "                       0.0320, -0.1765,  0.0092, -0.2343, -0.1471, -0.0275, -0.2095,  0.0858,\n",
       "                      -0.0766, -0.1965, -0.1471, -0.0049, -0.2048, -0.0595, -0.1462, -0.0345])),\n",
       "             ('predictor.0.weight',\n",
       "              tensor([[ 0.0303, -0.0062, -0.0706,  ..., -0.0253, -0.0555, -0.1567],\n",
       "                      [-0.0793,  0.0197,  0.0438,  ...,  0.0565,  0.0240,  0.0187],\n",
       "                      [-0.0303,  0.0381,  0.0586,  ..., -0.0331, -0.0470,  0.0347],\n",
       "                      ...,\n",
       "                      [-0.1466,  0.0061, -0.0009,  ..., -0.0131, -0.0096,  0.0600],\n",
       "                      [ 0.0030, -0.0024, -0.0159,  ...,  0.0447,  0.0056,  0.0394],\n",
       "                      [-0.0853, -0.0538, -0.0472,  ..., -0.0299,  0.0144,  0.0295]])),\n",
       "             ('predictor.0.bias',\n",
       "              tensor([-0.1603, -0.1085, -0.0244,  ..., -0.0563, -0.0331, -0.0696])),\n",
       "             ('predictor.1.weight',\n",
       "              tensor([[-0.0115, -0.0095,  0.0240,  ...,  0.0222, -0.0124, -0.0518],\n",
       "                      [ 0.0109, -0.0005, -0.0369,  ..., -0.0282,  0.0158,  0.0042],\n",
       "                      [-0.0291, -0.0081, -0.0201,  ...,  0.0086, -0.0059, -0.0151],\n",
       "                      ...,\n",
       "                      [-0.0026,  0.0222, -0.1026,  ..., -0.0096, -0.0123, -0.0137],\n",
       "                      [-0.0130, -0.0163, -0.0272,  ..., -0.0192, -0.0175,  0.0036],\n",
       "                      [-0.0157, -0.0255, -0.0058,  ..., -0.0235, -0.0118,  0.0093]])),\n",
       "             ('predictor.1.bias',\n",
       "              tensor([ 0.0849, -0.0466, -0.0427,  ..., -0.1127, -0.0421, -0.0581])),\n",
       "             ('predictor.2.weight',\n",
       "              tensor([[ 0.0021, -0.0292, -0.0201,  ...,  0.0022,  0.0006,  0.0203],\n",
       "                      [-0.0121,  0.0021, -0.0149,  ..., -0.0153, -0.0048,  0.0292],\n",
       "                      [ 0.0136, -0.0234,  0.0162,  ..., -0.0120,  0.0080, -0.0332],\n",
       "                      ...,\n",
       "                      [-0.0207, -0.0053, -0.0222,  ...,  0.0024, -0.0313, -0.0076],\n",
       "                      [ 0.0317, -0.0240,  0.0065,  ...,  0.0431,  0.0121, -0.0104],\n",
       "                      [-0.0234, -0.0187, -0.0211,  ..., -0.0325,  0.0308,  0.0119]])),\n",
       "             ('predictor.2.bias',\n",
       "              tensor([ 0.3919,  0.3453, -0.0503, -0.0400, -0.0555,  0.3902,  0.1417,  0.3718,\n",
       "                      -0.0692, -0.0658, -0.0534, -0.0288,  0.3701, -0.0225,  0.3758, -0.0384,\n",
       "                       0.3913,  0.1311, -0.0339,  0.3714,  0.3900, -0.0960,  0.0093,  0.3674,\n",
       "                      -0.0551,  0.3786, -0.0839, -0.0285,  0.3997, -0.0583, -0.0660, -0.0192,\n",
       "                       0.1869, -0.0310, -0.0354, -0.0209, -0.0472, -0.0724, -0.0833, -0.0680,\n",
       "                       0.3703, -0.0534, -0.0507,  0.0558,  0.3734, -0.0313,  0.1426, -0.0703,\n",
       "                      -0.0260, -0.0675, -0.0561,  0.3557, -0.0377, -0.0381, -0.0393, -0.0209,\n",
       "                      -0.0371, -0.0695,  0.4270, -0.0354,  0.4098, -0.0416, -0.0786,  0.0207,\n",
       "                       0.3489, -0.0480, -0.0436,  0.3670,  0.3755,  0.1223, -0.1117, -0.0403,\n",
       "                       0.3739,  0.3903, -0.0543, -0.0733,  0.1440, -0.0211, -0.0265,  0.3954,\n",
       "                       0.3712, -0.0260,  0.3972, -0.0755,  0.3791, -0.0689, -0.0373, -0.0329,\n",
       "                       0.4382, -0.0643,  0.4176, -0.0384,  0.3914, -0.0765,  0.3637, -0.0088,\n",
       "                       0.4356, -0.0268, -0.0630,  0.4174, -0.0787,  0.3742,  0.4040,  0.2079,\n",
       "                      -0.0302,  0.3733,  0.4141, -0.0537, -0.0501, -0.0509,  0.4276,  0.3659,\n",
       "                       0.4079,  0.3967, -0.0711, -0.0265,  0.0267,  0.3829,  0.3926, -0.0166,\n",
       "                       0.1229, -0.0527, -0.0794,  0.4267, -0.0335, -0.0419, -0.0060, -0.0513,\n",
       "                       0.3830,  0.1836,  0.3834, -0.0552,  0.4264, -0.0534,  0.3927,  0.3976,\n",
       "                       0.1515,  0.3836,  0.3767, -0.0526, -0.0301, -0.0284,  0.3893,  0.4318,\n",
       "                      -0.0328,  0.3992, -0.0430, -0.0633, -0.0466,  0.2303,  0.3862,  0.3784,\n",
       "                      -0.0673,  0.0740,  0.1896, -0.0422,  0.4023, -0.0413,  0.3945, -0.0363,\n",
       "                       0.3603,  0.1374, -0.0158, -0.0675, -0.0791,  0.4120, -0.0438, -0.0491,\n",
       "                       0.3768, -0.0800,  0.4358,  0.3529, -0.0427,  0.3777, -0.0450,  0.3819,\n",
       "                       0.4083, -0.0194, -0.0665, -0.0807, -0.0442, -0.0275,  0.3819,  0.4186,\n",
       "                       0.3706,  0.3764,  0.3899,  0.3743, -0.0515, -0.0564, -0.0562, -0.0786,\n",
       "                      -0.0505,  0.3831, -0.0726, -0.1137, -0.0267, -0.0459, -0.0099, -0.0566,\n",
       "                       0.3908, -0.0736,  0.2274, -0.1201, -0.0321,  0.3721, -0.0956, -0.0555,\n",
       "                       0.3808,  0.3869, -0.0103,  0.4006,  0.4005, -0.0279, -0.0621, -0.0608,\n",
       "                      -0.0712,  0.3845, -0.0637, -0.0681, -0.0328,  0.4037,  0.0384, -0.0472,\n",
       "                       0.4107,  0.3850, -0.0650, -0.0285,  0.3524, -0.0296,  0.3877, -0.0561,\n",
       "                       0.4323, -0.0606, -0.0478,  0.3920, -0.0798,  0.4148,  0.4002,  0.3880,\n",
       "                      -0.0650, -0.0453,  0.3802,  0.3628, -0.1167, -0.0271,  0.3450,  0.3916,\n",
       "                      -0.0468,  0.3692,  0.4046,  0.3881, -0.0214,  0.3777, -0.0451, -0.0497,\n",
       "                       0.3790,  0.3929,  0.3745,  0.4420, -0.0542,  0.0964, -0.0734, -0.0384,\n",
       "                      -0.0338, -0.0213,  0.4000, -0.0252,  0.3762, -0.0314, -0.0503, -0.0345,\n",
       "                      -0.0671, -0.0495,  0.2219, -0.0304, -0.0417, -0.0619,  0.3775,  0.3944,\n",
       "                      -0.0632, -0.0777, -0.0572, -0.0337,  0.3751, -0.0611, -0.0089,  0.3609,\n",
       "                      -0.0366,  0.3860, -0.0433, -0.0653, -0.0594, -0.0545,  0.4242,  0.3918,\n",
       "                       0.4039, -0.0329,  0.4162, -0.0163, -0.0018,  0.3596, -0.0520, -0.0203,\n",
       "                      -0.0237, -0.0575,  0.3871,  0.3874, -0.1085, -0.0613,  0.3532, -0.0924,\n",
       "                      -0.0965, -0.0121, -0.0555,  0.3615, -0.0202,  0.3967,  0.1638, -0.0652,\n",
       "                       0.0954, -0.0584,  0.3822, -0.0459,  0.4162,  0.3782, -0.0638, -0.0673,\n",
       "                      -0.0083, -0.0480,  0.1950, -0.0619,  0.3966,  0.3704, -0.0657, -0.0439,\n",
       "                      -0.0619,  0.4529,  0.0147, -0.0263,  0.4113,  0.0885, -0.0341, -0.0332,\n",
       "                       0.3494, -0.0268, -0.0304, -0.0265,  0.1324,  0.4096,  0.4145, -0.0641,\n",
       "                      -0.0336,  0.3936, -0.0802,  0.3830, -0.0686, -0.0501,  0.4236,  0.3616,\n",
       "                       0.3820, -0.0177, -0.0708,  0.4017, -0.0615, -0.0489, -0.0402,  0.3774,\n",
       "                      -0.0632, -0.0259, -0.0325,  0.3923,  0.3593,  0.3985,  0.3861,  0.3938,\n",
       "                      -0.0217,  0.1514,  0.3708, -0.0186,  0.3823, -0.0740,  0.3596,  0.4256,\n",
       "                      -0.0139, -0.0055,  0.3502,  0.4512, -0.0354,  0.0815, -0.0436, -0.0475,\n",
       "                      -0.0508, -0.0067, -0.0518, -0.0379, -0.0338, -0.0651, -0.0550, -0.0500,\n",
       "                      -0.0680,  0.4036, -0.0200,  0.3906,  0.4130, -0.0516,  0.3590,  0.3617,\n",
       "                      -0.0564, -0.0544, -0.0216,  0.4180, -0.0101, -0.0238, -0.0286, -0.0590,\n",
       "                       0.4021,  0.3885, -0.0197,  0.4296, -0.0393, -0.0290,  0.3461, -0.0289,\n",
       "                      -0.0379, -0.0490, -0.0381,  0.3828,  0.4187,  0.4410,  0.3693,  0.3357,\n",
       "                       0.3988, -0.0686, -0.0286, -0.0271,  0.3730, -0.0031,  0.4005,  0.4070,\n",
       "                       0.3721,  0.4077,  0.3850, -0.0148,  0.3825, -0.0148, -0.0449, -0.0274,\n",
       "                      -0.0732, -0.0603, -0.0670,  0.4035,  0.4172, -0.1044,  0.3594, -0.0995,\n",
       "                      -0.0754,  0.4059,  0.3915,  0.3923,  0.3941, -0.0406, -0.0392, -0.0604,\n",
       "                      -0.0610, -0.0206, -0.0132,  0.1199, -0.0711,  0.3688, -0.0309, -0.0419,\n",
       "                      -0.0425, -0.0627,  0.1374, -0.0345, -0.0442, -0.0602,  0.4066,  0.0590,\n",
       "                      -0.0125, -0.0861,  0.3643,  0.0989, -0.0745,  0.0338,  0.3644, -0.0309,\n",
       "                      -0.0140,  0.0149,  0.1654, -0.0827,  0.4096,  0.3904, -0.0309,  0.3941,\n",
       "                      -0.0278, -0.0288, -0.0350, -0.0358, -0.0645,  0.3945,  0.4301, -0.0537,\n",
       "                      -0.0647, -0.0489,  0.4003, -0.0643, -0.0599,  0.4131,  0.3489,  0.3502])),\n",
       "             ('predictor.3.weight',\n",
       "              tensor([[ 5.0575e-02,  4.4960e-02, -2.7550e-04, -8.6736e-03,  2.3183e-02,\n",
       "                        4.2293e-02, -1.5365e-01,  4.1789e-02, -6.3808e-03,  2.0411e-02,\n",
       "                        3.1103e-02, -3.1022e-03,  4.1538e-02,  2.8178e-03,  4.6706e-02,\n",
       "                        3.3286e-03,  5.3072e-02, -5.8771e-02, -7.5662e-04,  4.9945e-02,\n",
       "                        5.4535e-02,  8.2478e-02,  2.1612e-02,  5.0020e-02,  1.7382e-02,\n",
       "                        4.7011e-02,  2.4945e-02,  4.2526e-03,  5.2821e-02,  1.5137e-02,\n",
       "                        9.6020e-03,  8.1478e-03, -7.1677e-02,  4.2949e-03,  2.3488e-02,\n",
       "                        1.6454e-02, -1.3315e-02, -6.8460e-03, -8.7405e-03, -7.1324e-03,\n",
       "                        3.9336e-02,  1.9839e-02, -8.5926e-03,  4.5031e-02,  4.7100e-02,\n",
       "                        1.3778e-03, -1.8911e-01,  2.2656e-03, -4.9668e-03,  2.7704e-02,\n",
       "                        2.1237e-02,  4.3409e-02, -2.3360e-02,  1.4037e-02,  6.5509e-03,\n",
       "                        1.1602e-02,  8.7037e-03,  9.7076e-02,  4.4544e-02,  9.0439e-03,\n",
       "                        5.0936e-02,  1.3249e-03,  1.0491e-01, -3.3404e-02,  4.2798e-02,\n",
       "                        2.9017e-03, -2.5689e-03,  4.4218e-02,  5.1177e-02, -1.4355e-01,\n",
       "                        8.5733e-02,  1.0520e-02,  4.3705e-02,  5.0855e-02, -3.0425e-02,\n",
       "                       -1.1218e-02, -1.1754e-01,  1.7465e-02, -1.4288e-02,  4.5539e-02,\n",
       "                        4.3308e-02,  2.2653e-02,  4.5720e-02,  3.4682e-03,  5.1695e-02,\n",
       "                        1.6047e-02, -2.1978e-02,  2.3081e-02,  4.9335e-02, -2.6694e-02,\n",
       "                        4.7434e-02,  5.6416e-03,  5.5858e-02,  1.0561e-02,  4.9076e-02,\n",
       "                       -4.0675e-02,  4.2681e-02,  9.6115e-03,  1.2038e-02,  4.0526e-02,\n",
       "                        4.4650e-02,  4.6910e-02,  4.4521e-02, -9.4065e-02,  2.4769e-02,\n",
       "                        4.9431e-02,  4.8856e-02,  5.0240e-02,  1.8034e-02,  2.1651e-02,\n",
       "                        5.0224e-02,  4.8671e-02,  5.1039e-02,  4.7469e-02, -1.0566e-02,\n",
       "                       -5.0141e-03, -1.3249e-04,  4.5068e-02,  4.5400e-02,  4.6900e-03,\n",
       "                       -6.7473e-02, -2.9440e-04, -5.8796e-03,  4.3601e-02, -1.3985e-02,\n",
       "                        9.3225e-03, -1.3739e-02, -4.5899e-03,  5.5873e-02, -1.0015e-01,\n",
       "                        5.0212e-02,  1.4086e-02,  4.8227e-02,  3.0417e-02,  5.1722e-02,\n",
       "                        4.8601e-02, -1.3379e-01,  4.7652e-02,  4.8446e-02, -3.8925e-03,\n",
       "                        1.3913e-02,  1.3484e-02,  4.9183e-02,  4.6128e-02, -2.9307e-02,\n",
       "                        4.7009e-02, -2.0179e-03, -1.0002e-02,  7.0641e-03, -1.0143e-01,\n",
       "                        4.4120e-02,  4.6705e-02,  1.6942e-02, -5.0898e-02, -1.1367e-01,\n",
       "                        1.1333e-02,  4.3261e-02,  2.9345e-02,  4.6702e-02, -1.4709e-02,\n",
       "                        5.0625e-02, -1.1173e-01, -6.9528e-04,  1.8941e-02, -1.5377e-04,\n",
       "                        4.5883e-02,  1.2918e-02, -2.5996e-02,  4.2375e-02,  7.0689e-02,\n",
       "                        5.0349e-02,  4.9353e-02, -1.1449e-03,  4.7403e-02,  7.4448e-03,\n",
       "                        4.5561e-02,  4.4916e-02, -2.2059e-02, -2.2089e-03,  4.0094e-02,\n",
       "                        1.4286e-02,  3.4433e-03,  4.7894e-02,  5.3425e-02,  5.0269e-02,\n",
       "                        5.2844e-02,  4.7698e-02,  4.2891e-02, -3.1027e-03,  1.3568e-02,\n",
       "                        1.9324e-02, -2.2094e-02, -7.5691e-03,  4.8097e-02,  3.7369e-02,\n",
       "                        9.2660e-02, -1.6985e-02,  1.4402e-02,  6.1127e-03,  1.9036e-02,\n",
       "                        4.8741e-02, -6.4084e-03, -6.3161e-02,  5.4404e-02,  9.3679e-04,\n",
       "                        4.8221e-02,  5.0690e-02,  1.4600e-02,  4.1308e-02,  4.8781e-02,\n",
       "                        1.9553e-03,  4.8887e-02,  5.4278e-02,  9.1476e-03, -3.1036e-02,\n",
       "                        2.6539e-02,  1.0531e-02,  4.9523e-02,  6.0943e-02,  2.6534e-02,\n",
       "                        2.2941e-03,  4.0541e-02, -2.7681e-02,  9.7522e-03,  4.7201e-02,\n",
       "                        4.4036e-02,  2.3797e-02,  5.6005e-03,  5.0327e-02,  4.2274e-03,\n",
       "                        5.1693e-02,  2.9589e-02,  4.4199e-02,  4.2144e-02,  5.1096e-03,\n",
       "                        4.4609e-02, -2.8565e-03,  4.8546e-02,  6.2208e-02,  5.5543e-02,\n",
       "                       -1.3090e-02, -2.3517e-03,  4.1338e-02,  4.8247e-02, -6.3847e-03,\n",
       "                       -4.5812e-03,  4.4997e-02,  4.5734e-02,  1.3098e-02,  4.5881e-02,\n",
       "                        5.1550e-02,  4.6496e-02,  1.9566e-02,  4.9241e-02, -7.4244e-03,\n",
       "                       -5.9307e-02,  5.5969e-02,  5.3541e-02,  4.9028e-02,  5.0766e-02,\n",
       "                       -7.0032e-04, -5.6604e-02,  2.4989e-02, -2.8918e-03, -2.9021e-03,\n",
       "                        2.4963e-02,  5.5326e-02, -1.4075e-02,  5.4102e-02, -3.2535e-02,\n",
       "                       -1.1763e-02, -3.2102e-02,  2.1463e-02,  6.4712e-03, -1.2617e-01,\n",
       "                        5.7607e-04,  1.1162e-02, -1.1815e-02,  4.4526e-02,  4.9520e-02,\n",
       "                        1.3271e-02,  9.2467e-03,  3.0102e-02,  2.0151e-02,  4.9648e-02,\n",
       "                       -9.9782e-03,  1.2374e-04,  4.4838e-02,  9.5356e-03,  4.7794e-02,\n",
       "                        4.2155e-03,  2.6256e-02, -6.3916e-03,  1.5566e-02,  4.8947e-02,\n",
       "                        4.8659e-02,  5.1804e-02,  2.8086e-02,  4.7173e-02,  4.9816e-03,\n",
       "                       -2.2542e-03,  4.5898e-02,  1.2982e-02,  1.0050e-02, -7.9807e-03,\n",
       "                       -2.2132e-02,  4.8078e-02,  4.3808e-02,  7.9342e-02,  1.0108e-02,\n",
       "                        4.6172e-02, -1.1813e-02, -3.9908e-03,  5.0729e-03,  1.9196e-02,\n",
       "                        5.2227e-02,  1.0390e-03,  5.8145e-02,  3.7156e-02,  1.3805e-02,\n",
       "                       -2.3255e-02,  3.0684e-02,  5.4524e-02, -5.0972e-03,  5.0964e-02,\n",
       "                        4.1000e-02, -8.4428e-03,  3.8647e-02,  1.4571e-02,  1.6077e-02,\n",
       "                       -1.7591e-01, -3.3061e-02,  5.2372e-02,  4.1442e-02,  2.4363e-02,\n",
       "                       -1.2365e-02,  2.8091e-04,  4.8227e-02,  1.1729e-03, -1.1474e-02,\n",
       "                        6.0183e-02, -1.4430e-02,  1.0487e-02,  2.7344e-02,  4.8056e-02,\n",
       "                       -2.2880e-02, -4.4393e-02,  8.9196e-03,  6.1143e-03,  4.7346e-02,\n",
       "                        4.7963e-02,  7.7074e-03,  2.6901e-02,  4.3007e-02,  1.7610e-02,\n",
       "                        5.0109e-02,  9.7098e-03,  7.5580e-03,  5.3907e-02,  4.6485e-02,\n",
       "                        5.0419e-02, -2.8721e-03,  6.0817e-02,  4.1798e-02, -1.2185e-02,\n",
       "                        4.8841e-02,  1.4048e-02,  4.4379e-02,  3.1225e-02,  5.1883e-03,\n",
       "                        3.6534e-02,  4.8031e-02,  4.7772e-02,  4.4244e-02,  4.7759e-02,\n",
       "                        5.3372e-02, -1.2319e-02, -1.5495e-01,  4.6668e-02, -3.0706e-02,\n",
       "                        4.6583e-02,  1.5123e-02,  4.7869e-02,  4.6184e-02,  1.8864e-02,\n",
       "                       -1.4454e-03,  4.6037e-02,  4.3044e-02, -4.7055e-03, -1.2743e-01,\n",
       "                       -7.5439e-03,  1.3640e-02, -7.1194e-03,  8.0471e-03,  3.2464e-03,\n",
       "                        3.7356e-03, -2.7755e-02,  2.7367e-02, -1.9717e-02, -2.7057e-02,\n",
       "                        2.6515e-02,  4.6790e-02,  3.2227e-03,  5.3557e-02,  4.4988e-02,\n",
       "                       -4.8853e-03,  5.2651e-02,  4.6023e-02, -1.5879e-03,  4.1155e-03,\n",
       "                        4.4748e-03,  5.2432e-02,  1.3399e-02, -1.2416e-04,  8.9628e-04,\n",
       "                        2.4176e-02,  4.5502e-02,  4.4799e-02, -4.8701e-03,  4.4144e-02,\n",
       "                       -3.8763e-02,  2.9329e-03,  4.3151e-02,  2.4150e-02,  1.9957e-03,\n",
       "                        2.3281e-02,  1.9321e-03,  4.8951e-02,  5.1873e-02,  4.9340e-02,\n",
       "                        5.1869e-02,  4.3470e-02,  4.5535e-02,  4.2360e-02, -2.0023e-02,\n",
       "                        7.9025e-03,  5.0346e-02, -3.5516e-03,  4.9459e-02,  4.6326e-02,\n",
       "                        4.6172e-02,  4.6505e-02,  4.6614e-02, -2.8831e-03,  5.1092e-02,\n",
       "                       -3.7721e-03,  2.1763e-02, -2.0175e-02,  1.1460e-02,  1.9316e-02,\n",
       "                        1.2400e-02,  4.1863e-02,  5.1020e-02,  4.8829e-02,  4.7172e-02,\n",
       "                        1.1227e-01,  6.1530e-03,  4.9629e-02,  4.4820e-02,  5.4444e-02,\n",
       "                        4.4041e-02,  1.9146e-02,  1.1199e-02,  8.7992e-03, -5.6293e-03,\n",
       "                        1.2254e-03,  8.7719e-03, -6.7863e-02,  1.5450e-03,  4.7291e-02,\n",
       "                        1.3643e-03,  9.4420e-03, -2.0243e-02,  2.0761e-02, -6.5456e-02,\n",
       "                        2.0176e-02, -1.7817e-02, -3.2193e-02,  4.4009e-02,  3.7705e-02,\n",
       "                       -1.0632e-02,  2.6020e-02,  4.8540e-02,  3.7069e-02,  4.8786e-03,\n",
       "                       -1.3820e-02,  4.5595e-02, -5.6755e-04,  1.5175e-02, -1.8598e-02,\n",
       "                       -1.6234e-01,  1.8662e-03,  4.6208e-02,  4.9751e-02, -4.7872e-03,\n",
       "                        4.7148e-02, -2.2187e-02, -3.2391e-02, -1.3905e-02, -1.9071e-02,\n",
       "                        2.1167e-02,  4.6602e-02,  5.0618e-02,  2.1247e-02, -7.1928e-03,\n",
       "                        1.3172e-02,  4.2900e-02, -1.6573e-03, -5.9283e-03,  4.7276e-02,\n",
       "                        4.7881e-02,  4.3083e-02]])),\n",
       "             ('predictor.3.bias', tensor([0.7953]))])"
      ]
     },
     "execution_count": 144,
     "metadata": {},
     "output_type": "execute_result"
    }
   ],
   "source": [
    "state_dict"
   ]
  },
  {
   "cell_type": "code",
   "execution_count": null,
   "metadata": {},
   "outputs": [],
   "source": [
    "if self.device == 'cuda':\n",
    "\t\t\tstate_dict = torch.load(path)\n",
    "\t\telse:\n",
    "\t\t\tstate_dict = torch.load(path, map_location = torch.device('cpu'))\n",
    "\t\t# to support training from multi-gpus data-parallel:\n",
    "        \n",
    "\t\tif next(iter(state_dict))[:7] == 'module.':\n",
    "\t\t\t# the pretrained model is from data-parallel module\n",
    "\t\t\tfrom collections import OrderedDict\n",
    "\t\t\tnew_state_dict = OrderedDict()\n",
    "\t\t\tfor k, v in state_dict.items():\n",
    "\t\t\t\tname = k[7:] # remove `module.`\n",
    "\t\t\t\tnew_state_dict[name] = v\n",
    "\t\t\tstate_dict = new_state_dict\n",
    "\n",
    "\t\tself.model.load_state_dict(state_dict)\n",
    "\n",
    "\t\tself.binary = self.config['binary']\n"
   ]
  },
  {
   "cell_type": "code",
   "execution_count": 158,
   "metadata": {
    "ExecuteTime": {
     "end_time": "2020-10-06T02:49:30.133832Z",
     "start_time": "2020-10-06T02:49:30.109770Z"
    }
   },
   "outputs": [],
   "source": [
    "#model1 = model_9_24.model.load_state_dict(state_dict)\n",
    "model1 = model_9_24.model"
   ]
  },
  {
   "cell_type": "code",
   "execution_count": 159,
   "metadata": {
    "ExecuteTime": {
     "end_time": "2020-10-06T02:49:32.749735Z",
     "start_time": "2020-10-06T02:49:32.719689Z"
    }
   },
   "outputs": [
    {
     "data": {
      "text/plain": [
       "DeepPurpose.DTI.Classifier"
      ]
     },
     "execution_count": 159,
     "metadata": {},
     "output_type": "execute_result"
    }
   ],
   "source": [
    "type(model1)"
   ]
  },
  {
   "cell_type": "code",
   "execution_count": 161,
   "metadata": {
    "ExecuteTime": {
     "end_time": "2020-10-06T02:49:47.962191Z",
     "start_time": "2020-10-06T02:49:47.934230Z"
    }
   },
   "outputs": [],
   "source": [
    "new_classifier = nn.Sequential(*list(model1.children())[:-1])"
   ]
  },
  {
   "cell_type": "code",
   "execution_count": 162,
   "metadata": {
    "ExecuteTime": {
     "end_time": "2020-10-06T02:49:58.963236Z",
     "start_time": "2020-10-06T02:49:58.928170Z"
    }
   },
   "outputs": [
    {
     "data": {
      "text/plain": [
       "torch.nn.modules.container.Sequential"
      ]
     },
     "execution_count": 162,
     "metadata": {},
     "output_type": "execute_result"
    }
   ],
   "source": [
    "type(new_classifier)"
   ]
  },
  {
   "cell_type": "code",
   "execution_count": 166,
   "metadata": {
    "ExecuteTime": {
     "end_time": "2020-10-06T16:30:34.463553Z",
     "start_time": "2020-10-06T16:30:34.174547Z"
    }
   },
   "outputs": [
    {
     "name": "stdout",
     "output_type": "stream",
     "text": [
      "Drug Target Interaction Prediction Mode...\n",
      "in total: 1 drug-target pairs\n",
      "encoding drug...\n",
      "unique drugs: 1\n",
      "encoding protein...\n",
      "unique target sequence: 1\n",
      "splitting dataset...\n",
      "do not do train/test split on the data for already splitted data\n"
     ]
    },
    {
     "ename": "AttributeError",
     "evalue": "'Sequential' object has no attribute 'predict'",
     "output_type": "error",
     "traceback": [
      "\u001b[1;31m---------------------------------------------------------------------------\u001b[0m",
      "\u001b[1;31mAttributeError\u001b[0m                            Traceback (most recent call last)",
      "\u001b[1;32m<ipython-input-166-8b8f28ad4661>\u001b[0m in \u001b[0;36m<module>\u001b[1;34m\u001b[0m\n\u001b[0;32m      5\u001b[0m                                 \u001b[0mdrug_encoding\u001b[0m\u001b[1;33m,\u001b[0m \u001b[0mtarget_encoding\u001b[0m\u001b[1;33m,\u001b[0m\u001b[1;33m\u001b[0m\u001b[1;33m\u001b[0m\u001b[0m\n\u001b[0;32m      6\u001b[0m                                 split_method='no_split')\n\u001b[1;32m----> 7\u001b[1;33m \u001b[0my_pred\u001b[0m \u001b[1;33m=\u001b[0m \u001b[0mnew_classifier\u001b[0m\u001b[1;33m.\u001b[0m\u001b[0mpredict\u001b[0m\u001b[1;33m(\u001b[0m\u001b[0mX_pred\u001b[0m\u001b[1;33m)\u001b[0m\u001b[1;33m\u001b[0m\u001b[1;33m\u001b[0m\u001b[0m\n\u001b[0m",
      "\u001b[1;32mC:\\ProgramData\\Anaconda3\\envs\\multiPurpose\\lib\\site-packages\\torch\\nn\\modules\\module.py\u001b[0m in \u001b[0;36m__getattr__\u001b[1;34m(self, name)\u001b[0m\n\u001b[0;32m    574\u001b[0m                 \u001b[1;32mreturn\u001b[0m \u001b[0mmodules\u001b[0m\u001b[1;33m[\u001b[0m\u001b[0mname\u001b[0m\u001b[1;33m]\u001b[0m\u001b[1;33m\u001b[0m\u001b[1;33m\u001b[0m\u001b[0m\n\u001b[0;32m    575\u001b[0m         raise AttributeError(\"'{}' object has no attribute '{}'\".format(\n\u001b[1;32m--> 576\u001b[1;33m             type(self).__name__, name))\n\u001b[0m\u001b[0;32m    577\u001b[0m \u001b[1;33m\u001b[0m\u001b[0m\n\u001b[0;32m    578\u001b[0m     \u001b[1;32mdef\u001b[0m \u001b[0m__setattr__\u001b[0m\u001b[1;33m(\u001b[0m\u001b[0mself\u001b[0m\u001b[1;33m,\u001b[0m \u001b[0mname\u001b[0m\u001b[1;33m,\u001b[0m \u001b[0mvalue\u001b[0m\u001b[1;33m)\u001b[0m\u001b[1;33m:\u001b[0m\u001b[1;33m\u001b[0m\u001b[1;33m\u001b[0m\u001b[0m\n",
      "\u001b[1;31mAttributeError\u001b[0m: 'Sequential' object has no attribute 'predict'"
     ]
    }
   ],
   "source": [
    "drug_encoding, target_encoding = 'MPNN', 'Conjoint_triad'\n",
    "X_drug = ['CC1=C2C=C(C=CC2=NN1)C3=CC(=CN=C3)OCC(CC4=CC=CC=C4)N']\n",
    "X_target = ['MKKFFDSRREQGGSGLGSGSSGGGGSTSGLGSGYIGRVFGIGRQQVTVDEVLAEGGFAIVFLVRTSNGMKCALKRMFVNNEHDLQVCKREIQIMRDLSGHKNIVGYIDSSINNVSSGDVWEVLILMDFCRGGQVVNLMNQRLQTGFTENEVLQIFCDTCEAVARLHQCKTPIIHRDLKVENILLHDRGHYVLCDFGSATNKFQNPQTEGVNAVEDEIKKYTTLSYRAPEMVNLYSGKIITTKADIWALGCLLYKLCYFTLPFGESQVAICDGNFTIPDNSRYSQDMHCLIRYMLEPDPDKRPDIYQVSYFSFKLLKKECPIPNVQNSPIPAKLPEPVKASEAAAKKTQPKARLTDPIPTTETSIAPRQRPKAGQTQPNPGILPIQPALTPRKRATVQPPPQAAGSSNQPGLLASVPQPKPQAPPSQPLPQTQAKQPQAPPTPQQTPSTQAQGLPAQAQATPQHQQQLFLKQQQQQQQPPPAQQQPAGTFYQQQQAQTQQFQAVHPATQKPAIAQFPVVSQGGSQQQLMQNFYQQQQQQQQQQQQQQLATALHQQQLMTQQAALQQKPTMAAGQQPQPQPAAAPQPAPAQEPAIQAPVRQQPKVQTTPPPAVQGQKVGSLTPPSSPKTQRAGHRRILSDVTHSAVFGVPASKSTQLLQAAAAEASLNKSKSATTTPSGSPRTSQQNVYNPSEGSTWNPFDDDNFSKLTAEELLNKDFAKLGEGKHPEKLGGSAESLIPGFQSTQGDAFATTSFSAGTAEKRKGGQTVDSGLPLLSVSDPFIPLQVPDAPEKLIEGLKSPDTSLLLPDLLPMTDPFGSTSDAVIEKADVAVESLIPGLEPPVPQRLPSQTESVTSNRTDSLTGEDSLLDCSLLSNPTTDLLEEFAPTAISAPVHKAAEDSNLISGFDVPEGSDKVAEDEFDPIPVLITKNPQGGHSRNSSGSSESSLPNLARSLLLVDQLIDL']\n",
    "X_pred = data_process(X_drug, X_target, y_test, \n",
    "                                drug_encoding, target_encoding, \n",
    "                                split_method='no_split')\n",
    "y_pred = new_classifier.predict(X_pred)"
   ]
  },
  {
   "cell_type": "code",
   "execution_count": 167,
   "metadata": {
    "ExecuteTime": {
     "end_time": "2020-10-06T16:50:47.248578Z",
     "start_time": "2020-10-06T16:50:47.227913Z"
    }
   },
   "outputs": [
    {
     "data": {
      "text/plain": [
       "Sequential(\n",
       "  (0): MLP(\n",
       "    (predictor): ModuleList(\n",
       "      (0): Linear(in_features=1024, out_features=1024, bias=True)\n",
       "      (1): Linear(in_features=1024, out_features=256, bias=True)\n",
       "      (2): Linear(in_features=256, out_features=64, bias=True)\n",
       "      (3): Linear(in_features=64, out_features=128, bias=True)\n",
       "    )\n",
       "  )\n",
       "  (1): MLP(\n",
       "    (predictor): ModuleList(\n",
       "      (0): Linear(in_features=343, out_features=1024, bias=True)\n",
       "      (1): Linear(in_features=1024, out_features=256, bias=True)\n",
       "      (2): Linear(in_features=256, out_features=64, bias=True)\n",
       "      (3): Linear(in_features=64, out_features=256, bias=True)\n",
       "    )\n",
       "  )\n",
       "  (2): Dropout(p=0.1, inplace=False)\n",
       ")"
      ]
     },
     "execution_count": 167,
     "metadata": {},
     "output_type": "execute_result"
    }
   ],
   "source": [
    "new_classifier.eval()"
   ]
  },
  {
   "cell_type": "code",
   "execution_count": 168,
   "metadata": {
    "ExecuteTime": {
     "end_time": "2020-10-06T16:51:14.539921Z",
     "start_time": "2020-10-06T16:51:14.523878Z"
    }
   },
   "outputs": [
    {
     "data": {
      "text/plain": [
       "Classifier(\n",
       "  (model_drug): MLP(\n",
       "    (predictor): ModuleList(\n",
       "      (0): Linear(in_features=1024, out_features=1024, bias=True)\n",
       "      (1): Linear(in_features=1024, out_features=256, bias=True)\n",
       "      (2): Linear(in_features=256, out_features=64, bias=True)\n",
       "      (3): Linear(in_features=64, out_features=128, bias=True)\n",
       "    )\n",
       "  )\n",
       "  (model_protein): MLP(\n",
       "    (predictor): ModuleList(\n",
       "      (0): Linear(in_features=343, out_features=1024, bias=True)\n",
       "      (1): Linear(in_features=1024, out_features=256, bias=True)\n",
       "      (2): Linear(in_features=256, out_features=64, bias=True)\n",
       "      (3): Linear(in_features=64, out_features=256, bias=True)\n",
       "    )\n",
       "  )\n",
       "  (dropout): Dropout(p=0.1, inplace=False)\n",
       "  (predictor): ModuleList(\n",
       "    (0): Linear(in_features=384, out_features=1024, bias=True)\n",
       "    (1): Linear(in_features=1024, out_features=1024, bias=True)\n",
       "    (2): Linear(in_features=1024, out_features=512, bias=True)\n",
       "    (3): Linear(in_features=512, out_features=1, bias=True)\n",
       "  )\n",
       ")"
      ]
     },
     "execution_count": 168,
     "metadata": {},
     "output_type": "execute_result"
    }
   ],
   "source": [
    "model1.eval()"
   ]
  },
  {
   "cell_type": "code",
   "execution_count": null,
   "metadata": {},
   "outputs": [],
   "source": []
  }
 ],
 "metadata": {
  "kernelspec": {
   "display_name": "Python 3",
   "language": "python",
   "name": "python3"
  },
  "language_info": {
   "codemirror_mode": {
    "name": "ipython",
    "version": 3
   },
   "file_extension": ".py",
   "mimetype": "text/x-python",
   "name": "python",
   "nbconvert_exporter": "python",
   "pygments_lexer": "ipython3",
   "version": "3.7.8"
  },
  "latex_envs": {
   "LaTeX_envs_menu_present": true,
   "autoclose": false,
   "autocomplete": true,
   "bibliofile": "biblio.bib",
   "cite_by": "apalike",
   "current_citInitial": 1,
   "eqLabelWithNumbers": true,
   "eqNumInitial": 1,
   "hotkeys": {
    "equation": "Ctrl-E",
    "itemize": "Ctrl-I"
   },
   "labels_anchors": false,
   "latex_user_defs": false,
   "report_style_numbering": false,
   "user_envs_cfg": false
  },
  "toc": {
   "base_numbering": 1,
   "nav_menu": {},
   "number_sections": true,
   "sideBar": true,
   "skip_h1_title": false,
   "title_cell": "Table of Contents",
   "title_sidebar": "Contents",
   "toc_cell": false,
   "toc_position": {},
   "toc_section_display": true,
   "toc_window_display": false
  },
  "varInspector": {
   "cols": {
    "lenName": 16,
    "lenType": 16,
    "lenVar": 40
   },
   "kernels_config": {
    "python": {
     "delete_cmd_postfix": "",
     "delete_cmd_prefix": "del ",
     "library": "var_list.py",
     "varRefreshCmd": "print(var_dic_list())"
    },
    "r": {
     "delete_cmd_postfix": ") ",
     "delete_cmd_prefix": "rm(",
     "library": "var_list.r",
     "varRefreshCmd": "cat(var_dic_list()) "
    }
   },
   "types_to_exclude": [
    "module",
    "function",
    "builtin_function_or_method",
    "instance",
    "_Feature"
   ],
   "window_display": false
  }
 },
 "nbformat": 4,
 "nbformat_minor": 4
}
