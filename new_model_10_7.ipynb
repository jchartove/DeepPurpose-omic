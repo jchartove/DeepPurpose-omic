{
 "cells": [
  {
   "cell_type": "code",
   "execution_count": 1,
   "metadata": {
    "ExecuteTime": {
     "end_time": "2020-10-07T01:12:47.020085Z",
     "start_time": "2020-10-07T01:12:43.205806Z"
    }
   },
   "outputs": [],
   "source": [
    "import numpy as np\n",
    "import pandas as pd\n",
    "from rdkit import Chem, DataStructs\n",
    "from rdkit.Chem import AllChem\n",
    "from rdkit.Chem.Fingerprints import FingerprintMols\n",
    "from DeepPurpose.pybiomed_helper import _GetPseudoAAC, CalculateAADipeptideComposition, \\\n",
    "calcPubChemFingerAll, CalculateConjointTriad, GetQuasiSequenceOrder\n",
    "import torch\n",
    "from torch.utils import data\n",
    "from torch.autograd import Variable\n",
    "try:\n",
    "\tfrom descriptastorus.descriptors import rdDescriptors, rdNormalizedDescriptors\n",
    "except:\n",
    "\traise ImportError(\"Please install pip install git+https://github.com/bp-kelley/descriptastorus.\")\n",
    "from DeepPurpose.chemutils import get_mol, atom_features, bond_features, MAX_NB, ATOM_FDIM, BOND_FDIM\n",
    "from subword_nmt.apply_bpe import BPE\n",
    "import codecs\n",
    "import pickle\n",
    "import wget\n",
    "from zipfile import ZipFile \n",
    "import os\n",
    "import sys\n",
    "\n",
    "from torch.autograd import Variable\n",
    "import torch.nn.functional as F\n",
    "from torch.utils.data import SequentialSampler\n",
    "from torch import nn \n",
    "\n",
    "from tqdm import tqdm\n",
    "import matplotlib.pyplot as plt\n",
    "from time import time\n",
    "from sklearn.metrics import mean_squared_error, roc_auc_score, average_precision_score, f1_score, log_loss\n",
    "from lifelines.utils import concordance_index\n",
    "from scipy.stats import pearsonr\n",
    "import pickle \n",
    "torch.manual_seed(2)\n",
    "np.random.seed(3)\n",
    "import copy\n",
    "from prettytable import PrettyTable\n",
    "\n",
    "import os\n",
    "\n",
    "from DeepPurpose.utils import *\n",
    "from DeepPurpose.model_helper import Encoder_MultipleLayers, Embeddings        \n",
    "from DeepPurpose.encoders import *\n",
    "from DeepPurpose import DTI\n",
    "\n",
    "import collections"
   ]
  },
  {
   "cell_type": "code",
   "execution_count": 2,
   "metadata": {
    "ExecuteTime": {
     "end_time": "2020-10-07T01:25:00.288732Z",
     "start_time": "2020-10-07T01:12:50.578877Z"
    }
   },
   "outputs": [],
   "source": [
    "import sys\n",
    "np.set_printoptions(threshold = sys.maxsize)\n",
    "\n",
    "df_data = pd.read_csv(\"./df_data4.csv.gz\"\n",
    "         , sep='|'\n",
    "         , compression='gzip'\n",
    "         , encoding='utf-8')"
   ]
  },
  {
   "cell_type": "code",
   "execution_count": null,
   "metadata": {},
   "outputs": [],
   "source": []
  }
 ],
 "metadata": {
  "hide_input": false,
  "kernelspec": {
   "display_name": "Python 3",
   "language": "python",
   "name": "python3"
  },
  "language_info": {
   "codemirror_mode": {
    "name": "ipython",
    "version": 3
   },
   "file_extension": ".py",
   "mimetype": "text/x-python",
   "name": "python",
   "nbconvert_exporter": "python",
   "pygments_lexer": "ipython3",
   "version": "3.7.9"
  },
  "latex_envs": {
   "LaTeX_envs_menu_present": true,
   "autoclose": false,
   "autocomplete": true,
   "bibliofile": "biblio.bib",
   "cite_by": "apalike",
   "current_citInitial": 1,
   "eqLabelWithNumbers": true,
   "eqNumInitial": 1,
   "hotkeys": {
    "equation": "Ctrl-E",
    "itemize": "Ctrl-I"
   },
   "labels_anchors": false,
   "latex_user_defs": false,
   "report_style_numbering": false,
   "user_envs_cfg": false
  },
  "toc": {
   "base_numbering": 1,
   "nav_menu": {},
   "number_sections": true,
   "sideBar": true,
   "skip_h1_title": false,
   "title_cell": "Table of Contents",
   "title_sidebar": "Contents",
   "toc_cell": false,
   "toc_position": {},
   "toc_section_display": true,
   "toc_window_display": false
  },
  "varInspector": {
   "cols": {
    "lenName": 16,
    "lenType": 16,
    "lenVar": 40
   },
   "kernels_config": {
    "python": {
     "delete_cmd_postfix": "",
     "delete_cmd_prefix": "del ",
     "library": "var_list.py",
     "varRefreshCmd": "print(var_dic_list())"
    },
    "r": {
     "delete_cmd_postfix": ") ",
     "delete_cmd_prefix": "rm(",
     "library": "var_list.r",
     "varRefreshCmd": "cat(var_dic_list()) "
    }
   },
   "types_to_exclude": [
    "module",
    "function",
    "builtin_function_or_method",
    "instance",
    "_Feature"
   ],
   "window_display": false
  }
 },
 "nbformat": 4,
 "nbformat_minor": 4
}
